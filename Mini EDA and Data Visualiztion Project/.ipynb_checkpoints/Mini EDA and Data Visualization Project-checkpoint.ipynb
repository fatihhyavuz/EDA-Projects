{
 "cells": [
  {
   "cell_type": "markdown",
   "id": "8cd16d0b",
   "metadata": {},
   "source": [
    "# <p style=\"background-color:orange;font-family:newtimeroman;font-size:200%;color:white;text-align:center;border-radius:20px 20px;\"><b>Data Visualization Mini Poject 📉<i class=\"em em-chart_with_downwards_trend\" aria-role=\"presentation\" aria-label=\"CHART WITH DOWNWARDS TREND\"></i></b></p> "
   ]
  },
  {
   "cell_type": "markdown",
   "id": "cc4a7cb6",
   "metadata": {},
   "source": [
    "The dataset contains information about 1000 movies, with a total of 12 columns:\n",
    "\n",
    "- **Rank:** Movie ranking.\n",
    "- **Title:** Movie title.\n",
    "- **Genre:** Movie genre.\n",
    "- **Description:** Movie description.\n",
    "- **Director:** Director's name.\n",
    "- **Actors:** Names of the actors.\n",
    "- **Year:** Release year.\n",
    "- **Runtime (Minutes):** Movie duration (in minutes).\n",
    "- **Rating:** IMDb rating.\n",
    "- **Votes:** Number of votes.\n",
    "- **Revenue (Millions):** Revenue (in millions of dollars).\n",
    "- **Metascore:** Metascore rating."
   ]
  },
  {
   "cell_type": "code",
   "execution_count": 1,
   "id": "d6c9b8ba",
   "metadata": {
    "ExecuteTime": {
     "end_time": "2023-09-24T15:08:58.278817Z",
     "start_time": "2023-09-24T15:08:53.272431Z"
    }
   },
   "outputs": [],
   "source": [
    "import numpy as np\n",
    "import pandas as pd\n",
    "import matplotlib.pyplot as plt\n",
    "import seaborn as sns\n",
    "import plotly.express as px\n",
    "\n",
    "# uploading the dataset\n",
    "movies_df = pd.read_csv(\"IMDB-Movie-Data.csv\", index_col=\"Title\")"
   ]
  },
  {
   "cell_type": "code",
   "execution_count": 2,
   "id": "50e3a391",
   "metadata": {},
   "outputs": [],
   "source": [
    "df = movies_df.copy()"
   ]
  },
  {
   "cell_type": "code",
   "execution_count": 3,
   "id": "08fce3a3",
   "metadata": {},
   "outputs": [
    {
     "data": {
      "text/html": [
       "<div>\n",
       "<style scoped>\n",
       "    .dataframe tbody tr th:only-of-type {\n",
       "        vertical-align: middle;\n",
       "    }\n",
       "\n",
       "    .dataframe tbody tr th {\n",
       "        vertical-align: top;\n",
       "    }\n",
       "\n",
       "    .dataframe thead th {\n",
       "        text-align: right;\n",
       "    }\n",
       "</style>\n",
       "<table border=\"1\" class=\"dataframe\">\n",
       "  <thead>\n",
       "    <tr style=\"text-align: right;\">\n",
       "      <th></th>\n",
       "      <th>Rank</th>\n",
       "      <th>Genre</th>\n",
       "      <th>Description</th>\n",
       "      <th>Director</th>\n",
       "      <th>Actors</th>\n",
       "      <th>Year</th>\n",
       "      <th>Runtime (Minutes)</th>\n",
       "      <th>Rating</th>\n",
       "      <th>Votes</th>\n",
       "      <th>Revenue (Millions)</th>\n",
       "      <th>Metascore</th>\n",
       "    </tr>\n",
       "    <tr>\n",
       "      <th>Title</th>\n",
       "      <th></th>\n",
       "      <th></th>\n",
       "      <th></th>\n",
       "      <th></th>\n",
       "      <th></th>\n",
       "      <th></th>\n",
       "      <th></th>\n",
       "      <th></th>\n",
       "      <th></th>\n",
       "      <th></th>\n",
       "      <th></th>\n",
       "    </tr>\n",
       "  </thead>\n",
       "  <tbody>\n",
       "    <tr>\n",
       "      <th>Guardians of the Galaxy</th>\n",
       "      <td>1</td>\n",
       "      <td>Action,Adventure,Sci-Fi</td>\n",
       "      <td>A group of intergalactic criminals are forced ...</td>\n",
       "      <td>James Gunn</td>\n",
       "      <td>Chris Pratt, Vin Diesel, Bradley Cooper, Zoe S...</td>\n",
       "      <td>2014</td>\n",
       "      <td>121</td>\n",
       "      <td>8.1</td>\n",
       "      <td>757074</td>\n",
       "      <td>333.13</td>\n",
       "      <td>76.0</td>\n",
       "    </tr>\n",
       "    <tr>\n",
       "      <th>Prometheus</th>\n",
       "      <td>2</td>\n",
       "      <td>Adventure,Mystery,Sci-Fi</td>\n",
       "      <td>Following clues to the origin of mankind, a te...</td>\n",
       "      <td>Ridley Scott</td>\n",
       "      <td>Noomi Rapace, Logan Marshall-Green, Michael Fa...</td>\n",
       "      <td>2012</td>\n",
       "      <td>124</td>\n",
       "      <td>7.0</td>\n",
       "      <td>485820</td>\n",
       "      <td>126.46</td>\n",
       "      <td>65.0</td>\n",
       "    </tr>\n",
       "    <tr>\n",
       "      <th>Split</th>\n",
       "      <td>3</td>\n",
       "      <td>Horror,Thriller</td>\n",
       "      <td>Three girls are kidnapped by a man with a diag...</td>\n",
       "      <td>M. Night Shyamalan</td>\n",
       "      <td>James McAvoy, Anya Taylor-Joy, Haley Lu Richar...</td>\n",
       "      <td>2016</td>\n",
       "      <td>117</td>\n",
       "      <td>7.3</td>\n",
       "      <td>157606</td>\n",
       "      <td>138.12</td>\n",
       "      <td>62.0</td>\n",
       "    </tr>\n",
       "    <tr>\n",
       "      <th>Sing</th>\n",
       "      <td>4</td>\n",
       "      <td>Animation,Comedy,Family</td>\n",
       "      <td>In a city of humanoid animals, a hustling thea...</td>\n",
       "      <td>Christophe Lourdelet</td>\n",
       "      <td>Matthew McConaughey,Reese Witherspoon, Seth Ma...</td>\n",
       "      <td>2016</td>\n",
       "      <td>108</td>\n",
       "      <td>7.2</td>\n",
       "      <td>60545</td>\n",
       "      <td>270.32</td>\n",
       "      <td>59.0</td>\n",
       "    </tr>\n",
       "    <tr>\n",
       "      <th>Suicide Squad</th>\n",
       "      <td>5</td>\n",
       "      <td>Action,Adventure,Fantasy</td>\n",
       "      <td>A secret government agency recruits some of th...</td>\n",
       "      <td>David Ayer</td>\n",
       "      <td>Will Smith, Jared Leto, Margot Robbie, Viola D...</td>\n",
       "      <td>2016</td>\n",
       "      <td>123</td>\n",
       "      <td>6.2</td>\n",
       "      <td>393727</td>\n",
       "      <td>325.02</td>\n",
       "      <td>40.0</td>\n",
       "    </tr>\n",
       "  </tbody>\n",
       "</table>\n",
       "</div>"
      ],
      "text/plain": [
       "                         Rank                     Genre  \\\n",
       "Title                                                     \n",
       "Guardians of the Galaxy     1   Action,Adventure,Sci-Fi   \n",
       "Prometheus                  2  Adventure,Mystery,Sci-Fi   \n",
       "Split                       3           Horror,Thriller   \n",
       "Sing                        4   Animation,Comedy,Family   \n",
       "Suicide Squad               5  Action,Adventure,Fantasy   \n",
       "\n",
       "                                                               Description  \\\n",
       "Title                                                                        \n",
       "Guardians of the Galaxy  A group of intergalactic criminals are forced ...   \n",
       "Prometheus               Following clues to the origin of mankind, a te...   \n",
       "Split                    Three girls are kidnapped by a man with a diag...   \n",
       "Sing                     In a city of humanoid animals, a hustling thea...   \n",
       "Suicide Squad            A secret government agency recruits some of th...   \n",
       "\n",
       "                                     Director  \\\n",
       "Title                                           \n",
       "Guardians of the Galaxy            James Gunn   \n",
       "Prometheus                       Ridley Scott   \n",
       "Split                      M. Night Shyamalan   \n",
       "Sing                     Christophe Lourdelet   \n",
       "Suicide Squad                      David Ayer   \n",
       "\n",
       "                                                                    Actors  \\\n",
       "Title                                                                        \n",
       "Guardians of the Galaxy  Chris Pratt, Vin Diesel, Bradley Cooper, Zoe S...   \n",
       "Prometheus               Noomi Rapace, Logan Marshall-Green, Michael Fa...   \n",
       "Split                    James McAvoy, Anya Taylor-Joy, Haley Lu Richar...   \n",
       "Sing                     Matthew McConaughey,Reese Witherspoon, Seth Ma...   \n",
       "Suicide Squad            Will Smith, Jared Leto, Margot Robbie, Viola D...   \n",
       "\n",
       "                         Year  Runtime (Minutes)  Rating   Votes  \\\n",
       "Title                                                              \n",
       "Guardians of the Galaxy  2014                121     8.1  757074   \n",
       "Prometheus               2012                124     7.0  485820   \n",
       "Split                    2016                117     7.3  157606   \n",
       "Sing                     2016                108     7.2   60545   \n",
       "Suicide Squad            2016                123     6.2  393727   \n",
       "\n",
       "                         Revenue (Millions)  Metascore  \n",
       "Title                                                   \n",
       "Guardians of the Galaxy              333.13       76.0  \n",
       "Prometheus                           126.46       65.0  \n",
       "Split                                138.12       62.0  \n",
       "Sing                                 270.32       59.0  \n",
       "Suicide Squad                        325.02       40.0  "
      ]
     },
     "execution_count": 3,
     "metadata": {},
     "output_type": "execute_result"
    }
   ],
   "source": [
    "df.head()"
   ]
  },
  {
   "cell_type": "code",
   "execution_count": 4,
   "id": "ac80b957",
   "metadata": {},
   "outputs": [
    {
     "name": "stdout",
     "output_type": "stream",
     "text": [
      "<class 'pandas.core.frame.DataFrame'>\n",
      "Index: 1000 entries, Guardians of the Galaxy to Nine Lives\n",
      "Data columns (total 11 columns):\n",
      " #   Column              Non-Null Count  Dtype  \n",
      "---  ------              --------------  -----  \n",
      " 0   Rank                1000 non-null   int64  \n",
      " 1   Genre               1000 non-null   object \n",
      " 2   Description         1000 non-null   object \n",
      " 3   Director            1000 non-null   object \n",
      " 4   Actors              1000 non-null   object \n",
      " 5   Year                1000 non-null   int64  \n",
      " 6   Runtime (Minutes)   1000 non-null   int64  \n",
      " 7   Rating              1000 non-null   float64\n",
      " 8   Votes               1000 non-null   int64  \n",
      " 9   Revenue (Millions)  872 non-null    float64\n",
      " 10  Metascore           936 non-null    float64\n",
      "dtypes: float64(3), int64(4), object(4)\n",
      "memory usage: 93.8+ KB\n"
     ]
    }
   ],
   "source": [
    "df.info()"
   ]
  },
  {
   "cell_type": "markdown",
   "id": "fc7b9a43",
   "metadata": {},
   "source": [
    "## Column Names Modification"
   ]
  },
  {
   "cell_type": "code",
   "execution_count": 5,
   "id": "9b81147c",
   "metadata": {},
   "outputs": [
    {
     "data": {
      "text/plain": [
       "Index(['Rank', 'Genre', 'Description', 'Director', 'Actors', 'Year',\n",
       "       'Runtime (Minutes)', 'Rating', 'Votes', 'Revenue (Millions)',\n",
       "       'Metascore'],\n",
       "      dtype='object')"
      ]
     },
     "execution_count": 5,
     "metadata": {},
     "output_type": "execute_result"
    }
   ],
   "source": [
    "df.columns"
   ]
  },
  {
   "cell_type": "code",
   "execution_count": 6,
   "id": "03fdab63",
   "metadata": {},
   "outputs": [],
   "source": [
    "df.columns = ['rank', 'genre', 'description', 'director', 'actors', 'year',\n",
    "       'runtime', 'rating', 'votes', 'revenue',\n",
    "       'metascore']"
   ]
  },
  {
   "cell_type": "code",
   "execution_count": 7,
   "id": "1894431c",
   "metadata": {},
   "outputs": [
    {
     "data": {
      "text/plain": [
       "Index(['rank', 'genre', 'description', 'director', 'actors', 'year', 'runtime',\n",
       "       'rating', 'votes', 'revenue', 'metascore'],\n",
       "      dtype='object')"
      ]
     },
     "execution_count": 7,
     "metadata": {},
     "output_type": "execute_result"
    }
   ],
   "source": [
    "df.columns"
   ]
  },
  {
   "cell_type": "code",
   "execution_count": null,
   "id": "977e6d57",
   "metadata": {},
   "outputs": [],
   "source": [
    "# a different method\n",
    "df.columns = [col.lower() for col in df]\n",
    "\n",
    "df.columns"
   ]
  },
  {
   "cell_type": "markdown",
   "id": "02c385ae",
   "metadata": {},
   "source": [
    "### Finding Missing Values"
   ]
  },
  {
   "cell_type": "code",
   "execution_count": 9,
   "id": "940d79ee",
   "metadata": {},
   "outputs": [
    {
     "data": {
      "text/plain": [
       "rank             0\n",
       "genre            0\n",
       "description      0\n",
       "director         0\n",
       "actors           0\n",
       "year             0\n",
       "runtime          0\n",
       "rating           0\n",
       "votes            0\n",
       "revenue        128\n",
       "metascore       64\n",
       "dtype: int64"
      ]
     },
     "execution_count": 9,
     "metadata": {},
     "output_type": "execute_result"
    }
   ],
   "source": [
    "df.isnull().sum()"
   ]
  },
  {
   "cell_type": "code",
   "execution_count": 10,
   "id": "acd89621",
   "metadata": {},
   "outputs": [
    {
     "data": {
      "image/png": "[encoded data removed]",
      "text/plain": [
       "<Figure size 2500x1000 with 2 Axes>"
      ]
     },
     "metadata": {},
     "output_type": "display_data"
    }
   ],
   "source": [
    "import missingno as msno\n",
    "msno.matrix(df);"
   ]
  },
  {
   "cell_type": "code",
   "execution_count": 14,
   "id": "4b57cc93",
   "metadata": {},
   "outputs": [
    {
     "data": {
      "text/html": [
       "<div>\n",
       "<style scoped>\n",
       "    .dataframe tbody tr th:only-of-type {\n",
       "        vertical-align: middle;\n",
       "    }\n",
       "\n",
       "    .dataframe tbody tr th {\n",
       "        vertical-align: top;\n",
       "    }\n",
       "\n",
       "    .dataframe thead th {\n",
       "        text-align: right;\n",
       "    }\n",
       "</style>\n",
       "<table border=\"1\" class=\"dataframe\">\n",
       "  <thead>\n",
       "    <tr style=\"text-align: right;\">\n",
       "      <th></th>\n",
       "      <th>count</th>\n",
       "      <th>mean</th>\n",
       "      <th>std</th>\n",
       "      <th>min</th>\n",
       "      <th>25%</th>\n",
       "      <th>50%</th>\n",
       "      <th>75%</th>\n",
       "      <th>max</th>\n",
       "    </tr>\n",
       "  </thead>\n",
       "  <tbody>\n",
       "    <tr>\n",
       "      <th>rank</th>\n",
       "      <td>1000.0</td>\n",
       "      <td>500.500000</td>\n",
       "      <td>288.819436</td>\n",
       "      <td>1.0</td>\n",
       "      <td>250.75</td>\n",
       "      <td>500.500</td>\n",
       "      <td>750.250</td>\n",
       "      <td>1000.00</td>\n",
       "    </tr>\n",
       "    <tr>\n",
       "      <th>year</th>\n",
       "      <td>1000.0</td>\n",
       "      <td>2012.783000</td>\n",
       "      <td>3.205962</td>\n",
       "      <td>2006.0</td>\n",
       "      <td>2010.00</td>\n",
       "      <td>2014.000</td>\n",
       "      <td>2016.000</td>\n",
       "      <td>2016.00</td>\n",
       "    </tr>\n",
       "    <tr>\n",
       "      <th>runtime</th>\n",
       "      <td>1000.0</td>\n",
       "      <td>113.172000</td>\n",
       "      <td>18.810908</td>\n",
       "      <td>66.0</td>\n",
       "      <td>100.00</td>\n",
       "      <td>111.000</td>\n",
       "      <td>123.000</td>\n",
       "      <td>191.00</td>\n",
       "    </tr>\n",
       "    <tr>\n",
       "      <th>rating</th>\n",
       "      <td>1000.0</td>\n",
       "      <td>6.723200</td>\n",
       "      <td>0.945429</td>\n",
       "      <td>1.9</td>\n",
       "      <td>6.20</td>\n",
       "      <td>6.800</td>\n",
       "      <td>7.400</td>\n",
       "      <td>9.00</td>\n",
       "    </tr>\n",
       "    <tr>\n",
       "      <th>votes</th>\n",
       "      <td>1000.0</td>\n",
       "      <td>169808.255000</td>\n",
       "      <td>188762.647518</td>\n",
       "      <td>61.0</td>\n",
       "      <td>36309.00</td>\n",
       "      <td>110799.000</td>\n",
       "      <td>239909.750</td>\n",
       "      <td>1791916.00</td>\n",
       "    </tr>\n",
       "    <tr>\n",
       "      <th>revenue</th>\n",
       "      <td>872.0</td>\n",
       "      <td>82.956376</td>\n",
       "      <td>103.253540</td>\n",
       "      <td>0.0</td>\n",
       "      <td>13.27</td>\n",
       "      <td>47.985</td>\n",
       "      <td>113.715</td>\n",
       "      <td>936.63</td>\n",
       "    </tr>\n",
       "    <tr>\n",
       "      <th>metascore</th>\n",
       "      <td>936.0</td>\n",
       "      <td>58.985043</td>\n",
       "      <td>17.194757</td>\n",
       "      <td>11.0</td>\n",
       "      <td>47.00</td>\n",
       "      <td>59.500</td>\n",
       "      <td>72.000</td>\n",
       "      <td>100.00</td>\n",
       "    </tr>\n",
       "  </tbody>\n",
       "</table>\n",
       "</div>"
      ],
      "text/plain": [
       "            count           mean            std     min       25%         50%  \\\n",
       "rank       1000.0     500.500000     288.819436     1.0    250.75     500.500   \n",
       "year       1000.0    2012.783000       3.205962  2006.0   2010.00    2014.000   \n",
       "runtime    1000.0     113.172000      18.810908    66.0    100.00     111.000   \n",
       "rating     1000.0       6.723200       0.945429     1.9      6.20       6.800   \n",
       "votes      1000.0  169808.255000  188762.647518    61.0  36309.00  110799.000   \n",
       "revenue     872.0      82.956376     103.253540     0.0     13.27      47.985   \n",
       "metascore   936.0      58.985043      17.194757    11.0     47.00      59.500   \n",
       "\n",
       "                  75%         max  \n",
       "rank          750.250     1000.00  \n",
       "year         2016.000     2016.00  \n",
       "runtime       123.000      191.00  \n",
       "rating          7.400        9.00  \n",
       "votes      239909.750  1791916.00  \n",
       "revenue       113.715      936.63  \n",
       "metascore      72.000      100.00  "
      ]
     },
     "execution_count": 14,
     "metadata": {},
     "output_type": "execute_result"
    }
   ],
   "source": [
    "df.describe().T"
   ]
  },
  {
   "cell_type": "code",
   "execution_count": 13,
   "id": "2615a167",
   "metadata": {},
   "outputs": [
    {
     "data": {
      "text/plain": [
       "82.95637614678898"
      ]
     },
     "execution_count": 13,
     "metadata": {},
     "output_type": "execute_result"
    }
   ],
   "source": [
    "df.revenue.mean() # mean "
   ]
  },
  {
   "cell_type": "code",
   "execution_count": 30,
   "id": "bb39c99c",
   "metadata": {},
   "outputs": [
    {
     "name": "stderr",
     "output_type": "stream",
     "text": [
      "C:\\Users\\Fatih YAVUZ\\AppData\\Local\\Temp\\ipykernel_23992\\447819980.py:1: FutureWarning: A value is trying to be set on a copy of a DataFrame or Series through chained assignment using an inplace method.\n",
      "The behavior will change in pandas 3.0. This inplace method will never work because the intermediate object on which we are setting values always behaves as a copy.\n",
      "\n",
      "For example, when doing 'df[col].method(value, inplace=True)', try using 'df.method({col: value}, inplace=True)' or df[col] = df[col].method(value) instead, to perform the operation inplace on the original object.\n",
      "\n",
      "\n",
      "  df.revenue.fillna(df.revenue.mean(),inplace = True)\n"
     ]
    }
   ],
   "source": [
    "df.revenue.fillna(df.revenue.mean(),inplace = True)"
   ]
  },
  {
   "cell_type": "code",
   "execution_count": 34,
   "id": "5418066c",
   "metadata": {},
   "outputs": [],
   "source": [
    "df = df.dropna()"
   ]
  },
  {
   "cell_type": "code",
   "execution_count": 35,
   "id": "ee7136a8",
   "metadata": {},
   "outputs": [
    {
     "data": {
      "text/plain": [
       "rank           0\n",
       "genre          0\n",
       "description    0\n",
       "director       0\n",
       "actors         0\n",
       "year           0\n",
       "runtime        0\n",
       "rating         0\n",
       "votes          0\n",
       "revenue        0\n",
       "metascore      0\n",
       "dtype: int64"
      ]
     },
     "execution_count": 35,
     "metadata": {},
     "output_type": "execute_result"
    }
   ],
   "source": [
    "df.isnull().sum()"
   ]
  },
  {
   "cell_type": "code",
   "execution_count": 36,
   "id": "417655f6",
   "metadata": {},
   "outputs": [
    {
     "data": {
      "image/png": "[encoded data removed]",
      "text/plain": [
       "<Figure size 2500x1000 with 2 Axes>"
      ]
     },
     "metadata": {},
     "output_type": "display_data"
    }
   ],
   "source": [
    "msno.matrix(df);"
   ]
  },
  {
   "cell_type": "markdown",
   "id": "2ef11f6d",
   "metadata": {},
   "source": [
    "## Create a dataset named \"top250\" by selecting the top 250 movies with the highest ratings from the cleaned dataset and save it locally with this name. Then read this new dataset back using the pandas library."
   ]
  },
  {
   "cell_type": "code",
   "execution_count": 38,
   "id": "b6d9069a",
   "metadata": {
    "ExecuteTime": {
     "end_time": "2023-09-24T15:09:00.630452Z",
     "start_time": "2023-09-24T15:09:00.601326Z"
    },
    "scrolled": false
   },
   "outputs": [
    {
     "data": {
      "text/html": [
       "<div>\n",
       "<style scoped>\n",
       "    .dataframe tbody tr th:only-of-type {\n",
       "        vertical-align: middle;\n",
       "    }\n",
       "\n",
       "    .dataframe tbody tr th {\n",
       "        vertical-align: top;\n",
       "    }\n",
       "\n",
       "    .dataframe thead th {\n",
       "        text-align: right;\n",
       "    }\n",
       "</style>\n",
       "<table border=\"1\" class=\"dataframe\">\n",
       "  <thead>\n",
       "    <tr style=\"text-align: right;\">\n",
       "      <th></th>\n",
       "      <th>rank</th>\n",
       "      <th>genre</th>\n",
       "      <th>description</th>\n",
       "      <th>director</th>\n",
       "      <th>actors</th>\n",
       "      <th>year</th>\n",
       "      <th>runtime</th>\n",
       "      <th>rating</th>\n",
       "      <th>votes</th>\n",
       "      <th>revenue</th>\n",
       "      <th>metascore</th>\n",
       "    </tr>\n",
       "    <tr>\n",
       "      <th>Title</th>\n",
       "      <th></th>\n",
       "      <th></th>\n",
       "      <th></th>\n",
       "      <th></th>\n",
       "      <th></th>\n",
       "      <th></th>\n",
       "      <th></th>\n",
       "      <th></th>\n",
       "      <th></th>\n",
       "      <th></th>\n",
       "      <th></th>\n",
       "    </tr>\n",
       "  </thead>\n",
       "  <tbody>\n",
       "    <tr>\n",
       "      <th>The Dark Knight</th>\n",
       "      <td>55</td>\n",
       "      <td>Action,Crime,Drama</td>\n",
       "      <td>When the menace known as the Joker wreaks havo...</td>\n",
       "      <td>Christopher Nolan</td>\n",
       "      <td>Christian Bale, Heath Ledger, Aaron Eckhart,Mi...</td>\n",
       "      <td>2008</td>\n",
       "      <td>152</td>\n",
       "      <td>9.0</td>\n",
       "      <td>1791916</td>\n",
       "      <td>533.32</td>\n",
       "      <td>82.0</td>\n",
       "    </tr>\n",
       "    <tr>\n",
       "      <th>Inception</th>\n",
       "      <td>81</td>\n",
       "      <td>Action,Adventure,Sci-Fi</td>\n",
       "      <td>A thief, who steals corporate secrets through ...</td>\n",
       "      <td>Christopher Nolan</td>\n",
       "      <td>Leonardo DiCaprio, Joseph Gordon-Levitt, Ellen...</td>\n",
       "      <td>2010</td>\n",
       "      <td>148</td>\n",
       "      <td>8.8</td>\n",
       "      <td>1583625</td>\n",
       "      <td>292.57</td>\n",
       "      <td>74.0</td>\n",
       "    </tr>\n",
       "    <tr>\n",
       "      <th>Interstellar</th>\n",
       "      <td>37</td>\n",
       "      <td>Adventure,Drama,Sci-Fi</td>\n",
       "      <td>A team of explorers travel through a wormhole ...</td>\n",
       "      <td>Christopher Nolan</td>\n",
       "      <td>Matthew McConaughey, Anne Hathaway, Jessica Ch...</td>\n",
       "      <td>2014</td>\n",
       "      <td>169</td>\n",
       "      <td>8.6</td>\n",
       "      <td>1047747</td>\n",
       "      <td>187.99</td>\n",
       "      <td>74.0</td>\n",
       "    </tr>\n",
       "    <tr>\n",
       "      <th>The Intouchables</th>\n",
       "      <td>250</td>\n",
       "      <td>Biography,Comedy,Drama</td>\n",
       "      <td>After he becomes a quadriplegic from a paragli...</td>\n",
       "      <td>Olivier Nakache</td>\n",
       "      <td>François Cluzet, Omar Sy, Anne Le Ny, Audrey F...</td>\n",
       "      <td>2011</td>\n",
       "      <td>112</td>\n",
       "      <td>8.6</td>\n",
       "      <td>557965</td>\n",
       "      <td>13.18</td>\n",
       "      <td>57.0</td>\n",
       "    </tr>\n",
       "    <tr>\n",
       "      <th>Kimi no na wa</th>\n",
       "      <td>97</td>\n",
       "      <td>Animation,Drama,Fantasy</td>\n",
       "      <td>Two strangers find themselves linked in a biza...</td>\n",
       "      <td>Makoto Shinkai</td>\n",
       "      <td>Ryûnosuke Kamiki, Mone Kamishiraishi, Ryô Nari...</td>\n",
       "      <td>2016</td>\n",
       "      <td>106</td>\n",
       "      <td>8.6</td>\n",
       "      <td>34110</td>\n",
       "      <td>4.68</td>\n",
       "      <td>79.0</td>\n",
       "    </tr>\n",
       "  </tbody>\n",
       "</table>\n",
       "</div>"
      ],
      "text/plain": [
       "                  rank                    genre  \\\n",
       "Title                                             \n",
       "The Dark Knight     55       Action,Crime,Drama   \n",
       "Inception           81  Action,Adventure,Sci-Fi   \n",
       "Interstellar        37   Adventure,Drama,Sci-Fi   \n",
       "The Intouchables   250   Biography,Comedy,Drama   \n",
       "Kimi no na wa       97  Animation,Drama,Fantasy   \n",
       "\n",
       "                                                        description  \\\n",
       "Title                                                                 \n",
       "The Dark Knight   When the menace known as the Joker wreaks havo...   \n",
       "Inception         A thief, who steals corporate secrets through ...   \n",
       "Interstellar      A team of explorers travel through a wormhole ...   \n",
       "The Intouchables  After he becomes a quadriplegic from a paragli...   \n",
       "Kimi no na wa     Two strangers find themselves linked in a biza...   \n",
       "\n",
       "                           director  \\\n",
       "Title                                 \n",
       "The Dark Knight   Christopher Nolan   \n",
       "Inception         Christopher Nolan   \n",
       "Interstellar      Christopher Nolan   \n",
       "The Intouchables    Olivier Nakache   \n",
       "Kimi no na wa        Makoto Shinkai   \n",
       "\n",
       "                                                             actors  year  \\\n",
       "Title                                                                       \n",
       "The Dark Knight   Christian Bale, Heath Ledger, Aaron Eckhart,Mi...  2008   \n",
       "Inception         Leonardo DiCaprio, Joseph Gordon-Levitt, Ellen...  2010   \n",
       "Interstellar      Matthew McConaughey, Anne Hathaway, Jessica Ch...  2014   \n",
       "The Intouchables  François Cluzet, Omar Sy, Anne Le Ny, Audrey F...  2011   \n",
       "Kimi no na wa     Ryûnosuke Kamiki, Mone Kamishiraishi, Ryô Nari...  2016   \n",
       "\n",
       "                  runtime  rating    votes  revenue  metascore  \n",
       "Title                                                           \n",
       "The Dark Knight       152     9.0  1791916   533.32       82.0  \n",
       "Inception             148     8.8  1583625   292.57       74.0  \n",
       "Interstellar          169     8.6  1047747   187.99       74.0  \n",
       "The Intouchables      112     8.6   557965    13.18       57.0  \n",
       "Kimi no na wa         106     8.6    34110     4.68       79.0  "
      ]
     },
     "execution_count": 38,
     "metadata": {},
     "output_type": "execute_result"
    }
   ],
   "source": [
    "top250 = df.sort_values('rating', ascending=False)\n",
    "\n",
    "top250 = top250[:250]\n",
    "top250.head()\n"
   ]
  },
  {
   "cell_type": "code",
   "execution_count": 39,
   "id": "24786d56",
   "metadata": {
    "ExecuteTime": {
     "end_time": "2023-09-24T15:09:00.652924Z",
     "start_time": "2023-09-24T15:09:00.634455Z"
    }
   },
   "outputs": [],
   "source": [
    "# Downloading the New Dataset\n",
    "top250.to_csv('top250.csv')"
   ]
  },
  {
   "cell_type": "markdown",
   "id": "a4759dca",
   "metadata": {},
   "source": [
    "## Examine the new dataset"
   ]
  },
  {
   "cell_type": "code",
   "execution_count": 43,
   "id": "63a9c107",
   "metadata": {},
   "outputs": [
    {
     "data": {
      "text/plain": [
       "(250, 11)"
      ]
     },
     "execution_count": 43,
     "metadata": {},
     "output_type": "execute_result"
    }
   ],
   "source": [
    "top250.shape"
   ]
  },
  {
   "cell_type": "code",
   "execution_count": 44,
   "id": "b5895456",
   "metadata": {},
   "outputs": [
    {
     "data": {
      "text/html": [
       "<div>\n",
       "<style scoped>\n",
       "    .dataframe tbody tr th:only-of-type {\n",
       "        vertical-align: middle;\n",
       "    }\n",
       "\n",
       "    .dataframe tbody tr th {\n",
       "        vertical-align: top;\n",
       "    }\n",
       "\n",
       "    .dataframe thead th {\n",
       "        text-align: right;\n",
       "    }\n",
       "</style>\n",
       "<table border=\"1\" class=\"dataframe\">\n",
       "  <thead>\n",
       "    <tr style=\"text-align: right;\">\n",
       "      <th></th>\n",
       "      <th>rank</th>\n",
       "      <th>genre</th>\n",
       "      <th>description</th>\n",
       "      <th>director</th>\n",
       "      <th>actors</th>\n",
       "      <th>year</th>\n",
       "      <th>runtime</th>\n",
       "      <th>rating</th>\n",
       "      <th>votes</th>\n",
       "      <th>revenue</th>\n",
       "      <th>metascore</th>\n",
       "    </tr>\n",
       "    <tr>\n",
       "      <th>Title</th>\n",
       "      <th></th>\n",
       "      <th></th>\n",
       "      <th></th>\n",
       "      <th></th>\n",
       "      <th></th>\n",
       "      <th></th>\n",
       "      <th></th>\n",
       "      <th></th>\n",
       "      <th></th>\n",
       "      <th></th>\n",
       "      <th></th>\n",
       "    </tr>\n",
       "  </thead>\n",
       "  <tbody>\n",
       "    <tr>\n",
       "      <th>The Dark Knight</th>\n",
       "      <td>55</td>\n",
       "      <td>Action,Crime,Drama</td>\n",
       "      <td>When the menace known as the Joker wreaks havo...</td>\n",
       "      <td>Christopher Nolan</td>\n",
       "      <td>Christian Bale, Heath Ledger, Aaron Eckhart,Mi...</td>\n",
       "      <td>2008</td>\n",
       "      <td>152</td>\n",
       "      <td>9.0</td>\n",
       "      <td>1791916</td>\n",
       "      <td>533.32</td>\n",
       "      <td>82.0</td>\n",
       "    </tr>\n",
       "    <tr>\n",
       "      <th>Inception</th>\n",
       "      <td>81</td>\n",
       "      <td>Action,Adventure,Sci-Fi</td>\n",
       "      <td>A thief, who steals corporate secrets through ...</td>\n",
       "      <td>Christopher Nolan</td>\n",
       "      <td>Leonardo DiCaprio, Joseph Gordon-Levitt, Ellen...</td>\n",
       "      <td>2010</td>\n",
       "      <td>148</td>\n",
       "      <td>8.8</td>\n",
       "      <td>1583625</td>\n",
       "      <td>292.57</td>\n",
       "      <td>74.0</td>\n",
       "    </tr>\n",
       "    <tr>\n",
       "      <th>Interstellar</th>\n",
       "      <td>37</td>\n",
       "      <td>Adventure,Drama,Sci-Fi</td>\n",
       "      <td>A team of explorers travel through a wormhole ...</td>\n",
       "      <td>Christopher Nolan</td>\n",
       "      <td>Matthew McConaughey, Anne Hathaway, Jessica Ch...</td>\n",
       "      <td>2014</td>\n",
       "      <td>169</td>\n",
       "      <td>8.6</td>\n",
       "      <td>1047747</td>\n",
       "      <td>187.99</td>\n",
       "      <td>74.0</td>\n",
       "    </tr>\n",
       "    <tr>\n",
       "      <th>The Intouchables</th>\n",
       "      <td>250</td>\n",
       "      <td>Biography,Comedy,Drama</td>\n",
       "      <td>After he becomes a quadriplegic from a paragli...</td>\n",
       "      <td>Olivier Nakache</td>\n",
       "      <td>François Cluzet, Omar Sy, Anne Le Ny, Audrey F...</td>\n",
       "      <td>2011</td>\n",
       "      <td>112</td>\n",
       "      <td>8.6</td>\n",
       "      <td>557965</td>\n",
       "      <td>13.18</td>\n",
       "      <td>57.0</td>\n",
       "    </tr>\n",
       "    <tr>\n",
       "      <th>Kimi no na wa</th>\n",
       "      <td>97</td>\n",
       "      <td>Animation,Drama,Fantasy</td>\n",
       "      <td>Two strangers find themselves linked in a biza...</td>\n",
       "      <td>Makoto Shinkai</td>\n",
       "      <td>Ryûnosuke Kamiki, Mone Kamishiraishi, Ryô Nari...</td>\n",
       "      <td>2016</td>\n",
       "      <td>106</td>\n",
       "      <td>8.6</td>\n",
       "      <td>34110</td>\n",
       "      <td>4.68</td>\n",
       "      <td>79.0</td>\n",
       "    </tr>\n",
       "  </tbody>\n",
       "</table>\n",
       "</div>"
      ],
      "text/plain": [
       "                  rank                    genre  \\\n",
       "Title                                             \n",
       "The Dark Knight     55       Action,Crime,Drama   \n",
       "Inception           81  Action,Adventure,Sci-Fi   \n",
       "Interstellar        37   Adventure,Drama,Sci-Fi   \n",
       "The Intouchables   250   Biography,Comedy,Drama   \n",
       "Kimi no na wa       97  Animation,Drama,Fantasy   \n",
       "\n",
       "                                                        description  \\\n",
       "Title                                                                 \n",
       "The Dark Knight   When the menace known as the Joker wreaks havo...   \n",
       "Inception         A thief, who steals corporate secrets through ...   \n",
       "Interstellar      A team of explorers travel through a wormhole ...   \n",
       "The Intouchables  After he becomes a quadriplegic from a paragli...   \n",
       "Kimi no na wa     Two strangers find themselves linked in a biza...   \n",
       "\n",
       "                           director  \\\n",
       "Title                                 \n",
       "The Dark Knight   Christopher Nolan   \n",
       "Inception         Christopher Nolan   \n",
       "Interstellar      Christopher Nolan   \n",
       "The Intouchables    Olivier Nakache   \n",
       "Kimi no na wa        Makoto Shinkai   \n",
       "\n",
       "                                                             actors  year  \\\n",
       "Title                                                                       \n",
       "The Dark Knight   Christian Bale, Heath Ledger, Aaron Eckhart,Mi...  2008   \n",
       "Inception         Leonardo DiCaprio, Joseph Gordon-Levitt, Ellen...  2010   \n",
       "Interstellar      Matthew McConaughey, Anne Hathaway, Jessica Ch...  2014   \n",
       "The Intouchables  François Cluzet, Omar Sy, Anne Le Ny, Audrey F...  2011   \n",
       "Kimi no na wa     Ryûnosuke Kamiki, Mone Kamishiraishi, Ryô Nari...  2016   \n",
       "\n",
       "                  runtime  rating    votes  revenue  metascore  \n",
       "Title                                                           \n",
       "The Dark Knight       152     9.0  1791916   533.32       82.0  \n",
       "Inception             148     8.8  1583625   292.57       74.0  \n",
       "Interstellar          169     8.6  1047747   187.99       74.0  \n",
       "The Intouchables      112     8.6   557965    13.18       57.0  \n",
       "Kimi no na wa         106     8.6    34110     4.68       79.0  "
      ]
     },
     "execution_count": 44,
     "metadata": {},
     "output_type": "execute_result"
    }
   ],
   "source": [
    "top250.head()"
   ]
  },
  {
   "cell_type": "code",
   "execution_count": 45,
   "id": "91703944",
   "metadata": {},
   "outputs": [
    {
     "data": {
      "text/html": [
       "<div>\n",
       "<style scoped>\n",
       "    .dataframe tbody tr th:only-of-type {\n",
       "        vertical-align: middle;\n",
       "    }\n",
       "\n",
       "    .dataframe tbody tr th {\n",
       "        vertical-align: top;\n",
       "    }\n",
       "\n",
       "    .dataframe thead th {\n",
       "        text-align: right;\n",
       "    }\n",
       "</style>\n",
       "<table border=\"1\" class=\"dataframe\">\n",
       "  <thead>\n",
       "    <tr style=\"text-align: right;\">\n",
       "      <th></th>\n",
       "      <th>rank</th>\n",
       "      <th>genre</th>\n",
       "      <th>description</th>\n",
       "      <th>director</th>\n",
       "      <th>actors</th>\n",
       "      <th>year</th>\n",
       "      <th>runtime</th>\n",
       "      <th>rating</th>\n",
       "      <th>votes</th>\n",
       "      <th>revenue</th>\n",
       "      <th>metascore</th>\n",
       "    </tr>\n",
       "    <tr>\n",
       "      <th>Title</th>\n",
       "      <th></th>\n",
       "      <th></th>\n",
       "      <th></th>\n",
       "      <th></th>\n",
       "      <th></th>\n",
       "      <th></th>\n",
       "      <th></th>\n",
       "      <th></th>\n",
       "      <th></th>\n",
       "      <th></th>\n",
       "      <th></th>\n",
       "    </tr>\n",
       "  </thead>\n",
       "  <tbody>\n",
       "    <tr>\n",
       "      <th>The Lives of Others</th>\n",
       "      <td>477</td>\n",
       "      <td>Drama,Thriller</td>\n",
       "      <td>In 1984 East Berlin, an agent of the secret po...</td>\n",
       "      <td>Florian Henckel von Donnersmarck</td>\n",
       "      <td>Ulrich Mühe, Martina Gedeck,Sebastian Koch, Ul...</td>\n",
       "      <td>2006</td>\n",
       "      <td>137</td>\n",
       "      <td>8.5</td>\n",
       "      <td>278103</td>\n",
       "      <td>11.28</td>\n",
       "      <td>89.0</td>\n",
       "    </tr>\n",
       "    <tr>\n",
       "      <th>Avatar</th>\n",
       "      <td>88</td>\n",
       "      <td>Action,Adventure,Fantasy</td>\n",
       "      <td>A paraplegic marine dispatched to the moon Pan...</td>\n",
       "      <td>James Cameron</td>\n",
       "      <td>Sam Worthington, Zoe Saldana, Sigourney Weaver...</td>\n",
       "      <td>2009</td>\n",
       "      <td>162</td>\n",
       "      <td>7.8</td>\n",
       "      <td>935408</td>\n",
       "      <td>760.51</td>\n",
       "      <td>83.0</td>\n",
       "    </tr>\n",
       "    <tr>\n",
       "      <th>Ah-ga-ssi</th>\n",
       "      <td>146</td>\n",
       "      <td>Drama,Mystery,Romance</td>\n",
       "      <td>A woman is hired as a handmaiden to a Japanese...</td>\n",
       "      <td>Chan-wook Park</td>\n",
       "      <td>Min-hee Kim, Jung-woo Ha, Jin-woong Jo, So-ri ...</td>\n",
       "      <td>2016</td>\n",
       "      <td>144</td>\n",
       "      <td>8.1</td>\n",
       "      <td>33418</td>\n",
       "      <td>2.01</td>\n",
       "      <td>84.0</td>\n",
       "    </tr>\n",
       "    <tr>\n",
       "      <th>Finding Dory</th>\n",
       "      <td>120</td>\n",
       "      <td>Animation,Adventure,Comedy</td>\n",
       "      <td>The friendly but forgetful blue tang fish, Dor...</td>\n",
       "      <td>Andrew Stanton</td>\n",
       "      <td>Ellen DeGeneres, Albert Brooks,Ed O'Neill, Kai...</td>\n",
       "      <td>2016</td>\n",
       "      <td>97</td>\n",
       "      <td>7.4</td>\n",
       "      <td>157026</td>\n",
       "      <td>486.29</td>\n",
       "      <td>77.0</td>\n",
       "    </tr>\n",
       "    <tr>\n",
       "      <th>Sing Street</th>\n",
       "      <td>274</td>\n",
       "      <td>Comedy,Drama,Music</td>\n",
       "      <td>A boy growing up in Dublin during the 1980s es...</td>\n",
       "      <td>John Carney</td>\n",
       "      <td>Ferdia Walsh-Peelo, Aidan Gillen, Maria Doyle ...</td>\n",
       "      <td>2016</td>\n",
       "      <td>106</td>\n",
       "      <td>8.0</td>\n",
       "      <td>52144</td>\n",
       "      <td>3.23</td>\n",
       "      <td>79.0</td>\n",
       "    </tr>\n",
       "    <tr>\n",
       "      <th>(500) Days of Summer</th>\n",
       "      <td>508</td>\n",
       "      <td>Comedy,Drama,Romance</td>\n",
       "      <td>An offbeat romantic comedy about a woman who d...</td>\n",
       "      <td>Marc Webb</td>\n",
       "      <td>Zooey Deschanel, Joseph Gordon-Levitt, Geoffre...</td>\n",
       "      <td>2009</td>\n",
       "      <td>95</td>\n",
       "      <td>7.7</td>\n",
       "      <td>398972</td>\n",
       "      <td>32.39</td>\n",
       "      <td>76.0</td>\n",
       "    </tr>\n",
       "    <tr>\n",
       "      <th>Children of Men</th>\n",
       "      <td>247</td>\n",
       "      <td>Drama,Sci-Fi,Thriller</td>\n",
       "      <td>In 2027, in a chaotic world in which women hav...</td>\n",
       "      <td>Alfonso Cuarón</td>\n",
       "      <td>Julianne Moore, Clive Owen, Chiwetel Ejiofor,M...</td>\n",
       "      <td>2006</td>\n",
       "      <td>109</td>\n",
       "      <td>7.9</td>\n",
       "      <td>382910</td>\n",
       "      <td>35.29</td>\n",
       "      <td>84.0</td>\n",
       "    </tr>\n",
       "    <tr>\n",
       "      <th>Hunt for the Wilderpeople</th>\n",
       "      <td>448</td>\n",
       "      <td>Adventure,Comedy,Drama</td>\n",
       "      <td>A national manhunt is ordered for a rebellious...</td>\n",
       "      <td>Taika Waititi</td>\n",
       "      <td>Sam Neill, Julian Dennison, Rima Te Wiata, Rac...</td>\n",
       "      <td>2016</td>\n",
       "      <td>101</td>\n",
       "      <td>7.9</td>\n",
       "      <td>52331</td>\n",
       "      <td>5.20</td>\n",
       "      <td>81.0</td>\n",
       "    </tr>\n",
       "    <tr>\n",
       "      <th>Kingsman: The Secret Service</th>\n",
       "      <td>66</td>\n",
       "      <td>Action,Adventure,Comedy</td>\n",
       "      <td>A spy organization recruits an unrefined, but ...</td>\n",
       "      <td>Matthew Vaughn</td>\n",
       "      <td>Colin Firth, Taron Egerton, Samuel L. Jackson,...</td>\n",
       "      <td>2014</td>\n",
       "      <td>129</td>\n",
       "      <td>7.7</td>\n",
       "      <td>440209</td>\n",
       "      <td>128.25</td>\n",
       "      <td>58.0</td>\n",
       "    </tr>\n",
       "    <tr>\n",
       "      <th>How to Train Your Dragon</th>\n",
       "      <td>773</td>\n",
       "      <td>Animation,Action,Adventure</td>\n",
       "      <td>A hapless young Viking who aspires to hunt dra...</td>\n",
       "      <td>Dean DeBlois</td>\n",
       "      <td>Jay Baruchel, Gerard Butler,Christopher Mintz-...</td>\n",
       "      <td>2010</td>\n",
       "      <td>98</td>\n",
       "      <td>8.1</td>\n",
       "      <td>523893</td>\n",
       "      <td>217.39</td>\n",
       "      <td>74.0</td>\n",
       "    </tr>\n",
       "  </tbody>\n",
       "</table>\n",
       "</div>"
      ],
      "text/plain": [
       "                              rank                       genre  \\\n",
       "Title                                                            \n",
       "The Lives of Others            477              Drama,Thriller   \n",
       "Avatar                          88    Action,Adventure,Fantasy   \n",
       "Ah-ga-ssi                      146       Drama,Mystery,Romance   \n",
       "Finding Dory                   120  Animation,Adventure,Comedy   \n",
       "Sing Street                    274          Comedy,Drama,Music   \n",
       "(500) Days of Summer           508        Comedy,Drama,Romance   \n",
       "Children of Men                247       Drama,Sci-Fi,Thriller   \n",
       "Hunt for the Wilderpeople      448      Adventure,Comedy,Drama   \n",
       "Kingsman: The Secret Service    66     Action,Adventure,Comedy   \n",
       "How to Train Your Dragon       773  Animation,Action,Adventure   \n",
       "\n",
       "                                                                    description  \\\n",
       "Title                                                                             \n",
       "The Lives of Others           In 1984 East Berlin, an agent of the secret po...   \n",
       "Avatar                        A paraplegic marine dispatched to the moon Pan...   \n",
       "Ah-ga-ssi                     A woman is hired as a handmaiden to a Japanese...   \n",
       "Finding Dory                  The friendly but forgetful blue tang fish, Dor...   \n",
       "Sing Street                   A boy growing up in Dublin during the 1980s es...   \n",
       "(500) Days of Summer          An offbeat romantic comedy about a woman who d...   \n",
       "Children of Men               In 2027, in a chaotic world in which women hav...   \n",
       "Hunt for the Wilderpeople     A national manhunt is ordered for a rebellious...   \n",
       "Kingsman: The Secret Service  A spy organization recruits an unrefined, but ...   \n",
       "How to Train Your Dragon      A hapless young Viking who aspires to hunt dra...   \n",
       "\n",
       "                                                      director  \\\n",
       "Title                                                            \n",
       "The Lives of Others           Florian Henckel von Donnersmarck   \n",
       "Avatar                                           James Cameron   \n",
       "Ah-ga-ssi                                       Chan-wook Park   \n",
       "Finding Dory                                    Andrew Stanton   \n",
       "Sing Street                                        John Carney   \n",
       "(500) Days of Summer                                 Marc Webb   \n",
       "Children of Men                                 Alfonso Cuarón   \n",
       "Hunt for the Wilderpeople                        Taika Waititi   \n",
       "Kingsman: The Secret Service                    Matthew Vaughn   \n",
       "How to Train Your Dragon                          Dean DeBlois   \n",
       "\n",
       "                                                                         actors  \\\n",
       "Title                                                                             \n",
       "The Lives of Others           Ulrich Mühe, Martina Gedeck,Sebastian Koch, Ul...   \n",
       "Avatar                        Sam Worthington, Zoe Saldana, Sigourney Weaver...   \n",
       "Ah-ga-ssi                     Min-hee Kim, Jung-woo Ha, Jin-woong Jo, So-ri ...   \n",
       "Finding Dory                  Ellen DeGeneres, Albert Brooks,Ed O'Neill, Kai...   \n",
       "Sing Street                   Ferdia Walsh-Peelo, Aidan Gillen, Maria Doyle ...   \n",
       "(500) Days of Summer          Zooey Deschanel, Joseph Gordon-Levitt, Geoffre...   \n",
       "Children of Men               Julianne Moore, Clive Owen, Chiwetel Ejiofor,M...   \n",
       "Hunt for the Wilderpeople     Sam Neill, Julian Dennison, Rima Te Wiata, Rac...   \n",
       "Kingsman: The Secret Service  Colin Firth, Taron Egerton, Samuel L. Jackson,...   \n",
       "How to Train Your Dragon      Jay Baruchel, Gerard Butler,Christopher Mintz-...   \n",
       "\n",
       "                              year  runtime  rating   votes  revenue  \\\n",
       "Title                                                                  \n",
       "The Lives of Others           2006      137     8.5  278103    11.28   \n",
       "Avatar                        2009      162     7.8  935408   760.51   \n",
       "Ah-ga-ssi                     2016      144     8.1   33418     2.01   \n",
       "Finding Dory                  2016       97     7.4  157026   486.29   \n",
       "Sing Street                   2016      106     8.0   52144     3.23   \n",
       "(500) Days of Summer          2009       95     7.7  398972    32.39   \n",
       "Children of Men               2006      109     7.9  382910    35.29   \n",
       "Hunt for the Wilderpeople     2016      101     7.9   52331     5.20   \n",
       "Kingsman: The Secret Service  2014      129     7.7  440209   128.25   \n",
       "How to Train Your Dragon      2010       98     8.1  523893   217.39   \n",
       "\n",
       "                              metascore  \n",
       "Title                                    \n",
       "The Lives of Others                89.0  \n",
       "Avatar                             83.0  \n",
       "Ah-ga-ssi                          84.0  \n",
       "Finding Dory                       77.0  \n",
       "Sing Street                        79.0  \n",
       "(500) Days of Summer               76.0  \n",
       "Children of Men                    84.0  \n",
       "Hunt for the Wilderpeople          81.0  \n",
       "Kingsman: The Secret Service       58.0  \n",
       "How to Train Your Dragon           74.0  "
      ]
     },
     "execution_count": 45,
     "metadata": {},
     "output_type": "execute_result"
    }
   ],
   "source": [
    "top250.sample(10)"
   ]
  },
  {
   "cell_type": "code",
   "execution_count": 47,
   "id": "373311b3",
   "metadata": {},
   "outputs": [
    {
     "data": {
      "text/plain": [
       "Index(['rank', 'genre', 'description', 'director', 'actors', 'year', 'runtime',\n",
       "       'rating', 'votes', 'revenue', 'metascore'],\n",
       "      dtype='object')"
      ]
     },
     "execution_count": 47,
     "metadata": {},
     "output_type": "execute_result"
    }
   ],
   "source": [
    "top250.columns"
   ]
  },
  {
   "cell_type": "code",
   "execution_count": 55,
   "id": "876d5d4d",
   "metadata": {},
   "outputs": [],
   "source": [
    "pd.set_option('display.float_format', '{:.2f}'.format) # this affects all dataset"
   ]
  },
  {
   "cell_type": "code",
   "execution_count": 56,
   "id": "60b9403f",
   "metadata": {},
   "outputs": [
    {
     "data": {
      "text/html": [
       "<div>\n",
       "<style scoped>\n",
       "    .dataframe tbody tr th:only-of-type {\n",
       "        vertical-align: middle;\n",
       "    }\n",
       "\n",
       "    .dataframe tbody tr th {\n",
       "        vertical-align: top;\n",
       "    }\n",
       "\n",
       "    .dataframe thead th {\n",
       "        text-align: right;\n",
       "    }\n",
       "</style>\n",
       "<table border=\"1\" class=\"dataframe\">\n",
       "  <thead>\n",
       "    <tr style=\"text-align: right;\">\n",
       "      <th></th>\n",
       "      <th>count</th>\n",
       "      <th>mean</th>\n",
       "      <th>std</th>\n",
       "      <th>min</th>\n",
       "      <th>25%</th>\n",
       "      <th>50%</th>\n",
       "      <th>75%</th>\n",
       "      <th>max</th>\n",
       "    </tr>\n",
       "  </thead>\n",
       "  <tbody>\n",
       "    <tr>\n",
       "      <th>rank</th>\n",
       "      <td>250.00</td>\n",
       "      <td>393.25</td>\n",
       "      <td>276.71</td>\n",
       "      <td>1.00</td>\n",
       "      <td>150.25</td>\n",
       "      <td>338.00</td>\n",
       "      <td>631.25</td>\n",
       "      <td>992.00</td>\n",
       "    </tr>\n",
       "    <tr>\n",
       "      <th>year</th>\n",
       "      <td>250.00</td>\n",
       "      <td>2011.93</td>\n",
       "      <td>3.33</td>\n",
       "      <td>2006.00</td>\n",
       "      <td>2009.00</td>\n",
       "      <td>2012.00</td>\n",
       "      <td>2015.00</td>\n",
       "      <td>2016.00</td>\n",
       "    </tr>\n",
       "    <tr>\n",
       "      <th>runtime</th>\n",
       "      <td>250.00</td>\n",
       "      <td>123.49</td>\n",
       "      <td>21.44</td>\n",
       "      <td>66.00</td>\n",
       "      <td>107.00</td>\n",
       "      <td>120.50</td>\n",
       "      <td>137.00</td>\n",
       "      <td>187.00</td>\n",
       "    </tr>\n",
       "    <tr>\n",
       "      <th>rating</th>\n",
       "      <td>250.00</td>\n",
       "      <td>7.80</td>\n",
       "      <td>0.31</td>\n",
       "      <td>7.30</td>\n",
       "      <td>7.50</td>\n",
       "      <td>7.80</td>\n",
       "      <td>8.00</td>\n",
       "      <td>9.00</td>\n",
       "    </tr>\n",
       "    <tr>\n",
       "      <th>votes</th>\n",
       "      <td>250.00</td>\n",
       "      <td>324774.82</td>\n",
       "      <td>258762.03</td>\n",
       "      <td>61.00</td>\n",
       "      <td>137304.25</td>\n",
       "      <td>292594.50</td>\n",
       "      <td>450024.75</td>\n",
       "      <td>1791916.00</td>\n",
       "    </tr>\n",
       "    <tr>\n",
       "      <th>revenue</th>\n",
       "      <td>250.00</td>\n",
       "      <td>116.81</td>\n",
       "      <td>136.84</td>\n",
       "      <td>0.01</td>\n",
       "      <td>19.29</td>\n",
       "      <td>73.58</td>\n",
       "      <td>168.89</td>\n",
       "      <td>936.63</td>\n",
       "    </tr>\n",
       "    <tr>\n",
       "      <th>metascore</th>\n",
       "      <td>250.00</td>\n",
       "      <td>73.50</td>\n",
       "      <td>12.24</td>\n",
       "      <td>34.00</td>\n",
       "      <td>67.00</td>\n",
       "      <td>74.00</td>\n",
       "      <td>81.00</td>\n",
       "      <td>100.00</td>\n",
       "    </tr>\n",
       "  </tbody>\n",
       "</table>\n",
       "</div>"
      ],
      "text/plain": [
       "           count      mean       std     min       25%       50%       75%  \\\n",
       "rank      250.00    393.25    276.71    1.00    150.25    338.00    631.25   \n",
       "year      250.00   2011.93      3.33 2006.00   2009.00   2012.00   2015.00   \n",
       "runtime   250.00    123.49     21.44   66.00    107.00    120.50    137.00   \n",
       "rating    250.00      7.80      0.31    7.30      7.50      7.80      8.00   \n",
       "votes     250.00 324774.82 258762.03   61.00 137304.25 292594.50 450024.75   \n",
       "revenue   250.00    116.81    136.84    0.01     19.29     73.58    168.89   \n",
       "metascore 250.00     73.50     12.24   34.00     67.00     74.00     81.00   \n",
       "\n",
       "                 max  \n",
       "rank          992.00  \n",
       "year         2016.00  \n",
       "runtime       187.00  \n",
       "rating          9.00  \n",
       "votes     1791916.00  \n",
       "revenue       936.63  \n",
       "metascore     100.00  "
      ]
     },
     "execution_count": 56,
     "metadata": {},
     "output_type": "execute_result"
    }
   ],
   "source": [
    "top250.describe().T"
   ]
  },
  {
   "cell_type": "code",
   "execution_count": 49,
   "id": "1e6bfeb3",
   "metadata": {},
   "outputs": [
    {
     "data": {
      "text/plain": [
       "rank           0\n",
       "genre          0\n",
       "description    0\n",
       "director       0\n",
       "actors         0\n",
       "year           0\n",
       "runtime        0\n",
       "rating         0\n",
       "votes          0\n",
       "revenue        0\n",
       "metascore      0\n",
       "dtype: int64"
      ]
     },
     "execution_count": 49,
     "metadata": {},
     "output_type": "execute_result"
    }
   ],
   "source": [
    "top250.isnull().sum()"
   ]
  },
  {
   "cell_type": "markdown",
   "id": "30fffe1a",
   "metadata": {},
   "source": [
    "## Data Visualization:"
   ]
  },
  {
   "cell_type": "markdown",
   "id": "4a3296fd",
   "metadata": {},
   "source": [
    "### Use the Matplotlib library to create a line graph showing the number of movies by year."
   ]
  },
  {
   "cell_type": "code",
   "execution_count": 57,
   "id": "8216b83d",
   "metadata": {},
   "outputs": [
    {
     "data": {
      "text/plain": [
       "year\n",
       "2006    17\n",
       "2007    20\n",
       "2008    12\n",
       "2009    21\n",
       "2010    18\n",
       "2011    20\n",
       "2012    19\n",
       "2013    21\n",
       "2014    29\n",
       "2015    19\n",
       "2016    54\n",
       "Name: count, dtype: int64"
      ]
     },
     "execution_count": 57,
     "metadata": {},
     "output_type": "execute_result"
    }
   ],
   "source": [
    "movies_per_year = top250['year'].value_counts().sort_index()\n",
    "movies_per_year"
   ]
  },
  {
   "cell_type": "code",
   "execution_count": 83,
   "id": "9a054da4",
   "metadata": {},
   "outputs": [
    {
     "data": {
      "image/png": "[encoded data removed]",
      "text/plain": [
       "<Figure size 640x480 with 1 Axes>"
      ]
     },
     "metadata": {},
     "output_type": "display_data"
    }
   ],
   "source": [
    "plt.plot(movies_per_year.index, movies_per_year.values, color='blue')\n",
    "plt.xlabel(\"years\")\n",
    "plt.ylabel(\"number of movies\")\n",
    "\n",
    "plt.title(\"movies by years\")\n",
    "\n",
    "# showing the values over line \n",
    "for x, y in zip(movies_per_year.index, movies_per_year.values):\n",
    "    plt.text(x, y + 0.15, str(y), ha='center', va='bottom', fontsize=9)\n",
    "    \n",
    "plt.show()"
   ]
  },
  {
   "cell_type": "markdown",
   "id": "cedbea40",
   "metadata": {},
   "source": [
    "###  Use the Seaborn library to display the top 10 most common movie genres with a bar chart."
   ]
  },
  {
   "cell_type": "code",
   "execution_count": 68,
   "id": "fd3bf70a",
   "metadata": {},
   "outputs": [
    {
     "data": {
      "text/html": [
       "<div>\n",
       "<style scoped>\n",
       "    .dataframe tbody tr th:only-of-type {\n",
       "        vertical-align: middle;\n",
       "    }\n",
       "\n",
       "    .dataframe tbody tr th {\n",
       "        vertical-align: top;\n",
       "    }\n",
       "\n",
       "    .dataframe thead th {\n",
       "        text-align: right;\n",
       "    }\n",
       "</style>\n",
       "<table border=\"1\" class=\"dataframe\">\n",
       "  <thead>\n",
       "    <tr style=\"text-align: right;\">\n",
       "      <th></th>\n",
       "      <th>0</th>\n",
       "      <th>1</th>\n",
       "      <th>2</th>\n",
       "    </tr>\n",
       "    <tr>\n",
       "      <th>Title</th>\n",
       "      <th></th>\n",
       "      <th></th>\n",
       "      <th></th>\n",
       "    </tr>\n",
       "  </thead>\n",
       "  <tbody>\n",
       "    <tr>\n",
       "      <th>The Dark Knight</th>\n",
       "      <td>Action</td>\n",
       "      <td>Crime</td>\n",
       "      <td>Drama</td>\n",
       "    </tr>\n",
       "    <tr>\n",
       "      <th>Inception</th>\n",
       "      <td>Action</td>\n",
       "      <td>Adventure</td>\n",
       "      <td>Sci-Fi</td>\n",
       "    </tr>\n",
       "    <tr>\n",
       "      <th>Interstellar</th>\n",
       "      <td>Adventure</td>\n",
       "      <td>Drama</td>\n",
       "      <td>Sci-Fi</td>\n",
       "    </tr>\n",
       "    <tr>\n",
       "      <th>The Intouchables</th>\n",
       "      <td>Biography</td>\n",
       "      <td>Comedy</td>\n",
       "      <td>Drama</td>\n",
       "    </tr>\n",
       "    <tr>\n",
       "      <th>Kimi no na wa</th>\n",
       "      <td>Animation</td>\n",
       "      <td>Drama</td>\n",
       "      <td>Fantasy</td>\n",
       "    </tr>\n",
       "    <tr>\n",
       "      <th>...</th>\n",
       "      <td>...</td>\n",
       "      <td>...</td>\n",
       "      <td>...</td>\n",
       "    </tr>\n",
       "    <tr>\n",
       "      <th>Patriots Day</th>\n",
       "      <td>Drama</td>\n",
       "      <td>History</td>\n",
       "      <td>Thriller</td>\n",
       "    </tr>\n",
       "    <tr>\n",
       "      <th>Me Before You</th>\n",
       "      <td>Drama</td>\n",
       "      <td>Romance</td>\n",
       "      <td>None</td>\n",
       "    </tr>\n",
       "    <tr>\n",
       "      <th>Mission: Impossible - Rogue Nation</th>\n",
       "      <td>Action</td>\n",
       "      <td>Adventure</td>\n",
       "      <td>Thriller</td>\n",
       "    </tr>\n",
       "    <tr>\n",
       "      <th>Blue Valentine</th>\n",
       "      <td>Drama</td>\n",
       "      <td>Romance</td>\n",
       "      <td>None</td>\n",
       "    </tr>\n",
       "    <tr>\n",
       "      <th>I Origins</th>\n",
       "      <td>Drama</td>\n",
       "      <td>Romance</td>\n",
       "      <td>Sci-Fi</td>\n",
       "    </tr>\n",
       "  </tbody>\n",
       "</table>\n",
       "<p>250 rows × 3 columns</p>\n",
       "</div>"
      ],
      "text/plain": [
       "                                            0          1         2\n",
       "Title                                                             \n",
       "The Dark Knight                        Action      Crime     Drama\n",
       "Inception                              Action  Adventure    Sci-Fi\n",
       "Interstellar                        Adventure      Drama    Sci-Fi\n",
       "The Intouchables                    Biography     Comedy     Drama\n",
       "Kimi no na wa                       Animation      Drama   Fantasy\n",
       "...                                       ...        ...       ...\n",
       "Patriots Day                            Drama    History  Thriller\n",
       "Me Before You                           Drama    Romance      None\n",
       "Mission: Impossible - Rogue Nation     Action  Adventure  Thriller\n",
       "Blue Valentine                          Drama    Romance      None\n",
       "I Origins                               Drama    Romance    Sci-Fi\n",
       "\n",
       "[250 rows x 3 columns]"
      ]
     },
     "execution_count": 68,
     "metadata": {},
     "output_type": "execute_result"
    }
   ],
   "source": [
    "top250[\"genre\"].str.split(\",\", expand=True)"
   ]
  },
  {
   "cell_type": "code",
   "execution_count": 69,
   "id": "d5184e10",
   "metadata": {},
   "outputs": [
    {
     "data": {
      "text/plain": [
       "Title             \n",
       "The Dark Knight  0       Action\n",
       "                 1        Crime\n",
       "                 2        Drama\n",
       "Inception        0       Action\n",
       "                 1    Adventure\n",
       "                        ...    \n",
       "Blue Valentine   0        Drama\n",
       "                 1      Romance\n",
       "I Origins        0        Drama\n",
       "                 1      Romance\n",
       "                 2       Sci-Fi\n",
       "Length: 665, dtype: object"
      ]
     },
     "execution_count": 69,
     "metadata": {},
     "output_type": "execute_result"
    }
   ],
   "source": [
    "top250[\"genre\"].str.split(\",\", expand=True).stack()"
   ]
  },
  {
   "cell_type": "code",
   "execution_count": 70,
   "id": "272949af",
   "metadata": {},
   "outputs": [
    {
     "data": {
      "text/plain": [
       "Drama        175\n",
       "Adventure     70\n",
       "Comedy        58\n",
       "Action        54\n",
       "Thriller      38\n",
       "Biography     36\n",
       "Crime         34\n",
       "Sci-Fi        30\n",
       "Mystery       30\n",
       "Romance       29\n",
       "Fantasy       28\n",
       "Animation     24\n",
       "History       14\n",
       "Family        12\n",
       "Horror         8\n",
       "War            7\n",
       "Sport          7\n",
       "Music          6\n",
       "Musical        3\n",
       "Western        2\n",
       "Name: count, dtype: int64"
      ]
     },
     "execution_count": 70,
     "metadata": {},
     "output_type": "execute_result"
    }
   ],
   "source": [
    "top250[\"genre\"].str.split(\",\", expand=True).stack().value_counts()"
   ]
  },
  {
   "cell_type": "code",
   "execution_count": 71,
   "id": "4febaa62",
   "metadata": {},
   "outputs": [
    {
     "data": {
      "text/plain": [
       "Drama        175\n",
       "Adventure     70\n",
       "Comedy        58\n",
       "Action        54\n",
       "Thriller      38\n",
       "Biography     36\n",
       "Crime         34\n",
       "Sci-Fi        30\n",
       "Mystery       30\n",
       "Romance       29\n",
       "Name: count, dtype: int64"
      ]
     },
     "execution_count": 71,
     "metadata": {},
     "output_type": "execute_result"
    }
   ],
   "source": [
    "top250[\"genre\"].str.split(\",\", expand=True).stack().value_counts()[:10]"
   ]
  },
  {
   "cell_type": "code",
   "execution_count": 73,
   "id": "eab54135",
   "metadata": {},
   "outputs": [],
   "source": [
    "top_genres = top250[\"genre\"].str.split(\",\", expand=True).stack().value_counts()[:10]"
   ]
  },
  {
   "cell_type": "code",
   "execution_count": 78,
   "id": "54bf3b42",
   "metadata": {},
   "outputs": [
    {
     "name": "stderr",
     "output_type": "stream",
     "text": [
      "C:\\Users\\Fatih YAVUZ\\AppData\\Local\\Temp\\ipykernel_23992\\440759744.py:3: FutureWarning: \n",
      "\n",
      "Passing `palette` without assigning `hue` is deprecated and will be removed in v0.14.0. Assign the `y` variable to `hue` and set `legend=False` for the same effect.\n",
      "\n",
      "  ax = sns.barplot(x=top_genres.values, y=top_genres.index, palette=\"Paired\")\n"
     ]
    },
    {
     "data": {
      "image/png": "[encoded data removed]",
      "text/plain": [
       "<Figure size 1000x600 with 1 Axes>"
      ]
     },
     "metadata": {},
     "output_type": "display_data"
    }
   ],
   "source": [
    "sns.set_style(\"whitegrid\")\n",
    "plt.figure(figsize=(10,6))\n",
    "ax = sns.barplot(x=top_genres.values, y=top_genres.index, palette=\"Paired\")\n",
    "\n",
    "for container in ax.containers:\n",
    "    ax.bar_label(container, fmt='%d', label_type='edge', fontsize=12, color='red', padding=3)\n",
    "    \n",
    "ax.set(xlabel='Number of Movies', ylabel='Genres')\n",
    "plt.title(\"Top 10 Movie Genres\")\n",
    "\n",
    "plt.show()"
   ]
  },
  {
   "cell_type": "markdown",
   "id": "6521c319",
   "metadata": {},
   "source": [
    "###  Use the Matplotlib and Plotly libraries to create two separate pie charts showing the number of movies by genre"
   ]
  },
  {
   "cell_type": "code",
   "execution_count": 85,
   "id": "6241b5d3",
   "metadata": {},
   "outputs": [],
   "source": [
    "top_genres = top250['genre'].value_counts().head(10) "
   ]
  },
  {
   "cell_type": "code",
   "execution_count": 86,
   "id": "8e7f48a8",
   "metadata": {},
   "outputs": [
    {
     "data": {
      "application/vnd.plotly.v1+json": {
       "config": {
        "plotlyServerURL": "https://plot.ly"
       },
       "data": [
        {
         "customdata": [
          [
           13,
           "Action,Adventure,Sci-Fi"
          ],
          [
           12,
           "Animation,Adventure,Comedy"
          ],
          [
           12,
           "Drama"
          ],
          [
           11,
           "Comedy,Drama"
          ],
          [
           9,
           "Crime,Drama,Mystery"
          ],
          [
           9,
           "Drama,Romance"
          ],
          [
           7,
           "Biography,Drama"
          ],
          [
           7,
           "Crime,Drama,Thriller"
          ],
          [
           7,
           "Comedy,Drama,Romance"
          ],
          [
           6,
           "Biography,Drama,History"
          ]
         ],
         "domain": {
          "x": [
           0,
           1
          ],
          "y": [
           0,
           1
          ]
         },
         "hole": 0.5,
         "hovertemplate": "Türler=%{customdata[1]}<br>value=%{value}<br>Sayı=%{customdata[0]}<extra></extra>",
         "labels": [
          "Action,Adventure,Sci-Fi",
          "Animation,Adventure,Comedy",
          "Drama",
          "Comedy,Drama",
          "Crime,Drama,Mystery",
          "Drama,Romance",
          "Biography,Drama",
          "Crime,Drama,Thriller",
          "Comedy,Drama,Romance",
          "Biography,Drama,History"
         ],
         "legendgroup": "",
         "marker": {
          "line": {
           "color": "white",
           "width": 2
          }
         },
         "name": "",
         "showlegend": true,
         "textfont": {
          "size": 12
         },
         "textinfo": "percent+value",
         "textposition": "inside",
         "type": "pie",
         "values": [
          13,
          12,
          12,
          11,
          9,
          9,
          7,
          7,
          7,
          6
         ]
        }
       ],
       "layout": {
        "legend": {
         "tracegroupgap": 0
        },
        "template": {
         "data": {
          "bar": [
           {
            "error_x": {
             "color": "#2a3f5f"
            },
            "error_y": {
             "color": "#2a3f5f"
            },
            "marker": {
             "line": {
              "color": "#E5ECF6",
              "width": 0.5
             },
             "pattern": {
              "fillmode": "overlay",
              "size": 10,
              "solidity": 0.2
             }
            },
            "type": "bar"
           }
          ],
          "barpolar": [
           {
            "marker": {
             "line": {
              "color": "#E5ECF6",
              "width": 0.5
             },
             "pattern": {
              "fillmode": "overlay",
              "size": 10,
              "solidity": 0.2
             }
            },
            "type": "barpolar"
           }
          ],
          "carpet": [
           {
            "aaxis": {
             "endlinecolor": "#2a3f5f",
             "gridcolor": "white",
             "linecolor": "white",
             "minorgridcolor": "white",
             "startlinecolor": "#2a3f5f"
            },
            "baxis": {
             "endlinecolor": "#2a3f5f",
             "gridcolor": "white",
             "linecolor": "white",
             "minorgridcolor": "white",
             "startlinecolor": "#2a3f5f"
            },
            "type": "carpet"
           }
          ],
          "choropleth": [
           {
            "colorbar": {
             "outlinewidth": 0,
             "ticks": ""
            },
            "type": "choropleth"
           }
          ],
          "contour": [
           {
            "colorbar": {
             "outlinewidth": 0,
             "ticks": ""
            },
            "colorscale": [
             [
              0,
              "#0d0887"
             ],
             [
              0.1111111111111111,
              "#46039f"
             ],
             [
              0.2222222222222222,
              "#7201a8"
             ],
             [
              0.3333333333333333,
              "#9c179e"
             ],
             [
              0.4444444444444444,
              "#bd3786"
             ],
             [
              0.5555555555555556,
              "#d8576b"
             ],
             [
              0.6666666666666666,
              "#ed7953"
             ],
             [
              0.7777777777777778,
              "#fb9f3a"
             ],
             [
              0.8888888888888888,
              "#fdca26"
             ],
             [
              1,
              "#f0f921"
             ]
            ],
            "type": "contour"
           }
          ],
          "contourcarpet": [
           {
            "colorbar": {
             "outlinewidth": 0,
             "ticks": ""
            },
            "type": "contourcarpet"
           }
          ],
          "heatmap": [
           {
            "colorbar": {
             "outlinewidth": 0,
             "ticks": ""
            },
            "colorscale": [
             [
              0,
              "#0d0887"
             ],
             [
              0.1111111111111111,
              "#46039f"
             ],
             [
              0.2222222222222222,
              "#7201a8"
             ],
             [
              0.3333333333333333,
              "#9c179e"
             ],
             [
              0.4444444444444444,
              "#bd3786"
             ],
             [
              0.5555555555555556,
              "#d8576b"
             ],
             [
              0.6666666666666666,
              "#ed7953"
             ],
             [
              0.7777777777777778,
              "#fb9f3a"
             ],
             [
              0.8888888888888888,
              "#fdca26"
             ],
             [
              1,
              "#f0f921"
             ]
            ],
            "type": "heatmap"
           }
          ],
          "heatmapgl": [
           {
            "colorbar": {
             "outlinewidth": 0,
             "ticks": ""
            },
            "colorscale": [
             [
              0,
              "#0d0887"
             ],
             [
              0.1111111111111111,
              "#46039f"
             ],
             [
              0.2222222222222222,
              "#7201a8"
             ],
             [
              0.3333333333333333,
              "#9c179e"
             ],
             [
              0.4444444444444444,
              "#bd3786"
             ],
             [
              0.5555555555555556,
              "#d8576b"
             ],
             [
              0.6666666666666666,
              "#ed7953"
             ],
             [
              0.7777777777777778,
              "#fb9f3a"
             ],
             [
              0.8888888888888888,
              "#fdca26"
             ],
             [
              1,
              "#f0f921"
             ]
            ],
            "type": "heatmapgl"
           }
          ],
          "histogram": [
           {
            "marker": {
             "pattern": {
              "fillmode": "overlay",
              "size": 10,
              "solidity": 0.2
             }
            },
            "type": "histogram"
           }
          ],
          "histogram2d": [
           {
            "colorbar": {
             "outlinewidth": 0,
             "ticks": ""
            },
            "colorscale": [
             [
              0,
              "#0d0887"
             ],
             [
              0.1111111111111111,
              "#46039f"
             ],
             [
              0.2222222222222222,
              "#7201a8"
             ],
             [
              0.3333333333333333,
              "#9c179e"
             ],
             [
              0.4444444444444444,
              "#bd3786"
             ],
             [
              0.5555555555555556,
              "#d8576b"
             ],
             [
              0.6666666666666666,
              "#ed7953"
             ],
             [
              0.7777777777777778,
              "#fb9f3a"
             ],
             [
              0.8888888888888888,
              "#fdca26"
             ],
             [
              1,
              "#f0f921"
             ]
            ],
            "type": "histogram2d"
           }
          ],
          "histogram2dcontour": [
           {
            "colorbar": {
             "outlinewidth": 0,
             "ticks": ""
            },
            "colorscale": [
             [
              0,
              "#0d0887"
             ],
             [
              0.1111111111111111,
              "#46039f"
             ],
             [
              0.2222222222222222,
              "#7201a8"
             ],
             [
              0.3333333333333333,
              "#9c179e"
             ],
             [
              0.4444444444444444,
              "#bd3786"
             ],
             [
              0.5555555555555556,
              "#d8576b"
             ],
             [
              0.6666666666666666,
              "#ed7953"
             ],
             [
              0.7777777777777778,
              "#fb9f3a"
             ],
             [
              0.8888888888888888,
              "#fdca26"
             ],
             [
              1,
              "#f0f921"
             ]
            ],
            "type": "histogram2dcontour"
           }
          ],
          "mesh3d": [
           {
            "colorbar": {
             "outlinewidth": 0,
             "ticks": ""
            },
            "type": "mesh3d"
           }
          ],
          "parcoords": [
           {
            "line": {
             "colorbar": {
              "outlinewidth": 0,
              "ticks": ""
             }
            },
            "type": "parcoords"
           }
          ],
          "pie": [
           {
            "automargin": true,
            "type": "pie"
           }
          ],
          "scatter": [
           {
            "fillpattern": {
             "fillmode": "overlay",
             "size": 10,
             "solidity": 0.2
            },
            "type": "scatter"
           }
          ],
          "scatter3d": [
           {
            "line": {
             "colorbar": {
              "outlinewidth": 0,
              "ticks": ""
             }
            },
            "marker": {
             "colorbar": {
              "outlinewidth": 0,
              "ticks": ""
             }
            },
            "type": "scatter3d"
           }
          ],
          "scattercarpet": [
           {
            "marker": {
             "colorbar": {
              "outlinewidth": 0,
              "ticks": ""
             }
            },
            "type": "scattercarpet"
           }
          ],
          "scattergeo": [
           {
            "marker": {
             "colorbar": {
              "outlinewidth": 0,
              "ticks": ""
             }
            },
            "type": "scattergeo"
           }
          ],
          "scattergl": [
           {
            "marker": {
             "colorbar": {
              "outlinewidth": 0,
              "ticks": ""
             }
            },
            "type": "scattergl"
           }
          ],
          "scattermapbox": [
           {
            "marker": {
             "colorbar": {
              "outlinewidth": 0,
              "ticks": ""
             }
            },
            "type": "scattermapbox"
           }
          ],
          "scatterpolar": [
           {
            "marker": {
             "colorbar": {
              "outlinewidth": 0,
              "ticks": ""
             }
            },
            "type": "scatterpolar"
           }
          ],
          "scatterpolargl": [
           {
            "marker": {
             "colorbar": {
              "outlinewidth": 0,
              "ticks": ""
             }
            },
            "type": "scatterpolargl"
           }
          ],
          "scatterternary": [
           {
            "marker": {
             "colorbar": {
              "outlinewidth": 0,
              "ticks": ""
             }
            },
            "type": "scatterternary"
           }
          ],
          "surface": [
           {
            "colorbar": {
             "outlinewidth": 0,
             "ticks": ""
            },
            "colorscale": [
             [
              0,
              "#0d0887"
             ],
             [
              0.1111111111111111,
              "#46039f"
             ],
             [
              0.2222222222222222,
              "#7201a8"
             ],
             [
              0.3333333333333333,
              "#9c179e"
             ],
             [
              0.4444444444444444,
              "#bd3786"
             ],
             [
              0.5555555555555556,
              "#d8576b"
             ],
             [
              0.6666666666666666,
              "#ed7953"
             ],
             [
              0.7777777777777778,
              "#fb9f3a"
             ],
             [
              0.8888888888888888,
              "#fdca26"
             ],
             [
              1,
              "#f0f921"
             ]
            ],
            "type": "surface"
           }
          ],
          "table": [
           {
            "cells": {
             "fill": {
              "color": "#EBF0F8"
             },
             "line": {
              "color": "white"
             }
            },
            "header": {
             "fill": {
              "color": "#C8D4E3"
             },
             "line": {
              "color": "white"
             }
            },
            "type": "table"
           }
          ]
         },
         "layout": {
          "annotationdefaults": {
           "arrowcolor": "#2a3f5f",
           "arrowhead": 0,
           "arrowwidth": 1
          },
          "autotypenumbers": "strict",
          "coloraxis": {
           "colorbar": {
            "outlinewidth": 0,
            "ticks": ""
           }
          },
          "colorscale": {
           "diverging": [
            [
             0,
             "#8e0152"
            ],
            [
             0.1,
             "#c51b7d"
            ],
            [
             0.2,
             "#de77ae"
            ],
            [
             0.3,
             "#f1b6da"
            ],
            [
             0.4,
             "#fde0ef"
            ],
            [
             0.5,
             "#f7f7f7"
            ],
            [
             0.6,
             "#e6f5d0"
            ],
            [
             0.7,
             "#b8e186"
            ],
            [
             0.8,
             "#7fbc41"
            ],
            [
             0.9,
             "#4d9221"
            ],
            [
             1,
             "#276419"
            ]
           ],
           "sequential": [
            [
             0,
             "#0d0887"
            ],
            [
             0.1111111111111111,
             "#46039f"
            ],
            [
             0.2222222222222222,
             "#7201a8"
            ],
            [
             0.3333333333333333,
             "#9c179e"
            ],
            [
             0.4444444444444444,
             "#bd3786"
            ],
            [
             0.5555555555555556,
             "#d8576b"
            ],
            [
             0.6666666666666666,
             "#ed7953"
            ],
            [
             0.7777777777777778,
             "#fb9f3a"
            ],
            [
             0.8888888888888888,
             "#fdca26"
            ],
            [
             1,
             "#f0f921"
            ]
           ],
           "sequentialminus": [
            [
             0,
             "#0d0887"
            ],
            [
             0.1111111111111111,
             "#46039f"
            ],
            [
             0.2222222222222222,
             "#7201a8"
            ],
            [
             0.3333333333333333,
             "#9c179e"
            ],
            [
             0.4444444444444444,
             "#bd3786"
            ],
            [
             0.5555555555555556,
             "#d8576b"
            ],
            [
             0.6666666666666666,
             "#ed7953"
            ],
            [
             0.7777777777777778,
             "#fb9f3a"
            ],
            [
             0.8888888888888888,
             "#fdca26"
            ],
            [
             1,
             "#f0f921"
            ]
           ]
          },
          "colorway": [
           "#636efa",
           "#EF553B",
           "#00cc96",
           "#ab63fa",
           "#FFA15A",
           "#19d3f3",
           "#FF6692",
           "#B6E880",
           "#FF97FF",
           "#FECB52"
          ],
          "font": {
           "color": "#2a3f5f"
          },
          "geo": {
           "bgcolor": "white",
           "lakecolor": "white",
           "landcolor": "#E5ECF6",
           "showlakes": true,
           "showland": true,
           "subunitcolor": "white"
          },
          "hoverlabel": {
           "align": "left"
          },
          "hovermode": "closest",
          "mapbox": {
           "style": "light"
          },
          "paper_bgcolor": "white",
          "plot_bgcolor": "#E5ECF6",
          "polar": {
           "angularaxis": {
            "gridcolor": "white",
            "linecolor": "white",
            "ticks": ""
           },
           "bgcolor": "#E5ECF6",
           "radialaxis": {
            "gridcolor": "white",
            "linecolor": "white",
            "ticks": ""
           }
          },
          "scene": {
           "xaxis": {
            "backgroundcolor": "#E5ECF6",
            "gridcolor": "white",
            "gridwidth": 2,
            "linecolor": "white",
            "showbackground": true,
            "ticks": "",
            "zerolinecolor": "white"
           },
           "yaxis": {
            "backgroundcolor": "#E5ECF6",
            "gridcolor": "white",
            "gridwidth": 2,
            "linecolor": "white",
            "showbackground": true,
            "ticks": "",
            "zerolinecolor": "white"
           },
           "zaxis": {
            "backgroundcolor": "#E5ECF6",
            "gridcolor": "white",
            "gridwidth": 2,
            "linecolor": "white",
            "showbackground": true,
            "ticks": "",
            "zerolinecolor": "white"
           }
          },
          "shapedefaults": {
           "line": {
            "color": "#2a3f5f"
           }
          },
          "ternary": {
           "aaxis": {
            "gridcolor": "white",
            "linecolor": "white",
            "ticks": ""
           },
           "baxis": {
            "gridcolor": "white",
            "linecolor": "white",
            "ticks": ""
           },
           "bgcolor": "#E5ECF6",
           "caxis": {
            "gridcolor": "white",
            "linecolor": "white",
            "ticks": ""
           }
          },
          "title": {
           "x": 0.05
          },
          "xaxis": {
           "automargin": true,
           "gridcolor": "white",
           "linecolor": "white",
           "ticks": "",
           "title": {
            "standoff": 15
           },
           "zerolinecolor": "white",
           "zerolinewidth": 2
          },
          "yaxis": {
           "automargin": true,
           "gridcolor": "white",
           "linecolor": "white",
           "ticks": "",
           "title": {
            "standoff": 15
           },
           "zerolinecolor": "white",
           "zerolinewidth": 2
          }
         }
        },
        "title": {
         "text": "Number of movies by top 10 most made movie genres"
        }
       }
      },
      "text/html": [
       "<div>                            <div id=\"79dfaa0a-dbfc-44ad-a944-3d9817e7f0f2\" class=\"plotly-graph-div\" style=\"height:525px; width:100%;\"></div>            <script type=\"text/javascript\">                require([\"plotly\"], function(Plotly) {                    window.PLOTLYENV=window.PLOTLYENV || {};                                    if (document.getElementById(\"79dfaa0a-dbfc-44ad-a944-3d9817e7f0f2\")) {                    Plotly.newPlot(                        \"79dfaa0a-dbfc-44ad-a944-3d9817e7f0f2\",                        [{\"customdata\":[[13,\"Action,Adventure,Sci-Fi\"],[12,\"Animation,Adventure,Comedy\"],[12,\"Drama\"],[11,\"Comedy,Drama\"],[9,\"Crime,Drama,Mystery\"],[9,\"Drama,Romance\"],[7,\"Biography,Drama\"],[7,\"Crime,Drama,Thriller\"],[7,\"Comedy,Drama,Romance\"],[6,\"Biography,Drama,History\"]],\"domain\":{\"x\":[0.0,1.0],\"y\":[0.0,1.0]},\"hole\":0.5,\"hovertemplate\":\"T\\u00fcrler=%{customdata[1]}\\u003cbr\\u003evalue=%{value}\\u003cbr\\u003eSay\\u0131=%{customdata[0]}\\u003cextra\\u003e\\u003c\\u002fextra\\u003e\",\"labels\":[\"Action,Adventure,Sci-Fi\",\"Animation,Adventure,Comedy\",\"Drama\",\"Comedy,Drama\",\"Crime,Drama,Mystery\",\"Drama,Romance\",\"Biography,Drama\",\"Crime,Drama,Thriller\",\"Comedy,Drama,Romance\",\"Biography,Drama,History\"],\"legendgroup\":\"\",\"name\":\"\",\"showlegend\":true,\"values\":[13,12,12,11,9,9,7,7,7,6],\"type\":\"pie\",\"textfont\":{\"size\":12},\"textinfo\":\"percent+value\",\"textposition\":\"inside\",\"marker\":{\"line\":{\"color\":\"white\",\"width\":2}}}],                        {\"template\":{\"data\":{\"histogram2dcontour\":[{\"type\":\"histogram2dcontour\",\"colorbar\":{\"outlinewidth\":0,\"ticks\":\"\"},\"colorscale\":[[0.0,\"#0d0887\"],[0.1111111111111111,\"#46039f\"],[0.2222222222222222,\"#7201a8\"],[0.3333333333333333,\"#9c179e\"],[0.4444444444444444,\"#bd3786\"],[0.5555555555555556,\"#d8576b\"],[0.6666666666666666,\"#ed7953\"],[0.7777777777777778,\"#fb9f3a\"],[0.8888888888888888,\"#fdca26\"],[1.0,\"#f0f921\"]]}],\"choropleth\":[{\"type\":\"choropleth\",\"colorbar\":{\"outlinewidth\":0,\"ticks\":\"\"}}],\"histogram2d\":[{\"type\":\"histogram2d\",\"colorbar\":{\"outlinewidth\":0,\"ticks\":\"\"},\"colorscale\":[[0.0,\"#0d0887\"],[0.1111111111111111,\"#46039f\"],[0.2222222222222222,\"#7201a8\"],[0.3333333333333333,\"#9c179e\"],[0.4444444444444444,\"#bd3786\"],[0.5555555555555556,\"#d8576b\"],[0.6666666666666666,\"#ed7953\"],[0.7777777777777778,\"#fb9f3a\"],[0.8888888888888888,\"#fdca26\"],[1.0,\"#f0f921\"]]}],\"heatmap\":[{\"type\":\"heatmap\",\"colorbar\":{\"outlinewidth\":0,\"ticks\":\"\"},\"colorscale\":[[0.0,\"#0d0887\"],[0.1111111111111111,\"#46039f\"],[0.2222222222222222,\"#7201a8\"],[0.3333333333333333,\"#9c179e\"],[0.4444444444444444,\"#bd3786\"],[0.5555555555555556,\"#d8576b\"],[0.6666666666666666,\"#ed7953\"],[0.7777777777777778,\"#fb9f3a\"],[0.8888888888888888,\"#fdca26\"],[1.0,\"#f0f921\"]]}],\"heatmapgl\":[{\"type\":\"heatmapgl\",\"colorbar\":{\"outlinewidth\":0,\"ticks\":\"\"},\"colorscale\":[[0.0,\"#0d0887\"],[0.1111111111111111,\"#46039f\"],[0.2222222222222222,\"#7201a8\"],[0.3333333333333333,\"#9c179e\"],[0.4444444444444444,\"#bd3786\"],[0.5555555555555556,\"#d8576b\"],[0.6666666666666666,\"#ed7953\"],[0.7777777777777778,\"#fb9f3a\"],[0.8888888888888888,\"#fdca26\"],[1.0,\"#f0f921\"]]}],\"contourcarpet\":[{\"type\":\"contourcarpet\",\"colorbar\":{\"outlinewidth\":0,\"ticks\":\"\"}}],\"contour\":[{\"type\":\"contour\",\"colorbar\":{\"outlinewidth\":0,\"ticks\":\"\"},\"colorscale\":[[0.0,\"#0d0887\"],[0.1111111111111111,\"#46039f\"],[0.2222222222222222,\"#7201a8\"],[0.3333333333333333,\"#9c179e\"],[0.4444444444444444,\"#bd3786\"],[0.5555555555555556,\"#d8576b\"],[0.6666666666666666,\"#ed7953\"],[0.7777777777777778,\"#fb9f3a\"],[0.8888888888888888,\"#fdca26\"],[1.0,\"#f0f921\"]]}],\"surface\":[{\"type\":\"surface\",\"colorbar\":{\"outlinewidth\":0,\"ticks\":\"\"},\"colorscale\":[[0.0,\"#0d0887\"],[0.1111111111111111,\"#46039f\"],[0.2222222222222222,\"#7201a8\"],[0.3333333333333333,\"#9c179e\"],[0.4444444444444444,\"#bd3786\"],[0.5555555555555556,\"#d8576b\"],[0.6666666666666666,\"#ed7953\"],[0.7777777777777778,\"#fb9f3a\"],[0.8888888888888888,\"#fdca26\"],[1.0,\"#f0f921\"]]}],\"mesh3d\":[{\"type\":\"mesh3d\",\"colorbar\":{\"outlinewidth\":0,\"ticks\":\"\"}}],\"scatter\":[{\"fillpattern\":{\"fillmode\":\"overlay\",\"size\":10,\"solidity\":0.2},\"type\":\"scatter\"}],\"parcoords\":[{\"type\":\"parcoords\",\"line\":{\"colorbar\":{\"outlinewidth\":0,\"ticks\":\"\"}}}],\"scatterpolargl\":[{\"type\":\"scatterpolargl\",\"marker\":{\"colorbar\":{\"outlinewidth\":0,\"ticks\":\"\"}}}],\"bar\":[{\"error_x\":{\"color\":\"#2a3f5f\"},\"error_y\":{\"color\":\"#2a3f5f\"},\"marker\":{\"line\":{\"color\":\"#E5ECF6\",\"width\":0.5},\"pattern\":{\"fillmode\":\"overlay\",\"size\":10,\"solidity\":0.2}},\"type\":\"bar\"}],\"scattergeo\":[{\"type\":\"scattergeo\",\"marker\":{\"colorbar\":{\"outlinewidth\":0,\"ticks\":\"\"}}}],\"scatterpolar\":[{\"type\":\"scatterpolar\",\"marker\":{\"colorbar\":{\"outlinewidth\":0,\"ticks\":\"\"}}}],\"histogram\":[{\"marker\":{\"pattern\":{\"fillmode\":\"overlay\",\"size\":10,\"solidity\":0.2}},\"type\":\"histogram\"}],\"scattergl\":[{\"type\":\"scattergl\",\"marker\":{\"colorbar\":{\"outlinewidth\":0,\"ticks\":\"\"}}}],\"scatter3d\":[{\"type\":\"scatter3d\",\"line\":{\"colorbar\":{\"outlinewidth\":0,\"ticks\":\"\"}},\"marker\":{\"colorbar\":{\"outlinewidth\":0,\"ticks\":\"\"}}}],\"scattermapbox\":[{\"type\":\"scattermapbox\",\"marker\":{\"colorbar\":{\"outlinewidth\":0,\"ticks\":\"\"}}}],\"scatterternary\":[{\"type\":\"scatterternary\",\"marker\":{\"colorbar\":{\"outlinewidth\":0,\"ticks\":\"\"}}}],\"scattercarpet\":[{\"type\":\"scattercarpet\",\"marker\":{\"colorbar\":{\"outlinewidth\":0,\"ticks\":\"\"}}}],\"carpet\":[{\"aaxis\":{\"endlinecolor\":\"#2a3f5f\",\"gridcolor\":\"white\",\"linecolor\":\"white\",\"minorgridcolor\":\"white\",\"startlinecolor\":\"#2a3f5f\"},\"baxis\":{\"endlinecolor\":\"#2a3f5f\",\"gridcolor\":\"white\",\"linecolor\":\"white\",\"minorgridcolor\":\"white\",\"startlinecolor\":\"#2a3f5f\"},\"type\":\"carpet\"}],\"table\":[{\"cells\":{\"fill\":{\"color\":\"#EBF0F8\"},\"line\":{\"color\":\"white\"}},\"header\":{\"fill\":{\"color\":\"#C8D4E3\"},\"line\":{\"color\":\"white\"}},\"type\":\"table\"}],\"barpolar\":[{\"marker\":{\"line\":{\"color\":\"#E5ECF6\",\"width\":0.5},\"pattern\":{\"fillmode\":\"overlay\",\"size\":10,\"solidity\":0.2}},\"type\":\"barpolar\"}],\"pie\":[{\"automargin\":true,\"type\":\"pie\"}]},\"layout\":{\"autotypenumbers\":\"strict\",\"colorway\":[\"#636efa\",\"#EF553B\",\"#00cc96\",\"#ab63fa\",\"#FFA15A\",\"#19d3f3\",\"#FF6692\",\"#B6E880\",\"#FF97FF\",\"#FECB52\"],\"font\":{\"color\":\"#2a3f5f\"},\"hovermode\":\"closest\",\"hoverlabel\":{\"align\":\"left\"},\"paper_bgcolor\":\"white\",\"plot_bgcolor\":\"#E5ECF6\",\"polar\":{\"bgcolor\":\"#E5ECF6\",\"angularaxis\":{\"gridcolor\":\"white\",\"linecolor\":\"white\",\"ticks\":\"\"},\"radialaxis\":{\"gridcolor\":\"white\",\"linecolor\":\"white\",\"ticks\":\"\"}},\"ternary\":{\"bgcolor\":\"#E5ECF6\",\"aaxis\":{\"gridcolor\":\"white\",\"linecolor\":\"white\",\"ticks\":\"\"},\"baxis\":{\"gridcolor\":\"white\",\"linecolor\":\"white\",\"ticks\":\"\"},\"caxis\":{\"gridcolor\":\"white\",\"linecolor\":\"white\",\"ticks\":\"\"}},\"coloraxis\":{\"colorbar\":{\"outlinewidth\":0,\"ticks\":\"\"}},\"colorscale\":{\"sequential\":[[0.0,\"#0d0887\"],[0.1111111111111111,\"#46039f\"],[0.2222222222222222,\"#7201a8\"],[0.3333333333333333,\"#9c179e\"],[0.4444444444444444,\"#bd3786\"],[0.5555555555555556,\"#d8576b\"],[0.6666666666666666,\"#ed7953\"],[0.7777777777777778,\"#fb9f3a\"],[0.8888888888888888,\"#fdca26\"],[1.0,\"#f0f921\"]],\"sequentialminus\":[[0.0,\"#0d0887\"],[0.1111111111111111,\"#46039f\"],[0.2222222222222222,\"#7201a8\"],[0.3333333333333333,\"#9c179e\"],[0.4444444444444444,\"#bd3786\"],[0.5555555555555556,\"#d8576b\"],[0.6666666666666666,\"#ed7953\"],[0.7777777777777778,\"#fb9f3a\"],[0.8888888888888888,\"#fdca26\"],[1.0,\"#f0f921\"]],\"diverging\":[[0,\"#8e0152\"],[0.1,\"#c51b7d\"],[0.2,\"#de77ae\"],[0.3,\"#f1b6da\"],[0.4,\"#fde0ef\"],[0.5,\"#f7f7f7\"],[0.6,\"#e6f5d0\"],[0.7,\"#b8e186\"],[0.8,\"#7fbc41\"],[0.9,\"#4d9221\"],[1,\"#276419\"]]},\"xaxis\":{\"gridcolor\":\"white\",\"linecolor\":\"white\",\"ticks\":\"\",\"title\":{\"standoff\":15},\"zerolinecolor\":\"white\",\"automargin\":true,\"zerolinewidth\":2},\"yaxis\":{\"gridcolor\":\"white\",\"linecolor\":\"white\",\"ticks\":\"\",\"title\":{\"standoff\":15},\"zerolinecolor\":\"white\",\"automargin\":true,\"zerolinewidth\":2},\"scene\":{\"xaxis\":{\"backgroundcolor\":\"#E5ECF6\",\"gridcolor\":\"white\",\"linecolor\":\"white\",\"showbackground\":true,\"ticks\":\"\",\"zerolinecolor\":\"white\",\"gridwidth\":2},\"yaxis\":{\"backgroundcolor\":\"#E5ECF6\",\"gridcolor\":\"white\",\"linecolor\":\"white\",\"showbackground\":true,\"ticks\":\"\",\"zerolinecolor\":\"white\",\"gridwidth\":2},\"zaxis\":{\"backgroundcolor\":\"#E5ECF6\",\"gridcolor\":\"white\",\"linecolor\":\"white\",\"showbackground\":true,\"ticks\":\"\",\"zerolinecolor\":\"white\",\"gridwidth\":2}},\"shapedefaults\":{\"line\":{\"color\":\"#2a3f5f\"}},\"annotationdefaults\":{\"arrowcolor\":\"#2a3f5f\",\"arrowhead\":0,\"arrowwidth\":1},\"geo\":{\"bgcolor\":\"white\",\"landcolor\":\"#E5ECF6\",\"subunitcolor\":\"white\",\"showland\":true,\"showlakes\":true,\"lakecolor\":\"white\"},\"title\":{\"x\":0.05},\"mapbox\":{\"style\":\"light\"}}},\"legend\":{\"tracegroupgap\":0},\"title\":{\"text\":\"Number of movies by top 10 most made movie genres\"}},                        {\"responsive\": true}                    ).then(function(){\n",
       "                            \n",
       "var gd = document.getElementById('79dfaa0a-dbfc-44ad-a944-3d9817e7f0f2');\n",
       "var x = new MutationObserver(function (mutations, observer) {{\n",
       "        var display = window.getComputedStyle(gd).display;\n",
       "        if (!display || display === 'none') {{\n",
       "            console.log([gd, 'removed!']);\n",
       "            Plotly.purge(gd);\n",
       "            observer.disconnect();\n",
       "        }}\n",
       "}});\n",
       "\n",
       "// Listen for the removal of the full notebook cells\n",
       "var notebookContainer = gd.closest('#notebook-container');\n",
       "if (notebookContainer) {{\n",
       "    x.observe(notebookContainer, {childList: true});\n",
       "}}\n",
       "\n",
       "// Listen for the clearing of the current output cell\n",
       "var outputEl = gd.closest('.output');\n",
       "if (outputEl) {{\n",
       "    x.observe(outputEl, {childList: true});\n",
       "}}\n",
       "\n",
       "                        })                };                });            </script>        </div>"
      ]
     },
     "metadata": {},
     "output_type": "display_data"
    }
   ],
   "source": [
    "fig = px.pie(values=top_genres.values, names=top_genres.index, title='Number of movies by top 10 most made movie genres', labels={'value': 'Sayı', 'names': 'Türler'}, hover_data={'value': top_genres.values, 'names': top_genres.index}, hole=0.5)\n",
    "fig.update_traces(textposition='inside', textinfo='percent+value', textfont_size=12)\n",
    "fig.update_traces(marker=dict(line=dict(color='white', width=2)))\n",
    "fig.show()"
   ]
  },
  {
   "cell_type": "code",
   "execution_count": 100,
   "id": "f9f52262",
   "metadata": {},
   "outputs": [
    {
     "data": {
      "image/png": "[encoded data removed]",
      "text/plain": [
       "<Figure size 600x800 with 1 Axes>"
      ]
     },
     "metadata": {},
     "output_type": "display_data"
    }
   ],
   "source": [
    "# select top 10 most made movie genres\n",
    "top_genres = top250['genre'].value_counts().head(10)\n",
    "\n",
    "\n",
    "fig, ax = plt.subplots(figsize=(6, 8))\n",
    "ax.pie(top_genres.values, labels=top_genres.index, autopct='%1.1f%%', startangle=90,\n",
    "       explode=(0.1, 0.1, 0, 0, 0, 0, 0, 0, 0, 0), shadow = True, textprops={'fontsize': 14},)\n",
    "\n",
    "\n",
    "ax.set_title('Number of movies by top 10 most made movie genres', fontsize=16, fontweight='bold')\n",
    "ax.axis('equal')\n",
    "\n",
    "plt.show()\n"
   ]
  },
  {
   "cell_type": "markdown",
   "id": "99fa29fc",
   "metadata": {},
   "source": [
    "##  Visualizing Correlations"
   ]
  },
  {
   "cell_type": "code",
   "execution_count": 101,
   "id": "c17f7be5",
   "metadata": {
    "ExecuteTime": {
     "end_time": "2023-09-24T15:09:06.145071Z",
     "start_time": "2023-09-24T15:09:06.139279Z"
    }
   },
   "outputs": [
    {
     "data": {
      "text/html": [
       "<div>\n",
       "<style scoped>\n",
       "    .dataframe tbody tr th:only-of-type {\n",
       "        vertical-align: middle;\n",
       "    }\n",
       "\n",
       "    .dataframe tbody tr th {\n",
       "        vertical-align: top;\n",
       "    }\n",
       "\n",
       "    .dataframe thead th {\n",
       "        text-align: right;\n",
       "    }\n",
       "</style>\n",
       "<table border=\"1\" class=\"dataframe\">\n",
       "  <thead>\n",
       "    <tr style=\"text-align: right;\">\n",
       "      <th></th>\n",
       "      <th>rank</th>\n",
       "      <th>genre</th>\n",
       "      <th>description</th>\n",
       "      <th>director</th>\n",
       "      <th>actors</th>\n",
       "      <th>year</th>\n",
       "      <th>runtime</th>\n",
       "      <th>rating</th>\n",
       "      <th>votes</th>\n",
       "      <th>revenue</th>\n",
       "      <th>metascore</th>\n",
       "    </tr>\n",
       "    <tr>\n",
       "      <th>Title</th>\n",
       "      <th></th>\n",
       "      <th></th>\n",
       "      <th></th>\n",
       "      <th></th>\n",
       "      <th></th>\n",
       "      <th></th>\n",
       "      <th></th>\n",
       "      <th></th>\n",
       "      <th></th>\n",
       "      <th></th>\n",
       "      <th></th>\n",
       "    </tr>\n",
       "  </thead>\n",
       "  <tbody>\n",
       "    <tr>\n",
       "      <th>Guardians of the Galaxy</th>\n",
       "      <td>1</td>\n",
       "      <td>Action,Adventure,Sci-Fi</td>\n",
       "      <td>A group of intergalactic criminals are forced ...</td>\n",
       "      <td>James Gunn</td>\n",
       "      <td>Chris Pratt, Vin Diesel, Bradley Cooper, Zoe S...</td>\n",
       "      <td>2014</td>\n",
       "      <td>121</td>\n",
       "      <td>8.10</td>\n",
       "      <td>757074</td>\n",
       "      <td>333.13</td>\n",
       "      <td>76.00</td>\n",
       "    </tr>\n",
       "    <tr>\n",
       "      <th>Prometheus</th>\n",
       "      <td>2</td>\n",
       "      <td>Adventure,Mystery,Sci-Fi</td>\n",
       "      <td>Following clues to the origin of mankind, a te...</td>\n",
       "      <td>Ridley Scott</td>\n",
       "      <td>Noomi Rapace, Logan Marshall-Green, Michael Fa...</td>\n",
       "      <td>2012</td>\n",
       "      <td>124</td>\n",
       "      <td>7.00</td>\n",
       "      <td>485820</td>\n",
       "      <td>126.46</td>\n",
       "      <td>65.00</td>\n",
       "    </tr>\n",
       "    <tr>\n",
       "      <th>Split</th>\n",
       "      <td>3</td>\n",
       "      <td>Horror,Thriller</td>\n",
       "      <td>Three girls are kidnapped by a man with a diag...</td>\n",
       "      <td>M. Night Shyamalan</td>\n",
       "      <td>James McAvoy, Anya Taylor-Joy, Haley Lu Richar...</td>\n",
       "      <td>2016</td>\n",
       "      <td>117</td>\n",
       "      <td>7.30</td>\n",
       "      <td>157606</td>\n",
       "      <td>138.12</td>\n",
       "      <td>62.00</td>\n",
       "    </tr>\n",
       "    <tr>\n",
       "      <th>Sing</th>\n",
       "      <td>4</td>\n",
       "      <td>Animation,Comedy,Family</td>\n",
       "      <td>In a city of humanoid animals, a hustling thea...</td>\n",
       "      <td>Christophe Lourdelet</td>\n",
       "      <td>Matthew McConaughey,Reese Witherspoon, Seth Ma...</td>\n",
       "      <td>2016</td>\n",
       "      <td>108</td>\n",
       "      <td>7.20</td>\n",
       "      <td>60545</td>\n",
       "      <td>270.32</td>\n",
       "      <td>59.00</td>\n",
       "    </tr>\n",
       "    <tr>\n",
       "      <th>Suicide Squad</th>\n",
       "      <td>5</td>\n",
       "      <td>Action,Adventure,Fantasy</td>\n",
       "      <td>A secret government agency recruits some of th...</td>\n",
       "      <td>David Ayer</td>\n",
       "      <td>Will Smith, Jared Leto, Margot Robbie, Viola D...</td>\n",
       "      <td>2016</td>\n",
       "      <td>123</td>\n",
       "      <td>6.20</td>\n",
       "      <td>393727</td>\n",
       "      <td>325.02</td>\n",
       "      <td>40.00</td>\n",
       "    </tr>\n",
       "    <tr>\n",
       "      <th>...</th>\n",
       "      <td>...</td>\n",
       "      <td>...</td>\n",
       "      <td>...</td>\n",
       "      <td>...</td>\n",
       "      <td>...</td>\n",
       "      <td>...</td>\n",
       "      <td>...</td>\n",
       "      <td>...</td>\n",
       "      <td>...</td>\n",
       "      <td>...</td>\n",
       "      <td>...</td>\n",
       "    </tr>\n",
       "    <tr>\n",
       "      <th>Secret in Their Eyes</th>\n",
       "      <td>996</td>\n",
       "      <td>Crime,Drama,Mystery</td>\n",
       "      <td>A tight-knit team of rising investigators, alo...</td>\n",
       "      <td>Billy Ray</td>\n",
       "      <td>Chiwetel Ejiofor, Nicole Kidman, Julia Roberts...</td>\n",
       "      <td>2015</td>\n",
       "      <td>111</td>\n",
       "      <td>6.20</td>\n",
       "      <td>27585</td>\n",
       "      <td>82.96</td>\n",
       "      <td>45.00</td>\n",
       "    </tr>\n",
       "    <tr>\n",
       "      <th>Hostel: Part II</th>\n",
       "      <td>997</td>\n",
       "      <td>Horror</td>\n",
       "      <td>Three American college students studying abroa...</td>\n",
       "      <td>Eli Roth</td>\n",
       "      <td>Lauren German, Heather Matarazzo, Bijou Philli...</td>\n",
       "      <td>2007</td>\n",
       "      <td>94</td>\n",
       "      <td>5.50</td>\n",
       "      <td>73152</td>\n",
       "      <td>17.54</td>\n",
       "      <td>46.00</td>\n",
       "    </tr>\n",
       "    <tr>\n",
       "      <th>Step Up 2: The Streets</th>\n",
       "      <td>998</td>\n",
       "      <td>Drama,Music,Romance</td>\n",
       "      <td>Romantic sparks occur between two dance studen...</td>\n",
       "      <td>Jon M. Chu</td>\n",
       "      <td>Robert Hoffman, Briana Evigan, Cassie Ventura,...</td>\n",
       "      <td>2008</td>\n",
       "      <td>98</td>\n",
       "      <td>6.20</td>\n",
       "      <td>70699</td>\n",
       "      <td>58.01</td>\n",
       "      <td>50.00</td>\n",
       "    </tr>\n",
       "    <tr>\n",
       "      <th>Search Party</th>\n",
       "      <td>999</td>\n",
       "      <td>Adventure,Comedy</td>\n",
       "      <td>A pair of friends embark on a mission to reuni...</td>\n",
       "      <td>Scot Armstrong</td>\n",
       "      <td>Adam Pally, T.J. Miller, Thomas Middleditch,Sh...</td>\n",
       "      <td>2014</td>\n",
       "      <td>93</td>\n",
       "      <td>5.60</td>\n",
       "      <td>4881</td>\n",
       "      <td>82.96</td>\n",
       "      <td>22.00</td>\n",
       "    </tr>\n",
       "    <tr>\n",
       "      <th>Nine Lives</th>\n",
       "      <td>1000</td>\n",
       "      <td>Comedy,Family,Fantasy</td>\n",
       "      <td>A stuffy businessman finds himself trapped ins...</td>\n",
       "      <td>Barry Sonnenfeld</td>\n",
       "      <td>Kevin Spacey, Jennifer Garner, Robbie Amell,Ch...</td>\n",
       "      <td>2016</td>\n",
       "      <td>87</td>\n",
       "      <td>5.30</td>\n",
       "      <td>12435</td>\n",
       "      <td>19.64</td>\n",
       "      <td>11.00</td>\n",
       "    </tr>\n",
       "  </tbody>\n",
       "</table>\n",
       "<p>936 rows × 11 columns</p>\n",
       "</div>"
      ],
      "text/plain": [
       "                         rank                     genre  \\\n",
       "Title                                                     \n",
       "Guardians of the Galaxy     1   Action,Adventure,Sci-Fi   \n",
       "Prometheus                  2  Adventure,Mystery,Sci-Fi   \n",
       "Split                       3           Horror,Thriller   \n",
       "Sing                        4   Animation,Comedy,Family   \n",
       "Suicide Squad               5  Action,Adventure,Fantasy   \n",
       "...                       ...                       ...   \n",
       "Secret in Their Eyes      996       Crime,Drama,Mystery   \n",
       "Hostel: Part II           997                    Horror   \n",
       "Step Up 2: The Streets    998       Drama,Music,Romance   \n",
       "Search Party              999          Adventure,Comedy   \n",
       "Nine Lives               1000     Comedy,Family,Fantasy   \n",
       "\n",
       "                                                               description  \\\n",
       "Title                                                                        \n",
       "Guardians of the Galaxy  A group of intergalactic criminals are forced ...   \n",
       "Prometheus               Following clues to the origin of mankind, a te...   \n",
       "Split                    Three girls are kidnapped by a man with a diag...   \n",
       "Sing                     In a city of humanoid animals, a hustling thea...   \n",
       "Suicide Squad            A secret government agency recruits some of th...   \n",
       "...                                                                    ...   \n",
       "Secret in Their Eyes     A tight-knit team of rising investigators, alo...   \n",
       "Hostel: Part II          Three American college students studying abroa...   \n",
       "Step Up 2: The Streets   Romantic sparks occur between two dance studen...   \n",
       "Search Party             A pair of friends embark on a mission to reuni...   \n",
       "Nine Lives               A stuffy businessman finds himself trapped ins...   \n",
       "\n",
       "                                     director  \\\n",
       "Title                                           \n",
       "Guardians of the Galaxy            James Gunn   \n",
       "Prometheus                       Ridley Scott   \n",
       "Split                      M. Night Shyamalan   \n",
       "Sing                     Christophe Lourdelet   \n",
       "Suicide Squad                      David Ayer   \n",
       "...                                       ...   \n",
       "Secret in Their Eyes                Billy Ray   \n",
       "Hostel: Part II                      Eli Roth   \n",
       "Step Up 2: The Streets             Jon M. Chu   \n",
       "Search Party                   Scot Armstrong   \n",
       "Nine Lives                   Barry Sonnenfeld   \n",
       "\n",
       "                                                                    actors  \\\n",
       "Title                                                                        \n",
       "Guardians of the Galaxy  Chris Pratt, Vin Diesel, Bradley Cooper, Zoe S...   \n",
       "Prometheus               Noomi Rapace, Logan Marshall-Green, Michael Fa...   \n",
       "Split                    James McAvoy, Anya Taylor-Joy, Haley Lu Richar...   \n",
       "Sing                     Matthew McConaughey,Reese Witherspoon, Seth Ma...   \n",
       "Suicide Squad            Will Smith, Jared Leto, Margot Robbie, Viola D...   \n",
       "...                                                                    ...   \n",
       "Secret in Their Eyes     Chiwetel Ejiofor, Nicole Kidman, Julia Roberts...   \n",
       "Hostel: Part II          Lauren German, Heather Matarazzo, Bijou Philli...   \n",
       "Step Up 2: The Streets   Robert Hoffman, Briana Evigan, Cassie Ventura,...   \n",
       "Search Party             Adam Pally, T.J. Miller, Thomas Middleditch,Sh...   \n",
       "Nine Lives               Kevin Spacey, Jennifer Garner, Robbie Amell,Ch...   \n",
       "\n",
       "                         year  runtime  rating   votes  revenue  metascore  \n",
       "Title                                                                       \n",
       "Guardians of the Galaxy  2014      121    8.10  757074   333.13      76.00  \n",
       "Prometheus               2012      124    7.00  485820   126.46      65.00  \n",
       "Split                    2016      117    7.30  157606   138.12      62.00  \n",
       "Sing                     2016      108    7.20   60545   270.32      59.00  \n",
       "Suicide Squad            2016      123    6.20  393727   325.02      40.00  \n",
       "...                       ...      ...     ...     ...      ...        ...  \n",
       "Secret in Their Eyes     2015      111    6.20   27585    82.96      45.00  \n",
       "Hostel: Part II          2007       94    5.50   73152    17.54      46.00  \n",
       "Step Up 2: The Streets   2008       98    6.20   70699    58.01      50.00  \n",
       "Search Party             2014       93    5.60    4881    82.96      22.00  \n",
       "Nine Lives               2016       87    5.30   12435    19.64      11.00  \n",
       "\n",
       "[936 rows x 11 columns]"
      ]
     },
     "execution_count": 101,
     "metadata": {},
     "output_type": "execute_result"
    }
   ],
   "source": [
    "df"
   ]
  },
  {
   "cell_type": "code",
   "execution_count": 104,
   "id": "902c3c16",
   "metadata": {},
   "outputs": [
    {
     "data": {
      "text/plain": [
       "rank             int64\n",
       "genre           object\n",
       "description     object\n",
       "director        object\n",
       "actors          object\n",
       "year             int64\n",
       "runtime          int64\n",
       "rating         float64\n",
       "votes            int64\n",
       "revenue        float64\n",
       "metascore      float64\n",
       "dtype: object"
      ]
     },
     "execution_count": 104,
     "metadata": {},
     "output_type": "execute_result"
    }
   ],
   "source": [
    "df.dtypes"
   ]
  },
  {
   "cell_type": "code",
   "execution_count": 105,
   "id": "fe006352",
   "metadata": {},
   "outputs": [
    {
     "data": {
      "text/html": [
       "<div>\n",
       "<style scoped>\n",
       "    .dataframe tbody tr th:only-of-type {\n",
       "        vertical-align: middle;\n",
       "    }\n",
       "\n",
       "    .dataframe tbody tr th {\n",
       "        vertical-align: top;\n",
       "    }\n",
       "\n",
       "    .dataframe thead th {\n",
       "        text-align: right;\n",
       "    }\n",
       "</style>\n",
       "<table border=\"1\" class=\"dataframe\">\n",
       "  <thead>\n",
       "    <tr style=\"text-align: right;\">\n",
       "      <th></th>\n",
       "      <th>rank</th>\n",
       "      <th>year</th>\n",
       "      <th>runtime</th>\n",
       "      <th>rating</th>\n",
       "      <th>votes</th>\n",
       "      <th>revenue</th>\n",
       "      <th>metascore</th>\n",
       "    </tr>\n",
       "    <tr>\n",
       "      <th>Title</th>\n",
       "      <th></th>\n",
       "      <th></th>\n",
       "      <th></th>\n",
       "      <th></th>\n",
       "      <th></th>\n",
       "      <th></th>\n",
       "      <th></th>\n",
       "    </tr>\n",
       "  </thead>\n",
       "  <tbody>\n",
       "    <tr>\n",
       "      <th>Guardians of the Galaxy</th>\n",
       "      <td>1</td>\n",
       "      <td>2014</td>\n",
       "      <td>121</td>\n",
       "      <td>8.10</td>\n",
       "      <td>757074</td>\n",
       "      <td>333.13</td>\n",
       "      <td>76.00</td>\n",
       "    </tr>\n",
       "    <tr>\n",
       "      <th>Prometheus</th>\n",
       "      <td>2</td>\n",
       "      <td>2012</td>\n",
       "      <td>124</td>\n",
       "      <td>7.00</td>\n",
       "      <td>485820</td>\n",
       "      <td>126.46</td>\n",
       "      <td>65.00</td>\n",
       "    </tr>\n",
       "    <tr>\n",
       "      <th>Split</th>\n",
       "      <td>3</td>\n",
       "      <td>2016</td>\n",
       "      <td>117</td>\n",
       "      <td>7.30</td>\n",
       "      <td>157606</td>\n",
       "      <td>138.12</td>\n",
       "      <td>62.00</td>\n",
       "    </tr>\n",
       "    <tr>\n",
       "      <th>Sing</th>\n",
       "      <td>4</td>\n",
       "      <td>2016</td>\n",
       "      <td>108</td>\n",
       "      <td>7.20</td>\n",
       "      <td>60545</td>\n",
       "      <td>270.32</td>\n",
       "      <td>59.00</td>\n",
       "    </tr>\n",
       "    <tr>\n",
       "      <th>Suicide Squad</th>\n",
       "      <td>5</td>\n",
       "      <td>2016</td>\n",
       "      <td>123</td>\n",
       "      <td>6.20</td>\n",
       "      <td>393727</td>\n",
       "      <td>325.02</td>\n",
       "      <td>40.00</td>\n",
       "    </tr>\n",
       "    <tr>\n",
       "      <th>...</th>\n",
       "      <td>...</td>\n",
       "      <td>...</td>\n",
       "      <td>...</td>\n",
       "      <td>...</td>\n",
       "      <td>...</td>\n",
       "      <td>...</td>\n",
       "      <td>...</td>\n",
       "    </tr>\n",
       "    <tr>\n",
       "      <th>Secret in Their Eyes</th>\n",
       "      <td>996</td>\n",
       "      <td>2015</td>\n",
       "      <td>111</td>\n",
       "      <td>6.20</td>\n",
       "      <td>27585</td>\n",
       "      <td>82.96</td>\n",
       "      <td>45.00</td>\n",
       "    </tr>\n",
       "    <tr>\n",
       "      <th>Hostel: Part II</th>\n",
       "      <td>997</td>\n",
       "      <td>2007</td>\n",
       "      <td>94</td>\n",
       "      <td>5.50</td>\n",
       "      <td>73152</td>\n",
       "      <td>17.54</td>\n",
       "      <td>46.00</td>\n",
       "    </tr>\n",
       "    <tr>\n",
       "      <th>Step Up 2: The Streets</th>\n",
       "      <td>998</td>\n",
       "      <td>2008</td>\n",
       "      <td>98</td>\n",
       "      <td>6.20</td>\n",
       "      <td>70699</td>\n",
       "      <td>58.01</td>\n",
       "      <td>50.00</td>\n",
       "    </tr>\n",
       "    <tr>\n",
       "      <th>Search Party</th>\n",
       "      <td>999</td>\n",
       "      <td>2014</td>\n",
       "      <td>93</td>\n",
       "      <td>5.60</td>\n",
       "      <td>4881</td>\n",
       "      <td>82.96</td>\n",
       "      <td>22.00</td>\n",
       "    </tr>\n",
       "    <tr>\n",
       "      <th>Nine Lives</th>\n",
       "      <td>1000</td>\n",
       "      <td>2016</td>\n",
       "      <td>87</td>\n",
       "      <td>5.30</td>\n",
       "      <td>12435</td>\n",
       "      <td>19.64</td>\n",
       "      <td>11.00</td>\n",
       "    </tr>\n",
       "  </tbody>\n",
       "</table>\n",
       "<p>936 rows × 7 columns</p>\n",
       "</div>"
      ],
      "text/plain": [
       "                         rank  year  runtime  rating   votes  revenue  \\\n",
       "Title                                                                   \n",
       "Guardians of the Galaxy     1  2014      121    8.10  757074   333.13   \n",
       "Prometheus                  2  2012      124    7.00  485820   126.46   \n",
       "Split                       3  2016      117    7.30  157606   138.12   \n",
       "Sing                        4  2016      108    7.20   60545   270.32   \n",
       "Suicide Squad               5  2016      123    6.20  393727   325.02   \n",
       "...                       ...   ...      ...     ...     ...      ...   \n",
       "Secret in Their Eyes      996  2015      111    6.20   27585    82.96   \n",
       "Hostel: Part II           997  2007       94    5.50   73152    17.54   \n",
       "Step Up 2: The Streets    998  2008       98    6.20   70699    58.01   \n",
       "Search Party              999  2014       93    5.60    4881    82.96   \n",
       "Nine Lives               1000  2016       87    5.30   12435    19.64   \n",
       "\n",
       "                         metascore  \n",
       "Title                               \n",
       "Guardians of the Galaxy      76.00  \n",
       "Prometheus                   65.00  \n",
       "Split                        62.00  \n",
       "Sing                         59.00  \n",
       "Suicide Squad                40.00  \n",
       "...                            ...  \n",
       "Secret in Their Eyes         45.00  \n",
       "Hostel: Part II              46.00  \n",
       "Step Up 2: The Streets       50.00  \n",
       "Search Party                 22.00  \n",
       "Nine Lives                   11.00  \n",
       "\n",
       "[936 rows x 7 columns]"
      ]
     },
     "execution_count": 105,
     "metadata": {},
     "output_type": "execute_result"
    }
   ],
   "source": [
    "df.select_dtypes(exclude =\"O\")"
   ]
  },
  {
   "cell_type": "code",
   "execution_count": 106,
   "id": "14306c65",
   "metadata": {},
   "outputs": [],
   "source": [
    "numeric_df = df.select_dtypes(exclude =\"O\")"
   ]
  },
  {
   "cell_type": "code",
   "execution_count": 110,
   "id": "7125dcab",
   "metadata": {},
   "outputs": [
    {
     "data": {
      "image/png": "[encoded data removed]",
      "text/plain": [
       "<Figure size 640x480 with 2 Axes>"
      ]
     },
     "metadata": {},
     "output_type": "display_data"
    }
   ],
   "source": [
    "sns.heatmap(numeric_df.corr(),annot =True, cmap='coolwarm')\n",
    "plt.show()"
   ]
  },
  {
   "cell_type": "markdown",
   "id": "5b40f399",
   "metadata": {},
   "source": [
    "###  Use Seaborn to visualize the top 20 actors who have appeared in multiple films, based on the number of films they have acted in.\n",
    "\n"
   ]
  },
  {
   "cell_type": "code",
   "execution_count": 112,
   "id": "5ecad176",
   "metadata": {},
   "outputs": [
    {
     "data": {
      "text/plain": [
       "[('Mark Wahlberg', 15),\n",
       " ('Hugh Jackman', 14),\n",
       " ('Christian Bale', 13),\n",
       " ('Brad Pitt', 13),\n",
       " ('Michael Fassbender', 12),\n",
       " ('Scarlett Johansson', 12),\n",
       " ('Anne Hathaway', 12),\n",
       " ('Robert Downey Jr.', 12),\n",
       " ('Bradley Cooper', 11),\n",
       " ('Jake Gyllenhaal', 11),\n",
       " ('Seth Rogen', 11),\n",
       " ('Johnny Depp', 11),\n",
       " ('Tom Hardy', 11),\n",
       " ('Cate Blanchett', 11),\n",
       " ('Chloë Grace Moretz', 11),\n",
       " ('Channing Tatum', 11),\n",
       " ('Ryan Gosling', 10),\n",
       " ('Emma Stone', 10),\n",
       " ('Jennifer Lawrence', 10),\n",
       " ('Dwayne Johnson', 10)]"
      ]
     },
     "execution_count": 112,
     "metadata": {},
     "output_type": "execute_result"
    }
   ],
   "source": [
    "from collections import Counter\n",
    "\n",
    "actors_counter = Counter()\n",
    "\n",
    "for actors in df['actors']:\n",
    "    actors_list = [actor.strip() for actor in actors.split(',')]\n",
    "    actors_counter.update(actors_list)\n",
    "\n",
    "top_actors = actors_counter.most_common(20)\n",
    "top_actors"
   ]
  },
  {
   "cell_type": "code",
   "execution_count": 115,
   "id": "b9626504",
   "metadata": {},
   "outputs": [],
   "source": [
    "top_actors_df = pd.DataFrame(top_actors, columns=[\"Movie Count\", \"Actor\"])"
   ]
  },
  {
   "cell_type": "code",
   "execution_count": 117,
   "id": "0239d329",
   "metadata": {},
   "outputs": [
    {
     "name": "stderr",
     "output_type": "stream",
     "text": [
      "C:\\Users\\Fatih YAVUZ\\AppData\\Local\\Temp\\ipykernel_23992\\3358300560.py:5: FutureWarning:\n",
      "\n",
      "\n",
      "\n",
      "Passing `palette` without assigning `hue` is deprecated and will be removed in v0.14.0. Assign the `y` variable to `hue` and set `legend=False` for the same effect.\n",
      "\n",
      "\n"
     ]
    },
    {
     "data": {
      "image/png": "[encoded data removed]",
      "text/plain": [
       "<Figure size 1200x1000 with 1 Axes>"
      ]
     },
     "metadata": {},
     "output_type": "display_data"
    }
   ],
   "source": [
    "sns.set_style('whitegrid')\n",
    "\n",
    "plt.figure(figsize=(12,10)) # grafiğin boyutunu büyüt\n",
    "\n",
    "ax = sns.barplot(y='Movie Count', x='Actor', data=top_actors_df, palette='RdPu_r')\n",
    "\n",
    "for container in ax.containers:\n",
    "    ax.bar_label(container, fmt='%d', label_type='edge', fontsize=12, color='black', padding=3)\n",
    "    \n",
    "sns.despine(left=True)\n",
    "\n",
    "plt.title('En Çok Filmde Rol Alan 20 Oyuncu', fontsize=16) # başlık font boyutu büyüsün\n",
    "plt.xlabel('Oyuncu', fontsize=14) # x ekseni başlık font boyutu\n",
    "plt.ylabel('Filmlerde Rol Aldığı Sayı', fontsize=14) # y ekseni başlık font boyutu\n",
    "\n",
    "plt.xticks(fontsize=12, rotation=0) # x ekseni font boyutu ve hizalama ayarları\n",
    "\n",
    "plt.yticks(fontsize=12) # y ekseni font boyutu\n",
    "\n",
    "plt.tight_layout()\n",
    "plt.show()"
   ]
  },
  {
   "cell_type": "markdown",
   "id": "a34f24a1",
   "metadata": {},
   "source": [
    "### Using the Plotly library, create a bubble chart to show the revenue based on the rating scores of the top 250 popular movies"
   ]
  },
  {
   "cell_type": "code",
   "execution_count": 118,
   "id": "b2dac0d3",
   "metadata": {
    "ExecuteTime": {
     "end_time": "2023-09-24T15:30:22.954302Z",
     "start_time": "2023-09-24T15:30:22.669364Z"
    }
   },
   "outputs": [
    {
     "data": {
      "application/vnd.plotly.v1+json": {
       "config": {
        "plotlyServerURL": "https://plot.ly"
       },
       "data": [
        {
         "hovertemplate": "Title=%{x}<br>revenue=%{y}<br>rating=%{marker.color}<extra></extra>",
         "legendgroup": "",
         "marker": {
          "color": [
           9,
           8.8,
           8.6,
           8.6,
           8.6,
           8.5,
           8.5,
           8.5,
           8.5,
           8.5,
           8.5,
           8.4,
           8.4,
           8.4,
           8.3,
           8.3,
           8.3,
           8.3,
           8.3,
           8.3,
           8.2,
           8.2,
           8.2,
           8.2,
           8.2,
           8.2,
           8.2,
           8.2,
           8.2,
           8.1,
           8.1,
           8.1,
           8.1,
           8.1,
           8.1,
           8.1,
           8.1,
           8.1,
           8.1,
           8.1,
           8.1,
           8.1,
           8.1,
           8.1,
           8.1,
           8.1,
           8.1,
           8.1,
           8.1,
           8.1,
           8.1,
           8.1,
           8.1,
           8.1,
           8,
           8,
           8,
           8,
           8,
           8,
           8,
           8,
           8,
           8,
           8,
           8,
           8,
           8,
           8,
           8,
           8,
           8,
           8,
           7.9,
           7.9,
           7.9,
           7.9,
           7.9,
           7.9,
           7.9,
           7.9,
           7.9,
           7.9,
           7.9,
           7.9,
           7.9,
           7.9,
           7.9,
           7.9,
           7.9,
           7.9,
           7.9,
           7.9,
           7.9,
           7.9,
           7.8,
           7.8,
           7.8,
           7.8,
           7.8,
           7.8,
           7.8,
           7.8,
           7.8,
           7.8,
           7.8,
           7.8,
           7.8,
           7.8,
           7.8,
           7.8,
           7.8,
           7.8,
           7.8,
           7.8,
           7.8,
           7.8,
           7.8,
           7.8,
           7.8,
           7.8,
           7.8,
           7.8,
           7.8,
           7.8,
           7.8,
           7.8,
           7.8,
           7.8,
           7.8,
           7.8,
           7.8,
           7.8,
           7.8,
           7.7,
           7.7,
           7.7,
           7.7,
           7.7,
           7.7,
           7.7,
           7.7,
           7.7,
           7.7,
           7.7,
           7.7,
           7.7,
           7.7,
           7.7,
           7.7,
           7.7,
           7.7,
           7.7,
           7.7,
           7.7,
           7.7,
           7.7,
           7.7,
           7.7,
           7.7,
           7.6,
           7.6,
           7.6,
           7.6,
           7.6,
           7.6,
           7.6,
           7.6,
           7.6,
           7.6,
           7.6,
           7.6,
           7.6,
           7.6,
           7.6,
           7.6,
           7.6,
           7.6,
           7.6,
           7.6,
           7.6,
           7.6,
           7.6,
           7.6,
           7.6,
           7.6,
           7.5,
           7.5,
           7.5,
           7.5,
           7.5,
           7.5,
           7.5,
           7.5,
           7.5,
           7.5,
           7.5,
           7.5,
           7.5,
           7.5,
           7.5,
           7.5,
           7.5,
           7.5,
           7.5,
           7.5,
           7.5,
           7.5,
           7.5,
           7.5,
           7.5,
           7.5,
           7.5,
           7.5,
           7.5,
           7.5,
           7.5,
           7.5,
           7.5,
           7.5,
           7.4,
           7.4,
           7.4,
           7.4,
           7.4,
           7.4,
           7.4,
           7.4,
           7.4,
           7.4,
           7.4,
           7.4,
           7.4,
           7.4,
           7.4,
           7.4,
           7.4,
           7.4,
           7.4,
           7.4,
           7.4,
           7.4,
           7.4,
           7.4,
           7.4,
           7.4,
           7.4,
           7.4,
           7.4,
           7.3
          ],
          "coloraxis": "coloraxis",
          "size": [
           9,
           8.8,
           8.6,
           8.6,
           8.6,
           8.5,
           8.5,
           8.5,
           8.5,
           8.5,
           8.5,
           8.4,
           8.4,
           8.4,
           8.3,
           8.3,
           8.3,
           8.3,
           8.3,
           8.3,
           8.2,
           8.2,
           8.2,
           8.2,
           8.2,
           8.2,
           8.2,
           8.2,
           8.2,
           8.1,
           8.1,
           8.1,
           8.1,
           8.1,
           8.1,
           8.1,
           8.1,
           8.1,
           8.1,
           8.1,
           8.1,
           8.1,
           8.1,
           8.1,
           8.1,
           8.1,
           8.1,
           8.1,
           8.1,
           8.1,
           8.1,
           8.1,
           8.1,
           8.1,
           8,
           8,
           8,
           8,
           8,
           8,
           8,
           8,
           8,
           8,
           8,
           8,
           8,
           8,
           8,
           8,
           8,
           8,
           8,
           7.9,
           7.9,
           7.9,
           7.9,
           7.9,
           7.9,
           7.9,
           7.9,
           7.9,
           7.9,
           7.9,
           7.9,
           7.9,
           7.9,
           7.9,
           7.9,
           7.9,
           7.9,
           7.9,
           7.9,
           7.9,
           7.9,
           7.8,
           7.8,
           7.8,
           7.8,
           7.8,
           7.8,
           7.8,
           7.8,
           7.8,
           7.8,
           7.8,
           7.8,
           7.8,
           7.8,
           7.8,
           7.8,
           7.8,
           7.8,
           7.8,
           7.8,
           7.8,
           7.8,
           7.8,
           7.8,
           7.8,
           7.8,
           7.8,
           7.8,
           7.8,
           7.8,
           7.8,
           7.8,
           7.8,
           7.8,
           7.8,
           7.8,
           7.8,
           7.8,
           7.8,
           7.7,
           7.7,
           7.7,
           7.7,
           7.7,
           7.7,
           7.7,
           7.7,
           7.7,
           7.7,
           7.7,
           7.7,
           7.7,
           7.7,
           7.7,
           7.7,
           7.7,
           7.7,
           7.7,
           7.7,
           7.7,
           7.7,
           7.7,
           7.7,
           7.7,
           7.7,
           7.6,
           7.6,
           7.6,
           7.6,
           7.6,
           7.6,
           7.6,
           7.6,
           7.6,
           7.6,
           7.6,
           7.6,
           7.6,
           7.6,
           7.6,
           7.6,
           7.6,
           7.6,
           7.6,
           7.6,
           7.6,
           7.6,
           7.6,
           7.6,
           7.6,
           7.6,
           7.5,
           7.5,
           7.5,
           7.5,
           7.5,
           7.5,
           7.5,
           7.5,
           7.5,
           7.5,
           7.5,
           7.5,
           7.5,
           7.5,
           7.5,
           7.5,
           7.5,
           7.5,
           7.5,
           7.5,
           7.5,
           7.5,
           7.5,
           7.5,
           7.5,
           7.5,
           7.5,
           7.5,
           7.5,
           7.5,
           7.5,
           7.5,
           7.5,
           7.5,
           7.4,
           7.4,
           7.4,
           7.4,
           7.4,
           7.4,
           7.4,
           7.4,
           7.4,
           7.4,
           7.4,
           7.4,
           7.4,
           7.4,
           7.4,
           7.4,
           7.4,
           7.4,
           7.4,
           7.4,
           7.4,
           7.4,
           7.4,
           7.4,
           7.4,
           7.4,
           7.4,
           7.4,
           7.4,
           7.3
          ],
          "sizemode": "diameter",
          "sizeref": 0.5,
          "symbol": "circle"
         },
         "mode": "markers",
         "name": "",
         "orientation": "v",
         "showlegend": false,
         "type": "scatter",
         "x": [
          "The Dark Knight",
          "Inception",
          "Interstellar",
          "The Intouchables",
          "Kimi no na wa",
          "Whiplash",
          "The Departed",
          "The Dark Knight Rises",
          "The Lives of Others",
          "Taare Zameen Par",
          "The Prestige",
          "Koe no katachi",
          "Django Unchained",
          "3 Idiots",
          "Jagten",
          "La La Land",
          "Inglourious Basterds",
          "Toy Story 3",
          "Paint It Black",
          "Up",
          "PK",
          "The Wolf of Wall Street",
          "Hacksaw Ridge",
          "Incendies",
          "Pan's Labyrinth",
          "Inside Out",
          "El secreto de sus ojos",
          "Warrior",
          "Room",
          "The Imitation Game",
          "Star Wars: Episode VII - The Force Awakens",
          "Lion",
          "How to Train Your Dragon",
          "Mad Max: Fury Road",
          "The Bourne Ultimatum",
          "Mommy",
          "Relatos salvajes",
          "Rush",
          "Hachi: A Dog's Tale",
          "There Will Be Blood",
          "The Grand Budapest Hotel",
          "The Help",
          "Spotlight",
          "Shutter Island",
          "No Country for Old Men",
          "Into the Wild",
          "Guardians of the Galaxy",
          "Zootopia",
          "12 Years a Slave",
          "The Avengers",
          "Harry Potter and the Deathly Hallows: Part 2",
          "Ah-ga-ssi",
          "Gone Girl",
          "Prisoners",
          "Star Trek",
          "The Perks of Being a Wallflower",
          "The King's Speech",
          "Deadpool",
          "The Martian",
          "District 9",
          "The Revenant",
          "Arrival",
          "X-Men: Days of Future Past",
          "Blood Diamond",
          "Dallas Buyers Club",
          "Slumdog Millionaire",
          "Her",
          "Black Swan",
          "Forushande",
          "Casino Royale",
          "Sing Street",
          "The Pursuit of Happyness",
          "Ratatouille",
          "Children of Men",
          "The Hobbit: An Unexpected Journey",
          "In Bruges",
          "How to Train Your Dragon 2",
          "Hunt for the Wilderpeople",
          "Moon",
          "Captain Fantastic",
          "Straight Outta Compton",
          "The Fall",
          "Hot Fuzz",
          "Manchester by the Sea",
          "Life of Pi",
          "Edge of Tomorrow",
          "Captain America: Civil War",
          "Mr. Nobody",
          "Nightcrawler",
          "Rogue One",
          "Kubo and the Two Strings",
          "The Hobbit: The Desolation of Smaug",
          "Iron Man",
          "I, Daniel Blake",
          "Boyhood",
          "Dear Zindagi",
          "X: First Class",
          "Skyfall",
          "Star Trek Into Darkness",
          "Hidden Figures",
          "Little Miss Sunshine",
          "About Time",
          "The Hateful Eight",
          "Avatar",
          "Lucky Number Slevin",
          "The Fault in Our Stars",
          "Moonrise Kingdom",
          "Taken",
          "Tangled",
          "Maudie",
          "Drive",
          "The Fighter",
          "Changeling",
          "La migliore offerta",
          "Fantastic Mr. Fox",
          "The Lego Movie",
          "Gravity",
          "The Boy in the Striped Pyjamas",
          "La vie d'Adèle",
          "Me and Earl and the Dying Girl",
          "Birdman or (The Unexpected Virtue of Ignorance)",
          "The Girl with the Dragon Tattoo",
          "Big Hero 6",
          "The Hangover",
          "Captain America: The Winter Soldier",
          "Silver Linings Playbook",
          "Wreck-It Ralph",
          "Ma vie de Courgette",
          "Apocalypto",
          "Captain Phillips",
          "American Gangster",
          "The Big Short",
          "Män som hatar kvinnor",
          "The Curious Case of Benjamin Button",
          "(500) Days of Summer",
          "Hell or High Water",
          "Argo",
          "Eastern Promises",
          "En man som heter Ove",
          "The Theory of Everything",
          "Despicable Me",
          "300",
          "The Social Network",
          "Seven Pounds",
          "Kingsman: The Secret Service",
          "Midnight in Paris",
          "Harry Potter and the Deathly Hallows: Part 1",
          "Stardust",
          "50/50",
          "Mr. Church",
          "The Blind Side",
          "Ex Machina",
          "Kick-Ass",
          "Zodiac",
          "Coraline",
          "End of Watch",
          "Moana",
          "Zombieland",
          "Perfetti sconosciuti",
          "Gone Baby Gone",
          "Superbad",
          "Les Misérables",
          "The Skin I Live In",
          "Sicario",
          "Doctor Strange",
          "Dawn of the Planet of the Apes",
          "Watchmen",
          "The Hurt Locker",
          "Hunger",
          "La tortue rouge",
          "The Illusionist",
          "Sherlock Holmes",
          "Kung Fu Panda",
          "Creed",
          "Moneyball",
          "The Hunger Games: Catching Fire",
          "Toni Erdmann",
          "Fury",
          "The imposible",
          "The Town",
          "127 Hours",
          "True Grit",
          "Inside Man",
          "Rise of the Planet of the Apes",
          "Bridge of Spies",
          "What We Do in the Shadows",
          "The Jungle Book",
          "Moonlight",
          "Busanhaeng",
          "Bacalaureat",
          "Lone Survivor",
          "Hugo",
          "Babel",
          "Harry Potter and the Half-Blood Prince",
          "Raw (II)",
          "Nocturnal Animals",
          "42",
          "Sherlock Holmes: A Game of Shadows",
          "Sully",
          "We Need to Talk About Kevin",
          "Frozen",
          "Paterson",
          "Predestination",
          "Frantz",
          "The Conjuring",
          "Saving Mr. Banks",
          "A Monster Calls",
          "Source Code",
          "Juno",
          "August Rush",
          "Freedom Writers",
          "Wakefield",
          "Harry Potter and the Order of the Phoenix",
          "The Assassination of Jesse James by the Coward Robert Ford",
          "Brooklyn",
          "Scott Pilgrim vs. the World",
          "Fantastic Beasts and Where to Find Them",
          "Goksung",
          "Perfume: The Story of a Murderer",
          "Cloud Atlas",
          "Avengers: Age of Ultron",
          "Jane Eyre",
          "The Accountant",
          "Eddie the Eagle",
          "Law Abiding Citizen",
          "Crazy, Stupid, Love.",
          "Patriots Day",
          "Queen of Katwe",
          "The Conjuring 2",
          "Me Before You",
          "Mission: Impossible - Rogue Nation",
          "Blue Valentine",
          "Finding Dory",
          "The Nice Guys",
          "20th Century Women",
          "Begin Again",
          "The Edge of Seventeen",
          "Despicable Me 2",
          "Sweeney Todd: The Demon Barber of Fleet Street",
          "The Hobbit: The Battle of the Five Armies",
          "Lincoln",
          "The Judge",
          "Zero Dark Thirty",
          "Across the Universe",
          "A Street Cat Named Bob",
          "Southpaw",
          "Limitless",
          "Mission: Impossible - Ghost Protocol",
          "Looper",
          "I Origins"
         ],
         "xaxis": "x",
         "y": [
          533.32,
          292.57,
          187.99,
          13.18,
          4.68,
          13.09,
          132.37,
          448.13,
          11.28,
          1.2,
          53.08,
          82.95637614678898,
          162.8,
          6.52,
          0.61,
          151.06,
          120.52,
          414.98,
          82.95637614678898,
          292.98,
          10.57,
          116.87,
          67.12,
          6.86,
          37.62,
          356.45,
          20.17,
          13.65,
          14.68,
          91.12,
          936.63,
          51.69,
          217.39,
          153.63,
          227.14,
          3.49,
          3.08,
          26.9,
          82.95637614678898,
          40.22,
          59.07,
          169.71,
          44.99,
          127.97,
          74.27,
          18.35,
          333.13,
          341.26,
          56.67,
          623.28,
          380.96,
          2.01,
          167.74,
          60.96,
          257.7,
          17.74,
          138.8,
          363.02,
          228.43,
          115.65,
          183.64,
          100.5,
          233.91,
          57.37,
          27.3,
          141.32,
          25.56,
          106.95,
          3.4,
          167.01,
          3.23,
          162.59,
          206.44,
          35.29,
          303,
          7.76,
          177,
          5.2,
          5.01,
          5.88,
          161.03,
          2.28,
          23.62,
          47.7,
          124.98,
          100.19,
          408.08,
          82.95637614678898,
          32.28,
          532.17,
          48.02,
          258.36,
          318.3,
          82.95637614678898,
          25.36,
          1.4,
          146.41,
          304.36,
          228.76,
          169.27,
          59.89,
          15.29,
          54.12,
          760.51,
          22.49,
          124.87,
          45.51,
          145,
          200.81,
          82.95637614678898,
          35.05,
          93.57,
          35.71,
          0.09,
          21,
          257.76,
          274.08,
          9.03,
          2.2,
          6.74,
          42.34,
          102.52,
          222.49,
          277.31,
          259.75,
          132.09,
          189.41,
          0.29,
          50.86,
          107.1,
          130.13,
          70.24,
          10.1,
          127.49,
          32.39,
          26.86,
          136.02,
          17.11,
          3.36,
          35.89,
          251.5,
          210.59,
          96.92,
          69.95,
          128.25,
          56.82,
          294.98,
          38.35,
          34.96,
          0.69,
          255.95,
          25.44,
          48.04,
          33.05,
          75.28,
          40.98,
          248.75,
          75.59,
          82.95637614678898,
          20.3,
          121.46,
          148.78,
          3.19,
          46.88,
          232.6,
          208.54,
          107.5,
          15.7,
          0.15,
          0.92,
          39.83,
          209.02,
          215.4,
          109.71,
          75.61,
          424.65,
          1.48,
          85.71,
          19,
          92.17,
          18.33,
          171.03,
          88.5,
          176.74,
          72.31,
          3.33,
          364,
          27.85,
          2.13,
          0.13,
          125.07,
          73.82,
          34.3,
          301.96,
          0.51,
          10.64,
          95,
          186.83,
          125.07,
          1.74,
          400.74,
          2.14,
          82.95637614678898,
          0.86,
          137.39,
          83.3,
          3.73,
          54.7,
          143.49,
          31.66,
          36.58,
          0.01,
          292,
          3.9,
          38.32,
          31.49,
          234.02,
          0.79,
          2.21,
          27.1,
          458.99,
          11.23,
          86.2,
          15.79,
          73.34,
          84.24,
          31.86,
          8.81,
          102.46,
          56.23,
          195,
          9.7,
          486.29,
          36.25,
          5.66,
          16.17,
          14.26,
          368.05,
          52.88,
          255.11,
          182.2,
          47.11,
          95.72,
          24.34,
          0.04,
          52.42,
          79.24,
          209.36,
          66.47,
          0.33
         ],
         "yaxis": "y"
        }
       ],
       "layout": {
        "coloraxis": {
         "colorbar": {
          "title": {
           "text": "rating"
          }
         },
         "colorscale": [
          [
           0,
           "#0d0887"
          ],
          [
           0.1111111111111111,
           "#46039f"
          ],
          [
           0.2222222222222222,
           "#7201a8"
          ],
          [
           0.3333333333333333,
           "#9c179e"
          ],
          [
           0.4444444444444444,
           "#bd3786"
          ],
          [
           0.5555555555555556,
           "#d8576b"
          ],
          [
           0.6666666666666666,
           "#ed7953"
          ],
          [
           0.7777777777777778,
           "#fb9f3a"
          ],
          [
           0.8888888888888888,
           "#fdca26"
          ],
          [
           1,
           "#f0f921"
          ]
         ]
        },
        "height": 800,
        "legend": {
         "itemsizing": "constant",
         "tracegroupgap": 0
        },
        "margin": {
         "t": 60
        },
        "template": {
         "data": {
          "bar": [
           {
            "error_x": {
             "color": "#2a3f5f"
            },
            "error_y": {
             "color": "#2a3f5f"
            },
            "marker": {
             "line": {
              "color": "#E5ECF6",
              "width": 0.5
             },
             "pattern": {
              "fillmode": "overlay",
              "size": 10,
              "solidity": 0.2
             }
            },
            "type": "bar"
           }
          ],
          "barpolar": [
           {
            "marker": {
             "line": {
              "color": "#E5ECF6",
              "width": 0.5
             },
             "pattern": {
              "fillmode": "overlay",
              "size": 10,
              "solidity": 0.2
             }
            },
            "type": "barpolar"
           }
          ],
          "carpet": [
           {
            "aaxis": {
             "endlinecolor": "#2a3f5f",
             "gridcolor": "white",
             "linecolor": "white",
             "minorgridcolor": "white",
             "startlinecolor": "#2a3f5f"
            },
            "baxis": {
             "endlinecolor": "#2a3f5f",
             "gridcolor": "white",
             "linecolor": "white",
             "minorgridcolor": "white",
             "startlinecolor": "#2a3f5f"
            },
            "type": "carpet"
           }
          ],
          "choropleth": [
           {
            "colorbar": {
             "outlinewidth": 0,
             "ticks": ""
            },
            "type": "choropleth"
           }
          ],
          "contour": [
           {
            "colorbar": {
             "outlinewidth": 0,
             "ticks": ""
            },
            "colorscale": [
             [
              0,
              "#0d0887"
             ],
             [
              0.1111111111111111,
              "#46039f"
             ],
             [
              0.2222222222222222,
              "#7201a8"
             ],
             [
              0.3333333333333333,
              "#9c179e"
             ],
             [
              0.4444444444444444,
              "#bd3786"
             ],
             [
              0.5555555555555556,
              "#d8576b"
             ],
             [
              0.6666666666666666,
              "#ed7953"
             ],
             [
              0.7777777777777778,
              "#fb9f3a"
             ],
             [
              0.8888888888888888,
              "#fdca26"
             ],
             [
              1,
              "#f0f921"
             ]
            ],
            "type": "contour"
           }
          ],
          "contourcarpet": [
           {
            "colorbar": {
             "outlinewidth": 0,
             "ticks": ""
            },
            "type": "contourcarpet"
           }
          ],
          "heatmap": [
           {
            "colorbar": {
             "outlinewidth": 0,
             "ticks": ""
            },
            "colorscale": [
             [
              0,
              "#0d0887"
             ],
             [
              0.1111111111111111,
              "#46039f"
             ],
             [
              0.2222222222222222,
              "#7201a8"
             ],
             [
              0.3333333333333333,
              "#9c179e"
             ],
             [
              0.4444444444444444,
              "#bd3786"
             ],
             [
              0.5555555555555556,
              "#d8576b"
             ],
             [
              0.6666666666666666,
              "#ed7953"
             ],
             [
              0.7777777777777778,
              "#fb9f3a"
             ],
             [
              0.8888888888888888,
              "#fdca26"
             ],
             [
              1,
              "#f0f921"
             ]
            ],
            "type": "heatmap"
           }
          ],
          "heatmapgl": [
           {
            "colorbar": {
             "outlinewidth": 0,
             "ticks": ""
            },
            "colorscale": [
             [
              0,
              "#0d0887"
             ],
             [
              0.1111111111111111,
              "#46039f"
             ],
             [
              0.2222222222222222,
              "#7201a8"
             ],
             [
              0.3333333333333333,
              "#9c179e"
             ],
             [
              0.4444444444444444,
              "#bd3786"
             ],
             [
              0.5555555555555556,
              "#d8576b"
             ],
             [
              0.6666666666666666,
              "#ed7953"
             ],
             [
              0.7777777777777778,
              "#fb9f3a"
             ],
             [
              0.8888888888888888,
              "#fdca26"
             ],
             [
              1,
              "#f0f921"
             ]
            ],
            "type": "heatmapgl"
           }
          ],
          "histogram": [
           {
            "marker": {
             "pattern": {
              "fillmode": "overlay",
              "size": 10,
              "solidity": 0.2
             }
            },
            "type": "histogram"
           }
          ],
          "histogram2d": [
           {
            "colorbar": {
             "outlinewidth": 0,
             "ticks": ""
            },
            "colorscale": [
             [
              0,
              "#0d0887"
             ],
             [
              0.1111111111111111,
              "#46039f"
             ],
             [
              0.2222222222222222,
              "#7201a8"
             ],
             [
              0.3333333333333333,
              "#9c179e"
             ],
             [
              0.4444444444444444,
              "#bd3786"
             ],
             [
              0.5555555555555556,
              "#d8576b"
             ],
             [
              0.6666666666666666,
              "#ed7953"
             ],
             [
              0.7777777777777778,
              "#fb9f3a"
             ],
             [
              0.8888888888888888,
              "#fdca26"
             ],
             [
              1,
              "#f0f921"
             ]
            ],
            "type": "histogram2d"
           }
          ],
          "histogram2dcontour": [
           {
            "colorbar": {
             "outlinewidth": 0,
             "ticks": ""
            },
            "colorscale": [
             [
              0,
              "#0d0887"
             ],
             [
              0.1111111111111111,
              "#46039f"
             ],
             [
              0.2222222222222222,
              "#7201a8"
             ],
             [
              0.3333333333333333,
              "#9c179e"
             ],
             [
              0.4444444444444444,
              "#bd3786"
             ],
             [
              0.5555555555555556,
              "#d8576b"
             ],
             [
              0.6666666666666666,
              "#ed7953"
             ],
             [
              0.7777777777777778,
              "#fb9f3a"
             ],
             [
              0.8888888888888888,
              "#fdca26"
             ],
             [
              1,
              "#f0f921"
             ]
            ],
            "type": "histogram2dcontour"
           }
          ],
          "mesh3d": [
           {
            "colorbar": {
             "outlinewidth": 0,
             "ticks": ""
            },
            "type": "mesh3d"
           }
          ],
          "parcoords": [
           {
            "line": {
             "colorbar": {
              "outlinewidth": 0,
              "ticks": ""
             }
            },
            "type": "parcoords"
           }
          ],
          "pie": [
           {
            "automargin": true,
            "type": "pie"
           }
          ],
          "scatter": [
           {
            "fillpattern": {
             "fillmode": "overlay",
             "size": 10,
             "solidity": 0.2
            },
            "type": "scatter"
           }
          ],
          "scatter3d": [
           {
            "line": {
             "colorbar": {
              "outlinewidth": 0,
              "ticks": ""
             }
            },
            "marker": {
             "colorbar": {
              "outlinewidth": 0,
              "ticks": ""
             }
            },
            "type": "scatter3d"
           }
          ],
          "scattercarpet": [
           {
            "marker": {
             "colorbar": {
              "outlinewidth": 0,
              "ticks": ""
             }
            },
            "type": "scattercarpet"
           }
          ],
          "scattergeo": [
           {
            "marker": {
             "colorbar": {
              "outlinewidth": 0,
              "ticks": ""
             }
            },
            "type": "scattergeo"
           }
          ],
          "scattergl": [
           {
            "marker": {
             "colorbar": {
              "outlinewidth": 0,
              "ticks": ""
             }
            },
            "type": "scattergl"
           }
          ],
          "scattermapbox": [
           {
            "marker": {
             "colorbar": {
              "outlinewidth": 0,
              "ticks": ""
             }
            },
            "type": "scattermapbox"
           }
          ],
          "scatterpolar": [
           {
            "marker": {
             "colorbar": {
              "outlinewidth": 0,
              "ticks": ""
             }
            },
            "type": "scatterpolar"
           }
          ],
          "scatterpolargl": [
           {
            "marker": {
             "colorbar": {
              "outlinewidth": 0,
              "ticks": ""
             }
            },
            "type": "scatterpolargl"
           }
          ],
          "scatterternary": [
           {
            "marker": {
             "colorbar": {
              "outlinewidth": 0,
              "ticks": ""
             }
            },
            "type": "scatterternary"
           }
          ],
          "surface": [
           {
            "colorbar": {
             "outlinewidth": 0,
             "ticks": ""
            },
            "colorscale": [
             [
              0,
              "#0d0887"
             ],
             [
              0.1111111111111111,
              "#46039f"
             ],
             [
              0.2222222222222222,
              "#7201a8"
             ],
             [
              0.3333333333333333,
              "#9c179e"
             ],
             [
              0.4444444444444444,
              "#bd3786"
             ],
             [
              0.5555555555555556,
              "#d8576b"
             ],
             [
              0.6666666666666666,
              "#ed7953"
             ],
             [
              0.7777777777777778,
              "#fb9f3a"
             ],
             [
              0.8888888888888888,
              "#fdca26"
             ],
             [
              1,
              "#f0f921"
             ]
            ],
            "type": "surface"
           }
          ],
          "table": [
           {
            "cells": {
             "fill": {
              "color": "#EBF0F8"
             },
             "line": {
              "color": "white"
             }
            },
            "header": {
             "fill": {
              "color": "#C8D4E3"
             },
             "line": {
              "color": "white"
             }
            },
            "type": "table"
           }
          ]
         },
         "layout": {
          "annotationdefaults": {
           "arrowcolor": "#2a3f5f",
           "arrowhead": 0,
           "arrowwidth": 1
          },
          "autotypenumbers": "strict",
          "coloraxis": {
           "colorbar": {
            "outlinewidth": 0,
            "ticks": ""
           }
          },
          "colorscale": {
           "diverging": [
            [
             0,
             "#8e0152"
            ],
            [
             0.1,
             "#c51b7d"
            ],
            [
             0.2,
             "#de77ae"
            ],
            [
             0.3,
             "#f1b6da"
            ],
            [
             0.4,
             "#fde0ef"
            ],
            [
             0.5,
             "#f7f7f7"
            ],
            [
             0.6,
             "#e6f5d0"
            ],
            [
             0.7,
             "#b8e186"
            ],
            [
             0.8,
             "#7fbc41"
            ],
            [
             0.9,
             "#4d9221"
            ],
            [
             1,
             "#276419"
            ]
           ],
           "sequential": [
            [
             0,
             "#0d0887"
            ],
            [
             0.1111111111111111,
             "#46039f"
            ],
            [
             0.2222222222222222,
             "#7201a8"
            ],
            [
             0.3333333333333333,
             "#9c179e"
            ],
            [
             0.4444444444444444,
             "#bd3786"
            ],
            [
             0.5555555555555556,
             "#d8576b"
            ],
            [
             0.6666666666666666,
             "#ed7953"
            ],
            [
             0.7777777777777778,
             "#fb9f3a"
            ],
            [
             0.8888888888888888,
             "#fdca26"
            ],
            [
             1,
             "#f0f921"
            ]
           ],
           "sequentialminus": [
            [
             0,
             "#0d0887"
            ],
            [
             0.1111111111111111,
             "#46039f"
            ],
            [
             0.2222222222222222,
             "#7201a8"
            ],
            [
             0.3333333333333333,
             "#9c179e"
            ],
            [
             0.4444444444444444,
             "#bd3786"
            ],
            [
             0.5555555555555556,
             "#d8576b"
            ],
            [
             0.6666666666666666,
             "#ed7953"
            ],
            [
             0.7777777777777778,
             "#fb9f3a"
            ],
            [
             0.8888888888888888,
             "#fdca26"
            ],
            [
             1,
             "#f0f921"
            ]
           ]
          },
          "colorway": [
           "#636efa",
           "#EF553B",
           "#00cc96",
           "#ab63fa",
           "#FFA15A",
           "#19d3f3",
           "#FF6692",
           "#B6E880",
           "#FF97FF",
           "#FECB52"
          ],
          "font": {
           "color": "#2a3f5f"
          },
          "geo": {
           "bgcolor": "white",
           "lakecolor": "white",
           "landcolor": "#E5ECF6",
           "showlakes": true,
           "showland": true,
           "subunitcolor": "white"
          },
          "hoverlabel": {
           "align": "left"
          },
          "hovermode": "closest",
          "mapbox": {
           "style": "light"
          },
          "paper_bgcolor": "white",
          "plot_bgcolor": "#E5ECF6",
          "polar": {
           "angularaxis": {
            "gridcolor": "white",
            "linecolor": "white",
            "ticks": ""
           },
           "bgcolor": "#E5ECF6",
           "radialaxis": {
            "gridcolor": "white",
            "linecolor": "white",
            "ticks": ""
           }
          },
          "scene": {
           "xaxis": {
            "backgroundcolor": "#E5ECF6",
            "gridcolor": "white",
            "gridwidth": 2,
            "linecolor": "white",
            "showbackground": true,
            "ticks": "",
            "zerolinecolor": "white"
           },
           "yaxis": {
            "backgroundcolor": "#E5ECF6",
            "gridcolor": "white",
            "gridwidth": 2,
            "linecolor": "white",
            "showbackground": true,
            "ticks": "",
            "zerolinecolor": "white"
           },
           "zaxis": {
            "backgroundcolor": "#E5ECF6",
            "gridcolor": "white",
            "gridwidth": 2,
            "linecolor": "white",
            "showbackground": true,
            "ticks": "",
            "zerolinecolor": "white"
           }
          },
          "shapedefaults": {
           "line": {
            "color": "#2a3f5f"
           }
          },
          "ternary": {
           "aaxis": {
            "gridcolor": "white",
            "linecolor": "white",
            "ticks": ""
           },
           "baxis": {
            "gridcolor": "white",
            "linecolor": "white",
            "ticks": ""
           },
           "bgcolor": "#E5ECF6",
           "caxis": {
            "gridcolor": "white",
            "linecolor": "white",
            "ticks": ""
           }
          },
          "title": {
           "x": 0.05
          },
          "xaxis": {
           "automargin": true,
           "gridcolor": "white",
           "linecolor": "white",
           "ticks": "",
           "title": {
            "standoff": 15
           },
           "zerolinecolor": "white",
           "zerolinewidth": 2
          },
          "yaxis": {
           "automargin": true,
           "gridcolor": "white",
           "linecolor": "white",
           "ticks": "",
           "title": {
            "standoff": 15
           },
           "zerolinecolor": "white",
           "zerolinewidth": 2
          }
         }
        },
        "title": {
         "text": "Revenue of 250 Popular Movies by Rating Scores",
         "x": 0.5
        },
        "width": 1000,
        "xaxis": {
         "anchor": "y",
         "domain": [
          0,
          1
         ],
         "tickangle": -45,
         "title": {
          "text": "Title"
         }
        },
        "yaxis": {
         "anchor": "x",
         "domain": [
          0,
          1
         ],
         "dtick": 50,
         "range": [
          -10,
          500
         ],
         "title": {
          "text": "Gelir (Milyon)"
         }
        }
       }
      },
      "text/html": [
       "<div>                            <div id=\"33eeceb0-bb1c-4a78-8f74-14d2e6237b7d\" class=\"plotly-graph-div\" style=\"height:800px; width:1000px;\"></div>            <script type=\"text/javascript\">                require([\"plotly\"], function(Plotly) {                    window.PLOTLYENV=window.PLOTLYENV || {};                                    if (document.getElementById(\"33eeceb0-bb1c-4a78-8f74-14d2e6237b7d\")) {                    Plotly.newPlot(                        \"33eeceb0-bb1c-4a78-8f74-14d2e6237b7d\",                        [{\"hovertemplate\":\"Title=%{x}\\u003cbr\\u003erevenue=%{y}\\u003cbr\\u003erating=%{marker.color}\\u003cextra\\u003e\\u003c\\u002fextra\\u003e\",\"legendgroup\":\"\",\"marker\":{\"color\":[9.0,8.8,8.6,8.6,8.6,8.5,8.5,8.5,8.5,8.5,8.5,8.4,8.4,8.4,8.3,8.3,8.3,8.3,8.3,8.3,8.2,8.2,8.2,8.2,8.2,8.2,8.2,8.2,8.2,8.1,8.1,8.1,8.1,8.1,8.1,8.1,8.1,8.1,8.1,8.1,8.1,8.1,8.1,8.1,8.1,8.1,8.1,8.1,8.1,8.1,8.1,8.1,8.1,8.1,8.0,8.0,8.0,8.0,8.0,8.0,8.0,8.0,8.0,8.0,8.0,8.0,8.0,8.0,8.0,8.0,8.0,8.0,8.0,7.9,7.9,7.9,7.9,7.9,7.9,7.9,7.9,7.9,7.9,7.9,7.9,7.9,7.9,7.9,7.9,7.9,7.9,7.9,7.9,7.9,7.9,7.8,7.8,7.8,7.8,7.8,7.8,7.8,7.8,7.8,7.8,7.8,7.8,7.8,7.8,7.8,7.8,7.8,7.8,7.8,7.8,7.8,7.8,7.8,7.8,7.8,7.8,7.8,7.8,7.8,7.8,7.8,7.8,7.8,7.8,7.8,7.8,7.8,7.8,7.8,7.7,7.7,7.7,7.7,7.7,7.7,7.7,7.7,7.7,7.7,7.7,7.7,7.7,7.7,7.7,7.7,7.7,7.7,7.7,7.7,7.7,7.7,7.7,7.7,7.7,7.7,7.6,7.6,7.6,7.6,7.6,7.6,7.6,7.6,7.6,7.6,7.6,7.6,7.6,7.6,7.6,7.6,7.6,7.6,7.6,7.6,7.6,7.6,7.6,7.6,7.6,7.6,7.5,7.5,7.5,7.5,7.5,7.5,7.5,7.5,7.5,7.5,7.5,7.5,7.5,7.5,7.5,7.5,7.5,7.5,7.5,7.5,7.5,7.5,7.5,7.5,7.5,7.5,7.5,7.5,7.5,7.5,7.5,7.5,7.5,7.5,7.4,7.4,7.4,7.4,7.4,7.4,7.4,7.4,7.4,7.4,7.4,7.4,7.4,7.4,7.4,7.4,7.4,7.4,7.4,7.4,7.4,7.4,7.4,7.4,7.4,7.4,7.4,7.4,7.4,7.3],\"coloraxis\":\"coloraxis\",\"size\":[9.0,8.8,8.6,8.6,8.6,8.5,8.5,8.5,8.5,8.5,8.5,8.4,8.4,8.4,8.3,8.3,8.3,8.3,8.3,8.3,8.2,8.2,8.2,8.2,8.2,8.2,8.2,8.2,8.2,8.1,8.1,8.1,8.1,8.1,8.1,8.1,8.1,8.1,8.1,8.1,8.1,8.1,8.1,8.1,8.1,8.1,8.1,8.1,8.1,8.1,8.1,8.1,8.1,8.1,8.0,8.0,8.0,8.0,8.0,8.0,8.0,8.0,8.0,8.0,8.0,8.0,8.0,8.0,8.0,8.0,8.0,8.0,8.0,7.9,7.9,7.9,7.9,7.9,7.9,7.9,7.9,7.9,7.9,7.9,7.9,7.9,7.9,7.9,7.9,7.9,7.9,7.9,7.9,7.9,7.9,7.8,7.8,7.8,7.8,7.8,7.8,7.8,7.8,7.8,7.8,7.8,7.8,7.8,7.8,7.8,7.8,7.8,7.8,7.8,7.8,7.8,7.8,7.8,7.8,7.8,7.8,7.8,7.8,7.8,7.8,7.8,7.8,7.8,7.8,7.8,7.8,7.8,7.8,7.8,7.7,7.7,7.7,7.7,7.7,7.7,7.7,7.7,7.7,7.7,7.7,7.7,7.7,7.7,7.7,7.7,7.7,7.7,7.7,7.7,7.7,7.7,7.7,7.7,7.7,7.7,7.6,7.6,7.6,7.6,7.6,7.6,7.6,7.6,7.6,7.6,7.6,7.6,7.6,7.6,7.6,7.6,7.6,7.6,7.6,7.6,7.6,7.6,7.6,7.6,7.6,7.6,7.5,7.5,7.5,7.5,7.5,7.5,7.5,7.5,7.5,7.5,7.5,7.5,7.5,7.5,7.5,7.5,7.5,7.5,7.5,7.5,7.5,7.5,7.5,7.5,7.5,7.5,7.5,7.5,7.5,7.5,7.5,7.5,7.5,7.5,7.4,7.4,7.4,7.4,7.4,7.4,7.4,7.4,7.4,7.4,7.4,7.4,7.4,7.4,7.4,7.4,7.4,7.4,7.4,7.4,7.4,7.4,7.4,7.4,7.4,7.4,7.4,7.4,7.4,7.3],\"sizemode\":\"diameter\",\"sizeref\":0.5,\"symbol\":\"circle\"},\"mode\":\"markers\",\"name\":\"\",\"orientation\":\"v\",\"showlegend\":false,\"x\":[\"The Dark Knight\",\"Inception\",\"Interstellar\",\"The Intouchables\",\"Kimi no na wa\",\"Whiplash\",\"The Departed\",\"The Dark Knight Rises\",\"The Lives of Others\",\"Taare Zameen Par\",\"The Prestige\",\"Koe no katachi\",\"Django Unchained\",\"3 Idiots\",\"Jagten\",\"La La Land\",\"Inglourious Basterds\",\"Toy Story 3\",\"Paint It Black\",\"Up\",\"PK\",\"The Wolf of Wall Street\",\"Hacksaw Ridge\",\"Incendies\",\"Pan's Labyrinth\",\"Inside Out\",\"El secreto de sus ojos\",\"Warrior\",\"Room\",\"The Imitation Game\",\"Star Wars: Episode VII - The Force Awakens\",\"Lion\",\"How to Train Your Dragon\",\"Mad Max: Fury Road\",\"The Bourne Ultimatum\",\"Mommy\",\"Relatos salvajes\",\"Rush\",\"Hachi: A Dog's Tale\",\"There Will Be Blood\",\"The Grand Budapest Hotel\",\"The Help\",\"Spotlight\",\"Shutter Island\",\"No Country for Old Men\",\"Into the Wild\",\"Guardians of the Galaxy\",\"Zootopia\",\"12 Years a Slave\",\"The Avengers\",\"Harry Potter and the Deathly Hallows: Part 2\",\"Ah-ga-ssi\",\"Gone Girl\",\"Prisoners\",\"Star Trek\",\"The Perks of Being a Wallflower\",\"The King's Speech\",\"Deadpool\",\"The Martian\",\"District 9\",\"The Revenant\",\"Arrival\",\"X-Men: Days of Future Past\",\"Blood Diamond\",\"Dallas Buyers Club\",\"Slumdog Millionaire\",\"Her\",\"Black Swan\",\"Forushande\",\"Casino Royale\",\"Sing Street\",\"The Pursuit of Happyness\",\"Ratatouille\",\"Children of Men\",\"The Hobbit: An Unexpected Journey\",\"In Bruges\",\"How to Train Your Dragon 2\",\"Hunt for the Wilderpeople\",\"Moon\",\"Captain Fantastic\",\"Straight Outta Compton\",\"The Fall\",\"Hot Fuzz\",\"Manchester by the Sea\",\"Life of Pi\",\"Edge of Tomorrow\",\"Captain America: Civil War\",\"Mr. Nobody\",\"Nightcrawler\",\"Rogue One\",\"Kubo and the Two Strings\",\"The Hobbit: The Desolation of Smaug\",\"Iron Man\",\"I, Daniel Blake\",\"Boyhood\",\"Dear Zindagi\",\"X: First Class\",\"Skyfall\",\"Star Trek Into Darkness\",\"Hidden Figures\",\"Little Miss Sunshine\",\"About Time\",\"The Hateful Eight\",\"Avatar\",\"Lucky Number Slevin\",\"The Fault in Our Stars\",\"Moonrise Kingdom\",\"Taken\",\"Tangled\",\"Maudie\",\"Drive\",\"The Fighter\",\"Changeling\",\"La migliore offerta\",\"Fantastic Mr. Fox\",\"The Lego Movie\",\"Gravity\",\"The Boy in the Striped Pyjamas\",\"La vie d'Ad\\u00e8le\",\"Me and Earl and the Dying Girl\",\"Birdman or (The Unexpected Virtue of Ignorance)\",\"The Girl with the Dragon Tattoo\",\"Big Hero 6\",\"The Hangover\",\"Captain America: The Winter Soldier\",\"Silver Linings Playbook\",\"Wreck-It Ralph\",\"Ma vie de Courgette\",\"Apocalypto\",\"Captain Phillips\",\"American Gangster\",\"The Big Short\",\"M\\u00e4n som hatar kvinnor\",\"The Curious Case of Benjamin Button\",\"(500) Days of Summer\",\"Hell or High Water\",\"Argo\",\"Eastern Promises\",\"En man som heter Ove\",\"The Theory of Everything\",\"Despicable Me\",\"300\",\"The Social Network\",\"Seven Pounds\",\"Kingsman: The Secret Service\",\"Midnight in Paris\",\"Harry Potter and the Deathly Hallows: Part 1\",\"Stardust\",\"50\\u002f50\",\"Mr. Church\",\"The Blind Side\",\"Ex Machina\",\"Kick-Ass\",\"Zodiac\",\"Coraline\",\"End of Watch\",\"Moana\",\"Zombieland\",\"Perfetti sconosciuti\",\"Gone Baby Gone\",\"Superbad\",\"Les Mis\\u00e9rables\",\"The Skin I Live In\",\"Sicario\",\"Doctor Strange\",\"Dawn of the Planet of the Apes\",\"Watchmen\",\"The Hurt Locker\",\"Hunger\",\"La tortue rouge\",\"The Illusionist\",\"Sherlock Holmes\",\"Kung Fu Panda\",\"Creed\",\"Moneyball\",\"The Hunger Games: Catching Fire\",\"Toni Erdmann\",\"Fury\",\"The imposible\",\"The Town\",\"127 Hours\",\"True Grit\",\"Inside Man\",\"Rise of the Planet of the Apes\",\"Bridge of Spies\",\"What We Do in the Shadows\",\"The Jungle Book\",\"Moonlight\",\"Busanhaeng\",\"Bacalaureat\",\"Lone Survivor\",\"Hugo\",\"Babel\",\"Harry Potter and the Half-Blood Prince\",\"Raw (II)\",\"Nocturnal Animals\",\"42\",\"Sherlock Holmes: A Game of Shadows\",\"Sully\",\"We Need to Talk About Kevin\",\"Frozen\",\"Paterson\",\"Predestination\",\"Frantz\",\"The Conjuring\",\"Saving Mr. Banks\",\"A Monster Calls\",\"Source Code\",\"Juno\",\"August Rush\",\"Freedom Writers\",\"Wakefield\",\"Harry Potter and the Order of the Phoenix\",\"The Assassination of Jesse James by the Coward Robert Ford\",\"Brooklyn\",\"Scott Pilgrim vs. the World\",\"Fantastic Beasts and Where to Find Them\",\"Goksung\",\"Perfume: The Story of a Murderer\",\"Cloud Atlas\",\"Avengers: Age of Ultron\",\"Jane Eyre\",\"The Accountant\",\"Eddie the Eagle\",\"Law Abiding Citizen\",\"Crazy, Stupid, Love.\",\"Patriots Day\",\"Queen of Katwe\",\"The Conjuring 2\",\"Me Before You\",\"Mission: Impossible - Rogue Nation\",\"Blue Valentine\",\"Finding Dory\",\"The Nice Guys\",\"20th Century Women\",\"Begin Again\",\"The Edge of Seventeen\",\"Despicable Me 2\",\"Sweeney Todd: The Demon Barber of Fleet Street\",\"The Hobbit: The Battle of the Five Armies\",\"Lincoln\",\"The Judge\",\"Zero Dark Thirty\",\"Across the Universe\",\"A Street Cat Named Bob\",\"Southpaw\",\"Limitless\",\"Mission: Impossible - Ghost Protocol\",\"Looper\",\"I Origins\"],\"xaxis\":\"x\",\"y\":[533.32,292.57,187.99,13.18,4.68,13.09,132.37,448.13,11.28,1.2,53.08,82.95637614678898,162.8,6.52,0.61,151.06,120.52,414.98,82.95637614678898,292.98,10.57,116.87,67.12,6.86,37.62,356.45,20.17,13.65,14.68,91.12,936.63,51.69,217.39,153.63,227.14,3.49,3.08,26.9,82.95637614678898,40.22,59.07,169.71,44.99,127.97,74.27,18.35,333.13,341.26,56.67,623.28,380.96,2.01,167.74,60.96,257.7,17.74,138.8,363.02,228.43,115.65,183.64,100.5,233.91,57.37,27.3,141.32,25.56,106.95,3.4,167.01,3.23,162.59,206.44,35.29,303.0,7.76,177.0,5.2,5.01,5.88,161.03,2.28,23.62,47.7,124.98,100.19,408.08,82.95637614678898,32.28,532.17,48.02,258.36,318.3,82.95637614678898,25.36,1.4,146.41,304.36,228.76,169.27,59.89,15.29,54.12,760.51,22.49,124.87,45.51,145.0,200.81,82.95637614678898,35.05,93.57,35.71,0.09,21.0,257.76,274.08,9.03,2.2,6.74,42.34,102.52,222.49,277.31,259.75,132.09,189.41,0.29,50.86,107.1,130.13,70.24,10.1,127.49,32.39,26.86,136.02,17.11,3.36,35.89,251.5,210.59,96.92,69.95,128.25,56.82,294.98,38.35,34.96,0.69,255.95,25.44,48.04,33.05,75.28,40.98,248.75,75.59,82.95637614678898,20.3,121.46,148.78,3.19,46.88,232.6,208.54,107.5,15.7,0.15,0.92,39.83,209.02,215.4,109.71,75.61,424.65,1.48,85.71,19.0,92.17,18.33,171.03,88.5,176.74,72.31,3.33,364.0,27.85,2.13,0.13,125.07,73.82,34.3,301.96,0.51,10.64,95.0,186.83,125.07,1.74,400.74,2.14,82.95637614678898,0.86,137.39,83.3,3.73,54.7,143.49,31.66,36.58,0.01,292.0,3.9,38.32,31.49,234.02,0.79,2.21,27.1,458.99,11.23,86.2,15.79,73.34,84.24,31.86,8.81,102.46,56.23,195.0,9.7,486.29,36.25,5.66,16.17,14.26,368.05,52.88,255.11,182.2,47.11,95.72,24.34,0.04,52.42,79.24,209.36,66.47,0.33],\"yaxis\":\"y\",\"type\":\"scatter\"}],                        {\"template\":{\"data\":{\"histogram2dcontour\":[{\"type\":\"histogram2dcontour\",\"colorbar\":{\"outlinewidth\":0,\"ticks\":\"\"},\"colorscale\":[[0.0,\"#0d0887\"],[0.1111111111111111,\"#46039f\"],[0.2222222222222222,\"#7201a8\"],[0.3333333333333333,\"#9c179e\"],[0.4444444444444444,\"#bd3786\"],[0.5555555555555556,\"#d8576b\"],[0.6666666666666666,\"#ed7953\"],[0.7777777777777778,\"#fb9f3a\"],[0.8888888888888888,\"#fdca26\"],[1.0,\"#f0f921\"]]}],\"choropleth\":[{\"type\":\"choropleth\",\"colorbar\":{\"outlinewidth\":0,\"ticks\":\"\"}}],\"histogram2d\":[{\"type\":\"histogram2d\",\"colorbar\":{\"outlinewidth\":0,\"ticks\":\"\"},\"colorscale\":[[0.0,\"#0d0887\"],[0.1111111111111111,\"#46039f\"],[0.2222222222222222,\"#7201a8\"],[0.3333333333333333,\"#9c179e\"],[0.4444444444444444,\"#bd3786\"],[0.5555555555555556,\"#d8576b\"],[0.6666666666666666,\"#ed7953\"],[0.7777777777777778,\"#fb9f3a\"],[0.8888888888888888,\"#fdca26\"],[1.0,\"#f0f921\"]]}],\"heatmap\":[{\"type\":\"heatmap\",\"colorbar\":{\"outlinewidth\":0,\"ticks\":\"\"},\"colorscale\":[[0.0,\"#0d0887\"],[0.1111111111111111,\"#46039f\"],[0.2222222222222222,\"#7201a8\"],[0.3333333333333333,\"#9c179e\"],[0.4444444444444444,\"#bd3786\"],[0.5555555555555556,\"#d8576b\"],[0.6666666666666666,\"#ed7953\"],[0.7777777777777778,\"#fb9f3a\"],[0.8888888888888888,\"#fdca26\"],[1.0,\"#f0f921\"]]}],\"heatmapgl\":[{\"type\":\"heatmapgl\",\"colorbar\":{\"outlinewidth\":0,\"ticks\":\"\"},\"colorscale\":[[0.0,\"#0d0887\"],[0.1111111111111111,\"#46039f\"],[0.2222222222222222,\"#7201a8\"],[0.3333333333333333,\"#9c179e\"],[0.4444444444444444,\"#bd3786\"],[0.5555555555555556,\"#d8576b\"],[0.6666666666666666,\"#ed7953\"],[0.7777777777777778,\"#fb9f3a\"],[0.8888888888888888,\"#fdca26\"],[1.0,\"#f0f921\"]]}],\"contourcarpet\":[{\"type\":\"contourcarpet\",\"colorbar\":{\"outlinewidth\":0,\"ticks\":\"\"}}],\"contour\":[{\"type\":\"contour\",\"colorbar\":{\"outlinewidth\":0,\"ticks\":\"\"},\"colorscale\":[[0.0,\"#0d0887\"],[0.1111111111111111,\"#46039f\"],[0.2222222222222222,\"#7201a8\"],[0.3333333333333333,\"#9c179e\"],[0.4444444444444444,\"#bd3786\"],[0.5555555555555556,\"#d8576b\"],[0.6666666666666666,\"#ed7953\"],[0.7777777777777778,\"#fb9f3a\"],[0.8888888888888888,\"#fdca26\"],[1.0,\"#f0f921\"]]}],\"surface\":[{\"type\":\"surface\",\"colorbar\":{\"outlinewidth\":0,\"ticks\":\"\"},\"colorscale\":[[0.0,\"#0d0887\"],[0.1111111111111111,\"#46039f\"],[0.2222222222222222,\"#7201a8\"],[0.3333333333333333,\"#9c179e\"],[0.4444444444444444,\"#bd3786\"],[0.5555555555555556,\"#d8576b\"],[0.6666666666666666,\"#ed7953\"],[0.7777777777777778,\"#fb9f3a\"],[0.8888888888888888,\"#fdca26\"],[1.0,\"#f0f921\"]]}],\"mesh3d\":[{\"type\":\"mesh3d\",\"colorbar\":{\"outlinewidth\":0,\"ticks\":\"\"}}],\"scatter\":[{\"fillpattern\":{\"fillmode\":\"overlay\",\"size\":10,\"solidity\":0.2},\"type\":\"scatter\"}],\"parcoords\":[{\"type\":\"parcoords\",\"line\":{\"colorbar\":{\"outlinewidth\":0,\"ticks\":\"\"}}}],\"scatterpolargl\":[{\"type\":\"scatterpolargl\",\"marker\":{\"colorbar\":{\"outlinewidth\":0,\"ticks\":\"\"}}}],\"bar\":[{\"error_x\":{\"color\":\"#2a3f5f\"},\"error_y\":{\"color\":\"#2a3f5f\"},\"marker\":{\"line\":{\"color\":\"#E5ECF6\",\"width\":0.5},\"pattern\":{\"fillmode\":\"overlay\",\"size\":10,\"solidity\":0.2}},\"type\":\"bar\"}],\"scattergeo\":[{\"type\":\"scattergeo\",\"marker\":{\"colorbar\":{\"outlinewidth\":0,\"ticks\":\"\"}}}],\"scatterpolar\":[{\"type\":\"scatterpolar\",\"marker\":{\"colorbar\":{\"outlinewidth\":0,\"ticks\":\"\"}}}],\"histogram\":[{\"marker\":{\"pattern\":{\"fillmode\":\"overlay\",\"size\":10,\"solidity\":0.2}},\"type\":\"histogram\"}],\"scattergl\":[{\"type\":\"scattergl\",\"marker\":{\"colorbar\":{\"outlinewidth\":0,\"ticks\":\"\"}}}],\"scatter3d\":[{\"type\":\"scatter3d\",\"line\":{\"colorbar\":{\"outlinewidth\":0,\"ticks\":\"\"}},\"marker\":{\"colorbar\":{\"outlinewidth\":0,\"ticks\":\"\"}}}],\"scattermapbox\":[{\"type\":\"scattermapbox\",\"marker\":{\"colorbar\":{\"outlinewidth\":0,\"ticks\":\"\"}}}],\"scatterternary\":[{\"type\":\"scatterternary\",\"marker\":{\"colorbar\":{\"outlinewidth\":0,\"ticks\":\"\"}}}],\"scattercarpet\":[{\"type\":\"scattercarpet\",\"marker\":{\"colorbar\":{\"outlinewidth\":0,\"ticks\":\"\"}}}],\"carpet\":[{\"aaxis\":{\"endlinecolor\":\"#2a3f5f\",\"gridcolor\":\"white\",\"linecolor\":\"white\",\"minorgridcolor\":\"white\",\"startlinecolor\":\"#2a3f5f\"},\"baxis\":{\"endlinecolor\":\"#2a3f5f\",\"gridcolor\":\"white\",\"linecolor\":\"white\",\"minorgridcolor\":\"white\",\"startlinecolor\":\"#2a3f5f\"},\"type\":\"carpet\"}],\"table\":[{\"cells\":{\"fill\":{\"color\":\"#EBF0F8\"},\"line\":{\"color\":\"white\"}},\"header\":{\"fill\":{\"color\":\"#C8D4E3\"},\"line\":{\"color\":\"white\"}},\"type\":\"table\"}],\"barpolar\":[{\"marker\":{\"line\":{\"color\":\"#E5ECF6\",\"width\":0.5},\"pattern\":{\"fillmode\":\"overlay\",\"size\":10,\"solidity\":0.2}},\"type\":\"barpolar\"}],\"pie\":[{\"automargin\":true,\"type\":\"pie\"}]},\"layout\":{\"autotypenumbers\":\"strict\",\"colorway\":[\"#636efa\",\"#EF553B\",\"#00cc96\",\"#ab63fa\",\"#FFA15A\",\"#19d3f3\",\"#FF6692\",\"#B6E880\",\"#FF97FF\",\"#FECB52\"],\"font\":{\"color\":\"#2a3f5f\"},\"hovermode\":\"closest\",\"hoverlabel\":{\"align\":\"left\"},\"paper_bgcolor\":\"white\",\"plot_bgcolor\":\"#E5ECF6\",\"polar\":{\"bgcolor\":\"#E5ECF6\",\"angularaxis\":{\"gridcolor\":\"white\",\"linecolor\":\"white\",\"ticks\":\"\"},\"radialaxis\":{\"gridcolor\":\"white\",\"linecolor\":\"white\",\"ticks\":\"\"}},\"ternary\":{\"bgcolor\":\"#E5ECF6\",\"aaxis\":{\"gridcolor\":\"white\",\"linecolor\":\"white\",\"ticks\":\"\"},\"baxis\":{\"gridcolor\":\"white\",\"linecolor\":\"white\",\"ticks\":\"\"},\"caxis\":{\"gridcolor\":\"white\",\"linecolor\":\"white\",\"ticks\":\"\"}},\"coloraxis\":{\"colorbar\":{\"outlinewidth\":0,\"ticks\":\"\"}},\"colorscale\":{\"sequential\":[[0.0,\"#0d0887\"],[0.1111111111111111,\"#46039f\"],[0.2222222222222222,\"#7201a8\"],[0.3333333333333333,\"#9c179e\"],[0.4444444444444444,\"#bd3786\"],[0.5555555555555556,\"#d8576b\"],[0.6666666666666666,\"#ed7953\"],[0.7777777777777778,\"#fb9f3a\"],[0.8888888888888888,\"#fdca26\"],[1.0,\"#f0f921\"]],\"sequentialminus\":[[0.0,\"#0d0887\"],[0.1111111111111111,\"#46039f\"],[0.2222222222222222,\"#7201a8\"],[0.3333333333333333,\"#9c179e\"],[0.4444444444444444,\"#bd3786\"],[0.5555555555555556,\"#d8576b\"],[0.6666666666666666,\"#ed7953\"],[0.7777777777777778,\"#fb9f3a\"],[0.8888888888888888,\"#fdca26\"],[1.0,\"#f0f921\"]],\"diverging\":[[0,\"#8e0152\"],[0.1,\"#c51b7d\"],[0.2,\"#de77ae\"],[0.3,\"#f1b6da\"],[0.4,\"#fde0ef\"],[0.5,\"#f7f7f7\"],[0.6,\"#e6f5d0\"],[0.7,\"#b8e186\"],[0.8,\"#7fbc41\"],[0.9,\"#4d9221\"],[1,\"#276419\"]]},\"xaxis\":{\"gridcolor\":\"white\",\"linecolor\":\"white\",\"ticks\":\"\",\"title\":{\"standoff\":15},\"zerolinecolor\":\"white\",\"automargin\":true,\"zerolinewidth\":2},\"yaxis\":{\"gridcolor\":\"white\",\"linecolor\":\"white\",\"ticks\":\"\",\"title\":{\"standoff\":15},\"zerolinecolor\":\"white\",\"automargin\":true,\"zerolinewidth\":2},\"scene\":{\"xaxis\":{\"backgroundcolor\":\"#E5ECF6\",\"gridcolor\":\"white\",\"linecolor\":\"white\",\"showbackground\":true,\"ticks\":\"\",\"zerolinecolor\":\"white\",\"gridwidth\":2},\"yaxis\":{\"backgroundcolor\":\"#E5ECF6\",\"gridcolor\":\"white\",\"linecolor\":\"white\",\"showbackground\":true,\"ticks\":\"\",\"zerolinecolor\":\"white\",\"gridwidth\":2},\"zaxis\":{\"backgroundcolor\":\"#E5ECF6\",\"gridcolor\":\"white\",\"linecolor\":\"white\",\"showbackground\":true,\"ticks\":\"\",\"zerolinecolor\":\"white\",\"gridwidth\":2}},\"shapedefaults\":{\"line\":{\"color\":\"#2a3f5f\"}},\"annotationdefaults\":{\"arrowcolor\":\"#2a3f5f\",\"arrowhead\":0,\"arrowwidth\":1},\"geo\":{\"bgcolor\":\"white\",\"landcolor\":\"#E5ECF6\",\"subunitcolor\":\"white\",\"showland\":true,\"showlakes\":true,\"lakecolor\":\"white\"},\"title\":{\"x\":0.05},\"mapbox\":{\"style\":\"light\"}}},\"xaxis\":{\"anchor\":\"y\",\"domain\":[0.0,1.0],\"title\":{\"text\":\"Title\"},\"tickangle\":-45},\"yaxis\":{\"anchor\":\"x\",\"domain\":[0.0,1.0],\"title\":{\"text\":\"Gelir (Milyon)\"},\"range\":[-10,500],\"dtick\":50},\"coloraxis\":{\"colorbar\":{\"title\":{\"text\":\"rating\"}},\"colorscale\":[[0.0,\"#0d0887\"],[0.1111111111111111,\"#46039f\"],[0.2222222222222222,\"#7201a8\"],[0.3333333333333333,\"#9c179e\"],[0.4444444444444444,\"#bd3786\"],[0.5555555555555556,\"#d8576b\"],[0.6666666666666666,\"#ed7953\"],[0.7777777777777778,\"#fb9f3a\"],[0.8888888888888888,\"#fdca26\"],[1.0,\"#f0f921\"]]},\"legend\":{\"tracegroupgap\":0,\"itemsizing\":\"constant\"},\"margin\":{\"t\":60},\"title\":{\"text\":\"Revenue of 250 Popular Movies by Rating Scores\",\"x\":0.5},\"height\":800,\"width\":1000},                        {\"responsive\": true}                    ).then(function(){\n",
       "                            \n",
       "var gd = document.getElementById('33eeceb0-bb1c-4a78-8f74-14d2e6237b7d');\n",
       "var x = new MutationObserver(function (mutations, observer) {{\n",
       "        var display = window.getComputedStyle(gd).display;\n",
       "        if (!display || display === 'none') {{\n",
       "            console.log([gd, 'removed!']);\n",
       "            Plotly.purge(gd);\n",
       "            observer.disconnect();\n",
       "        }}\n",
       "}});\n",
       "\n",
       "// Listen for the removal of the full notebook cells\n",
       "var notebookContainer = gd.closest('#notebook-container');\n",
       "if (notebookContainer) {{\n",
       "    x.observe(notebookContainer, {childList: true});\n",
       "}}\n",
       "\n",
       "// Listen for the clearing of the current output cell\n",
       "var outputEl = gd.closest('.output');\n",
       "if (outputEl) {{\n",
       "    x.observe(outputEl, {childList: true});\n",
       "}}\n",
       "\n",
       "                        })                };                });            </script>        </div>"
      ]
     },
     "metadata": {},
     "output_type": "display_data"
    }
   ],
   "source": [
    "df = top250.sort_values(\"rating\", ascending=False)\n",
    "\n",
    "\n",
    "fig = px.scatter(df, x=df.index, y=\"revenue\", size=\"rating\", color=\"rating\")\n",
    "fig.update_layout(title=\"Revenue of 250 Popular Movies by Rating Scores\", height=800, width=1000, title_x = 0.5, xaxis_tickangle=-45)\n",
    "fig.update_yaxes(title=\"Gelir (Milyon)\", range=[-10, 500], dtick=50)\n",
    "fig.update_traces(mode='markers', marker=dict(sizemode='diameter', sizeref=0.5))\n",
    "fig.show()"
   ]
  }
 ],
 "metadata": {
  "hide_input": false,
  "kernelspec": {
   "display_name": "Python 3 (ipykernel)",
   "language": "python",
   "name": "python3"
  },
  "language_info": {
   "codemirror_mode": {
    "name": "ipython",
    "version": 3
   },
   "file_extension": ".py",
   "mimetype": "text/x-python",
   "name": "python",
   "nbconvert_exporter": "python",
   "pygments_lexer": "ipython3",
   "version": "3.12.3"
  },
  "toc": {
   "base_numbering": 1,
   "nav_menu": {},
   "number_sections": true,
   "sideBar": true,
   "skip_h1_title": false,
   "title_cell": "Table of Contents",
   "title_sidebar": "Contents",
   "toc_cell": false,
   "toc_position": {},
   "toc_section_display": true,
   "toc_window_display": true
  }
 },
 "nbformat": 4,
 "nbformat_minor": 5
}
