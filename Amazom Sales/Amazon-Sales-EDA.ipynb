{
 "cells": [
  {
   "attachments": {},
   "cell_type": "markdown",
   "id": "3277e829-8468-4448-93c5-add7e846c9de",
   "metadata": {},
   "source": [
    "<p style=\" background-color:#221f1f;font-family:newtimeroman;font-size:200%;color:#ff9900;text-align:center;border-radius:20px 20px;\"><span  style = \"padding : 50px; display : block; \"><b >EDA Project - AMAZON SALES ANALYSIS 📦</b></span></p>"
   ]
  },
  {
   "attachments": {
    "3e7ea879-7a1a-491d-a747-44017aec64ea.png": {
     "image/png": "[encoded data removed]"
    }
   },
   "cell_type": "markdown",
   "id": "06632cca-77b3-4b36-9276-4c556a7659dc",
   "metadata": {},
   "source": [
    "<div style=\"text-align: center;\">\n",
    "    <img src=\"attachment:3e7ea879-7a1a-491d-a747-44017aec64ea.png\" alt=\"image\" style=\"max-width: 30%; height: auto; margin-top:15px;\" />\n",
    "</div>\n",
    "\n"
   ]
  },
  {
   "cell_type": "markdown",
   "id": "ad5c0710-564e-4646-b9df-5bd75b7d0a41",
   "metadata": {},
   "source": [
    "<b>Contains:</b>\n",
    "<ul>\n",
    "<li><a href=\"#import-library\">Importing Libraries</a></li>\n",
    "<li><a href=\"#loading-dataset\">Loading The Data Set</a></li>\n",
    "<li><a href=\"#understanding-dataset\">Understanding The Dataset</a></li>\n",
    "<li><a href=\"#organizing-columns\">Organizing Columns</a></li>\n",
    "<li><a href=\"#nan-values\">NaN Values</a></li>\n",
    "<li><a href=\"#last-check\">Last Check</a></li>\n",
    "<li><a href=\"#data-visualization\">Data Visualization</a></li>\n",
    "<li><a href=\"#data\">Exporting Clean Data</a></li>\n",
    "</ul>"
   ]
  },
  {
   "cell_type": "markdown",
   "id": "c2a5dba6-eeb7-45a9-9294-84c3a72dd1d7",
   "metadata": {},
   "source": [
    "- **product_name**: The name of the product.\n",
    "- **category**: The category to which the product belongs.\n",
    "- **discounted_price**: The price after the discount is applied.\n",
    "- **actual_price**: The original price of the product.\n",
    "- **discount_percentage**: The percentage of the discount.\n",
    "- **rating**: The average customer rating for the product.\n",
    "- **rating_count**: The number of customer ratings.\n",
    "- **product_type**: The type of product (e.g., USB cables).\n",
    "- **id**: The unique identifier for the product.\n",
    "- **mean_of_ratings**: The qualitative description of the rating (e.g., Good, Average)."
   ]
  },
  {
   "cell_type": "markdown",
   "id": "5c436da3-3796-443c-a192-a4453d6150d8",
   "metadata": {},
   "source": [
    "<a id='import-library'></a>\n",
    "# <font color='midnightblue'> <b>Importing Libraries</b><font color='black'> "
   ]
  },
  {
   "cell_type": "code",
   "execution_count": 524,
   "id": "3590578e-31ed-4085-b573-3c408e14580f",
   "metadata": {},
   "outputs": [],
   "source": [
    "import pandas as pd\n",
    "import numpy as np\n",
    "import seaborn as sns\n",
    "import matplotlib.pyplot as plt\n",
    "from skimpy import skim \n",
    "\n",
    "import warnings\n",
    "warnings.filterwarnings(\"ignore\")"
   ]
  },
  {
   "cell_type": "code",
   "execution_count": 356,
   "id": "c3026d7b-39a2-4134-a15d-4583c886407e",
   "metadata": {},
   "outputs": [],
   "source": [
    "df = pd.read_csv(\"amazon.csv\")\n",
    "df2 = df.copy()"
   ]
  },
  {
   "cell_type": "markdown",
   "id": "d840a61b-e73b-4bb5-9052-e2d97c70ece6",
   "metadata": {},
   "source": [
    "<a id='understanding-dataset'></a>\n",
    "# <font color='midnightblue'> <b>Understanding The Dataset</b><font color='black'> "
   ]
  },
  {
   "cell_type": "code",
   "execution_count": 357,
   "id": "f9cb0382-f6bb-40d6-8314-6567f3752412",
   "metadata": {},
   "outputs": [
    {
     "data": {
      "text/html": [
       "<div>\n",
       "<style scoped>\n",
       "    .dataframe tbody tr th:only-of-type {\n",
       "        vertical-align: middle;\n",
       "    }\n",
       "\n",
       "    .dataframe tbody tr th {\n",
       "        vertical-align: top;\n",
       "    }\n",
       "\n",
       "    .dataframe thead th {\n",
       "        text-align: right;\n",
       "    }\n",
       "</style>\n",
       "<table border=\"1\" class=\"dataframe\">\n",
       "  <thead>\n",
       "    <tr style=\"text-align: right;\">\n",
       "      <th></th>\n",
       "      <th>product_id</th>\n",
       "      <th>product_name</th>\n",
       "      <th>category</th>\n",
       "      <th>discounted_price</th>\n",
       "      <th>actual_price</th>\n",
       "      <th>discount_percentage</th>\n",
       "      <th>rating</th>\n",
       "      <th>rating_count</th>\n",
       "      <th>about_product</th>\n",
       "      <th>user_id</th>\n",
       "      <th>user_name</th>\n",
       "      <th>review_id</th>\n",
       "      <th>review_title</th>\n",
       "      <th>review_content</th>\n",
       "      <th>img_link</th>\n",
       "      <th>product_link</th>\n",
       "    </tr>\n",
       "  </thead>\n",
       "  <tbody>\n",
       "    <tr>\n",
       "      <th>0</th>\n",
       "      <td>B07JW9H4J1</td>\n",
       "      <td>Wayona Nylon Braided USB to Lightning Fast Cha...</td>\n",
       "      <td>Computers&amp;Accessories|Accessories&amp;Peripherals|...</td>\n",
       "      <td>₹399</td>\n",
       "      <td>₹1,099</td>\n",
       "      <td>64%</td>\n",
       "      <td>4.2</td>\n",
       "      <td>24,269</td>\n",
       "      <td>High Compatibility : Compatible With iPhone 12...</td>\n",
       "      <td>AG3D6O4STAQKAY2UVGEUV46KN35Q,AHMY5CWJMMK5BJRBB...</td>\n",
       "      <td>Manav,Adarsh gupta,Sundeep,S.Sayeed Ahmed,jasp...</td>\n",
       "      <td>R3HXWT0LRP0NMF,R2AJM3LFTLZHFO,R6AQJGUP6P86,R1K...</td>\n",
       "      <td>Satisfied,Charging is really fast,Value for mo...</td>\n",
       "      <td>Looks durable Charging is fine tooNo complains...</td>\n",
       "      <td>https://m.media-amazon.com/images/W/WEBP_40237...</td>\n",
       "      <td>https://www.amazon.in/Wayona-Braided-WN3LG1-Sy...</td>\n",
       "    </tr>\n",
       "    <tr>\n",
       "      <th>1</th>\n",
       "      <td>B098NS6PVG</td>\n",
       "      <td>Ambrane Unbreakable 60W / 3A Fast Charging 1.5...</td>\n",
       "      <td>Computers&amp;Accessories|Accessories&amp;Peripherals|...</td>\n",
       "      <td>₹199</td>\n",
       "      <td>₹349</td>\n",
       "      <td>43%</td>\n",
       "      <td>4.0</td>\n",
       "      <td>43,994</td>\n",
       "      <td>Compatible with all Type C enabled devices, be...</td>\n",
       "      <td>AECPFYFQVRUWC3KGNLJIOREFP5LQ,AGYYVPDD7YG7FYNBX...</td>\n",
       "      <td>ArdKn,Nirbhay kumar,Sagar Viswanathan,Asp,Plac...</td>\n",
       "      <td>RGIQEG07R9HS2,R1SMWZQ86XIN8U,R2J3Y1WL29GWDE,RY...</td>\n",
       "      <td>A Good Braided Cable for Your Type C Device,Go...</td>\n",
       "      <td>I ordered this cable to connect my phone to An...</td>\n",
       "      <td>https://m.media-amazon.com/images/W/WEBP_40237...</td>\n",
       "      <td>https://www.amazon.in/Ambrane-Unbreakable-Char...</td>\n",
       "    </tr>\n",
       "    <tr>\n",
       "      <th>2</th>\n",
       "      <td>B096MSW6CT</td>\n",
       "      <td>Sounce Fast Phone Charging Cable &amp; Data Sync U...</td>\n",
       "      <td>Computers&amp;Accessories|Accessories&amp;Peripherals|...</td>\n",
       "      <td>₹199</td>\n",
       "      <td>₹1,899</td>\n",
       "      <td>90%</td>\n",
       "      <td>3.9</td>\n",
       "      <td>7,928</td>\n",
       "      <td>【 Fast Charger&amp; Data Sync】-With built-in safet...</td>\n",
       "      <td>AGU3BBQ2V2DDAMOAKGFAWDDQ6QHA,AESFLDV2PT363T2AQ...</td>\n",
       "      <td>Kunal,Himanshu,viswanath,sai niharka,saqib mal...</td>\n",
       "      <td>R3J3EQQ9TZI5ZJ,R3E7WBGK7ID0KV,RWU79XKQ6I1QF,R2...</td>\n",
       "      <td>Good speed for earlier versions,Good Product,W...</td>\n",
       "      <td>Not quite durable and sturdy,https://m.media-a...</td>\n",
       "      <td>https://m.media-amazon.com/images/W/WEBP_40237...</td>\n",
       "      <td>https://www.amazon.in/Sounce-iPhone-Charging-C...</td>\n",
       "    </tr>\n",
       "    <tr>\n",
       "      <th>3</th>\n",
       "      <td>B08HDJ86NZ</td>\n",
       "      <td>boAt Deuce USB 300 2 in 1 Type-C &amp; Micro USB S...</td>\n",
       "      <td>Computers&amp;Accessories|Accessories&amp;Peripherals|...</td>\n",
       "      <td>₹329</td>\n",
       "      <td>₹699</td>\n",
       "      <td>53%</td>\n",
       "      <td>4.2</td>\n",
       "      <td>94,363</td>\n",
       "      <td>The boAt Deuce USB 300 2 in 1 cable is compati...</td>\n",
       "      <td>AEWAZDZZJLQUYVOVGBEUKSLXHQ5A,AG5HTSFRRE6NL3M5S...</td>\n",
       "      <td>Omkar dhale,JD,HEMALATHA,Ajwadh a.,amar singh ...</td>\n",
       "      <td>R3EEUZKKK9J36I,R3HJVYCLYOY554,REDECAZ7AMPQC,R1...</td>\n",
       "      <td>Good product,Good one,Nice,Really nice product...</td>\n",
       "      <td>Good product,long wire,Charges good,Nice,I bou...</td>\n",
       "      <td>https://m.media-amazon.com/images/I/41V5FtEWPk...</td>\n",
       "      <td>https://www.amazon.in/Deuce-300-Resistant-Tang...</td>\n",
       "    </tr>\n",
       "    <tr>\n",
       "      <th>4</th>\n",
       "      <td>B08CF3B7N1</td>\n",
       "      <td>Portronics Konnect L 1.2M Fast Charging 3A 8 P...</td>\n",
       "      <td>Computers&amp;Accessories|Accessories&amp;Peripherals|...</td>\n",
       "      <td>₹154</td>\n",
       "      <td>₹399</td>\n",
       "      <td>61%</td>\n",
       "      <td>4.2</td>\n",
       "      <td>16,905</td>\n",
       "      <td>[CHARGE &amp; SYNC FUNCTION]- This cable comes wit...</td>\n",
       "      <td>AE3Q6KSUK5P75D5HFYHCRAOLODSA,AFUGIFH5ZAFXRDSZH...</td>\n",
       "      <td>rahuls6099,Swasat Borah,Ajay Wadke,Pranali,RVK...</td>\n",
       "      <td>R1BP4L2HH9TFUP,R16PVJEXKV6QZS,R2UPDB81N66T4P,R...</td>\n",
       "      <td>As good as original,Decent,Good one for second...</td>\n",
       "      <td>Bought this instead of original apple, does th...</td>\n",
       "      <td>https://m.media-amazon.com/images/W/WEBP_40237...</td>\n",
       "      <td>https://www.amazon.in/Portronics-Konnect-POR-1...</td>\n",
       "    </tr>\n",
       "  </tbody>\n",
       "</table>\n",
       "</div>"
      ],
      "text/plain": [
       "   product_id                                       product_name  \\\n",
       "0  B07JW9H4J1  Wayona Nylon Braided USB to Lightning Fast Cha...   \n",
       "1  B098NS6PVG  Ambrane Unbreakable 60W / 3A Fast Charging 1.5...   \n",
       "2  B096MSW6CT  Sounce Fast Phone Charging Cable & Data Sync U...   \n",
       "3  B08HDJ86NZ  boAt Deuce USB 300 2 in 1 Type-C & Micro USB S...   \n",
       "4  B08CF3B7N1  Portronics Konnect L 1.2M Fast Charging 3A 8 P...   \n",
       "\n",
       "                                            category discounted_price  \\\n",
       "0  Computers&Accessories|Accessories&Peripherals|...             ₹399   \n",
       "1  Computers&Accessories|Accessories&Peripherals|...             ₹199   \n",
       "2  Computers&Accessories|Accessories&Peripherals|...             ₹199   \n",
       "3  Computers&Accessories|Accessories&Peripherals|...             ₹329   \n",
       "4  Computers&Accessories|Accessories&Peripherals|...             ₹154   \n",
       "\n",
       "  actual_price discount_percentage rating rating_count  \\\n",
       "0       ₹1,099                 64%    4.2       24,269   \n",
       "1         ₹349                 43%    4.0       43,994   \n",
       "2       ₹1,899                 90%    3.9        7,928   \n",
       "3         ₹699                 53%    4.2       94,363   \n",
       "4         ₹399                 61%    4.2       16,905   \n",
       "\n",
       "                                       about_product  \\\n",
       "0  High Compatibility : Compatible With iPhone 12...   \n",
       "1  Compatible with all Type C enabled devices, be...   \n",
       "2  【 Fast Charger& Data Sync】-With built-in safet...   \n",
       "3  The boAt Deuce USB 300 2 in 1 cable is compati...   \n",
       "4  [CHARGE & SYNC FUNCTION]- This cable comes wit...   \n",
       "\n",
       "                                             user_id  \\\n",
       "0  AG3D6O4STAQKAY2UVGEUV46KN35Q,AHMY5CWJMMK5BJRBB...   \n",
       "1  AECPFYFQVRUWC3KGNLJIOREFP5LQ,AGYYVPDD7YG7FYNBX...   \n",
       "2  AGU3BBQ2V2DDAMOAKGFAWDDQ6QHA,AESFLDV2PT363T2AQ...   \n",
       "3  AEWAZDZZJLQUYVOVGBEUKSLXHQ5A,AG5HTSFRRE6NL3M5S...   \n",
       "4  AE3Q6KSUK5P75D5HFYHCRAOLODSA,AFUGIFH5ZAFXRDSZH...   \n",
       "\n",
       "                                           user_name  \\\n",
       "0  Manav,Adarsh gupta,Sundeep,S.Sayeed Ahmed,jasp...   \n",
       "1  ArdKn,Nirbhay kumar,Sagar Viswanathan,Asp,Plac...   \n",
       "2  Kunal,Himanshu,viswanath,sai niharka,saqib mal...   \n",
       "3  Omkar dhale,JD,HEMALATHA,Ajwadh a.,amar singh ...   \n",
       "4  rahuls6099,Swasat Borah,Ajay Wadke,Pranali,RVK...   \n",
       "\n",
       "                                           review_id  \\\n",
       "0  R3HXWT0LRP0NMF,R2AJM3LFTLZHFO,R6AQJGUP6P86,R1K...   \n",
       "1  RGIQEG07R9HS2,R1SMWZQ86XIN8U,R2J3Y1WL29GWDE,RY...   \n",
       "2  R3J3EQQ9TZI5ZJ,R3E7WBGK7ID0KV,RWU79XKQ6I1QF,R2...   \n",
       "3  R3EEUZKKK9J36I,R3HJVYCLYOY554,REDECAZ7AMPQC,R1...   \n",
       "4  R1BP4L2HH9TFUP,R16PVJEXKV6QZS,R2UPDB81N66T4P,R...   \n",
       "\n",
       "                                        review_title  \\\n",
       "0  Satisfied,Charging is really fast,Value for mo...   \n",
       "1  A Good Braided Cable for Your Type C Device,Go...   \n",
       "2  Good speed for earlier versions,Good Product,W...   \n",
       "3  Good product,Good one,Nice,Really nice product...   \n",
       "4  As good as original,Decent,Good one for second...   \n",
       "\n",
       "                                      review_content  \\\n",
       "0  Looks durable Charging is fine tooNo complains...   \n",
       "1  I ordered this cable to connect my phone to An...   \n",
       "2  Not quite durable and sturdy,https://m.media-a...   \n",
       "3  Good product,long wire,Charges good,Nice,I bou...   \n",
       "4  Bought this instead of original apple, does th...   \n",
       "\n",
       "                                            img_link  \\\n",
       "0  https://m.media-amazon.com/images/W/WEBP_40237...   \n",
       "1  https://m.media-amazon.com/images/W/WEBP_40237...   \n",
       "2  https://m.media-amazon.com/images/W/WEBP_40237...   \n",
       "3  https://m.media-amazon.com/images/I/41V5FtEWPk...   \n",
       "4  https://m.media-amazon.com/images/W/WEBP_40237...   \n",
       "\n",
       "                                        product_link  \n",
       "0  https://www.amazon.in/Wayona-Braided-WN3LG1-Sy...  \n",
       "1  https://www.amazon.in/Ambrane-Unbreakable-Char...  \n",
       "2  https://www.amazon.in/Sounce-iPhone-Charging-C...  \n",
       "3  https://www.amazon.in/Deuce-300-Resistant-Tang...  \n",
       "4  https://www.amazon.in/Portronics-Konnect-POR-1...  "
      ]
     },
     "execution_count": 357,
     "metadata": {},
     "output_type": "execute_result"
    }
   ],
   "source": [
    "df.head()\n"
   ]
  },
  {
   "cell_type": "code",
   "execution_count": 358,
   "id": "8c17eaf0-9c97-4bfb-810e-d4ba5995dbd8",
   "metadata": {},
   "outputs": [],
   "source": [
    "# I used the check_df() function I created to understend data quickly \n",
    "def check_df(dataframe, head = 5):\n",
    "    print('------------------shape---------------')\n",
    "    print(dataframe.shape)\n",
    "    print('------------------types---------------')\n",
    "    print(dataframe.dtypes)\n",
    "    print('------------------NAN---------------')\n",
    "    print(dataframe.isnull().sum())\n",
    "    print('------------------describe---------------')\n",
    "    print(dataframe.describe().T)"
   ]
  },
  {
   "cell_type": "code",
   "execution_count": 359,
   "id": "7b69a306-2a1a-450a-a808-30102e21abfd",
   "metadata": {},
   "outputs": [
    {
     "name": "stdout",
     "output_type": "stream",
     "text": [
      "------------------shape---------------\n",
      "(1465, 16)\n",
      "------------------types---------------\n",
      "product_id             object\n",
      "product_name           object\n",
      "category               object\n",
      "discounted_price       object\n",
      "actual_price           object\n",
      "discount_percentage    object\n",
      "rating                 object\n",
      "rating_count           object\n",
      "about_product          object\n",
      "user_id                object\n",
      "user_name              object\n",
      "review_id              object\n",
      "review_title           object\n",
      "review_content         object\n",
      "img_link               object\n",
      "product_link           object\n",
      "dtype: object\n",
      "------------------NAN---------------\n",
      "product_id             0\n",
      "product_name           0\n",
      "category               0\n",
      "discounted_price       0\n",
      "actual_price           0\n",
      "discount_percentage    0\n",
      "rating                 0\n",
      "rating_count           2\n",
      "about_product          0\n",
      "user_id                0\n",
      "user_name              0\n",
      "review_id              0\n",
      "review_title           0\n",
      "review_content         0\n",
      "img_link               0\n",
      "product_link           0\n",
      "dtype: int64\n",
      "------------------describe---------------\n",
      "                    count unique  \\\n",
      "product_id           1465   1351   \n",
      "product_name         1465   1337   \n",
      "category             1465    211   \n",
      "discounted_price     1465    550   \n",
      "actual_price         1465    449   \n",
      "discount_percentage  1465     92   \n",
      "rating               1465     28   \n",
      "rating_count         1463   1143   \n",
      "about_product        1465   1293   \n",
      "user_id              1465   1194   \n",
      "user_name            1465   1194   \n",
      "review_id            1465   1194   \n",
      "review_title         1465   1194   \n",
      "review_content       1465   1212   \n",
      "img_link             1465   1412   \n",
      "product_link         1465   1465   \n",
      "\n",
      "                                                                   top freq  \n",
      "product_id                                                  B07JW9H4J1    3  \n",
      "product_name         Fire-Boltt Ninja Call Pro Plus 1.83\" Smart Wat...    5  \n",
      "category             Computers&Accessories|Accessories&Peripherals|...  233  \n",
      "discounted_price                                                  ₹199   53  \n",
      "actual_price                                                      ₹999  120  \n",
      "discount_percentage                                                50%   56  \n",
      "rating                                                             4.1  244  \n",
      "rating_count                                                     9,378    9  \n",
      "about_product        [CHARGE & SYNC FUNCTION]- This cable comes wit...    6  \n",
      "user_id              AHIKJUDTVJ4T6DV6IUGFYZ5LXMPA,AE55KTFVNXYFD5FPY...   10  \n",
      "user_name            $@|\\|TO$|-|,Sethu madhav,Akash Thakur,Burger P...   10  \n",
      "review_id            R3F4T5TRYPTMIG,R3DQIEC603E7AY,R1O4Z15FD40PV5,R...   10  \n",
      "review_title         Worked on iPhone 7 and didn’t work on XR,Good ...   10  \n",
      "review_content       I am not big on camera usage, personally. I wa...    8  \n",
      "img_link             https://m.media-amazon.com/images/I/413sCRKobN...    3  \n",
      "product_link         https://www.amazon.in/Wayona-Braided-WN3LG1-Sy...    1  \n"
     ]
    }
   ],
   "source": [
    "check_df(df)"
   ]
  },
  {
   "cell_type": "code",
   "execution_count": 360,
   "id": "4f6e3af4-a024-47d8-968a-54eeb4344df4",
   "metadata": {},
   "outputs": [
    {
     "data": {
      "text/plain": [
       "Index(['product_id', 'product_name', 'category', 'discounted_price',\n",
       "       'actual_price', 'discount_percentage', 'rating', 'rating_count',\n",
       "       'about_product', 'user_id', 'user_name', 'review_id', 'review_title',\n",
       "       'review_content', 'img_link', 'product_link'],\n",
       "      dtype='object')"
      ]
     },
     "execution_count": 360,
     "metadata": {},
     "output_type": "execute_result"
    }
   ],
   "source": [
    "df.columns"
   ]
  },
  {
   "cell_type": "code",
   "execution_count": 361,
   "id": "e2bd5ac1-938b-4ebe-8a8f-92cd23aeb9d3",
   "metadata": {},
   "outputs": [
    {
     "data": {
      "text/plain": [
       "0"
      ]
     },
     "execution_count": 361,
     "metadata": {},
     "output_type": "execute_result"
    }
   ],
   "source": [
    "df.duplicated().sum()"
   ]
  },
  {
   "cell_type": "code",
   "execution_count": 362,
   "id": "ca82885b-7c0b-4659-bd54-e324a2f05228",
   "metadata": {},
   "outputs": [
    {
     "data": {
      "text/html": [
       "<pre style=\"white-space:pre;overflow-x:auto;line-height:normal;font-family:Menlo,'DejaVu Sans Mono',consolas,'Courier New',monospace\">╭──────────────────────────────────────────────── skimpy summary ─────────────────────────────────────────────────╮\n",
       "│ <span style=\"font-style: italic\">         Data Summary         </span> <span style=\"font-style: italic\">      Data Types       </span>                                                          │\n",
       "│ ┏━━━━━━━━━━━━━━━━━━━┳━━━━━━━━┓ ┏━━━━━━━━━━━━━┳━━━━━━━┓                                                          │\n",
       "│ ┃<span style=\"color: #008080; text-decoration-color: #008080; font-weight: bold\"> dataframe         </span>┃<span style=\"color: #008080; text-decoration-color: #008080; font-weight: bold\"> Values </span>┃ ┃<span style=\"color: #008080; text-decoration-color: #008080; font-weight: bold\"> Column Type </span>┃<span style=\"color: #008080; text-decoration-color: #008080; font-weight: bold\"> Count </span>┃                                                          │\n",
       "│ ┡━━━━━━━━━━━━━━━━━━━╇━━━━━━━━┩ ┡━━━━━━━━━━━━━╇━━━━━━━┩                                                          │\n",
       "│ │ Number of rows    │ 1465   │ │ string      │ 16    │                                                          │\n",
       "│ │ Number of columns │ 16     │ └─────────────┴───────┘                                                          │\n",
       "│ └───────────────────┴────────┘                                                                                  │\n",
       "│ <span style=\"font-style: italic\">                                                    string                                                    </span>  │\n",
       "│ ┏━━━━━━━━━━━━━━━━━━━━━━━━━━━━━━━━━━━━━━┳━━━━━━━┳━━━━━━━━━━━┳━━━━━━━━━━━━━━━━━━━━━━━━━━┳━━━━━━━━━━━━━━━━━━━━━━┓  │\n",
       "│ ┃<span style=\"font-weight: bold\"> column_name                          </span>┃<span style=\"font-weight: bold\"> NA    </span>┃<span style=\"font-weight: bold\"> NA %      </span>┃<span style=\"font-weight: bold\"> words per row            </span>┃<span style=\"font-weight: bold\"> total words          </span>┃  │\n",
       "│ ┡━━━━━━━━━━━━━━━━━━━━━━━━━━━━━━━━━━━━━━╇━━━━━━━╇━━━━━━━━━━━╇━━━━━━━━━━━━━━━━━━━━━━━━━━╇━━━━━━━━━━━━━━━━━━━━━━┩  │\n",
       "│ │ <span style=\"color: #af87ff; text-decoration-color: #af87ff\">product_id                          </span> │ <span style=\"color: #008080; text-decoration-color: #008080\">    0</span> │ <span style=\"color: #008080; text-decoration-color: #008080\">        0</span> │ <span style=\"color: #008080; text-decoration-color: #008080\">                       1</span> │ <span style=\"color: #008080; text-decoration-color: #008080\">                1465</span> │  │\n",
       "│ │ <span style=\"color: #af87ff; text-decoration-color: #af87ff\">product_name                        </span> │ <span style=\"color: #008080; text-decoration-color: #008080\">    0</span> │ <span style=\"color: #008080; text-decoration-color: #008080\">        0</span> │ <span style=\"color: #008080; text-decoration-color: #008080\">                      21</span> │ <span style=\"color: #008080; text-decoration-color: #008080\">               30256</span> │  │\n",
       "│ │ <span style=\"color: #af87ff; text-decoration-color: #af87ff\">category                            </span> │ <span style=\"color: #008080; text-decoration-color: #008080\">    0</span> │ <span style=\"color: #008080; text-decoration-color: #008080\">        0</span> │ <span style=\"color: #008080; text-decoration-color: #008080\">                       1</span> │ <span style=\"color: #008080; text-decoration-color: #008080\">                1465</span> │  │\n",
       "│ │ <span style=\"color: #af87ff; text-decoration-color: #af87ff\">discounted_price                    </span> │ <span style=\"color: #008080; text-decoration-color: #008080\">    0</span> │ <span style=\"color: #008080; text-decoration-color: #008080\">        0</span> │ <span style=\"color: #008080; text-decoration-color: #008080\">                       1</span> │ <span style=\"color: #008080; text-decoration-color: #008080\">                1465</span> │  │\n",
       "│ │ <span style=\"color: #af87ff; text-decoration-color: #af87ff\">actual_price                        </span> │ <span style=\"color: #008080; text-decoration-color: #008080\">    0</span> │ <span style=\"color: #008080; text-decoration-color: #008080\">        0</span> │ <span style=\"color: #008080; text-decoration-color: #008080\">                       1</span> │ <span style=\"color: #008080; text-decoration-color: #008080\">                1465</span> │  │\n",
       "│ │ <span style=\"color: #af87ff; text-decoration-color: #af87ff\">discount_percentage                 </span> │ <span style=\"color: #008080; text-decoration-color: #008080\">    0</span> │ <span style=\"color: #008080; text-decoration-color: #008080\">        0</span> │ <span style=\"color: #008080; text-decoration-color: #008080\">                       1</span> │ <span style=\"color: #008080; text-decoration-color: #008080\">                1465</span> │  │\n",
       "│ │ <span style=\"color: #af87ff; text-decoration-color: #af87ff\">rating                              </span> │ <span style=\"color: #008080; text-decoration-color: #008080\">    0</span> │ <span style=\"color: #008080; text-decoration-color: #008080\">        0</span> │ <span style=\"color: #008080; text-decoration-color: #008080\">                       1</span> │ <span style=\"color: #008080; text-decoration-color: #008080\">                1465</span> │  │\n",
       "│ │ <span style=\"color: #af87ff; text-decoration-color: #af87ff\">rating_count                        </span> │ <span style=\"color: #008080; text-decoration-color: #008080\">    2</span> │ <span style=\"color: #008080; text-decoration-color: #008080\">     0.14</span> │ <span style=\"color: #008080; text-decoration-color: #008080\">                       1</span> │ <span style=\"color: #008080; text-decoration-color: #008080\">                1463</span> │  │\n",
       "│ │ <span style=\"color: #af87ff; text-decoration-color: #af87ff\">about_product                       </span> │ <span style=\"color: #008080; text-decoration-color: #008080\">    0</span> │ <span style=\"color: #008080; text-decoration-color: #008080\">        0</span> │ <span style=\"color: #008080; text-decoration-color: #008080\">                     110</span> │ <span style=\"color: #008080; text-decoration-color: #008080\">              167035</span> │  │\n",
       "│ │ <span style=\"color: #af87ff; text-decoration-color: #af87ff\">user_id                             </span> │ <span style=\"color: #008080; text-decoration-color: #008080\">    0</span> │ <span style=\"color: #008080; text-decoration-color: #008080\">        0</span> │ <span style=\"color: #008080; text-decoration-color: #008080\">                       1</span> │ <span style=\"color: #008080; text-decoration-color: #008080\">                1465</span> │  │\n",
       "│ │ <span style=\"color: #af87ff; text-decoration-color: #af87ff\">user_name                           </span> │ <span style=\"color: #008080; text-decoration-color: #008080\">    0</span> │ <span style=\"color: #008080; text-decoration-color: #008080\">        0</span> │ <span style=\"color: #008080; text-decoration-color: #008080\">                     6.8</span> │ <span style=\"color: #008080; text-decoration-color: #008080\">                9926</span> │  │\n",
       "│ │ <span style=\"color: #af87ff; text-decoration-color: #af87ff\">review_id                           </span> │ <span style=\"color: #008080; text-decoration-color: #008080\">    0</span> │ <span style=\"color: #008080; text-decoration-color: #008080\">        0</span> │ <span style=\"color: #008080; text-decoration-color: #008080\">                       1</span> │ <span style=\"color: #008080; text-decoration-color: #008080\">                1465</span> │  │\n",
       "│ │ <span style=\"color: #af87ff; text-decoration-color: #af87ff\">review_title                        </span> │ <span style=\"color: #008080; text-decoration-color: #008080\">    0</span> │ <span style=\"color: #008080; text-decoration-color: #008080\">        0</span> │ <span style=\"color: #008080; text-decoration-color: #008080\">                      25</span> │ <span style=\"color: #008080; text-decoration-color: #008080\">               36984</span> │  │\n",
       "│ │ <span style=\"color: #af87ff; text-decoration-color: #af87ff\">review_content                      </span> │ <span style=\"color: #008080; text-decoration-color: #008080\">    0</span> │ <span style=\"color: #008080; text-decoration-color: #008080\">        0</span> │ <span style=\"color: #008080; text-decoration-color: #008080\">                     240</span> │ <span style=\"color: #008080; text-decoration-color: #008080\">              353988</span> │  │\n",
       "│ │ <span style=\"color: #af87ff; text-decoration-color: #af87ff\">img_link                            </span> │ <span style=\"color: #008080; text-decoration-color: #008080\">    0</span> │ <span style=\"color: #008080; text-decoration-color: #008080\">        0</span> │ <span style=\"color: #008080; text-decoration-color: #008080\">                       1</span> │ <span style=\"color: #008080; text-decoration-color: #008080\">                1465</span> │  │\n",
       "│ │ <span style=\"color: #af87ff; text-decoration-color: #af87ff\">product_link                        </span> │ <span style=\"color: #008080; text-decoration-color: #008080\">    0</span> │ <span style=\"color: #008080; text-decoration-color: #008080\">        0</span> │ <span style=\"color: #008080; text-decoration-color: #008080\">                       1</span> │ <span style=\"color: #008080; text-decoration-color: #008080\">                1465</span> │  │\n",
       "│ └──────────────────────────────────────┴───────┴───────────┴──────────────────────────┴──────────────────────┘  │\n",
       "╰────────────────────────────────────────────────────── End ──────────────────────────────────────────────────────╯\n",
       "</pre>\n"
      ],
      "text/plain": [
       "╭──────────────────────────────────────────────── skimpy summary ─────────────────────────────────────────────────╮\n",
       "│ \u001b[3m         Data Summary         \u001b[0m \u001b[3m      Data Types       \u001b[0m                                                          │\n",
       "│ ┏━━━━━━━━━━━━━━━━━━━┳━━━━━━━━┓ ┏━━━━━━━━━━━━━┳━━━━━━━┓                                                          │\n",
       "│ ┃\u001b[1;36m \u001b[0m\u001b[1;36mdataframe        \u001b[0m\u001b[1;36m \u001b[0m┃\u001b[1;36m \u001b[0m\u001b[1;36mValues\u001b[0m\u001b[1;36m \u001b[0m┃ ┃\u001b[1;36m \u001b[0m\u001b[1;36mColumn Type\u001b[0m\u001b[1;36m \u001b[0m┃\u001b[1;36m \u001b[0m\u001b[1;36mCount\u001b[0m\u001b[1;36m \u001b[0m┃                                                          │\n",
       "│ ┡━━━━━━━━━━━━━━━━━━━╇━━━━━━━━┩ ┡━━━━━━━━━━━━━╇━━━━━━━┩                                                          │\n",
       "│ │ Number of rows    │ 1465   │ │ string      │ 16    │                                                          │\n",
       "│ │ Number of columns │ 16     │ └─────────────┴───────┘                                                          │\n",
       "│ └───────────────────┴────────┘                                                                                  │\n",
       "│ \u001b[3m                                                    string                                                    \u001b[0m  │\n",
       "│ ┏━━━━━━━━━━━━━━━━━━━━━━━━━━━━━━━━━━━━━━┳━━━━━━━┳━━━━━━━━━━━┳━━━━━━━━━━━━━━━━━━━━━━━━━━┳━━━━━━━━━━━━━━━━━━━━━━┓  │\n",
       "│ ┃\u001b[1m \u001b[0m\u001b[1mcolumn_name                         \u001b[0m\u001b[1m \u001b[0m┃\u001b[1m \u001b[0m\u001b[1mNA   \u001b[0m\u001b[1m \u001b[0m┃\u001b[1m \u001b[0m\u001b[1mNA %     \u001b[0m\u001b[1m \u001b[0m┃\u001b[1m \u001b[0m\u001b[1mwords per row           \u001b[0m\u001b[1m \u001b[0m┃\u001b[1m \u001b[0m\u001b[1mtotal words         \u001b[0m\u001b[1m \u001b[0m┃  │\n",
       "│ ┡━━━━━━━━━━━━━━━━━━━━━━━━━━━━━━━━━━━━━━╇━━━━━━━╇━━━━━━━━━━━╇━━━━━━━━━━━━━━━━━━━━━━━━━━╇━━━━━━━━━━━━━━━━━━━━━━┩  │\n",
       "│ │ \u001b[38;5;141mproduct_id                          \u001b[0m │ \u001b[36m    0\u001b[0m │ \u001b[36m        0\u001b[0m │ \u001b[36m                       1\u001b[0m │ \u001b[36m                1465\u001b[0m │  │\n",
       "│ │ \u001b[38;5;141mproduct_name                        \u001b[0m │ \u001b[36m    0\u001b[0m │ \u001b[36m        0\u001b[0m │ \u001b[36m                      21\u001b[0m │ \u001b[36m               30256\u001b[0m │  │\n",
       "│ │ \u001b[38;5;141mcategory                            \u001b[0m │ \u001b[36m    0\u001b[0m │ \u001b[36m        0\u001b[0m │ \u001b[36m                       1\u001b[0m │ \u001b[36m                1465\u001b[0m │  │\n",
       "│ │ \u001b[38;5;141mdiscounted_price                    \u001b[0m │ \u001b[36m    0\u001b[0m │ \u001b[36m        0\u001b[0m │ \u001b[36m                       1\u001b[0m │ \u001b[36m                1465\u001b[0m │  │\n",
       "│ │ \u001b[38;5;141mactual_price                        \u001b[0m │ \u001b[36m    0\u001b[0m │ \u001b[36m        0\u001b[0m │ \u001b[36m                       1\u001b[0m │ \u001b[36m                1465\u001b[0m │  │\n",
       "│ │ \u001b[38;5;141mdiscount_percentage                 \u001b[0m │ \u001b[36m    0\u001b[0m │ \u001b[36m        0\u001b[0m │ \u001b[36m                       1\u001b[0m │ \u001b[36m                1465\u001b[0m │  │\n",
       "│ │ \u001b[38;5;141mrating                              \u001b[0m │ \u001b[36m    0\u001b[0m │ \u001b[36m        0\u001b[0m │ \u001b[36m                       1\u001b[0m │ \u001b[36m                1465\u001b[0m │  │\n",
       "│ │ \u001b[38;5;141mrating_count                        \u001b[0m │ \u001b[36m    2\u001b[0m │ \u001b[36m     0.14\u001b[0m │ \u001b[36m                       1\u001b[0m │ \u001b[36m                1463\u001b[0m │  │\n",
       "│ │ \u001b[38;5;141mabout_product                       \u001b[0m │ \u001b[36m    0\u001b[0m │ \u001b[36m        0\u001b[0m │ \u001b[36m                     110\u001b[0m │ \u001b[36m              167035\u001b[0m │  │\n",
       "│ │ \u001b[38;5;141muser_id                             \u001b[0m │ \u001b[36m    0\u001b[0m │ \u001b[36m        0\u001b[0m │ \u001b[36m                       1\u001b[0m │ \u001b[36m                1465\u001b[0m │  │\n",
       "│ │ \u001b[38;5;141muser_name                           \u001b[0m │ \u001b[36m    0\u001b[0m │ \u001b[36m        0\u001b[0m │ \u001b[36m                     6.8\u001b[0m │ \u001b[36m                9926\u001b[0m │  │\n",
       "│ │ \u001b[38;5;141mreview_id                           \u001b[0m │ \u001b[36m    0\u001b[0m │ \u001b[36m        0\u001b[0m │ \u001b[36m                       1\u001b[0m │ \u001b[36m                1465\u001b[0m │  │\n",
       "│ │ \u001b[38;5;141mreview_title                        \u001b[0m │ \u001b[36m    0\u001b[0m │ \u001b[36m        0\u001b[0m │ \u001b[36m                      25\u001b[0m │ \u001b[36m               36984\u001b[0m │  │\n",
       "│ │ \u001b[38;5;141mreview_content                      \u001b[0m │ \u001b[36m    0\u001b[0m │ \u001b[36m        0\u001b[0m │ \u001b[36m                     240\u001b[0m │ \u001b[36m              353988\u001b[0m │  │\n",
       "│ │ \u001b[38;5;141mimg_link                            \u001b[0m │ \u001b[36m    0\u001b[0m │ \u001b[36m        0\u001b[0m │ \u001b[36m                       1\u001b[0m │ \u001b[36m                1465\u001b[0m │  │\n",
       "│ │ \u001b[38;5;141mproduct_link                        \u001b[0m │ \u001b[36m    0\u001b[0m │ \u001b[36m        0\u001b[0m │ \u001b[36m                       1\u001b[0m │ \u001b[36m                1465\u001b[0m │  │\n",
       "│ └──────────────────────────────────────┴───────┴───────────┴──────────────────────────┴──────────────────────┘  │\n",
       "╰────────────────────────────────────────────────────── End ──────────────────────────────────────────────────────╯\n"
      ]
     },
     "metadata": {},
     "output_type": "display_data"
    }
   ],
   "source": [
    "skim(df)"
   ]
  },
  {
   "cell_type": "code",
   "execution_count": 363,
   "id": "d781c591-961c-44c2-a31a-19c27f1d4b0f",
   "metadata": {},
   "outputs": [
    {
     "data": {
      "text/html": [
       "<div>\n",
       "<style scoped>\n",
       "    .dataframe tbody tr th:only-of-type {\n",
       "        vertical-align: middle;\n",
       "    }\n",
       "\n",
       "    .dataframe tbody tr th {\n",
       "        vertical-align: top;\n",
       "    }\n",
       "\n",
       "    .dataframe thead th {\n",
       "        text-align: right;\n",
       "    }\n",
       "</style>\n",
       "<table border=\"1\" class=\"dataframe\">\n",
       "  <thead>\n",
       "    <tr style=\"text-align: right;\">\n",
       "      <th></th>\n",
       "      <th>product_id</th>\n",
       "      <th>product_name</th>\n",
       "      <th>category</th>\n",
       "      <th>discounted_price</th>\n",
       "      <th>actual_price</th>\n",
       "      <th>discount_percentage</th>\n",
       "      <th>rating</th>\n",
       "      <th>rating_count</th>\n",
       "      <th>about_product</th>\n",
       "      <th>user_id</th>\n",
       "      <th>user_name</th>\n",
       "      <th>review_id</th>\n",
       "      <th>review_title</th>\n",
       "      <th>review_content</th>\n",
       "      <th>img_link</th>\n",
       "      <th>product_link</th>\n",
       "    </tr>\n",
       "  </thead>\n",
       "  <tbody>\n",
       "    <tr>\n",
       "      <th>0</th>\n",
       "      <td>B07JW9H4J1</td>\n",
       "      <td>Wayona Nylon Braided USB to Lightning Fast Cha...</td>\n",
       "      <td>Computers&amp;Accessories|Accessories&amp;Peripherals|...</td>\n",
       "      <td>₹399</td>\n",
       "      <td>₹1,099</td>\n",
       "      <td>64%</td>\n",
       "      <td>4.2</td>\n",
       "      <td>24,269</td>\n",
       "      <td>High Compatibility : Compatible With iPhone 12...</td>\n",
       "      <td>AG3D6O4STAQKAY2UVGEUV46KN35Q,AHMY5CWJMMK5BJRBB...</td>\n",
       "      <td>Manav,Adarsh gupta,Sundeep,S.Sayeed Ahmed,jasp...</td>\n",
       "      <td>R3HXWT0LRP0NMF,R2AJM3LFTLZHFO,R6AQJGUP6P86,R1K...</td>\n",
       "      <td>Satisfied,Charging is really fast,Value for mo...</td>\n",
       "      <td>Looks durable Charging is fine tooNo complains...</td>\n",
       "      <td>https://m.media-amazon.com/images/W/WEBP_40237...</td>\n",
       "      <td>https://www.amazon.in/Wayona-Braided-WN3LG1-Sy...</td>\n",
       "    </tr>\n",
       "    <tr>\n",
       "      <th>1</th>\n",
       "      <td>B098NS6PVG</td>\n",
       "      <td>Ambrane Unbreakable 60W / 3A Fast Charging 1.5...</td>\n",
       "      <td>Computers&amp;Accessories|Accessories&amp;Peripherals|...</td>\n",
       "      <td>₹199</td>\n",
       "      <td>₹349</td>\n",
       "      <td>43%</td>\n",
       "      <td>4.0</td>\n",
       "      <td>43,994</td>\n",
       "      <td>Compatible with all Type C enabled devices, be...</td>\n",
       "      <td>AECPFYFQVRUWC3KGNLJIOREFP5LQ,AGYYVPDD7YG7FYNBX...</td>\n",
       "      <td>ArdKn,Nirbhay kumar,Sagar Viswanathan,Asp,Plac...</td>\n",
       "      <td>RGIQEG07R9HS2,R1SMWZQ86XIN8U,R2J3Y1WL29GWDE,RY...</td>\n",
       "      <td>A Good Braided Cable for Your Type C Device,Go...</td>\n",
       "      <td>I ordered this cable to connect my phone to An...</td>\n",
       "      <td>https://m.media-amazon.com/images/W/WEBP_40237...</td>\n",
       "      <td>https://www.amazon.in/Ambrane-Unbreakable-Char...</td>\n",
       "    </tr>\n",
       "    <tr>\n",
       "      <th>2</th>\n",
       "      <td>B096MSW6CT</td>\n",
       "      <td>Sounce Fast Phone Charging Cable &amp; Data Sync U...</td>\n",
       "      <td>Computers&amp;Accessories|Accessories&amp;Peripherals|...</td>\n",
       "      <td>₹199</td>\n",
       "      <td>₹1,899</td>\n",
       "      <td>90%</td>\n",
       "      <td>3.9</td>\n",
       "      <td>7,928</td>\n",
       "      <td>【 Fast Charger&amp; Data Sync】-With built-in safet...</td>\n",
       "      <td>AGU3BBQ2V2DDAMOAKGFAWDDQ6QHA,AESFLDV2PT363T2AQ...</td>\n",
       "      <td>Kunal,Himanshu,viswanath,sai niharka,saqib mal...</td>\n",
       "      <td>R3J3EQQ9TZI5ZJ,R3E7WBGK7ID0KV,RWU79XKQ6I1QF,R2...</td>\n",
       "      <td>Good speed for earlier versions,Good Product,W...</td>\n",
       "      <td>Not quite durable and sturdy,https://m.media-a...</td>\n",
       "      <td>https://m.media-amazon.com/images/W/WEBP_40237...</td>\n",
       "      <td>https://www.amazon.in/Sounce-iPhone-Charging-C...</td>\n",
       "    </tr>\n",
       "    <tr>\n",
       "      <th>3</th>\n",
       "      <td>B08HDJ86NZ</td>\n",
       "      <td>boAt Deuce USB 300 2 in 1 Type-C &amp; Micro USB S...</td>\n",
       "      <td>Computers&amp;Accessories|Accessories&amp;Peripherals|...</td>\n",
       "      <td>₹329</td>\n",
       "      <td>₹699</td>\n",
       "      <td>53%</td>\n",
       "      <td>4.2</td>\n",
       "      <td>94,363</td>\n",
       "      <td>The boAt Deuce USB 300 2 in 1 cable is compati...</td>\n",
       "      <td>AEWAZDZZJLQUYVOVGBEUKSLXHQ5A,AG5HTSFRRE6NL3M5S...</td>\n",
       "      <td>Omkar dhale,JD,HEMALATHA,Ajwadh a.,amar singh ...</td>\n",
       "      <td>R3EEUZKKK9J36I,R3HJVYCLYOY554,REDECAZ7AMPQC,R1...</td>\n",
       "      <td>Good product,Good one,Nice,Really nice product...</td>\n",
       "      <td>Good product,long wire,Charges good,Nice,I bou...</td>\n",
       "      <td>https://m.media-amazon.com/images/I/41V5FtEWPk...</td>\n",
       "      <td>https://www.amazon.in/Deuce-300-Resistant-Tang...</td>\n",
       "    </tr>\n",
       "    <tr>\n",
       "      <th>4</th>\n",
       "      <td>B08CF3B7N1</td>\n",
       "      <td>Portronics Konnect L 1.2M Fast Charging 3A 8 P...</td>\n",
       "      <td>Computers&amp;Accessories|Accessories&amp;Peripherals|...</td>\n",
       "      <td>₹154</td>\n",
       "      <td>₹399</td>\n",
       "      <td>61%</td>\n",
       "      <td>4.2</td>\n",
       "      <td>16,905</td>\n",
       "      <td>[CHARGE &amp; SYNC FUNCTION]- This cable comes wit...</td>\n",
       "      <td>AE3Q6KSUK5P75D5HFYHCRAOLODSA,AFUGIFH5ZAFXRDSZH...</td>\n",
       "      <td>rahuls6099,Swasat Borah,Ajay Wadke,Pranali,RVK...</td>\n",
       "      <td>R1BP4L2HH9TFUP,R16PVJEXKV6QZS,R2UPDB81N66T4P,R...</td>\n",
       "      <td>As good as original,Decent,Good one for second...</td>\n",
       "      <td>Bought this instead of original apple, does th...</td>\n",
       "      <td>https://m.media-amazon.com/images/W/WEBP_40237...</td>\n",
       "      <td>https://www.amazon.in/Portronics-Konnect-POR-1...</td>\n",
       "    </tr>\n",
       "  </tbody>\n",
       "</table>\n",
       "</div>"
      ],
      "text/plain": [
       "   product_id                                       product_name  \\\n",
       "0  B07JW9H4J1  Wayona Nylon Braided USB to Lightning Fast Cha...   \n",
       "1  B098NS6PVG  Ambrane Unbreakable 60W / 3A Fast Charging 1.5...   \n",
       "2  B096MSW6CT  Sounce Fast Phone Charging Cable & Data Sync U...   \n",
       "3  B08HDJ86NZ  boAt Deuce USB 300 2 in 1 Type-C & Micro USB S...   \n",
       "4  B08CF3B7N1  Portronics Konnect L 1.2M Fast Charging 3A 8 P...   \n",
       "\n",
       "                                            category discounted_price  \\\n",
       "0  Computers&Accessories|Accessories&Peripherals|...             ₹399   \n",
       "1  Computers&Accessories|Accessories&Peripherals|...             ₹199   \n",
       "2  Computers&Accessories|Accessories&Peripherals|...             ₹199   \n",
       "3  Computers&Accessories|Accessories&Peripherals|...             ₹329   \n",
       "4  Computers&Accessories|Accessories&Peripherals|...             ₹154   \n",
       "\n",
       "  actual_price discount_percentage rating rating_count  \\\n",
       "0       ₹1,099                 64%    4.2       24,269   \n",
       "1         ₹349                 43%    4.0       43,994   \n",
       "2       ₹1,899                 90%    3.9        7,928   \n",
       "3         ₹699                 53%    4.2       94,363   \n",
       "4         ₹399                 61%    4.2       16,905   \n",
       "\n",
       "                                       about_product  \\\n",
       "0  High Compatibility : Compatible With iPhone 12...   \n",
       "1  Compatible with all Type C enabled devices, be...   \n",
       "2  【 Fast Charger& Data Sync】-With built-in safet...   \n",
       "3  The boAt Deuce USB 300 2 in 1 cable is compati...   \n",
       "4  [CHARGE & SYNC FUNCTION]- This cable comes wit...   \n",
       "\n",
       "                                             user_id  \\\n",
       "0  AG3D6O4STAQKAY2UVGEUV46KN35Q,AHMY5CWJMMK5BJRBB...   \n",
       "1  AECPFYFQVRUWC3KGNLJIOREFP5LQ,AGYYVPDD7YG7FYNBX...   \n",
       "2  AGU3BBQ2V2DDAMOAKGFAWDDQ6QHA,AESFLDV2PT363T2AQ...   \n",
       "3  AEWAZDZZJLQUYVOVGBEUKSLXHQ5A,AG5HTSFRRE6NL3M5S...   \n",
       "4  AE3Q6KSUK5P75D5HFYHCRAOLODSA,AFUGIFH5ZAFXRDSZH...   \n",
       "\n",
       "                                           user_name  \\\n",
       "0  Manav,Adarsh gupta,Sundeep,S.Sayeed Ahmed,jasp...   \n",
       "1  ArdKn,Nirbhay kumar,Sagar Viswanathan,Asp,Plac...   \n",
       "2  Kunal,Himanshu,viswanath,sai niharka,saqib mal...   \n",
       "3  Omkar dhale,JD,HEMALATHA,Ajwadh a.,amar singh ...   \n",
       "4  rahuls6099,Swasat Borah,Ajay Wadke,Pranali,RVK...   \n",
       "\n",
       "                                           review_id  \\\n",
       "0  R3HXWT0LRP0NMF,R2AJM3LFTLZHFO,R6AQJGUP6P86,R1K...   \n",
       "1  RGIQEG07R9HS2,R1SMWZQ86XIN8U,R2J3Y1WL29GWDE,RY...   \n",
       "2  R3J3EQQ9TZI5ZJ,R3E7WBGK7ID0KV,RWU79XKQ6I1QF,R2...   \n",
       "3  R3EEUZKKK9J36I,R3HJVYCLYOY554,REDECAZ7AMPQC,R1...   \n",
       "4  R1BP4L2HH9TFUP,R16PVJEXKV6QZS,R2UPDB81N66T4P,R...   \n",
       "\n",
       "                                        review_title  \\\n",
       "0  Satisfied,Charging is really fast,Value for mo...   \n",
       "1  A Good Braided Cable for Your Type C Device,Go...   \n",
       "2  Good speed for earlier versions,Good Product,W...   \n",
       "3  Good product,Good one,Nice,Really nice product...   \n",
       "4  As good as original,Decent,Good one for second...   \n",
       "\n",
       "                                      review_content  \\\n",
       "0  Looks durable Charging is fine tooNo complains...   \n",
       "1  I ordered this cable to connect my phone to An...   \n",
       "2  Not quite durable and sturdy,https://m.media-a...   \n",
       "3  Good product,long wire,Charges good,Nice,I bou...   \n",
       "4  Bought this instead of original apple, does th...   \n",
       "\n",
       "                                            img_link  \\\n",
       "0  https://m.media-amazon.com/images/W/WEBP_40237...   \n",
       "1  https://m.media-amazon.com/images/W/WEBP_40237...   \n",
       "2  https://m.media-amazon.com/images/W/WEBP_40237...   \n",
       "3  https://m.media-amazon.com/images/I/41V5FtEWPk...   \n",
       "4  https://m.media-amazon.com/images/W/WEBP_40237...   \n",
       "\n",
       "                                        product_link  \n",
       "0  https://www.amazon.in/Wayona-Braided-WN3LG1-Sy...  \n",
       "1  https://www.amazon.in/Ambrane-Unbreakable-Char...  \n",
       "2  https://www.amazon.in/Sounce-iPhone-Charging-C...  \n",
       "3  https://www.amazon.in/Deuce-300-Resistant-Tang...  \n",
       "4  https://www.amazon.in/Portronics-Konnect-POR-1...  "
      ]
     },
     "execution_count": 363,
     "metadata": {},
     "output_type": "execute_result"
    }
   ],
   "source": [
    "df.head()"
   ]
  },
  {
   "cell_type": "code",
   "execution_count": 364,
   "id": "f237c0b2-93e6-4cde-9258-5bdff01fac92",
   "metadata": {},
   "outputs": [
    {
     "data": {
      "text/plain": [
       "Index(['product_id', 'product_name', 'category', 'discounted_price',\n",
       "       'actual_price', 'discount_percentage', 'rating', 'rating_count',\n",
       "       'about_product', 'user_id', 'user_name', 'review_id', 'review_title',\n",
       "       'review_content', 'img_link', 'product_link'],\n",
       "      dtype='object')"
      ]
     },
     "execution_count": 364,
     "metadata": {},
     "output_type": "execute_result"
    }
   ],
   "source": [
    "df.columns"
   ]
  },
  {
   "cell_type": "markdown",
   "id": "c14799aa-847f-4c61-912b-b51f3bd7b9e7",
   "metadata": {},
   "source": [
    "<a id='organizing-columns'></a>\n",
    "# <font color='midnightblue'> <b>Organizing Columns</b><font color='black'> "
   ]
  },
  {
   "cell_type": "markdown",
   "id": "ba9f2285-73cd-4709-9a17-6051604b269d",
   "metadata": {},
   "source": [
    "<a id='import-library'></a>\n",
    "## <font color='midnightblue'> <b>Droping the uneeded columns</b><font color='black'>  "
   ]
  },
  {
   "cell_type": "code",
   "execution_count": 366,
   "id": "ba0d0e4a-cffe-41da-801d-5ad8b46e64e5",
   "metadata": {},
   "outputs": [
    {
     "data": {
      "text/html": [
       "<div>\n",
       "<style scoped>\n",
       "    .dataframe tbody tr th:only-of-type {\n",
       "        vertical-align: middle;\n",
       "    }\n",
       "\n",
       "    .dataframe tbody tr th {\n",
       "        vertical-align: top;\n",
       "    }\n",
       "\n",
       "    .dataframe thead th {\n",
       "        text-align: right;\n",
       "    }\n",
       "</style>\n",
       "<table border=\"1\" class=\"dataframe\">\n",
       "  <thead>\n",
       "    <tr style=\"text-align: right;\">\n",
       "      <th></th>\n",
       "      <th>product_name</th>\n",
       "      <th>category</th>\n",
       "      <th>discounted_price</th>\n",
       "      <th>actual_price</th>\n",
       "      <th>discount_percentage</th>\n",
       "      <th>rating</th>\n",
       "      <th>rating_count</th>\n",
       "    </tr>\n",
       "  </thead>\n",
       "  <tbody>\n",
       "    <tr>\n",
       "      <th>0</th>\n",
       "      <td>Wayona Nylon Braided USB to Lightning Fast Cha...</td>\n",
       "      <td>Computers&amp;Accessories|Accessories&amp;Peripherals|...</td>\n",
       "      <td>₹399</td>\n",
       "      <td>₹1,099</td>\n",
       "      <td>64%</td>\n",
       "      <td>4.2</td>\n",
       "      <td>24,269</td>\n",
       "    </tr>\n",
       "    <tr>\n",
       "      <th>1</th>\n",
       "      <td>Ambrane Unbreakable 60W / 3A Fast Charging 1.5...</td>\n",
       "      <td>Computers&amp;Accessories|Accessories&amp;Peripherals|...</td>\n",
       "      <td>₹199</td>\n",
       "      <td>₹349</td>\n",
       "      <td>43%</td>\n",
       "      <td>4.0</td>\n",
       "      <td>43,994</td>\n",
       "    </tr>\n",
       "    <tr>\n",
       "      <th>2</th>\n",
       "      <td>Sounce Fast Phone Charging Cable &amp; Data Sync U...</td>\n",
       "      <td>Computers&amp;Accessories|Accessories&amp;Peripherals|...</td>\n",
       "      <td>₹199</td>\n",
       "      <td>₹1,899</td>\n",
       "      <td>90%</td>\n",
       "      <td>3.9</td>\n",
       "      <td>7,928</td>\n",
       "    </tr>\n",
       "    <tr>\n",
       "      <th>3</th>\n",
       "      <td>boAt Deuce USB 300 2 in 1 Type-C &amp; Micro USB S...</td>\n",
       "      <td>Computers&amp;Accessories|Accessories&amp;Peripherals|...</td>\n",
       "      <td>₹329</td>\n",
       "      <td>₹699</td>\n",
       "      <td>53%</td>\n",
       "      <td>4.2</td>\n",
       "      <td>94,363</td>\n",
       "    </tr>\n",
       "    <tr>\n",
       "      <th>4</th>\n",
       "      <td>Portronics Konnect L 1.2M Fast Charging 3A 8 P...</td>\n",
       "      <td>Computers&amp;Accessories|Accessories&amp;Peripherals|...</td>\n",
       "      <td>₹154</td>\n",
       "      <td>₹399</td>\n",
       "      <td>61%</td>\n",
       "      <td>4.2</td>\n",
       "      <td>16,905</td>\n",
       "    </tr>\n",
       "  </tbody>\n",
       "</table>\n",
       "</div>"
      ],
      "text/plain": [
       "                                        product_name  \\\n",
       "0  Wayona Nylon Braided USB to Lightning Fast Cha...   \n",
       "1  Ambrane Unbreakable 60W / 3A Fast Charging 1.5...   \n",
       "2  Sounce Fast Phone Charging Cable & Data Sync U...   \n",
       "3  boAt Deuce USB 300 2 in 1 Type-C & Micro USB S...   \n",
       "4  Portronics Konnect L 1.2M Fast Charging 3A 8 P...   \n",
       "\n",
       "                                            category discounted_price  \\\n",
       "0  Computers&Accessories|Accessories&Peripherals|...             ₹399   \n",
       "1  Computers&Accessories|Accessories&Peripherals|...             ₹199   \n",
       "2  Computers&Accessories|Accessories&Peripherals|...             ₹199   \n",
       "3  Computers&Accessories|Accessories&Peripherals|...             ₹329   \n",
       "4  Computers&Accessories|Accessories&Peripherals|...             ₹154   \n",
       "\n",
       "  actual_price discount_percentage rating rating_count  \n",
       "0       ₹1,099                 64%    4.2       24,269  \n",
       "1         ₹349                 43%    4.0       43,994  \n",
       "2       ₹1,899                 90%    3.9        7,928  \n",
       "3         ₹699                 53%    4.2       94,363  \n",
       "4         ₹399                 61%    4.2       16,905  "
      ]
     },
     "execution_count": 366,
     "metadata": {},
     "output_type": "execute_result"
    }
   ],
   "source": [
    "df = df.drop([\"about_product\",\"review_content\",'review_title','img_link','product_link','review_id','product_id','user_name','user_id' ],axis = 1)\n",
    "df.head()"
   ]
  },
  {
   "cell_type": "markdown",
   "id": "f143ff97-a240-459e-b6fb-bb94239969cd",
   "metadata": {},
   "source": [
    "<a id='import-library'></a>\n",
    "## <font color='midnightblue'> <b>Creating new columns</b><font color='black'> "
   ]
  },
  {
   "cell_type": "code",
   "execution_count": 368,
   "id": "dd4f2d59-6c50-4a0d-8619-dd1e670befff",
   "metadata": {},
   "outputs": [],
   "source": [
    "df['product_type'] = df['category'].str.split(\"|\").str.get(-1)"
   ]
  },
  {
   "cell_type": "code",
   "execution_count": 369,
   "id": "5c607707-bb03-4ae0-b15b-1b24fc3ff45c",
   "metadata": {},
   "outputs": [
    {
     "data": {
      "text/html": [
       "<div>\n",
       "<style scoped>\n",
       "    .dataframe tbody tr th:only-of-type {\n",
       "        vertical-align: middle;\n",
       "    }\n",
       "\n",
       "    .dataframe tbody tr th {\n",
       "        vertical-align: top;\n",
       "    }\n",
       "\n",
       "    .dataframe thead th {\n",
       "        text-align: right;\n",
       "    }\n",
       "</style>\n",
       "<table border=\"1\" class=\"dataframe\">\n",
       "  <thead>\n",
       "    <tr style=\"text-align: right;\">\n",
       "      <th></th>\n",
       "      <th>product_name</th>\n",
       "      <th>category</th>\n",
       "      <th>discounted_price</th>\n",
       "      <th>actual_price</th>\n",
       "      <th>discount_percentage</th>\n",
       "      <th>rating</th>\n",
       "      <th>rating_count</th>\n",
       "      <th>product_type</th>\n",
       "    </tr>\n",
       "  </thead>\n",
       "  <tbody>\n",
       "    <tr>\n",
       "      <th>0</th>\n",
       "      <td>Wayona Nylon Braided USB to Lightning Fast Cha...</td>\n",
       "      <td>Computers&amp;Accessories|Accessories&amp;Peripherals|...</td>\n",
       "      <td>₹399</td>\n",
       "      <td>₹1,099</td>\n",
       "      <td>64%</td>\n",
       "      <td>4.2</td>\n",
       "      <td>24,269</td>\n",
       "      <td>USBCables</td>\n",
       "    </tr>\n",
       "    <tr>\n",
       "      <th>1</th>\n",
       "      <td>Ambrane Unbreakable 60W / 3A Fast Charging 1.5...</td>\n",
       "      <td>Computers&amp;Accessories|Accessories&amp;Peripherals|...</td>\n",
       "      <td>₹199</td>\n",
       "      <td>₹349</td>\n",
       "      <td>43%</td>\n",
       "      <td>4.0</td>\n",
       "      <td>43,994</td>\n",
       "      <td>USBCables</td>\n",
       "    </tr>\n",
       "    <tr>\n",
       "      <th>2</th>\n",
       "      <td>Sounce Fast Phone Charging Cable &amp; Data Sync U...</td>\n",
       "      <td>Computers&amp;Accessories|Accessories&amp;Peripherals|...</td>\n",
       "      <td>₹199</td>\n",
       "      <td>₹1,899</td>\n",
       "      <td>90%</td>\n",
       "      <td>3.9</td>\n",
       "      <td>7,928</td>\n",
       "      <td>USBCables</td>\n",
       "    </tr>\n",
       "    <tr>\n",
       "      <th>3</th>\n",
       "      <td>boAt Deuce USB 300 2 in 1 Type-C &amp; Micro USB S...</td>\n",
       "      <td>Computers&amp;Accessories|Accessories&amp;Peripherals|...</td>\n",
       "      <td>₹329</td>\n",
       "      <td>₹699</td>\n",
       "      <td>53%</td>\n",
       "      <td>4.2</td>\n",
       "      <td>94,363</td>\n",
       "      <td>USBCables</td>\n",
       "    </tr>\n",
       "    <tr>\n",
       "      <th>4</th>\n",
       "      <td>Portronics Konnect L 1.2M Fast Charging 3A 8 P...</td>\n",
       "      <td>Computers&amp;Accessories|Accessories&amp;Peripherals|...</td>\n",
       "      <td>₹154</td>\n",
       "      <td>₹399</td>\n",
       "      <td>61%</td>\n",
       "      <td>4.2</td>\n",
       "      <td>16,905</td>\n",
       "      <td>USBCables</td>\n",
       "    </tr>\n",
       "  </tbody>\n",
       "</table>\n",
       "</div>"
      ],
      "text/plain": [
       "                                        product_name  \\\n",
       "0  Wayona Nylon Braided USB to Lightning Fast Cha...   \n",
       "1  Ambrane Unbreakable 60W / 3A Fast Charging 1.5...   \n",
       "2  Sounce Fast Phone Charging Cable & Data Sync U...   \n",
       "3  boAt Deuce USB 300 2 in 1 Type-C & Micro USB S...   \n",
       "4  Portronics Konnect L 1.2M Fast Charging 3A 8 P...   \n",
       "\n",
       "                                            category discounted_price  \\\n",
       "0  Computers&Accessories|Accessories&Peripherals|...             ₹399   \n",
       "1  Computers&Accessories|Accessories&Peripherals|...             ₹199   \n",
       "2  Computers&Accessories|Accessories&Peripherals|...             ₹199   \n",
       "3  Computers&Accessories|Accessories&Peripherals|...             ₹329   \n",
       "4  Computers&Accessories|Accessories&Peripherals|...             ₹154   \n",
       "\n",
       "  actual_price discount_percentage rating rating_count product_type  \n",
       "0       ₹1,099                 64%    4.2       24,269    USBCables  \n",
       "1         ₹349                 43%    4.0       43,994    USBCables  \n",
       "2       ₹1,899                 90%    3.9        7,928    USBCables  \n",
       "3         ₹699                 53%    4.2       94,363    USBCables  \n",
       "4         ₹399                 61%    4.2       16,905    USBCables  "
      ]
     },
     "execution_count": 369,
     "metadata": {},
     "output_type": "execute_result"
    }
   ],
   "source": [
    "df.head()"
   ]
  },
  {
   "cell_type": "code",
   "execution_count": 370,
   "id": "a71f8ac1-31dc-47c7-9b6d-355f6db0eb9b",
   "metadata": {},
   "outputs": [],
   "source": [
    "df['category'] = df['category'].str.split(\"|\").str.get(0)"
   ]
  },
  {
   "cell_type": "code",
   "execution_count": 371,
   "id": "8597eb0f-14c3-4ce1-8d5b-75118a7ce5f1",
   "metadata": {},
   "outputs": [
    {
     "data": {
      "text/html": [
       "<div>\n",
       "<style scoped>\n",
       "    .dataframe tbody tr th:only-of-type {\n",
       "        vertical-align: middle;\n",
       "    }\n",
       "\n",
       "    .dataframe tbody tr th {\n",
       "        vertical-align: top;\n",
       "    }\n",
       "\n",
       "    .dataframe thead th {\n",
       "        text-align: right;\n",
       "    }\n",
       "</style>\n",
       "<table border=\"1\" class=\"dataframe\">\n",
       "  <thead>\n",
       "    <tr style=\"text-align: right;\">\n",
       "      <th></th>\n",
       "      <th>product_name</th>\n",
       "      <th>category</th>\n",
       "      <th>discounted_price</th>\n",
       "      <th>actual_price</th>\n",
       "      <th>discount_percentage</th>\n",
       "      <th>rating</th>\n",
       "      <th>rating_count</th>\n",
       "      <th>product_type</th>\n",
       "    </tr>\n",
       "  </thead>\n",
       "  <tbody>\n",
       "    <tr>\n",
       "      <th>0</th>\n",
       "      <td>Wayona Nylon Braided USB to Lightning Fast Cha...</td>\n",
       "      <td>Computers&amp;Accessories</td>\n",
       "      <td>₹399</td>\n",
       "      <td>₹1,099</td>\n",
       "      <td>64%</td>\n",
       "      <td>4.2</td>\n",
       "      <td>24,269</td>\n",
       "      <td>USBCables</td>\n",
       "    </tr>\n",
       "    <tr>\n",
       "      <th>1</th>\n",
       "      <td>Ambrane Unbreakable 60W / 3A Fast Charging 1.5...</td>\n",
       "      <td>Computers&amp;Accessories</td>\n",
       "      <td>₹199</td>\n",
       "      <td>₹349</td>\n",
       "      <td>43%</td>\n",
       "      <td>4.0</td>\n",
       "      <td>43,994</td>\n",
       "      <td>USBCables</td>\n",
       "    </tr>\n",
       "    <tr>\n",
       "      <th>2</th>\n",
       "      <td>Sounce Fast Phone Charging Cable &amp; Data Sync U...</td>\n",
       "      <td>Computers&amp;Accessories</td>\n",
       "      <td>₹199</td>\n",
       "      <td>₹1,899</td>\n",
       "      <td>90%</td>\n",
       "      <td>3.9</td>\n",
       "      <td>7,928</td>\n",
       "      <td>USBCables</td>\n",
       "    </tr>\n",
       "    <tr>\n",
       "      <th>3</th>\n",
       "      <td>boAt Deuce USB 300 2 in 1 Type-C &amp; Micro USB S...</td>\n",
       "      <td>Computers&amp;Accessories</td>\n",
       "      <td>₹329</td>\n",
       "      <td>₹699</td>\n",
       "      <td>53%</td>\n",
       "      <td>4.2</td>\n",
       "      <td>94,363</td>\n",
       "      <td>USBCables</td>\n",
       "    </tr>\n",
       "    <tr>\n",
       "      <th>4</th>\n",
       "      <td>Portronics Konnect L 1.2M Fast Charging 3A 8 P...</td>\n",
       "      <td>Computers&amp;Accessories</td>\n",
       "      <td>₹154</td>\n",
       "      <td>₹399</td>\n",
       "      <td>61%</td>\n",
       "      <td>4.2</td>\n",
       "      <td>16,905</td>\n",
       "      <td>USBCables</td>\n",
       "    </tr>\n",
       "  </tbody>\n",
       "</table>\n",
       "</div>"
      ],
      "text/plain": [
       "                                        product_name               category  \\\n",
       "0  Wayona Nylon Braided USB to Lightning Fast Cha...  Computers&Accessories   \n",
       "1  Ambrane Unbreakable 60W / 3A Fast Charging 1.5...  Computers&Accessories   \n",
       "2  Sounce Fast Phone Charging Cable & Data Sync U...  Computers&Accessories   \n",
       "3  boAt Deuce USB 300 2 in 1 Type-C & Micro USB S...  Computers&Accessories   \n",
       "4  Portronics Konnect L 1.2M Fast Charging 3A 8 P...  Computers&Accessories   \n",
       "\n",
       "  discounted_price actual_price discount_percentage rating rating_count  \\\n",
       "0             ₹399       ₹1,099                 64%    4.2       24,269   \n",
       "1             ₹199         ₹349                 43%    4.0       43,994   \n",
       "2             ₹199       ₹1,899                 90%    3.9        7,928   \n",
       "3             ₹329         ₹699                 53%    4.2       94,363   \n",
       "4             ₹154         ₹399                 61%    4.2       16,905   \n",
       "\n",
       "  product_type  \n",
       "0    USBCables  \n",
       "1    USBCables  \n",
       "2    USBCables  \n",
       "3    USBCables  \n",
       "4    USBCables  "
      ]
     },
     "execution_count": 371,
     "metadata": {},
     "output_type": "execute_result"
    }
   ],
   "source": [
    "df.head()"
   ]
  },
  {
   "cell_type": "code",
   "execution_count": 372,
   "id": "d2b52278-ae5d-473a-93f1-156f356d1f1b",
   "metadata": {},
   "outputs": [],
   "source": [
    "df[\"discounted_price\"] = df[\"discounted_price\"].apply(lambda x : x.replace(\"₹\",\"\"))\n",
    "df[\"actual_price\"] =  df[\"actual_price\"].apply(lambda x : x.replace(\"₹\",\"\"))"
   ]
  },
  {
   "cell_type": "code",
   "execution_count": 373,
   "id": "7bb0dc60-a0d2-4646-9e6d-f81d15990016",
   "metadata": {},
   "outputs": [],
   "source": [
    "df[\"discounted_price\"] = df[\"discounted_price\"].apply(lambda x : x.replace(\",\",\".\"))\n",
    "df[\"actual_price\"] =  df[\"actual_price\"].apply(lambda x : x.replace(\",\",\".\"))"
   ]
  },
  {
   "cell_type": "code",
   "execution_count": 374,
   "id": "3f9b2b85-5289-4435-8e61-2031b523454b",
   "metadata": {},
   "outputs": [],
   "source": [
    "df['id'] = df.index"
   ]
  },
  {
   "cell_type": "code",
   "execution_count": 375,
   "id": "853f57f3-65a1-4be5-a880-43be26af9369",
   "metadata": {
    "scrolled": true
   },
   "outputs": [
    {
     "data": {
      "text/html": [
       "<div>\n",
       "<style scoped>\n",
       "    .dataframe tbody tr th:only-of-type {\n",
       "        vertical-align: middle;\n",
       "    }\n",
       "\n",
       "    .dataframe tbody tr th {\n",
       "        vertical-align: top;\n",
       "    }\n",
       "\n",
       "    .dataframe thead th {\n",
       "        text-align: right;\n",
       "    }\n",
       "</style>\n",
       "<table border=\"1\" class=\"dataframe\">\n",
       "  <thead>\n",
       "    <tr style=\"text-align: right;\">\n",
       "      <th></th>\n",
       "      <th>product_name</th>\n",
       "      <th>category</th>\n",
       "      <th>discounted_price</th>\n",
       "      <th>actual_price</th>\n",
       "      <th>discount_percentage</th>\n",
       "      <th>rating</th>\n",
       "      <th>rating_count</th>\n",
       "      <th>product_type</th>\n",
       "      <th>id</th>\n",
       "    </tr>\n",
       "  </thead>\n",
       "  <tbody>\n",
       "    <tr>\n",
       "      <th>0</th>\n",
       "      <td>Wayona Nylon Braided USB to Lightning Fast Cha...</td>\n",
       "      <td>Computers&amp;Accessories</td>\n",
       "      <td>399</td>\n",
       "      <td>1.099</td>\n",
       "      <td>64%</td>\n",
       "      <td>4.2</td>\n",
       "      <td>24,269</td>\n",
       "      <td>USBCables</td>\n",
       "      <td>0</td>\n",
       "    </tr>\n",
       "    <tr>\n",
       "      <th>1</th>\n",
       "      <td>Ambrane Unbreakable 60W / 3A Fast Charging 1.5...</td>\n",
       "      <td>Computers&amp;Accessories</td>\n",
       "      <td>199</td>\n",
       "      <td>349</td>\n",
       "      <td>43%</td>\n",
       "      <td>4.0</td>\n",
       "      <td>43,994</td>\n",
       "      <td>USBCables</td>\n",
       "      <td>1</td>\n",
       "    </tr>\n",
       "    <tr>\n",
       "      <th>2</th>\n",
       "      <td>Sounce Fast Phone Charging Cable &amp; Data Sync U...</td>\n",
       "      <td>Computers&amp;Accessories</td>\n",
       "      <td>199</td>\n",
       "      <td>1.899</td>\n",
       "      <td>90%</td>\n",
       "      <td>3.9</td>\n",
       "      <td>7,928</td>\n",
       "      <td>USBCables</td>\n",
       "      <td>2</td>\n",
       "    </tr>\n",
       "    <tr>\n",
       "      <th>3</th>\n",
       "      <td>boAt Deuce USB 300 2 in 1 Type-C &amp; Micro USB S...</td>\n",
       "      <td>Computers&amp;Accessories</td>\n",
       "      <td>329</td>\n",
       "      <td>699</td>\n",
       "      <td>53%</td>\n",
       "      <td>4.2</td>\n",
       "      <td>94,363</td>\n",
       "      <td>USBCables</td>\n",
       "      <td>3</td>\n",
       "    </tr>\n",
       "    <tr>\n",
       "      <th>4</th>\n",
       "      <td>Portronics Konnect L 1.2M Fast Charging 3A 8 P...</td>\n",
       "      <td>Computers&amp;Accessories</td>\n",
       "      <td>154</td>\n",
       "      <td>399</td>\n",
       "      <td>61%</td>\n",
       "      <td>4.2</td>\n",
       "      <td>16,905</td>\n",
       "      <td>USBCables</td>\n",
       "      <td>4</td>\n",
       "    </tr>\n",
       "  </tbody>\n",
       "</table>\n",
       "</div>"
      ],
      "text/plain": [
       "                                        product_name               category  \\\n",
       "0  Wayona Nylon Braided USB to Lightning Fast Cha...  Computers&Accessories   \n",
       "1  Ambrane Unbreakable 60W / 3A Fast Charging 1.5...  Computers&Accessories   \n",
       "2  Sounce Fast Phone Charging Cable & Data Sync U...  Computers&Accessories   \n",
       "3  boAt Deuce USB 300 2 in 1 Type-C & Micro USB S...  Computers&Accessories   \n",
       "4  Portronics Konnect L 1.2M Fast Charging 3A 8 P...  Computers&Accessories   \n",
       "\n",
       "  discounted_price actual_price discount_percentage rating rating_count  \\\n",
       "0              399        1.099                 64%    4.2       24,269   \n",
       "1              199          349                 43%    4.0       43,994   \n",
       "2              199        1.899                 90%    3.9        7,928   \n",
       "3              329          699                 53%    4.2       94,363   \n",
       "4              154          399                 61%    4.2       16,905   \n",
       "\n",
       "  product_type  id  \n",
       "0    USBCables   0  \n",
       "1    USBCables   1  \n",
       "2    USBCables   2  \n",
       "3    USBCables   3  \n",
       "4    USBCables   4  "
      ]
     },
     "execution_count": 375,
     "metadata": {},
     "output_type": "execute_result"
    }
   ],
   "source": [
    "df.head()"
   ]
  },
  {
   "cell_type": "code",
   "execution_count": null,
   "id": "3fd7b3f6-1de6-49a6-ac21-d53f6c27ce42",
   "metadata": {},
   "outputs": [],
   "source": []
  },
  {
   "cell_type": "markdown",
   "id": "1300ac31-487a-4445-b01b-e3e8300faeb7",
   "metadata": {},
   "source": [
    "<a id='import-library'></a>\n",
    "## <font color='midnightblue'> <b>Chancing dtypes of columns</b><font color='black'>  "
   ]
  },
  {
   "cell_type": "code",
   "execution_count": 377,
   "id": "1e44fc10-6c1d-4e7d-8c21-054ea8840fa5",
   "metadata": {},
   "outputs": [
    {
     "data": {
      "text/plain": [
       "product_name           object\n",
       "category               object\n",
       "discounted_price       object\n",
       "actual_price           object\n",
       "discount_percentage    object\n",
       "rating                 object\n",
       "rating_count           object\n",
       "product_type           object\n",
       "id                      int64\n",
       "dtype: object"
      ]
     },
     "execution_count": 377,
     "metadata": {},
     "output_type": "execute_result"
    }
   ],
   "source": [
    "df.dtypes"
   ]
  },
  {
   "cell_type": "markdown",
   "id": "e8b44641-cd98-4617-a022-9fc7cdda2abe",
   "metadata": {},
   "source": [
    "<a id='import-library'></a>\n",
    "## <font color='midnightblue'> <b>Column discounted_price</b><font color='black'>  "
   ]
  },
  {
   "cell_type": "code",
   "execution_count": 379,
   "id": "d4bb429f-690e-4486-8328-f56bfb042907",
   "metadata": {},
   "outputs": [
    {
     "data": {
      "text/html": [
       "<div>\n",
       "<style scoped>\n",
       "    .dataframe tbody tr th:only-of-type {\n",
       "        vertical-align: middle;\n",
       "    }\n",
       "\n",
       "    .dataframe tbody tr th {\n",
       "        vertical-align: top;\n",
       "    }\n",
       "\n",
       "    .dataframe thead th {\n",
       "        text-align: right;\n",
       "    }\n",
       "</style>\n",
       "<table border=\"1\" class=\"dataframe\">\n",
       "  <thead>\n",
       "    <tr style=\"text-align: right;\">\n",
       "      <th></th>\n",
       "      <th>product_name</th>\n",
       "      <th>category</th>\n",
       "      <th>discounted_price</th>\n",
       "      <th>actual_price</th>\n",
       "      <th>discount_percentage</th>\n",
       "      <th>rating</th>\n",
       "      <th>rating_count</th>\n",
       "      <th>product_type</th>\n",
       "      <th>id</th>\n",
       "    </tr>\n",
       "  </thead>\n",
       "  <tbody>\n",
       "    <tr>\n",
       "      <th>1205</th>\n",
       "      <td>Butterfly Smart Wet Grinder, 2L (White) with C...</td>\n",
       "      <td>Home&amp;Kitchen</td>\n",
       "      <td>3.657.66</td>\n",
       "      <td>5.156</td>\n",
       "      <td>29%</td>\n",
       "      <td>3.9</td>\n",
       "      <td>12,837</td>\n",
       "      <td>WetGrinders</td>\n",
       "      <td>1205</td>\n",
       "    </tr>\n",
       "  </tbody>\n",
       "</table>\n",
       "</div>"
      ],
      "text/plain": [
       "                                           product_name      category  \\\n",
       "1205  Butterfly Smart Wet Grinder, 2L (White) with C...  Home&Kitchen   \n",
       "\n",
       "     discounted_price actual_price discount_percentage rating rating_count  \\\n",
       "1205         3.657.66        5.156                 29%    3.9       12,837   \n",
       "\n",
       "     product_type    id  \n",
       "1205  WetGrinders  1205  "
      ]
     },
     "execution_count": 379,
     "metadata": {},
     "output_type": "execute_result"
    }
   ],
   "source": [
    "df[df.discounted_price == '3.657.66']"
   ]
  },
  {
   "cell_type": "code",
   "execution_count": 380,
   "id": "dd7fb428-c5c6-44ff-9fb0-1120773b3751",
   "metadata": {},
   "outputs": [],
   "source": [
    "df.discounted_price = df.discounted_price.str.split(\".\").str.get(0) +\".\"+ df.discounted_price.str.split(\".\").str.get(1).fillna(\"0\")"
   ]
  },
  {
   "cell_type": "code",
   "execution_count": 381,
   "id": "4d212283-f6c5-4819-90e0-bab42879a044",
   "metadata": {},
   "outputs": [
    {
     "data": {
      "text/html": [
       "<div>\n",
       "<style scoped>\n",
       "    .dataframe tbody tr th:only-of-type {\n",
       "        vertical-align: middle;\n",
       "    }\n",
       "\n",
       "    .dataframe tbody tr th {\n",
       "        vertical-align: top;\n",
       "    }\n",
       "\n",
       "    .dataframe thead th {\n",
       "        text-align: right;\n",
       "    }\n",
       "</style>\n",
       "<table border=\"1\" class=\"dataframe\">\n",
       "  <thead>\n",
       "    <tr style=\"text-align: right;\">\n",
       "      <th></th>\n",
       "      <th>product_name</th>\n",
       "      <th>category</th>\n",
       "      <th>discounted_price</th>\n",
       "      <th>actual_price</th>\n",
       "      <th>discount_percentage</th>\n",
       "      <th>rating</th>\n",
       "      <th>rating_count</th>\n",
       "      <th>product_type</th>\n",
       "      <th>id</th>\n",
       "    </tr>\n",
       "  </thead>\n",
       "  <tbody>\n",
       "    <tr>\n",
       "      <th>0</th>\n",
       "      <td>Wayona Nylon Braided USB to Lightning Fast Cha...</td>\n",
       "      <td>Computers&amp;Accessories</td>\n",
       "      <td>399.0</td>\n",
       "      <td>1.099</td>\n",
       "      <td>64%</td>\n",
       "      <td>4.2</td>\n",
       "      <td>24,269</td>\n",
       "      <td>USBCables</td>\n",
       "      <td>0</td>\n",
       "    </tr>\n",
       "    <tr>\n",
       "      <th>1</th>\n",
       "      <td>Ambrane Unbreakable 60W / 3A Fast Charging 1.5...</td>\n",
       "      <td>Computers&amp;Accessories</td>\n",
       "      <td>199.0</td>\n",
       "      <td>349</td>\n",
       "      <td>43%</td>\n",
       "      <td>4.0</td>\n",
       "      <td>43,994</td>\n",
       "      <td>USBCables</td>\n",
       "      <td>1</td>\n",
       "    </tr>\n",
       "    <tr>\n",
       "      <th>2</th>\n",
       "      <td>Sounce Fast Phone Charging Cable &amp; Data Sync U...</td>\n",
       "      <td>Computers&amp;Accessories</td>\n",
       "      <td>199.0</td>\n",
       "      <td>1.899</td>\n",
       "      <td>90%</td>\n",
       "      <td>3.9</td>\n",
       "      <td>7,928</td>\n",
       "      <td>USBCables</td>\n",
       "      <td>2</td>\n",
       "    </tr>\n",
       "    <tr>\n",
       "      <th>3</th>\n",
       "      <td>boAt Deuce USB 300 2 in 1 Type-C &amp; Micro USB S...</td>\n",
       "      <td>Computers&amp;Accessories</td>\n",
       "      <td>329.0</td>\n",
       "      <td>699</td>\n",
       "      <td>53%</td>\n",
       "      <td>4.2</td>\n",
       "      <td>94,363</td>\n",
       "      <td>USBCables</td>\n",
       "      <td>3</td>\n",
       "    </tr>\n",
       "    <tr>\n",
       "      <th>4</th>\n",
       "      <td>Portronics Konnect L 1.2M Fast Charging 3A 8 P...</td>\n",
       "      <td>Computers&amp;Accessories</td>\n",
       "      <td>154.0</td>\n",
       "      <td>399</td>\n",
       "      <td>61%</td>\n",
       "      <td>4.2</td>\n",
       "      <td>16,905</td>\n",
       "      <td>USBCables</td>\n",
       "      <td>4</td>\n",
       "    </tr>\n",
       "  </tbody>\n",
       "</table>\n",
       "</div>"
      ],
      "text/plain": [
       "                                        product_name               category  \\\n",
       "0  Wayona Nylon Braided USB to Lightning Fast Cha...  Computers&Accessories   \n",
       "1  Ambrane Unbreakable 60W / 3A Fast Charging 1.5...  Computers&Accessories   \n",
       "2  Sounce Fast Phone Charging Cable & Data Sync U...  Computers&Accessories   \n",
       "3  boAt Deuce USB 300 2 in 1 Type-C & Micro USB S...  Computers&Accessories   \n",
       "4  Portronics Konnect L 1.2M Fast Charging 3A 8 P...  Computers&Accessories   \n",
       "\n",
       "  discounted_price actual_price discount_percentage rating rating_count  \\\n",
       "0            399.0        1.099                 64%    4.2       24,269   \n",
       "1            199.0          349                 43%    4.0       43,994   \n",
       "2            199.0        1.899                 90%    3.9        7,928   \n",
       "3            329.0          699                 53%    4.2       94,363   \n",
       "4            154.0          399                 61%    4.2       16,905   \n",
       "\n",
       "  product_type  id  \n",
       "0    USBCables   0  \n",
       "1    USBCables   1  \n",
       "2    USBCables   2  \n",
       "3    USBCables   3  \n",
       "4    USBCables   4  "
      ]
     },
     "execution_count": 381,
     "metadata": {},
     "output_type": "execute_result"
    }
   ],
   "source": [
    "df.head()"
   ]
  },
  {
   "cell_type": "code",
   "execution_count": 382,
   "id": "2bf99dfd-e46b-4191-9e7b-d056a5e60093",
   "metadata": {},
   "outputs": [],
   "source": [
    "df.discounted_price = df.discounted_price.astype(float)"
   ]
  },
  {
   "cell_type": "markdown",
   "id": "ab3a957d-c3e8-4336-b4c4-90879985461a",
   "metadata": {},
   "source": [
    "<a id='import-library'></a>\n",
    "## <font color='midnightblue'> <b>Column actual_price</b><font color='black'>  "
   ]
  },
  {
   "cell_type": "code",
   "execution_count": 384,
   "id": "0cf1a65e-cedd-40fd-94cc-6eb11dbda797",
   "metadata": {},
   "outputs": [],
   "source": [
    "df.actual_price = df.actual_price.str.split(\".\").str.get(0) +\".\"+ df.actual_price.str.split(\".\").str.get(1).fillna(\"0\")"
   ]
  },
  {
   "cell_type": "code",
   "execution_count": 385,
   "id": "69996464-e461-461f-938b-685861f83e63",
   "metadata": {},
   "outputs": [],
   "source": [
    "df.actual_price = df.actual_price.astype(float)"
   ]
  },
  {
   "cell_type": "markdown",
   "id": "30e71b24-7181-4391-a0dd-e1b3f8a52c0e",
   "metadata": {},
   "source": [
    "<a id='import-library'></a>\n",
    "## <font color='midnightblue'> <b>Column rating</b><font color='black'>  "
   ]
  },
  {
   "cell_type": "code",
   "execution_count": 387,
   "id": "3b1fb575-8719-47db-9356-5abf23575c60",
   "metadata": {},
   "outputs": [],
   "source": [
    "df.rating = df.rating.apply(lambda x : x.replace(\"|\", \"NaN\" ))"
   ]
  },
  {
   "cell_type": "code",
   "execution_count": 388,
   "id": "05accc24-1956-4155-b636-25b6bef5f813",
   "metadata": {},
   "outputs": [],
   "source": [
    "df['rating'] = df['rating'].apply(lambda x: x.replace(\",\", \".\"))"
   ]
  },
  {
   "cell_type": "code",
   "execution_count": 389,
   "id": "69609106-26c1-490c-82bf-868582d054bf",
   "metadata": {},
   "outputs": [],
   "source": [
    "df.rating = df.rating.astype(float)"
   ]
  },
  {
   "cell_type": "markdown",
   "id": "acbb296f-2894-4e9f-b79d-6f962c4c437e",
   "metadata": {},
   "source": [
    "<a id='import-library'></a>\n",
    "## <font color='midnightblue'> <b>Column rating_count</b><font color='black'>  "
   ]
  },
  {
   "cell_type": "code",
   "execution_count": 426,
   "id": "682d18b9-cafe-4f5c-856b-82d22ff4759a",
   "metadata": {},
   "outputs": [],
   "source": [
    "df.rating_count = df.rating_count.str.split(\".\").str.get(0) +\".\"+ df.rating_count.str.split(\".\").str.get(1).fillna(\"0\")"
   ]
  },
  {
   "cell_type": "code",
   "execution_count": 428,
   "id": "98f14612-5437-46e9-88cb-de869a19e50b",
   "metadata": {},
   "outputs": [],
   "source": [
    "df['rating_count'] = df['rating_count'].apply(lambda x: x.replace(\",\", \".\") if isinstance(x, str) else x)"
   ]
  },
  {
   "cell_type": "code",
   "execution_count": 430,
   "id": "ebef35dc-1c24-4dec-aa05-c7b7327a1a16",
   "metadata": {},
   "outputs": [],
   "source": [
    "df.rating_count = df.rating_count.astype(float)"
   ]
  },
  {
   "cell_type": "code",
   "execution_count": 432,
   "id": "96c5d648-c14e-40e6-94ad-8b4a45031c54",
   "metadata": {},
   "outputs": [
    {
     "data": {
      "text/plain": [
       "product_name            object\n",
       "category                object\n",
       "discounted_price       float64\n",
       "actual_price           float64\n",
       "discount_percentage     object\n",
       "rating                 float64\n",
       "rating_count           float64\n",
       "product_type            object\n",
       "id                       int64\n",
       "dtype: object"
      ]
     },
     "execution_count": 432,
     "metadata": {},
     "output_type": "execute_result"
    }
   ],
   "source": [
    "df.dtypes"
   ]
  },
  {
   "cell_type": "code",
   "execution_count": 433,
   "id": "4a5c359b-ebb0-4e35-9660-016cc5429dd7",
   "metadata": {},
   "outputs": [
    {
     "data": {
      "text/plain": [
       "count    1463.000000\n",
       "mean       89.144526\n",
       "std       188.402956\n",
       "min         1.001000\n",
       "25%         3.687000\n",
       "50%        12.966000\n",
       "75%        45.115500\n",
       "max       992.000000\n",
       "Name: rating_count, dtype: float64"
      ]
     },
     "execution_count": 433,
     "metadata": {},
     "output_type": "execute_result"
    }
   ],
   "source": [
    "df.rating_count.describe()"
   ]
  },
  {
   "cell_type": "markdown",
   "id": "cac852e5-797c-4a99-ad85-ed7b03b4bad7",
   "metadata": {},
   "source": [
    "<a id='import-library'></a>\n",
    "## <font color='midnightblue'> <b>Creating mean_of_ratings column with cut() function</b><font color='black'> "
   ]
  },
  {
   "cell_type": "code",
   "execution_count": 435,
   "id": "0e714802-f1b9-441c-93b9-9ca52c762f4b",
   "metadata": {},
   "outputs": [],
   "source": [
    "df['mean_of_ratings'] = pd.cut(df['rating'], [1,2,4,5], labels = ['Poor','Average','Good'])\n"
   ]
  },
  {
   "cell_type": "code",
   "execution_count": 436,
   "id": "21b43bc9-9454-4adf-ba9f-c2f8890979b7",
   "metadata": {},
   "outputs": [
    {
     "data": {
      "text/html": [
       "<div>\n",
       "<style scoped>\n",
       "    .dataframe tbody tr th:only-of-type {\n",
       "        vertical-align: middle;\n",
       "    }\n",
       "\n",
       "    .dataframe tbody tr th {\n",
       "        vertical-align: top;\n",
       "    }\n",
       "\n",
       "    .dataframe thead th {\n",
       "        text-align: right;\n",
       "    }\n",
       "</style>\n",
       "<table border=\"1\" class=\"dataframe\">\n",
       "  <thead>\n",
       "    <tr style=\"text-align: right;\">\n",
       "      <th></th>\n",
       "      <th>product_name</th>\n",
       "      <th>category</th>\n",
       "      <th>discounted_price</th>\n",
       "      <th>actual_price</th>\n",
       "      <th>discount_percentage</th>\n",
       "      <th>rating</th>\n",
       "      <th>rating_count</th>\n",
       "      <th>product_type</th>\n",
       "      <th>id</th>\n",
       "      <th>mean_of_ratings</th>\n",
       "    </tr>\n",
       "  </thead>\n",
       "  <tbody>\n",
       "    <tr>\n",
       "      <th>0</th>\n",
       "      <td>Wayona Nylon Braided USB to Lightning Fast Cha...</td>\n",
       "      <td>Computers&amp;Accessories</td>\n",
       "      <td>399.0</td>\n",
       "      <td>1.099</td>\n",
       "      <td>64%</td>\n",
       "      <td>4.2</td>\n",
       "      <td>24.269</td>\n",
       "      <td>USBCables</td>\n",
       "      <td>0</td>\n",
       "      <td>Good</td>\n",
       "    </tr>\n",
       "    <tr>\n",
       "      <th>1</th>\n",
       "      <td>Ambrane Unbreakable 60W / 3A Fast Charging 1.5...</td>\n",
       "      <td>Computers&amp;Accessories</td>\n",
       "      <td>199.0</td>\n",
       "      <td>349.000</td>\n",
       "      <td>43%</td>\n",
       "      <td>4.0</td>\n",
       "      <td>43.994</td>\n",
       "      <td>USBCables</td>\n",
       "      <td>1</td>\n",
       "      <td>Average</td>\n",
       "    </tr>\n",
       "    <tr>\n",
       "      <th>2</th>\n",
       "      <td>Sounce Fast Phone Charging Cable &amp; Data Sync U...</td>\n",
       "      <td>Computers&amp;Accessories</td>\n",
       "      <td>199.0</td>\n",
       "      <td>1.899</td>\n",
       "      <td>90%</td>\n",
       "      <td>3.9</td>\n",
       "      <td>7.928</td>\n",
       "      <td>USBCables</td>\n",
       "      <td>2</td>\n",
       "      <td>Average</td>\n",
       "    </tr>\n",
       "    <tr>\n",
       "      <th>3</th>\n",
       "      <td>boAt Deuce USB 300 2 in 1 Type-C &amp; Micro USB S...</td>\n",
       "      <td>Computers&amp;Accessories</td>\n",
       "      <td>329.0</td>\n",
       "      <td>699.000</td>\n",
       "      <td>53%</td>\n",
       "      <td>4.2</td>\n",
       "      <td>94.363</td>\n",
       "      <td>USBCables</td>\n",
       "      <td>3</td>\n",
       "      <td>Good</td>\n",
       "    </tr>\n",
       "    <tr>\n",
       "      <th>4</th>\n",
       "      <td>Portronics Konnect L 1.2M Fast Charging 3A 8 P...</td>\n",
       "      <td>Computers&amp;Accessories</td>\n",
       "      <td>154.0</td>\n",
       "      <td>399.000</td>\n",
       "      <td>61%</td>\n",
       "      <td>4.2</td>\n",
       "      <td>16.905</td>\n",
       "      <td>USBCables</td>\n",
       "      <td>4</td>\n",
       "      <td>Good</td>\n",
       "    </tr>\n",
       "  </tbody>\n",
       "</table>\n",
       "</div>"
      ],
      "text/plain": [
       "                                        product_name               category  \\\n",
       "0  Wayona Nylon Braided USB to Lightning Fast Cha...  Computers&Accessories   \n",
       "1  Ambrane Unbreakable 60W / 3A Fast Charging 1.5...  Computers&Accessories   \n",
       "2  Sounce Fast Phone Charging Cable & Data Sync U...  Computers&Accessories   \n",
       "3  boAt Deuce USB 300 2 in 1 Type-C & Micro USB S...  Computers&Accessories   \n",
       "4  Portronics Konnect L 1.2M Fast Charging 3A 8 P...  Computers&Accessories   \n",
       "\n",
       "   discounted_price  actual_price discount_percentage  rating  rating_count  \\\n",
       "0             399.0         1.099                 64%     4.2        24.269   \n",
       "1             199.0       349.000                 43%     4.0        43.994   \n",
       "2             199.0         1.899                 90%     3.9         7.928   \n",
       "3             329.0       699.000                 53%     4.2        94.363   \n",
       "4             154.0       399.000                 61%     4.2        16.905   \n",
       "\n",
       "  product_type  id mean_of_ratings  \n",
       "0    USBCables   0            Good  \n",
       "1    USBCables   1         Average  \n",
       "2    USBCables   2         Average  \n",
       "3    USBCables   3            Good  \n",
       "4    USBCables   4            Good  "
      ]
     },
     "execution_count": 436,
     "metadata": {},
     "output_type": "execute_result"
    }
   ],
   "source": [
    "df.head()"
   ]
  },
  {
   "cell_type": "code",
   "execution_count": null,
   "id": "ba01f85d-5a10-4816-aa97-8fb0d8c2e60c",
   "metadata": {},
   "outputs": [],
   "source": []
  },
  {
   "cell_type": "markdown",
   "id": "4b52001c-244a-4dcb-aa8c-c9ac6e13171c",
   "metadata": {},
   "source": [
    "<a id='nan-values'></a>\n",
    "# <font color='midnightblue'> <b>NaN values</b><font color='black'> "
   ]
  },
  {
   "cell_type": "code",
   "execution_count": 438,
   "id": "d745fd30-272e-4b20-9701-dd7063b0891d",
   "metadata": {},
   "outputs": [
    {
     "data": {
      "text/plain": [
       "product_name           0\n",
       "category               0\n",
       "discounted_price       0\n",
       "actual_price           0\n",
       "discount_percentage    0\n",
       "rating                 1\n",
       "rating_count           2\n",
       "product_type           0\n",
       "id                     0\n",
       "mean_of_ratings        1\n",
       "dtype: int64"
      ]
     },
     "execution_count": 438,
     "metadata": {},
     "output_type": "execute_result"
    }
   ],
   "source": [
    "df.isnull().sum()"
   ]
  },
  {
   "cell_type": "code",
   "execution_count": 439,
   "id": "0b741288-b135-48e3-814e-1302fd0ce86e",
   "metadata": {},
   "outputs": [],
   "source": [
    "df = df.dropna()"
   ]
  },
  {
   "cell_type": "code",
   "execution_count": 440,
   "id": "b763a608-bf4b-45be-8fb1-cf48c4084901",
   "metadata": {},
   "outputs": [
    {
     "data": {
      "text/plain": [
       "product_name           0\n",
       "category               0\n",
       "discounted_price       0\n",
       "actual_price           0\n",
       "discount_percentage    0\n",
       "rating                 0\n",
       "rating_count           0\n",
       "product_type           0\n",
       "id                     0\n",
       "mean_of_ratings        0\n",
       "dtype: int64"
      ]
     },
     "execution_count": 440,
     "metadata": {},
     "output_type": "execute_result"
    }
   ],
   "source": [
    "df.isnull().sum()"
   ]
  },
  {
   "cell_type": "markdown",
   "id": "5b21b043-add5-429e-87e1-8063393c10b7",
   "metadata": {},
   "source": [
    "<a id='last-check'></a>\n",
    "# <font color='midnightblue'> <b>last check</b><font color='black'> "
   ]
  },
  {
   "cell_type": "code",
   "execution_count": 441,
   "id": "89335e36-b0a8-4241-ae16-209258243b32",
   "metadata": {},
   "outputs": [
    {
     "name": "stdout",
     "output_type": "stream",
     "text": [
      "------------------shape---------------\n",
      "(1462, 10)\n",
      "------------------types---------------\n",
      "product_name             object\n",
      "category                 object\n",
      "discounted_price        float64\n",
      "actual_price            float64\n",
      "discount_percentage      object\n",
      "rating                  float64\n",
      "rating_count            float64\n",
      "product_type             object\n",
      "id                        int64\n",
      "mean_of_ratings        category\n",
      "dtype: object\n",
      "------------------NAN---------------\n",
      "product_name           0\n",
      "category               0\n",
      "discounted_price       0\n",
      "actual_price           0\n",
      "discount_percentage    0\n",
      "rating                 0\n",
      "rating_count           0\n",
      "product_type           0\n",
      "id                     0\n",
      "mean_of_ratings        0\n",
      "dtype: int64\n",
      "------------------describe---------------\n",
      "                   count        mean         std    min       25%      50%  \\\n",
      "discounted_price  1462.0  242.071155  282.671159  1.043    2.9990  150.000   \n",
      "actual_price      1462.0  236.444622  346.299584  1.000    2.2990    9.999   \n",
      "rating            1462.0    4.096717    0.289497  2.000    4.0000    4.100   \n",
      "rating_count      1462.0   88.526977  186.980344  1.001    3.6865   12.962   \n",
      "id                1462.0  732.212722  422.947142  0.000  367.2500  732.500   \n",
      "\n",
      "                        75%     max  \n",
      "discounted_price   398.0000   999.0  \n",
      "actual_price       499.0000   999.0  \n",
      "rating               4.3000     5.0  \n",
      "rating_count        44.9195   989.0  \n",
      "id                1097.7500  1464.0  \n"
     ]
    }
   ],
   "source": [
    "check_df(df)"
   ]
  },
  {
   "cell_type": "code",
   "execution_count": null,
   "id": "5708c2df-ea32-46ca-9268-2c4cd5175833",
   "metadata": {},
   "outputs": [],
   "source": []
  },
  {
   "cell_type": "code",
   "execution_count": 442,
   "id": "15b6e698-9690-49d7-b3b2-a33b0e9e7fd9",
   "metadata": {},
   "outputs": [
    {
     "data": {
      "text/plain": [
       "9"
      ]
     },
     "execution_count": 442,
     "metadata": {},
     "output_type": "execute_result"
    }
   ],
   "source": [
    "df.category.nunique()"
   ]
  },
  {
   "cell_type": "code",
   "execution_count": 443,
   "id": "6d0eaea8-03be-4eef-9ab1-b92e9f9ee9ac",
   "metadata": {},
   "outputs": [
    {
     "data": {
      "text/plain": [
       "array(['Computers&Accessories', 'Electronics', 'MusicalInstruments',\n",
       "       'OfficeProducts', 'Home&Kitchen', 'HomeImprovement', 'Toys&Games',\n",
       "       'Car&Motorbike', 'Health&PersonalCare'], dtype=object)"
      ]
     },
     "execution_count": 443,
     "metadata": {},
     "output_type": "execute_result"
    }
   ],
   "source": [
    "df.category.unique()"
   ]
  },
  {
   "cell_type": "code",
   "execution_count": 444,
   "id": "18798f72-7999-4130-bb42-dafd44833d15",
   "metadata": {},
   "outputs": [
    {
     "data": {
      "text/plain": [
       "207"
      ]
     },
     "execution_count": 444,
     "metadata": {},
     "output_type": "execute_result"
    }
   ],
   "source": [
    "df.product_type.nunique()"
   ]
  },
  {
   "cell_type": "code",
   "execution_count": 445,
   "id": "be89920b-acfc-47a3-b2c9-abc60a1139c8",
   "metadata": {},
   "outputs": [
    {
     "data": {
      "text/plain": [
       "array(['USBCables', 'WirelessUSBAdapters', 'HDMICables',\n",
       "       'SmartTelevisions', 'RemoteControls', 'StandardTelevisions',\n",
       "       'TVWall&CeilingMounts', 'RCACables', 'Mounts', 'OpticalCables',\n",
       "       'Projectors', 'Adapters', 'SatelliteReceivers', 'DVICables',\n",
       "       'SpeakerCables', 'StreamingClients', 'AVReceivers&Amplifiers',\n",
       "       'TowerSpeakers', '3DGlasses', 'SmartWatches', 'PowerBanks',\n",
       "       'Smartphones', 'MicroSD', 'BasicMobiles', 'In-Ear',\n",
       "       'AutomobileChargers', 'Cradles', 'WallChargers', 'OTGAdapters',\n",
       "       'Tripods', 'SelfieSticks', 'Stands', 'CableConnectionProtectors',\n",
       "       'Décor', 'ScreenProtectors', 'StylusPens', 'Bedstand&DeskMounts',\n",
       "       'BasicCases', 'HandlebarMounts', 'On-Ear', 'CameraPrivacyCovers',\n",
       "       'PhoneCharms', 'Shower&WallMounts', 'PenDrives', 'Mice',\n",
       "       'GraphicTablets', 'Lapdesks', 'NotebookComputerStands',\n",
       "       'Keyboards', 'Condenser', 'DisposableBatteries',\n",
       "       'GelInkRollerballPens', 'Tape', 'Keyboard&MouseSets',\n",
       "       'ExternalHardDisks', 'VideoCameras', 'Tabletop&TravelTripods',\n",
       "       'Scientific', 'Repeaters&Extenders', 'TripodLegs',\n",
       "       'InkjetInkCartridges', 'DustCovers', 'GamingMice', 'Paints',\n",
       "       'MousePads', 'HardDiskBags', 'Macro&RinglightFlashes',\n",
       "       'NetworkingDevices', 'Routers', 'Over-Ear', 'BluetoothSpeakers',\n",
       "       'GeneralPurposeBatteries&BatteryChargers', 'WireboundNotebooks',\n",
       "       'RechargeableBatteries', 'BluetoothAdapters', 'USBtoUSBAdapters',\n",
       "       'CompleteTripodUnits', 'Notepads&MemoBooks', 'Film', 'Monitors',\n",
       "       'Lamps', 'CleaningKits', 'DomeCameras', 'Gamepads', 'Basic',\n",
       "       'USBHubs', 'PCMicrophones', 'OutdoorSpeakers',\n",
       "       'LaptopSleeves&Slipcases', 'ExternalMemoryCardReaders',\n",
       "       'BottledInk', 'CompositionNotebooks', 'RetractableBallpointPens',\n",
       "       'EthernetCables', 'Memory', 'UninterruptedPowerSupplies', 'Cases',\n",
       "       'SecureDigitalCards', 'SelfieLights', 'Webcams', 'CoolingPads',\n",
       "       'LaptopAccessories', 'Adapters&Multi-Outlets', 'ColouredPaper',\n",
       "       'InternalSolidStateDrives', 'MultimediaSpeakerSystems',\n",
       "       'DataCards&Dongles', 'LaptopChargers&PowerSupplies', 'PCSpeakers',\n",
       "       'BatteryChargers', 'StickBallpointPens', 'WoodenPencils',\n",
       "       'InternalHardDrives', 'Printers', 'Pens', 'SATACables',\n",
       "       'PCHeadsets', 'GamingKeyboards', 'SoundbarSpeakers', 'Earpads',\n",
       "       'InkjetPrinters', 'ColouringPens&Markers', 'Headsets',\n",
       "       'ExternalSolidStateDrives', 'PowerLANAdapters',\n",
       "       'InkjetInkRefills&Kits', 'Notebooks,WritingPads&Diaries',\n",
       "       'BackgroundSupports', 'Financial&Business', 'SurgeProtectors',\n",
       "       'Tablets', 'CordManagement', 'PaintingMaterials',\n",
       "       'TonerCartridges', 'LiquidInkRollerballPens', 'FountainPens',\n",
       "       'Caddies', 'TraditionalLaptops', 'ElectricKettles',\n",
       "       'ElectricHeaters', 'FanHeaters', 'LintShavers',\n",
       "       'DigitalKitchenScales', 'Choppers', 'InductionCooktop',\n",
       "       'HandBlenders', 'DryIrons', 'MixerGrinders', 'InstantWaterHeaters',\n",
       "       'RoomHeaters', 'Kettle&ToasterSets', 'StorageWaterHeaters',\n",
       "       'ImmersionRods', 'AirFryers', 'LaundryBaskets', 'SteamIrons',\n",
       "       'JuicerMixerGrinders', 'HandheldVacuums', 'EggBoilers',\n",
       "       'SandwichMakers', 'MiniFoodProcessors&Choppers', 'DigitalScales',\n",
       "       'VacuumSealers', 'CeilingFans', 'CanisterVacuums',\n",
       "       'PressureWashers,Steam&WindowCleaners', 'HalogenHeaters',\n",
       "       'Pop-upToasters', 'HeatConvectors', 'ElectricGrinders',\n",
       "       'ExhaustFans', 'DripCoffeeMachines', 'WaterPurifierAccessories',\n",
       "       'WaterCartridges', 'Rice&PastaCookers', 'AirPurifiers&Ionizers',\n",
       "       'Wet-DryVacuums', 'HEPAAirPurifiers', 'WaterFilters&Purifiers',\n",
       "       'LaundryBags', 'Sewing&EmbroideryMachines', 'SprayBottles',\n",
       "       'HandMixers', 'WetGrinders', 'OvenToasterGrills', 'Juicers',\n",
       "       'SmallKitchenAppliances', 'DigitalBathroomScales',\n",
       "       'EspressoMachines', 'TableFans', 'MilkFrothers', 'Humidifiers',\n",
       "       'StandMixerAccessories', 'RoboticVacuums', 'YogurtMakers',\n",
       "       'ColdPressJuicers', 'Split-SystemAirConditioners',\n",
       "       'SmallApplianceParts&Accessories', 'WaffleMakers&Irons',\n",
       "       'StovetopEspressoPots', 'MeasuringSpoons', 'CoffeePresses',\n",
       "       'RotiMakers', 'FanParts&Accessories', 'StandMixers',\n",
       "       'PedestalFans', 'HandheldBags'], dtype=object)"
      ]
     },
     "execution_count": 445,
     "metadata": {},
     "output_type": "execute_result"
    }
   ],
   "source": [
    "df.product_type.unique()"
   ]
  },
  {
   "cell_type": "code",
   "execution_count": 446,
   "id": "069866d0-fb7d-4f02-ae57-a7e49747100f",
   "metadata": {},
   "outputs": [
    {
     "data": {
      "text/plain": [
       "4.096716826265389"
      ]
     },
     "execution_count": 446,
     "metadata": {},
     "output_type": "execute_result"
    }
   ],
   "source": [
    "df.rating.mean()"
   ]
  },
  {
   "cell_type": "code",
   "execution_count": 447,
   "id": "b6adfd80-d6ee-49f5-b1cc-7a7e43031286",
   "metadata": {},
   "outputs": [
    {
     "data": {
      "text/plain": [
       "88.52697742818059"
      ]
     },
     "execution_count": 447,
     "metadata": {},
     "output_type": "execute_result"
    }
   ],
   "source": [
    "df.rating_count.mean()"
   ]
  },
  {
   "cell_type": "markdown",
   "id": "bf78a38d-89f5-43b7-a41d-0048544563bb",
   "metadata": {},
   "source": [
    "<a id='import-library'></a>\n",
    "## <font color='midnightblue'> <b> I wrote my own function to determine categorical columns</b><font color='black'> "
   ]
  },
  {
   "cell_type": "code",
   "execution_count": 504,
   "id": "cd2ddd7e-475d-48b4-934c-c6f38ae49c48",
   "metadata": {},
   "outputs": [
    {
     "data": {
      "text/plain": [
       "['category', 'product_type', 'mean_of_ratings']"
      ]
     },
     "execution_count": 504,
     "metadata": {},
     "output_type": "execute_result"
    }
   ],
   "source": [
    "# Selected columns with dtype values of category, bool, and object\n",
    "cat_cols = [col for col in df.columns if str(df[col].dtypes) in [\"object\", \"category\", \"bool\"]]\n",
    "\n",
    "# However, some columns with dtype int or float might also be categorical, e.g., survived\n",
    "num_but_cat = [col for col in df.columns if df[col].nunique() < 10 and df[col].dtypes in [\"int64\", \"float\"]]\n",
    "\n",
    "# There may be variables with dtype category, bool, and object that are not actually categorical, e.g., name, e-mail\n",
    "cat_but_car = [col for col in df.columns if df[col].nunique() > 250 and str(df[col].dtypes) in [\"object\", \"category\", \"bool\"]]\n",
    "\n",
    "# Exclude columns containing \"percentage\", \"rate\", or \"ratio\"\n",
    "cat_cols = [col for col in cat_cols if \"percentage\" not in col and \"rate\" not in col and \"ratio\" not in col]\n",
    "\n",
    "# Combine cat_cols and num_but_cat\n",
    "cat_cols = cat_cols + num_but_cat\n",
    "\n",
    "# If data comes from cat_but_car, it needs to be excluded\n",
    "cat_cols = [col for col in cat_cols if col not in cat_but_car]\n",
    "\n",
    "# Print the final list of categorical columns\n",
    "cat_cols"
   ]
  },
  {
   "cell_type": "code",
   "execution_count": 549,
   "id": "ff2a962b-d71c-4480-83f3-9ce1a3e3430f",
   "metadata": {},
   "outputs": [
    {
     "name": "stdout",
     "output_type": "stream",
     "text": [
      "                       category      Ratio\n",
      "category                                  \n",
      "Electronics                 526  35.978112\n",
      "Computers&Accessories       451  30.848153\n",
      "Home&Kitchen                447  30.574555\n",
      "OfficeProducts               31   2.120383\n",
      "MusicalInstruments            2   0.136799\n",
      "HomeImprovement               2   0.136799\n",
      "Toys&Games                    1   0.068399\n",
      "Car&Motorbike                 1   0.068399\n",
      "Health&PersonalCare           1   0.068399\n",
      "------------------------------------------------------------------\n",
      "                    product_type      Ratio\n",
      "product_type                               \n",
      "USBCables                    231  15.800274\n",
      "SmartWatches                  76   5.198358\n",
      "Smartphones                   68   4.651163\n",
      "SmartTelevisions              63   4.309166\n",
      "In-Ear                        52   3.556772\n",
      "...                          ...        ...\n",
      "InternalHardDrives             1   0.068399\n",
      "WoodenPencils                  1   0.068399\n",
      "BatteryChargers                1   0.068399\n",
      "DataCards&Dongles              1   0.068399\n",
      "HandheldBags                   1   0.068399\n",
      "\n",
      "[207 rows x 2 columns]\n",
      "------------------------------------------------------------------\n",
      "                 mean_of_ratings      Ratio\n",
      "mean_of_ratings                            \n",
      "Good                         928  63.474692\n",
      "Average                      533  36.456908\n",
      "Poor                           1   0.068399\n",
      "------------------------------------------------------------------\n"
     ]
    }
   ],
   "source": [
    "# Function to get summary information for specified categorical columns\n",
    "def cat_summary(dataframe, col_name):\n",
    "    print(pd.DataFrame({\n",
    "        col_name: dataframe[col_name].value_counts(),  # Count of unique values\n",
    "        \"Ratio\": 100 * dataframe[col_name].value_counts() / len(dataframe)  # Percentage of each unique value\n",
    "    }))\n",
    "    print(\"------------------------------------------------------------------\")\n",
    "\n",
    "for col in cat_cols:\n",
    "    cat_summary(df, col)"
   ]
  },
  {
   "cell_type": "code",
   "execution_count": 449,
   "id": "353f7774-82a0-431d-80b9-3edcb46e989b",
   "metadata": {},
   "outputs": [
    {
     "data": {
      "text/html": [
       "<div>\n",
       "<style scoped>\n",
       "    .dataframe tbody tr th:only-of-type {\n",
       "        vertical-align: middle;\n",
       "    }\n",
       "\n",
       "    .dataframe tbody tr th {\n",
       "        vertical-align: top;\n",
       "    }\n",
       "\n",
       "    .dataframe thead th {\n",
       "        text-align: right;\n",
       "    }\n",
       "</style>\n",
       "<table border=\"1\" class=\"dataframe\">\n",
       "  <thead>\n",
       "    <tr style=\"text-align: right;\">\n",
       "      <th></th>\n",
       "      <th>product_name</th>\n",
       "      <th>category</th>\n",
       "      <th>discounted_price</th>\n",
       "      <th>actual_price</th>\n",
       "      <th>discount_percentage</th>\n",
       "      <th>rating</th>\n",
       "      <th>rating_count</th>\n",
       "      <th>product_type</th>\n",
       "      <th>id</th>\n",
       "      <th>mean_of_ratings</th>\n",
       "    </tr>\n",
       "  </thead>\n",
       "  <tbody>\n",
       "    <tr>\n",
       "      <th>0</th>\n",
       "      <td>Wayona Nylon Braided USB to Lightning Fast Cha...</td>\n",
       "      <td>Computers&amp;Accessories</td>\n",
       "      <td>399.0</td>\n",
       "      <td>1.099</td>\n",
       "      <td>64%</td>\n",
       "      <td>4.2</td>\n",
       "      <td>24.269</td>\n",
       "      <td>USBCables</td>\n",
       "      <td>0</td>\n",
       "      <td>Good</td>\n",
       "    </tr>\n",
       "    <tr>\n",
       "      <th>1</th>\n",
       "      <td>Ambrane Unbreakable 60W / 3A Fast Charging 1.5...</td>\n",
       "      <td>Computers&amp;Accessories</td>\n",
       "      <td>199.0</td>\n",
       "      <td>349.000</td>\n",
       "      <td>43%</td>\n",
       "      <td>4.0</td>\n",
       "      <td>43.994</td>\n",
       "      <td>USBCables</td>\n",
       "      <td>1</td>\n",
       "      <td>Average</td>\n",
       "    </tr>\n",
       "    <tr>\n",
       "      <th>2</th>\n",
       "      <td>Sounce Fast Phone Charging Cable &amp; Data Sync U...</td>\n",
       "      <td>Computers&amp;Accessories</td>\n",
       "      <td>199.0</td>\n",
       "      <td>1.899</td>\n",
       "      <td>90%</td>\n",
       "      <td>3.9</td>\n",
       "      <td>7.928</td>\n",
       "      <td>USBCables</td>\n",
       "      <td>2</td>\n",
       "      <td>Average</td>\n",
       "    </tr>\n",
       "    <tr>\n",
       "      <th>3</th>\n",
       "      <td>boAt Deuce USB 300 2 in 1 Type-C &amp; Micro USB S...</td>\n",
       "      <td>Computers&amp;Accessories</td>\n",
       "      <td>329.0</td>\n",
       "      <td>699.000</td>\n",
       "      <td>53%</td>\n",
       "      <td>4.2</td>\n",
       "      <td>94.363</td>\n",
       "      <td>USBCables</td>\n",
       "      <td>3</td>\n",
       "      <td>Good</td>\n",
       "    </tr>\n",
       "    <tr>\n",
       "      <th>4</th>\n",
       "      <td>Portronics Konnect L 1.2M Fast Charging 3A 8 P...</td>\n",
       "      <td>Computers&amp;Accessories</td>\n",
       "      <td>154.0</td>\n",
       "      <td>399.000</td>\n",
       "      <td>61%</td>\n",
       "      <td>4.2</td>\n",
       "      <td>16.905</td>\n",
       "      <td>USBCables</td>\n",
       "      <td>4</td>\n",
       "      <td>Good</td>\n",
       "    </tr>\n",
       "  </tbody>\n",
       "</table>\n",
       "</div>"
      ],
      "text/plain": [
       "                                        product_name               category  \\\n",
       "0  Wayona Nylon Braided USB to Lightning Fast Cha...  Computers&Accessories   \n",
       "1  Ambrane Unbreakable 60W / 3A Fast Charging 1.5...  Computers&Accessories   \n",
       "2  Sounce Fast Phone Charging Cable & Data Sync U...  Computers&Accessories   \n",
       "3  boAt Deuce USB 300 2 in 1 Type-C & Micro USB S...  Computers&Accessories   \n",
       "4  Portronics Konnect L 1.2M Fast Charging 3A 8 P...  Computers&Accessories   \n",
       "\n",
       "   discounted_price  actual_price discount_percentage  rating  rating_count  \\\n",
       "0             399.0         1.099                 64%     4.2        24.269   \n",
       "1             199.0       349.000                 43%     4.0        43.994   \n",
       "2             199.0         1.899                 90%     3.9         7.928   \n",
       "3             329.0       699.000                 53%     4.2        94.363   \n",
       "4             154.0       399.000                 61%     4.2        16.905   \n",
       "\n",
       "  product_type  id mean_of_ratings  \n",
       "0    USBCables   0            Good  \n",
       "1    USBCables   1         Average  \n",
       "2    USBCables   2         Average  \n",
       "3    USBCables   3            Good  \n",
       "4    USBCables   4            Good  "
      ]
     },
     "execution_count": 449,
     "metadata": {},
     "output_type": "execute_result"
    }
   ],
   "source": [
    "df.head()"
   ]
  },
  {
   "cell_type": "code",
   "execution_count": null,
   "id": "c6be0e01-7dca-4c1c-9ae4-d6f4d0b7b8bd",
   "metadata": {},
   "outputs": [],
   "source": []
  },
  {
   "cell_type": "markdown",
   "id": "249e40fc-752b-48f9-aa6e-9f8133e4257a",
   "metadata": {},
   "source": [
    "<a id='data-visualization'></a>\n",
    "# <font color='midnightblue'> <b>Data Visualization</b><font color='black'> "
   ]
  },
  {
   "cell_type": "code",
   "execution_count": 451,
   "id": "fef83463-3b55-4c13-bf3b-966bd5cb6fed",
   "metadata": {},
   "outputs": [
    {
     "data": {
      "text/html": [
       "<div>\n",
       "<style scoped>\n",
       "    .dataframe tbody tr th:only-of-type {\n",
       "        vertical-align: middle;\n",
       "    }\n",
       "\n",
       "    .dataframe tbody tr th {\n",
       "        vertical-align: top;\n",
       "    }\n",
       "\n",
       "    .dataframe thead th {\n",
       "        text-align: right;\n",
       "    }\n",
       "</style>\n",
       "<table border=\"1\" class=\"dataframe\">\n",
       "  <thead>\n",
       "    <tr style=\"text-align: right;\">\n",
       "      <th></th>\n",
       "      <th>product_name</th>\n",
       "      <th>category</th>\n",
       "      <th>discounted_price</th>\n",
       "      <th>actual_price</th>\n",
       "      <th>discount_percentage</th>\n",
       "      <th>rating</th>\n",
       "      <th>rating_count</th>\n",
       "      <th>product_type</th>\n",
       "      <th>id</th>\n",
       "      <th>mean_of_ratings</th>\n",
       "    </tr>\n",
       "  </thead>\n",
       "  <tbody>\n",
       "    <tr>\n",
       "      <th>0</th>\n",
       "      <td>Wayona Nylon Braided USB to Lightning Fast Cha...</td>\n",
       "      <td>Computers&amp;Accessories</td>\n",
       "      <td>399.0</td>\n",
       "      <td>1.099</td>\n",
       "      <td>64%</td>\n",
       "      <td>4.2</td>\n",
       "      <td>24.269</td>\n",
       "      <td>USBCables</td>\n",
       "      <td>0</td>\n",
       "      <td>Good</td>\n",
       "    </tr>\n",
       "    <tr>\n",
       "      <th>1</th>\n",
       "      <td>Ambrane Unbreakable 60W / 3A Fast Charging 1.5...</td>\n",
       "      <td>Computers&amp;Accessories</td>\n",
       "      <td>199.0</td>\n",
       "      <td>349.000</td>\n",
       "      <td>43%</td>\n",
       "      <td>4.0</td>\n",
       "      <td>43.994</td>\n",
       "      <td>USBCables</td>\n",
       "      <td>1</td>\n",
       "      <td>Average</td>\n",
       "    </tr>\n",
       "    <tr>\n",
       "      <th>2</th>\n",
       "      <td>Sounce Fast Phone Charging Cable &amp; Data Sync U...</td>\n",
       "      <td>Computers&amp;Accessories</td>\n",
       "      <td>199.0</td>\n",
       "      <td>1.899</td>\n",
       "      <td>90%</td>\n",
       "      <td>3.9</td>\n",
       "      <td>7.928</td>\n",
       "      <td>USBCables</td>\n",
       "      <td>2</td>\n",
       "      <td>Average</td>\n",
       "    </tr>\n",
       "    <tr>\n",
       "      <th>3</th>\n",
       "      <td>boAt Deuce USB 300 2 in 1 Type-C &amp; Micro USB S...</td>\n",
       "      <td>Computers&amp;Accessories</td>\n",
       "      <td>329.0</td>\n",
       "      <td>699.000</td>\n",
       "      <td>53%</td>\n",
       "      <td>4.2</td>\n",
       "      <td>94.363</td>\n",
       "      <td>USBCables</td>\n",
       "      <td>3</td>\n",
       "      <td>Good</td>\n",
       "    </tr>\n",
       "    <tr>\n",
       "      <th>4</th>\n",
       "      <td>Portronics Konnect L 1.2M Fast Charging 3A 8 P...</td>\n",
       "      <td>Computers&amp;Accessories</td>\n",
       "      <td>154.0</td>\n",
       "      <td>399.000</td>\n",
       "      <td>61%</td>\n",
       "      <td>4.2</td>\n",
       "      <td>16.905</td>\n",
       "      <td>USBCables</td>\n",
       "      <td>4</td>\n",
       "      <td>Good</td>\n",
       "    </tr>\n",
       "  </tbody>\n",
       "</table>\n",
       "</div>"
      ],
      "text/plain": [
       "                                        product_name               category  \\\n",
       "0  Wayona Nylon Braided USB to Lightning Fast Cha...  Computers&Accessories   \n",
       "1  Ambrane Unbreakable 60W / 3A Fast Charging 1.5...  Computers&Accessories   \n",
       "2  Sounce Fast Phone Charging Cable & Data Sync U...  Computers&Accessories   \n",
       "3  boAt Deuce USB 300 2 in 1 Type-C & Micro USB S...  Computers&Accessories   \n",
       "4  Portronics Konnect L 1.2M Fast Charging 3A 8 P...  Computers&Accessories   \n",
       "\n",
       "   discounted_price  actual_price discount_percentage  rating  rating_count  \\\n",
       "0             399.0         1.099                 64%     4.2        24.269   \n",
       "1             199.0       349.000                 43%     4.0        43.994   \n",
       "2             199.0         1.899                 90%     3.9         7.928   \n",
       "3             329.0       699.000                 53%     4.2        94.363   \n",
       "4             154.0       399.000                 61%     4.2        16.905   \n",
       "\n",
       "  product_type  id mean_of_ratings  \n",
       "0    USBCables   0            Good  \n",
       "1    USBCables   1         Average  \n",
       "2    USBCables   2         Average  \n",
       "3    USBCables   3            Good  \n",
       "4    USBCables   4            Good  "
      ]
     },
     "execution_count": 451,
     "metadata": {},
     "output_type": "execute_result"
    }
   ],
   "source": [
    "df.head()"
   ]
  },
  {
   "cell_type": "markdown",
   "id": "c3970894-e7bb-4ae5-bd9d-22f8db5e7c9b",
   "metadata": {},
   "source": [
    "<a id='import-library'></a>\n",
    "## <font color='midnightblue'> <b>Number of Products per Category</b><font color='black'> "
   ]
  },
  {
   "cell_type": "code",
   "execution_count": 452,
   "id": "95c5cdfb-6009-40de-bfa2-57558657bd7a",
   "metadata": {},
   "outputs": [
    {
     "data": {
      "image/png": "[encoded data removed]",
      "text/plain": [
       "<Figure size 700x500 with 1 Axes>"
      ]
     },
     "metadata": {},
     "output_type": "display_data"
    }
   ],
   "source": [
    "\n",
    "\n",
    "plt.figure(figsize=(7,5))\n",
    "ax = sns.countplot(data=df, x='category' ,palette = \"tab10\")\n",
    "plt.title('Number of Products per Category')\n",
    "plt.xlabel('Category')\n",
    "plt.ylabel('Product Count')\n",
    "plt.xticks(rotation=90)  \n",
    "for p in ax.patches:\n",
    "    ax.annotate(format(p.get_height(), '.0f'), \n",
    "                (p.get_x() + p.get_width() / 2., p.get_height()), \n",
    "                ha = 'center', va = 'center', \n",
    "                xytext = (0, 9), \n",
    "                textcoords = 'offset points')\n",
    "\n",
    "plt.show()\n",
    "\n"
   ]
  },
  {
   "cell_type": "markdown",
   "id": "d9902f51-df4e-4ea4-b7f1-84d7f6d3967a",
   "metadata": {},
   "source": [
    "<a id='import-library'></a>\n",
    "## <font color='midnightblue'> <b>Understanding if there is a relationship between discounted prices and ratings</b><font color='black'>  "
   ]
  },
  {
   "cell_type": "code",
   "execution_count": 560,
   "id": "a721a99a-c140-4c7d-aceb-543f4a70e193",
   "metadata": {},
   "outputs": [
    {
     "data": {
      "image/png": "[encoded data removed]",
      "text/plain": [
       "<Figure size 640x480 with 1 Axes>"
      ]
     },
     "metadata": {},
     "output_type": "display_data"
    }
   ],
   "source": [
    "sns.scatterplot(x='rating',y='discounted_price', data= df, color = \"green\")\n",
    "plt.title(\"discounted_price & rating\")\n",
    "plt.show()"
   ]
  },
  {
   "cell_type": "markdown",
   "id": "72aa80eb-56e0-4e23-8c72-d0266a60b135",
   "metadata": {},
   "source": [
    "<a id='import-library'></a>\n",
    "## <font color='midnightblue'> <b>Ratings Distribution</b><font color='black'>  "
   ]
  },
  {
   "cell_type": "code",
   "execution_count": 454,
   "id": "f75cc24d-7b59-4250-9f65-87bc17e1e259",
   "metadata": {},
   "outputs": [
    {
     "data": {
      "text/html": [
       "<div>\n",
       "<style scoped>\n",
       "    .dataframe tbody tr th:only-of-type {\n",
       "        vertical-align: middle;\n",
       "    }\n",
       "\n",
       "    .dataframe tbody tr th {\n",
       "        vertical-align: top;\n",
       "    }\n",
       "\n",
       "    .dataframe thead th {\n",
       "        text-align: right;\n",
       "    }\n",
       "</style>\n",
       "<table border=\"1\" class=\"dataframe\">\n",
       "  <thead>\n",
       "    <tr style=\"text-align: right;\">\n",
       "      <th></th>\n",
       "      <th>mean_of_ratings</th>\n",
       "      <th>count</th>\n",
       "    </tr>\n",
       "  </thead>\n",
       "  <tbody>\n",
       "    <tr>\n",
       "      <th>0</th>\n",
       "      <td>Poor</td>\n",
       "      <td>1</td>\n",
       "    </tr>\n",
       "    <tr>\n",
       "      <th>1</th>\n",
       "      <td>Average</td>\n",
       "      <td>533</td>\n",
       "    </tr>\n",
       "    <tr>\n",
       "      <th>2</th>\n",
       "      <td>Good</td>\n",
       "      <td>928</td>\n",
       "    </tr>\n",
       "  </tbody>\n",
       "</table>\n",
       "</div>"
      ],
      "text/plain": [
       "  mean_of_ratings  count\n",
       "0            Poor      1\n",
       "1         Average    533\n",
       "2            Good    928"
      ]
     },
     "execution_count": 454,
     "metadata": {},
     "output_type": "execute_result"
    }
   ],
   "source": [
    "product_count = df.groupby('mean_of_ratings').size().reset_index(name = \"count\")\n",
    "product_count"
   ]
  },
  {
   "cell_type": "code",
   "execution_count": 455,
   "id": "fb6ae563-7bfa-4546-a900-d6e333515349",
   "metadata": {},
   "outputs": [
    {
     "data": {
      "image/png": "[encoded data removed]",
      "text/plain": [
       "<Figure size 640x480 with 1 Axes>"
      ]
     },
     "metadata": {},
     "output_type": "display_data"
    }
   ],
   "source": [
    "sns.countplot(x='mean_of_ratings', data=df, palette = \"tab10\")\n",
    "plt.title(\"ratings Distribution\")\n",
    "for index, value in enumerate(product_count['count']):\n",
    "    plt.text(index, value + 2, str(value), ha='center')\n",
    "plt.show()\n"
   ]
  },
  {
   "cell_type": "code",
   "execution_count": 456,
   "id": "970408c6-b21f-471b-af3b-d52d8874fb5f",
   "metadata": {},
   "outputs": [
    {
     "data": {
      "image/png": "[encoded data removed]",
      "text/plain": [
       "<Figure size 500x500 with 1 Axes>"
      ]
     },
     "metadata": {},
     "output_type": "display_data"
    }
   ],
   "source": [
    "sns.displot(x=\"rating\", data = df, kde = True);"
   ]
  },
  {
   "cell_type": "markdown",
   "id": "eecf7548-7058-45bd-b637-1a3d5724aafb",
   "metadata": {},
   "source": [
    "<a id='import-library'></a>\n",
    "## <font color='midnightblue'> <b>Number of most sold 10 product</b><font color='black'>  "
   ]
  },
  {
   "cell_type": "code",
   "execution_count": 457,
   "id": "314afcc3-2982-4ce9-b4da-c3b41116b83b",
   "metadata": {},
   "outputs": [
    {
     "data": {
      "text/plain": [
       "product_type\n",
       "USBCables           231\n",
       "SmartWatches         76\n",
       "Smartphones          68\n",
       "SmartTelevisions     63\n",
       "In-Ear               52\n",
       "RemoteControls       49\n",
       "MixerGrinders        27\n",
       "HDMICables           24\n",
       "DryIrons             24\n",
       "Mice                 24\n",
       "Name: count, dtype: int64"
      ]
     },
     "execution_count": 457,
     "metadata": {},
     "output_type": "execute_result"
    }
   ],
   "source": [
    "most_sold = df['product_type'].value_counts().sort_values(ascending=False)[0:10]\n",
    "most_sold"
   ]
  },
  {
   "cell_type": "code",
   "execution_count": 458,
   "id": "95234339-2b57-42ce-ac50-335a9d23546c",
   "metadata": {},
   "outputs": [
    {
     "data": {
      "text/html": [
       "<div>\n",
       "<style scoped>\n",
       "    .dataframe tbody tr th:only-of-type {\n",
       "        vertical-align: middle;\n",
       "    }\n",
       "\n",
       "    .dataframe tbody tr th {\n",
       "        vertical-align: top;\n",
       "    }\n",
       "\n",
       "    .dataframe thead th {\n",
       "        text-align: right;\n",
       "    }\n",
       "</style>\n",
       "<table border=\"1\" class=\"dataframe\">\n",
       "  <thead>\n",
       "    <tr style=\"text-align: right;\">\n",
       "      <th></th>\n",
       "      <th>product_type</th>\n",
       "      <th>mean_of_dprice</th>\n",
       "    </tr>\n",
       "  </thead>\n",
       "  <tbody>\n",
       "    <tr>\n",
       "      <th>0</th>\n",
       "      <td>DryIrons</td>\n",
       "      <td>521.657417</td>\n",
       "    </tr>\n",
       "    <tr>\n",
       "      <th>1</th>\n",
       "      <td>HDMICables</td>\n",
       "      <td>406.291667</td>\n",
       "    </tr>\n",
       "    <tr>\n",
       "      <th>2</th>\n",
       "      <td>In-Ear</td>\n",
       "      <td>324.133462</td>\n",
       "    </tr>\n",
       "    <tr>\n",
       "      <th>3</th>\n",
       "      <td>Mice</td>\n",
       "      <td>387.763458</td>\n",
       "    </tr>\n",
       "    <tr>\n",
       "      <th>4</th>\n",
       "      <td>MixerGrinders</td>\n",
       "      <td>3.004667</td>\n",
       "    </tr>\n",
       "    <tr>\n",
       "      <th>5</th>\n",
       "      <td>RemoteControls</td>\n",
       "      <td>298.467143</td>\n",
       "    </tr>\n",
       "    <tr>\n",
       "      <th>6</th>\n",
       "      <td>SmartTelevisions</td>\n",
       "      <td>24.840190</td>\n",
       "    </tr>\n",
       "    <tr>\n",
       "      <th>7</th>\n",
       "      <td>SmartWatches</td>\n",
       "      <td>31.166105</td>\n",
       "    </tr>\n",
       "    <tr>\n",
       "      <th>8</th>\n",
       "      <td>Smartphones</td>\n",
       "      <td>15.754441</td>\n",
       "    </tr>\n",
       "    <tr>\n",
       "      <th>9</th>\n",
       "      <td>USBCables</td>\n",
       "      <td>336.322667</td>\n",
       "    </tr>\n",
       "  </tbody>\n",
       "</table>\n",
       "</div>"
      ],
      "text/plain": [
       "       product_type  mean_of_dprice\n",
       "0          DryIrons      521.657417\n",
       "1        HDMICables      406.291667\n",
       "2            In-Ear      324.133462\n",
       "3              Mice      387.763458\n",
       "4     MixerGrinders        3.004667\n",
       "5    RemoteControls      298.467143\n",
       "6  SmartTelevisions       24.840190\n",
       "7      SmartWatches       31.166105\n",
       "8       Smartphones       15.754441\n",
       "9         USBCables      336.322667"
      ]
     },
     "execution_count": 458,
     "metadata": {},
     "output_type": "execute_result"
    }
   ],
   "source": [
    "filtered_df = df[df.product_type.isin(most_sold.index)]\n",
    "filtered_df.groupby('product_type')['discounted_price'].mean().reset_index(name='mean_of_dprice')"
   ]
  },
  {
   "cell_type": "code",
   "execution_count": 459,
   "id": "7ea04f41-a7f7-4c5c-aae3-ec28e1f9ab5b",
   "metadata": {},
   "outputs": [
    {
     "data": {
      "image/png": "[encoded data removed]",
      "text/plain": [
       "<Figure size 400x600 with 1 Axes>"
      ]
     },
     "metadata": {},
     "output_type": "display_data"
    }
   ],
   "source": [
    "fig, ax = plt.subplots(figsize=(4, 6))\n",
    "ax.pie(most_sold.values, labels=most_sold.index, autopct='%1.1f%%', startangle=90,\n",
    "       shadow = True, textprops={'fontsize': 8},)\n",
    "\n",
    "\n",
    "ax.set_title('Number of most sold 10 product', fontsize=10, fontweight='bold')\n",
    "ax.axis('equal')\n",
    "\n",
    "plt.show()"
   ]
  },
  {
   "cell_type": "markdown",
   "id": "db9c8a4e-f446-406c-9d15-4a154087ae16",
   "metadata": {},
   "source": [
    "<a id='import-library'></a>\n",
    "## <font color='midnightblue'> <b>Sales Prices by Product Categories</b><font color='black'> "
   ]
  },
  {
   "cell_type": "code",
   "execution_count": 564,
   "id": "69d0be7b-b3c7-4925-94c2-43b18b987c01",
   "metadata": {},
   "outputs": [
    {
     "data": {
      "image/png": "[encoded data removed]",
      "text/plain": [
       "<Figure size 800x600 with 1 Axes>"
      ]
     },
     "metadata": {},
     "output_type": "display_data"
    }
   ],
   "source": [
    "plt.figure(figsize=(8, 6))  \n",
    "sns.boxplot(x='product_type', y='discounted_price', data=filtered_df, palette='tab10')  \n",
    "plt.title(\"Sales Prices by Product Categories\") \n",
    "plt.xticks(rotation=90) \n",
    "plt.xlabel(\"Product Category\")  \n",
    "plt.ylabel(\"Sales Price\")  \n",
    "plt.show()  "
   ]
  },
  {
   "cell_type": "markdown",
   "id": "f88312f3-a469-491e-bfc3-03f4e635e875",
   "metadata": {},
   "source": [
    "<a id='import-library'></a>\n",
    "## <font color='midnightblue'> <b>total order & rating</b><font color='black'>  "
   ]
  },
  {
   "cell_type": "code",
   "execution_count": 461,
   "id": "7358ad49-e31e-4274-aa42-3f1397de4a51",
   "metadata": {},
   "outputs": [
    {
     "data": {
      "text/html": [
       "<div>\n",
       "<style scoped>\n",
       "    .dataframe tbody tr th:only-of-type {\n",
       "        vertical-align: middle;\n",
       "    }\n",
       "\n",
       "    .dataframe tbody tr th {\n",
       "        vertical-align: top;\n",
       "    }\n",
       "\n",
       "    .dataframe thead th {\n",
       "        text-align: right;\n",
       "    }\n",
       "</style>\n",
       "<table border=\"1\" class=\"dataframe\">\n",
       "  <thead>\n",
       "    <tr style=\"text-align: right;\">\n",
       "      <th></th>\n",
       "      <th>rating</th>\n",
       "      <th>count</th>\n",
       "    </tr>\n",
       "  </thead>\n",
       "  <tbody>\n",
       "    <tr>\n",
       "      <th>0</th>\n",
       "      <td>2.0</td>\n",
       "      <td>1</td>\n",
       "    </tr>\n",
       "    <tr>\n",
       "      <th>1</th>\n",
       "      <td>2.3</td>\n",
       "      <td>1</td>\n",
       "    </tr>\n",
       "    <tr>\n",
       "      <th>2</th>\n",
       "      <td>2.6</td>\n",
       "      <td>1</td>\n",
       "    </tr>\n",
       "    <tr>\n",
       "      <th>3</th>\n",
       "      <td>2.8</td>\n",
       "      <td>2</td>\n",
       "    </tr>\n",
       "    <tr>\n",
       "      <th>4</th>\n",
       "      <td>2.9</td>\n",
       "      <td>1</td>\n",
       "    </tr>\n",
       "  </tbody>\n",
       "</table>\n",
       "</div>"
      ],
      "text/plain": [
       "   rating  count\n",
       "0     2.0      1\n",
       "1     2.3      1\n",
       "2     2.6      1\n",
       "3     2.8      2\n",
       "4     2.9      1"
      ]
     },
     "execution_count": 461,
     "metadata": {},
     "output_type": "execute_result"
    }
   ],
   "source": [
    "rating_count = df.groupby('rating')['rating'].count().reset_index(name=\"count\")\n",
    "rating_count.head()"
   ]
  },
  {
   "cell_type": "code",
   "execution_count": 462,
   "id": "699cb365-c550-42d5-9738-142a1aa6f660",
   "metadata": {},
   "outputs": [
    {
     "data": {
      "text/plain": [
       "Text(0.5, 1.0, 'total order & rating')"
      ]
     },
     "execution_count": 462,
     "metadata": {},
     "output_type": "execute_result"
    },
    {
     "data": {
      "image/png": "[encoded data removed]",
      "text/plain": [
       "<Figure size 640x480 with 1 Axes>"
      ]
     },
     "metadata": {},
     "output_type": "display_data"
    }
   ],
   "source": [
    "sns.lineplot(data=rating_count, x='rating', y='count', marker='o',color = \"red\")\n",
    "plt.title('total order & rating')"
   ]
  },
  {
   "cell_type": "markdown",
   "id": "fe24cbb0-085d-4e77-87e9-417138db411f",
   "metadata": {},
   "source": [
    "<a id='import-library'></a>\n",
    "## <font color='midnightblue'> <b>Rating & Rating_Count</b><font color='black'>  "
   ]
  },
  {
   "cell_type": "code",
   "execution_count": 463,
   "id": "d24383d5-1f1c-4089-8d9c-8aa46eb39622",
   "metadata": {},
   "outputs": [
    {
     "data": {
      "image/png": "[encoded data removed]",
      "text/plain": [
       "<Figure size 640x480 with 1 Axes>"
      ]
     },
     "metadata": {},
     "output_type": "display_data"
    }
   ],
   "source": [
    "sns.lineplot(data=df, x='rating', y='rating_count', marker='o', color=\"blue\")\n",
    "plt.title('Rating & Rating_Count')\n",
    "plt.xlabel('Rating')\n",
    "plt.ylabel('rating_Count')\n",
    "plt.show()"
   ]
  },
  {
   "cell_type": "markdown",
   "id": "233bc94b-93d8-4aad-a401-b715d7355304",
   "metadata": {},
   "source": [
    "<a id='import-library'></a>\n",
    "## <font color='midnightblue'> <b>Total Order & Rating</b><font color='black'>  "
   ]
  },
  {
   "cell_type": "code",
   "execution_count": 464,
   "id": "984875fc-8718-4958-88f3-07b5ae70e767",
   "metadata": {},
   "outputs": [
    {
     "data": {
      "text/html": [
       "<div>\n",
       "<style scoped>\n",
       "    .dataframe tbody tr th:only-of-type {\n",
       "        vertical-align: middle;\n",
       "    }\n",
       "\n",
       "    .dataframe tbody tr th {\n",
       "        vertical-align: top;\n",
       "    }\n",
       "\n",
       "    .dataframe thead th {\n",
       "        text-align: right;\n",
       "    }\n",
       "</style>\n",
       "<table border=\"1\" class=\"dataframe\">\n",
       "  <thead>\n",
       "    <tr style=\"text-align: right;\">\n",
       "      <th></th>\n",
       "      <th>rating</th>\n",
       "      <th>count</th>\n",
       "    </tr>\n",
       "  </thead>\n",
       "  <tbody>\n",
       "    <tr>\n",
       "      <th>0</th>\n",
       "      <td>2.0</td>\n",
       "      <td>1</td>\n",
       "    </tr>\n",
       "    <tr>\n",
       "      <th>1</th>\n",
       "      <td>2.3</td>\n",
       "      <td>1</td>\n",
       "    </tr>\n",
       "    <tr>\n",
       "      <th>2</th>\n",
       "      <td>2.6</td>\n",
       "      <td>1</td>\n",
       "    </tr>\n",
       "    <tr>\n",
       "      <th>3</th>\n",
       "      <td>2.8</td>\n",
       "      <td>2</td>\n",
       "    </tr>\n",
       "    <tr>\n",
       "      <th>4</th>\n",
       "      <td>2.9</td>\n",
       "      <td>1</td>\n",
       "    </tr>\n",
       "  </tbody>\n",
       "</table>\n",
       "</div>"
      ],
      "text/plain": [
       "   rating  count\n",
       "0     2.0      1\n",
       "1     2.3      1\n",
       "2     2.6      1\n",
       "3     2.8      2\n",
       "4     2.9      1"
      ]
     },
     "execution_count": 464,
     "metadata": {},
     "output_type": "execute_result"
    }
   ],
   "source": [
    "rating_count = df.groupby('rating')['rating'].count().reset_index(name=\"count\")\n",
    "rating_count.head()"
   ]
  },
  {
   "cell_type": "code",
   "execution_count": 465,
   "id": "1f21d436-51fc-4a89-bb0e-5e59ad3a928d",
   "metadata": {},
   "outputs": [
    {
     "data": {
      "image/png": "[encoded data removed]",
      "text/plain": [
       "<Figure size 640x480 with 1 Axes>"
      ]
     },
     "metadata": {},
     "output_type": "display_data"
    }
   ],
   "source": [
    "sns.scatterplot(data=rating_c_count, x='rating_count', y='count', marker='o',color = \"red\")\n",
    "plt.title('total order & rating')\n",
    "plt.show()"
   ]
  },
  {
   "cell_type": "markdown",
   "id": "fd393b12-b6cb-472f-830a-53d6b6573ee0",
   "metadata": {},
   "source": [
    "<a id='data'></a>\n",
    "# <font color='midnightblue'> <b>Exporting Cleaned Data</b><font color='black'>  "
   ]
  },
  {
   "cell_type": "code",
   "execution_count": 517,
   "id": "a3990fcf-80bd-4b85-ade1-c16ee3662453",
   "metadata": {},
   "outputs": [],
   "source": [
    "df.to_csv('amazon-clean-data.csv', index=False) "
   ]
  }
 ],
 "metadata": {
  "kernelspec": {
   "display_name": "Python 3 (ipykernel)",
   "language": "python",
   "name": "python3"
  },
  "language_info": {
   "codemirror_mode": {
    "name": "ipython",
    "version": 3
   },
   "file_extension": ".py",
   "mimetype": "text/x-python",
   "name": "python",
   "nbconvert_exporter": "python",
   "pygments_lexer": "ipython3",
   "version": "3.12.3"
  }
 },
 "nbformat": 4,
 "nbformat_minor": 5
}
