{
 "cells": [
  {
   "cell_type": "markdown",
   "id": "c12a5498-88ba-4e99-8b80-7e25b24e57fd",
   "metadata": {},
   "source": [
    "<p style=\"background-color:firebrick;font-family:newtimeroman;font-size:200%;color:white;text-align:center;border-radius:20px 20px;\"><b>EDA Project</b></p>"
   ]
  },
  {
   "cell_type": "markdown",
   "id": "8060c39b-4167-4d07-8545-d2c780ad3079",
   "metadata": {},
   "source": [
    "<b>Contains:</b>\n",
    "<ul>\n",
    "<li><a href=\"#import-library\">Importing Libraries</a></li>\n",
    "<li><a href=\"#loading-dataset\">Loading The Dataset</a></li>\n",
    "<li><a href=\"#understanding-dataset\">Understanding The Dataset</a></li>\n",
    "<li><a href=\"#organizing-columns\">Organizing Columns</a></li>\n",
    "<li><a href=\"#nan-values\">NaN Values</a></li>\n",
    "<li><a href=\"#data-visualization\">Data Visualization</a></li>\n",
    "</ul>"
   ]
  },
  {
   "cell_type": "markdown",
   "id": "f8b1370e-f85d-4452-8786-18150abff29e",
   "metadata": {},
   "source": [
    "<a id='import-library'></a>\n",
    "# <font color='firebrick'> <b>Importing Libraries</b><font color='black'> "
   ]
  },
  {
   "cell_type": "code",
   "execution_count": 10,
   "id": "0496b9e6-1312-4473-8642-22e6d458be77",
   "metadata": {},
   "outputs": [],
   "source": [
    "import numpy as np\n",
    "import pandas as pd\n",
    "import matplotlib.pyplot as plt\n",
    "import seaborn as sns\n",
    "\n",
    "import missingno as msno\n",
    "import plotly.express as px\n",
    "\n",
    "from skimpy import skim\n",
    "\n",
    "import warnings\n",
    "warnings.filterwarnings(\"ignore\")\n",
    "\n",
    "pd.set_option('display.max_columns', None)\n",
    "pd.set_option('display.max_rows', None)"
   ]
  },
  {
   "cell_type": "markdown",
   "id": "e181e802-374f-4270-b3f0-140355587b7e",
   "metadata": {},
   "source": [
    "<a id='loading-dataset'></a>\n",
    "# <font color='firebrick'> <b>Loading The Dataset</b><font color='black'> "
   ]
  },
  {
   "cell_type": "code",
   "execution_count": null,
   "id": "836a5204-157e-4972-b774-36eecf2a369d",
   "metadata": {},
   "outputs": [],
   "source": [
    "df0 = pd.read_csv(\"file_name.csv\")\n",
    "df = df0.copy()"
   ]
  },
  {
   "cell_type": "code",
   "execution_count": null,
   "id": "ccb01142-8b59-4660-8d94-e126c36cabf1",
   "metadata": {},
   "outputs": [],
   "source": [
    "df.head()"
   ]
  },
  {
   "cell_type": "markdown",
   "id": "fb633969-c069-4df4-8f09-e86f5287880c",
   "metadata": {},
   "source": [
    "<a id='understanding-dataset'></a>\n",
    "# <font color='firebrick'> <b>Understanding The Dataset</b><font color='black'> "
   ]
  },
  {
   "cell_type": "code",
   "execution_count": null,
   "id": "6de0d5fa-ab2a-4015-bdab-ca7709b5decd",
   "metadata": {},
   "outputs": [],
   "source": []
  },
  {
   "cell_type": "code",
   "execution_count": null,
   "id": "dcd48c58-df95-409c-b910-3e6eb095e45d",
   "metadata": {},
   "outputs": [],
   "source": []
  },
  {
   "cell_type": "code",
   "execution_count": null,
   "id": "f4488689-1c46-4a89-b0fa-a99dcb1bf9d6",
   "metadata": {},
   "outputs": [],
   "source": []
  },
  {
   "cell_type": "code",
   "execution_count": null,
   "id": "2e5efb26-fc09-4fc4-a899-4678d138ad0c",
   "metadata": {},
   "outputs": [],
   "source": []
  },
  {
   "cell_type": "code",
   "execution_count": null,
   "id": "692185ad-78f4-4b1b-a326-11120a3fbde0",
   "metadata": {},
   "outputs": [],
   "source": []
  },
  {
   "cell_type": "code",
   "execution_count": null,
   "id": "6ef39172-19f9-4390-928b-c7d1799daeb1",
   "metadata": {},
   "outputs": [],
   "source": []
  },
  {
   "cell_type": "code",
   "execution_count": null,
   "id": "526c672b-1359-4ee0-9b75-f6bbcc52513b",
   "metadata": {},
   "outputs": [],
   "source": []
  },
  {
   "cell_type": "code",
   "execution_count": null,
   "id": "12a1ea17-190d-4515-9802-80f20d2f1274",
   "metadata": {},
   "outputs": [],
   "source": []
  },
  {
   "cell_type": "code",
   "execution_count": null,
   "id": "cc0f99f7-c543-4930-beaa-01a37d9c6dcf",
   "metadata": {},
   "outputs": [],
   "source": []
  },
  {
   "cell_type": "code",
   "execution_count": null,
   "id": "1bf5c3a6-c977-402c-953b-96a428ecf6cc",
   "metadata": {},
   "outputs": [],
   "source": []
  },
  {
   "cell_type": "markdown",
   "id": "b49a6e59-a6da-4889-a47a-f2e83d3b16e1",
   "metadata": {},
   "source": [
    "<a id='organizing-columns'></a>\n",
    "# <font color='firebrick'> <b>Organizing Columns</b><font color='black'> "
   ]
  },
  {
   "cell_type": "code",
   "execution_count": null,
   "id": "1f8b0ed9-94c0-471e-b021-55a3c0694fe1",
   "metadata": {},
   "outputs": [],
   "source": []
  },
  {
   "cell_type": "code",
   "execution_count": null,
   "id": "781116d8-d252-4630-a6dc-fa6eb4907244",
   "metadata": {},
   "outputs": [],
   "source": []
  },
  {
   "cell_type": "code",
   "execution_count": null,
   "id": "f5b3412a-6869-4ff8-bb6f-e62b9d72959d",
   "metadata": {},
   "outputs": [],
   "source": []
  },
  {
   "cell_type": "code",
   "execution_count": null,
   "id": "b3986aeb-4e16-4e85-88f7-dee1d75afd03",
   "metadata": {},
   "outputs": [],
   "source": []
  },
  {
   "cell_type": "code",
   "execution_count": null,
   "id": "341c6d64-bd88-4fa9-a1bb-be551a58d200",
   "metadata": {},
   "outputs": [],
   "source": []
  },
  {
   "cell_type": "code",
   "execution_count": null,
   "id": "2b0bdf39-7ee6-4e0a-b1f4-e3a489869be9",
   "metadata": {},
   "outputs": [],
   "source": []
  },
  {
   "cell_type": "code",
   "execution_count": null,
   "id": "c3222384-26fe-45af-903c-794cf5f1b6f8",
   "metadata": {},
   "outputs": [],
   "source": []
  },
  {
   "cell_type": "code",
   "execution_count": null,
   "id": "0226068d-6f90-4de5-b31c-db3f8c7f67ac",
   "metadata": {},
   "outputs": [],
   "source": []
  },
  {
   "cell_type": "code",
   "execution_count": null,
   "id": "506a93d2-bdf4-4486-993a-e5b1e63bb2a4",
   "metadata": {},
   "outputs": [],
   "source": []
  },
  {
   "cell_type": "code",
   "execution_count": null,
   "id": "7ffec598-8053-4a15-a708-b116c397456c",
   "metadata": {},
   "outputs": [],
   "source": []
  },
  {
   "cell_type": "markdown",
   "id": "dc23f935-72d9-4654-8a0b-0f2b15a5c643",
   "metadata": {},
   "source": [
    "<a id='nan-values'></a>\n",
    "# <font color='firebrick'> <b>NaN Values</b><font color='black'> "
   ]
  },
  {
   "cell_type": "code",
   "execution_count": null,
   "id": "054b5bfd-d31c-4a4a-b7b8-24ca8ced7e22",
   "metadata": {},
   "outputs": [],
   "source": []
  },
  {
   "cell_type": "code",
   "execution_count": null,
   "id": "9513ab3b-9d2e-4fc7-a3b2-92f73437cd9c",
   "metadata": {},
   "outputs": [],
   "source": []
  },
  {
   "cell_type": "code",
   "execution_count": null,
   "id": "79876c11-e3fe-484a-937c-fa4fb8cc8de1",
   "metadata": {},
   "outputs": [],
   "source": []
  },
  {
   "cell_type": "code",
   "execution_count": null,
   "id": "95f8b7f0-3057-4933-8a97-ec6eb5f54e0e",
   "metadata": {},
   "outputs": [],
   "source": []
  },
  {
   "cell_type": "code",
   "execution_count": null,
   "id": "406e6b4d-f21c-4ad1-a6b2-4bfc77b00a0e",
   "metadata": {},
   "outputs": [],
   "source": []
  },
  {
   "cell_type": "code",
   "execution_count": null,
   "id": "914aa284-e398-4779-a419-729b3ad3ddc3",
   "metadata": {},
   "outputs": [],
   "source": []
  },
  {
   "cell_type": "code",
   "execution_count": null,
   "id": "d03ced7a-f3f2-4890-a017-2f56461b19b6",
   "metadata": {},
   "outputs": [],
   "source": []
  },
  {
   "cell_type": "code",
   "execution_count": null,
   "id": "bd260f57-1071-4641-b694-7bf23401afa2",
   "metadata": {},
   "outputs": [],
   "source": []
  },
  {
   "cell_type": "code",
   "execution_count": null,
   "id": "ac04af0e-5f62-4352-9ab2-d378668b6819",
   "metadata": {},
   "outputs": [],
   "source": []
  },
  {
   "cell_type": "code",
   "execution_count": null,
   "id": "ce01eeb4-dca2-4861-92ed-43965c086d3b",
   "metadata": {},
   "outputs": [],
   "source": []
  },
  {
   "cell_type": "markdown",
   "id": "d8f88c54-cb50-411e-8acf-df21e1f0d960",
   "metadata": {},
   "source": [
    "<a id='data-visualization'></a>\n",
    "# <font color='firebrick'> <b>Data Visualization</b><font color='black'> "
   ]
  },
  {
   "cell_type": "code",
   "execution_count": null,
   "id": "0ba0f02b-5c16-4f11-bd3d-77b5a493bc9d",
   "metadata": {},
   "outputs": [],
   "source": []
  },
  {
   "cell_type": "code",
   "execution_count": null,
   "id": "74d0a7f4-aa10-4097-8b27-b4f6aa5a0a18",
   "metadata": {},
   "outputs": [],
   "source": []
  },
  {
   "cell_type": "code",
   "execution_count": null,
   "id": "7ca449b6-61b1-4577-9f93-c9a15f1a95bb",
   "metadata": {},
   "outputs": [],
   "source": []
  },
  {
   "cell_type": "code",
   "execution_count": null,
   "id": "048d85e7-5899-4f4c-ac10-a45af21966ed",
   "metadata": {},
   "outputs": [],
   "source": []
  },
  {
   "cell_type": "code",
   "execution_count": null,
   "id": "77aecabe-8e11-4d89-a4ca-9cb20e64eb87",
   "metadata": {},
   "outputs": [],
   "source": []
  },
  {
   "cell_type": "code",
   "execution_count": null,
   "id": "9b853e9d-598d-4ab6-b052-0f92a1da8105",
   "metadata": {},
   "outputs": [],
   "source": []
  },
  {
   "cell_type": "code",
   "execution_count": null,
   "id": "c78f99e4-4813-40b5-afc4-278311b8c2d5",
   "metadata": {},
   "outputs": [],
   "source": []
  },
  {
   "cell_type": "code",
   "execution_count": null,
   "id": "5801770f-9127-4467-afa6-c66215e31872",
   "metadata": {},
   "outputs": [],
   "source": []
  },
  {
   "cell_type": "code",
   "execution_count": null,
   "id": "163fb83b-ece9-42f5-b831-ab31ddc120f4",
   "metadata": {},
   "outputs": [],
   "source": []
  },
  {
   "cell_type": "markdown",
   "id": "4fefb04f-f51a-4124-b72d-146e19870ab4",
   "metadata": {},
   "source": [
    "<p style=\"background-color:firebrick;font-family:newtimeroman;font-size:200%;color:white;text-align:center;border-radius:20px 20px;\"><b>THANK YOU!</b></p>"
   ]
  }
 ],
 "metadata": {
  "kernelspec": {
   "display_name": "Python 3 (ipykernel)",
   "language": "python",
   "name": "python3"
  },
  "language_info": {
   "codemirror_mode": {
    "name": "ipython",
    "version": 3
   },
   "file_extension": ".py",
   "mimetype": "text/x-python",
   "name": "python",
   "nbconvert_exporter": "python",
   "pygments_lexer": "ipython3",
   "version": "3.12.4"
  }
 },
 "nbformat": 4,
 "nbformat_minor": 5
}
