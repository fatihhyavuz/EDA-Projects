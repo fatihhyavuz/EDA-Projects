{
 "cells": [
  {
   "cell_type": "markdown",
   "id": "c12a5498-88ba-4e99-8b80-7e25b24e57fd",
   "metadata": {},
   "source": [
    "<p style=\" background-color:#221f1f;font-family:newtimeroman;font-size:200%;color:#ff9900;text-align:center;border-radius:20px 20px;\"><span  style = \"padding : 50px; display : block; \"><b >EDA Project </b></span></p>"
   ]
  },
  {
   "cell_type": "markdown",
   "id": "8060c39b-4167-4d07-8545-d2c780ad3079",
   "metadata": {},
   "source": [
    "<b>Contains:</b>\n",
    "<ul>\n",
    "<li><a href=\"#import-library\">Importing Libraries</a></li>\n",
    "<li><a href=\"#loading-dataset\">Loading The Dataset</a></li>\n",
    "<li><a href=\"#understanding-dataset\">Understanding The Dataset</a></li>\n",
    "<li><a href=\"#organizing-columns\">Organizing Columns</a></li>\n",
    "<li><a href=\"#nan-values\">NaN Values</a></li>\n",
    "<li><a href=\"#data-visualization\">Data Visualization</a></li>\n",
    "</ul>"
   ]
  },
  {
   "cell_type": "markdown",
   "id": "f8b1370e-f85d-4452-8786-18150abff29e",
   "metadata": {},
   "source": [
    "<a id='import-library'></a>\n",
    "# <font color='firebrick'> <b>Importing Libraries</b><font color='black'> "
   ]
  },
  {
   "cell_type": "code",
   "execution_count": 4,
   "id": "0496b9e6-1312-4473-8642-22e6d458be77",
   "metadata": {},
   "outputs": [],
   "source": [
    "import numpy as np\n",
    "import pandas as pd\n",
    "import matplotlib.pyplot as plt\n",
    "import seaborn as sns\n",
    "\n",
    "import missingno as msno\n",
    "import plotly.express as px\n",
    "\n",
    "from skimpy import skim\n",
    "\n",
    "import warnings\n",
    "warnings.filterwarnings(\"ignore\")\n",
    "\n",
    "pd.set_option('display.max_columns', None)\n",
    "pd.set_option('display.max_rows', None)"
   ]
  },
  {
   "cell_type": "markdown",
   "id": "e181e802-374f-4270-b3f0-140355587b7e",
   "metadata": {},
   "source": [
    "<a id='loading-dataset'></a>\n",
    "# <font color='firebrick'> <b>Loading The Dataset</b><font color='black'> "
   ]
  },
  {
   "cell_type": "code",
   "execution_count": 5,
   "id": "836a5204-157e-4972-b774-36eecf2a369d",
   "metadata": {},
   "outputs": [],
   "source": [
    "df0 = pd.read_csv(\"synthetic_dataset_with_missing (1).csv\")\n",
    "df = df0.copy()"
   ]
  },
  {
   "cell_type": "code",
   "execution_count": 181,
   "id": "ccb01142-8b59-4660-8d94-e126c36cabf1",
   "metadata": {},
   "outputs": [
    {
     "data": {
      "text/html": [
       "<div>\n",
       "<style scoped>\n",
       "    .dataframe tbody tr th:only-of-type {\n",
       "        vertical-align: middle;\n",
       "    }\n",
       "\n",
       "    .dataframe tbody tr th {\n",
       "        vertical-align: top;\n",
       "    }\n",
       "\n",
       "    .dataframe thead th {\n",
       "        text-align: right;\n",
       "    }\n",
       "</style>\n",
       "<table border=\"1\" class=\"dataframe\">\n",
       "  <thead>\n",
       "    <tr style=\"text-align: right;\">\n",
       "      <th></th>\n",
       "      <th>User ID</th>\n",
       "      <th>Age</th>\n",
       "      <th>Gender</th>\n",
       "      <th>Country</th>\n",
       "      <th>Purchase Amount</th>\n",
       "      <th>Purchase Date</th>\n",
       "      <th>Product Category</th>\n",
       "    </tr>\n",
       "  </thead>\n",
       "  <tbody>\n",
       "    <tr>\n",
       "      <th>0</th>\n",
       "      <td>1</td>\n",
       "      <td>56.0</td>\n",
       "      <td>Female</td>\n",
       "      <td>USA</td>\n",
       "      <td>331.79</td>\n",
       "      <td>2021-11-21</td>\n",
       "      <td>Sports</td>\n",
       "    </tr>\n",
       "    <tr>\n",
       "      <th>1</th>\n",
       "      <td>2</td>\n",
       "      <td>69.0</td>\n",
       "      <td>Male</td>\n",
       "      <td>Australia</td>\n",
       "      <td>335.72</td>\n",
       "      <td>2022-03-05</td>\n",
       "      <td>Home &amp; Kitchen</td>\n",
       "    </tr>\n",
       "    <tr>\n",
       "      <th>2</th>\n",
       "      <td>3</td>\n",
       "      <td>46.0</td>\n",
       "      <td>NaN</td>\n",
       "      <td>Germany</td>\n",
       "      <td>493.18</td>\n",
       "      <td>NaN</td>\n",
       "      <td>Books</td>\n",
       "    </tr>\n",
       "    <tr>\n",
       "      <th>3</th>\n",
       "      <td>4</td>\n",
       "      <td>32.0</td>\n",
       "      <td>Male</td>\n",
       "      <td>Germany</td>\n",
       "      <td>80.97</td>\n",
       "      <td>2023-06-08</td>\n",
       "      <td>Sports</td>\n",
       "    </tr>\n",
       "    <tr>\n",
       "      <th>4</th>\n",
       "      <td>5</td>\n",
       "      <td>60.0</td>\n",
       "      <td>Female</td>\n",
       "      <td>UK</td>\n",
       "      <td>21.75</td>\n",
       "      <td>NaN</td>\n",
       "      <td>Beauty</td>\n",
       "    </tr>\n",
       "  </tbody>\n",
       "</table>\n",
       "</div>"
      ],
      "text/plain": [
       "   User ID   Age  Gender    Country  Purchase Amount Purchase Date  \\\n",
       "0        1  56.0  Female        USA           331.79    2021-11-21   \n",
       "1        2  69.0    Male  Australia           335.72    2022-03-05   \n",
       "2        3  46.0     NaN    Germany           493.18           NaN   \n",
       "3        4  32.0    Male    Germany            80.97    2023-06-08   \n",
       "4        5  60.0  Female         UK            21.75           NaN   \n",
       "\n",
       "  Product Category  \n",
       "0           Sports  \n",
       "1   Home & Kitchen  \n",
       "2            Books  \n",
       "3           Sports  \n",
       "4           Beauty  "
      ]
     },
     "execution_count": 181,
     "metadata": {},
     "output_type": "execute_result"
    }
   ],
   "source": [
    "df.head()"
   ]
  },
  {
   "cell_type": "markdown",
   "id": "fb633969-c069-4df4-8f09-e86f5287880c",
   "metadata": {},
   "source": [
    "<a id='understanding-dataset'></a>\n",
    "# <font color='firebrick'> <b>Understanding The Dataset</b><font color='black'> "
   ]
  },
  {
   "cell_type": "code",
   "execution_count": 183,
   "id": "6de0d5fa-ab2a-4015-bdab-ca7709b5decd",
   "metadata": {},
   "outputs": [],
   "source": [
    "def check_df(dataframe, head = 5):\n",
    "    print('------------------shape---------------')\n",
    "    print(dataframe.shape)\n",
    "    print('------------------types---------------')\n",
    "    print(dataframe.dtypes)\n",
    "    print('------------------NAN---------------')\n",
    "    print(dataframe.isnull().sum())\n",
    "    print('------------------describe---------------')\n",
    "    print(dataframe.describe().T)"
   ]
  },
  {
   "cell_type": "code",
   "execution_count": 184,
   "id": "dcd48c58-df95-409c-b910-3e6eb095e45d",
   "metadata": {},
   "outputs": [
    {
     "name": "stdout",
     "output_type": "stream",
     "text": [
      "------------------shape---------------\n",
      "(15000, 7)\n",
      "------------------types---------------\n",
      "User ID               int64\n",
      "Age                 float64\n",
      "Gender               object\n",
      "Country              object\n",
      "Purchase Amount     float64\n",
      "Purchase Date        object\n",
      "Product Category     object\n",
      "dtype: object\n",
      "------------------NAN---------------\n",
      "User ID                0\n",
      "Age                 1500\n",
      "Gender               750\n",
      "Country             1200\n",
      "Purchase Amount     1800\n",
      "Purchase Date       1050\n",
      "Product Category     900\n",
      "dtype: int64\n",
      "------------------describe---------------\n",
      "                   count        mean          std    min       25%       50%  \\\n",
      "User ID          15000.0  7500.50000  4330.271354   1.00  3750.750  7500.500   \n",
      "Age              13500.0    43.39600    14.927082  18.00    31.000    43.000   \n",
      "Purchase Amount  13200.0   253.21772   143.113919   5.05   130.335   253.645   \n",
      "\n",
      "                       75%       max  \n",
      "User ID          11250.250  15000.00  \n",
      "Age                 56.000     69.00  \n",
      "Purchase Amount    378.585    499.95  \n"
     ]
    }
   ],
   "source": [
    "check_df(df)"
   ]
  },
  {
   "cell_type": "code",
   "execution_count": 185,
   "id": "f4488689-1c46-4a89-b0fa-a99dcb1bf9d6",
   "metadata": {},
   "outputs": [
    {
     "data": {
      "text/html": [
       "<pre style=\"white-space:pre;overflow-x:auto;line-height:normal;font-family:Menlo,'DejaVu Sans Mono',consolas,'Courier New',monospace\">╭──────────────────────────────────────────────── skimpy summary ─────────────────────────────────────────────────╮\n",
       "│ <span style=\"font-style: italic\">         Data Summary         </span> <span style=\"font-style: italic\">      Data Types       </span>                                                          │\n",
       "│ ┏━━━━━━━━━━━━━━━━━━━┳━━━━━━━━┓ ┏━━━━━━━━━━━━━┳━━━━━━━┓                                                          │\n",
       "│ ┃<span style=\"color: #008080; text-decoration-color: #008080; font-weight: bold\"> dataframe         </span>┃<span style=\"color: #008080; text-decoration-color: #008080; font-weight: bold\"> Values </span>┃ ┃<span style=\"color: #008080; text-decoration-color: #008080; font-weight: bold\"> Column Type </span>┃<span style=\"color: #008080; text-decoration-color: #008080; font-weight: bold\"> Count </span>┃                                                          │\n",
       "│ ┡━━━━━━━━━━━━━━━━━━━╇━━━━━━━━┩ ┡━━━━━━━━━━━━━╇━━━━━━━┩                                                          │\n",
       "│ │ Number of rows    │ 15000  │ │ string      │ 4     │                                                          │\n",
       "│ │ Number of columns │ 7      │ │ float64     │ 2     │                                                          │\n",
       "│ └───────────────────┴────────┘ │ int32       │ 1     │                                                          │\n",
       "│                                └─────────────┴───────┘                                                          │\n",
       "│ <span style=\"font-style: italic\">                                                    number                                                    </span>  │\n",
       "│ ┏━━━━━━━━━━━━━━━━━━━━┳━━━━━━━┳━━━━━━━┳━━━━━━━━┳━━━━━━━━┳━━━━━━━┳━━━━━━━━┳━━━━━━━━┳━━━━━━━━┳━━━━━━━━┳━━━━━━━━━┓  │\n",
       "│ ┃<span style=\"font-weight: bold\"> column_name        </span>┃<span style=\"font-weight: bold\"> NA    </span>┃<span style=\"font-weight: bold\"> NA %  </span>┃<span style=\"font-weight: bold\"> mean   </span>┃<span style=\"font-weight: bold\"> sd     </span>┃<span style=\"font-weight: bold\"> p0    </span>┃<span style=\"font-weight: bold\"> p25    </span>┃<span style=\"font-weight: bold\"> p50    </span>┃<span style=\"font-weight: bold\"> p75    </span>┃<span style=\"font-weight: bold\"> p100   </span>┃<span style=\"font-weight: bold\"> hist    </span>┃  │\n",
       "│ ┡━━━━━━━━━━━━━━━━━━━━╇━━━━━━━╇━━━━━━━╇━━━━━━━━╇━━━━━━━━╇━━━━━━━╇━━━━━━━━╇━━━━━━━━╇━━━━━━━━╇━━━━━━━━╇━━━━━━━━━┩  │\n",
       "│ │ <span style=\"color: #af87ff; text-decoration-color: #af87ff\">User ID           </span> │ <span style=\"color: #008080; text-decoration-color: #008080\">    0</span> │ <span style=\"color: #008080; text-decoration-color: #008080\">    0</span> │ <span style=\"color: #008080; text-decoration-color: #008080\">  7500</span> │ <span style=\"color: #008080; text-decoration-color: #008080\">  4330</span> │ <span style=\"color: #008080; text-decoration-color: #008080\">    1</span> │ <span style=\"color: #008080; text-decoration-color: #008080\">  3751</span> │ <span style=\"color: #008080; text-decoration-color: #008080\">  7500</span> │ <span style=\"color: #008080; text-decoration-color: #008080\"> 11250</span> │ <span style=\"color: #008080; text-decoration-color: #008080\"> 15000</span> │ <span style=\"color: #008000; text-decoration-color: #008000\">▇▇▇▇▇▇ </span> │  │\n",
       "│ │ <span style=\"color: #af87ff; text-decoration-color: #af87ff\">Age               </span> │ <span style=\"color: #008080; text-decoration-color: #008080\"> 1500</span> │ <span style=\"color: #008080; text-decoration-color: #008080\">   10</span> │ <span style=\"color: #008080; text-decoration-color: #008080\">  43.4</span> │ <span style=\"color: #008080; text-decoration-color: #008080\"> 14.93</span> │ <span style=\"color: #008080; text-decoration-color: #008080\">   18</span> │ <span style=\"color: #008080; text-decoration-color: #008080\">    31</span> │ <span style=\"color: #008080; text-decoration-color: #008080\">    43</span> │ <span style=\"color: #008080; text-decoration-color: #008080\">    56</span> │ <span style=\"color: #008080; text-decoration-color: #008080\">    69</span> │ <span style=\"color: #008000; text-decoration-color: #008000\">▇▇▇▇▇▇ </span> │  │\n",
       "│ │ <span style=\"color: #af87ff; text-decoration-color: #af87ff\">Purchase Amount   </span> │ <span style=\"color: #008080; text-decoration-color: #008080\"> 1800</span> │ <span style=\"color: #008080; text-decoration-color: #008080\">   12</span> │ <span style=\"color: #008080; text-decoration-color: #008080\"> 253.2</span> │ <span style=\"color: #008080; text-decoration-color: #008080\"> 143.1</span> │ <span style=\"color: #008080; text-decoration-color: #008080\"> 5.05</span> │ <span style=\"color: #008080; text-decoration-color: #008080\"> 130.3</span> │ <span style=\"color: #008080; text-decoration-color: #008080\"> 253.6</span> │ <span style=\"color: #008080; text-decoration-color: #008080\"> 378.6</span> │ <span style=\"color: #008080; text-decoration-color: #008080\"> 499.9</span> │ <span style=\"color: #008000; text-decoration-color: #008000\">▇▇▇▇▇▇ </span> │  │\n",
       "│ └────────────────────┴───────┴───────┴────────┴────────┴───────┴────────┴────────┴────────┴────────┴─────────┘  │\n",
       "│ <span style=\"font-style: italic\">                                                    string                                                    </span>  │\n",
       "│ ┏━━━━━━━━━━━━━━━━━━━━━━━━━━━━━━━━━┳━━━━━━━━━━━┳━━━━━━━━━━━┳━━━━━━━━━━━━━━━━━━━━━━━━━━━┳━━━━━━━━━━━━━━━━━━━━━━┓  │\n",
       "│ ┃<span style=\"font-weight: bold\"> column_name                     </span>┃<span style=\"font-weight: bold\"> NA        </span>┃<span style=\"font-weight: bold\"> NA %      </span>┃<span style=\"font-weight: bold\"> words per row             </span>┃<span style=\"font-weight: bold\"> total words          </span>┃  │\n",
       "│ ┡━━━━━━━━━━━━━━━━━━━━━━━━━━━━━━━━━╇━━━━━━━━━━━╇━━━━━━━━━━━╇━━━━━━━━━━━━━━━━━━━━━━━━━━━╇━━━━━━━━━━━━━━━━━━━━━━┩  │\n",
       "│ │ <span style=\"color: #af87ff; text-decoration-color: #af87ff\">Gender                         </span> │ <span style=\"color: #008080; text-decoration-color: #008080\">      750</span> │ <span style=\"color: #008080; text-decoration-color: #008080\">        5</span> │ <span style=\"color: #008080; text-decoration-color: #008080\">                     0.95</span> │ <span style=\"color: #008080; text-decoration-color: #008080\">               14250</span> │  │\n",
       "│ │ <span style=\"color: #af87ff; text-decoration-color: #af87ff\">Country                        </span> │ <span style=\"color: #008080; text-decoration-color: #008080\">     1200</span> │ <span style=\"color: #008080; text-decoration-color: #008080\">        8</span> │ <span style=\"color: #008080; text-decoration-color: #008080\">                     0.92</span> │ <span style=\"color: #008080; text-decoration-color: #008080\">               13800</span> │  │\n",
       "│ │ <span style=\"color: #af87ff; text-decoration-color: #af87ff\">Purchase Date                  </span> │ <span style=\"color: #008080; text-decoration-color: #008080\">     1050</span> │ <span style=\"color: #008080; text-decoration-color: #008080\">        7</span> │ <span style=\"color: #008080; text-decoration-color: #008080\">                     0.93</span> │ <span style=\"color: #008080; text-decoration-color: #008080\">               13950</span> │  │\n",
       "│ │ <span style=\"color: #af87ff; text-decoration-color: #af87ff\">Product Category               </span> │ <span style=\"color: #008080; text-decoration-color: #008080\">      900</span> │ <span style=\"color: #008080; text-decoration-color: #008080\">        6</span> │ <span style=\"color: #008080; text-decoration-color: #008080\">                      1.3</span> │ <span style=\"color: #008080; text-decoration-color: #008080\">               18818</span> │  │\n",
       "│ └─────────────────────────────────┴───────────┴───────────┴───────────────────────────┴──────────────────────┘  │\n",
       "╰────────────────────────────────────────────────────── End ──────────────────────────────────────────────────────╯\n",
       "</pre>\n"
      ],
      "text/plain": [
       "╭──────────────────────────────────────────────── skimpy summary ─────────────────────────────────────────────────╮\n",
       "│ \u001b[3m         Data Summary         \u001b[0m \u001b[3m      Data Types       \u001b[0m                                                          │\n",
       "│ ┏━━━━━━━━━━━━━━━━━━━┳━━━━━━━━┓ ┏━━━━━━━━━━━━━┳━━━━━━━┓                                                          │\n",
       "│ ┃\u001b[1;36m \u001b[0m\u001b[1;36mdataframe        \u001b[0m\u001b[1;36m \u001b[0m┃\u001b[1;36m \u001b[0m\u001b[1;36mValues\u001b[0m\u001b[1;36m \u001b[0m┃ ┃\u001b[1;36m \u001b[0m\u001b[1;36mColumn Type\u001b[0m\u001b[1;36m \u001b[0m┃\u001b[1;36m \u001b[0m\u001b[1;36mCount\u001b[0m\u001b[1;36m \u001b[0m┃                                                          │\n",
       "│ ┡━━━━━━━━━━━━━━━━━━━╇━━━━━━━━┩ ┡━━━━━━━━━━━━━╇━━━━━━━┩                                                          │\n",
       "│ │ Number of rows    │ 15000  │ │ string      │ 4     │                                                          │\n",
       "│ │ Number of columns │ 7      │ │ float64     │ 2     │                                                          │\n",
       "│ └───────────────────┴────────┘ │ int32       │ 1     │                                                          │\n",
       "│                                └─────────────┴───────┘                                                          │\n",
       "│ \u001b[3m                                                    number                                                    \u001b[0m  │\n",
       "│ ┏━━━━━━━━━━━━━━━━━━━━┳━━━━━━━┳━━━━━━━┳━━━━━━━━┳━━━━━━━━┳━━━━━━━┳━━━━━━━━┳━━━━━━━━┳━━━━━━━━┳━━━━━━━━┳━━━━━━━━━┓  │\n",
       "│ ┃\u001b[1m \u001b[0m\u001b[1mcolumn_name       \u001b[0m\u001b[1m \u001b[0m┃\u001b[1m \u001b[0m\u001b[1mNA   \u001b[0m\u001b[1m \u001b[0m┃\u001b[1m \u001b[0m\u001b[1mNA % \u001b[0m\u001b[1m \u001b[0m┃\u001b[1m \u001b[0m\u001b[1mmean  \u001b[0m\u001b[1m \u001b[0m┃\u001b[1m \u001b[0m\u001b[1msd    \u001b[0m\u001b[1m \u001b[0m┃\u001b[1m \u001b[0m\u001b[1mp0   \u001b[0m\u001b[1m \u001b[0m┃\u001b[1m \u001b[0m\u001b[1mp25   \u001b[0m\u001b[1m \u001b[0m┃\u001b[1m \u001b[0m\u001b[1mp50   \u001b[0m\u001b[1m \u001b[0m┃\u001b[1m \u001b[0m\u001b[1mp75   \u001b[0m\u001b[1m \u001b[0m┃\u001b[1m \u001b[0m\u001b[1mp100  \u001b[0m\u001b[1m \u001b[0m┃\u001b[1m \u001b[0m\u001b[1mhist   \u001b[0m\u001b[1m \u001b[0m┃  │\n",
       "│ ┡━━━━━━━━━━━━━━━━━━━━╇━━━━━━━╇━━━━━━━╇━━━━━━━━╇━━━━━━━━╇━━━━━━━╇━━━━━━━━╇━━━━━━━━╇━━━━━━━━╇━━━━━━━━╇━━━━━━━━━┩  │\n",
       "│ │ \u001b[38;5;141mUser ID           \u001b[0m │ \u001b[36m    0\u001b[0m │ \u001b[36m    0\u001b[0m │ \u001b[36m  7500\u001b[0m │ \u001b[36m  4330\u001b[0m │ \u001b[36m    1\u001b[0m │ \u001b[36m  3751\u001b[0m │ \u001b[36m  7500\u001b[0m │ \u001b[36m 11250\u001b[0m │ \u001b[36m 15000\u001b[0m │ \u001b[32m▇▇▇▇▇▇ \u001b[0m │  │\n",
       "│ │ \u001b[38;5;141mAge               \u001b[0m │ \u001b[36m 1500\u001b[0m │ \u001b[36m   10\u001b[0m │ \u001b[36m  43.4\u001b[0m │ \u001b[36m 14.93\u001b[0m │ \u001b[36m   18\u001b[0m │ \u001b[36m    31\u001b[0m │ \u001b[36m    43\u001b[0m │ \u001b[36m    56\u001b[0m │ \u001b[36m    69\u001b[0m │ \u001b[32m▇▇▇▇▇▇ \u001b[0m │  │\n",
       "│ │ \u001b[38;5;141mPurchase Amount   \u001b[0m │ \u001b[36m 1800\u001b[0m │ \u001b[36m   12\u001b[0m │ \u001b[36m 253.2\u001b[0m │ \u001b[36m 143.1\u001b[0m │ \u001b[36m 5.05\u001b[0m │ \u001b[36m 130.3\u001b[0m │ \u001b[36m 253.6\u001b[0m │ \u001b[36m 378.6\u001b[0m │ \u001b[36m 499.9\u001b[0m │ \u001b[32m▇▇▇▇▇▇ \u001b[0m │  │\n",
       "│ └────────────────────┴───────┴───────┴────────┴────────┴───────┴────────┴────────┴────────┴────────┴─────────┘  │\n",
       "│ \u001b[3m                                                    string                                                    \u001b[0m  │\n",
       "│ ┏━━━━━━━━━━━━━━━━━━━━━━━━━━━━━━━━━┳━━━━━━━━━━━┳━━━━━━━━━━━┳━━━━━━━━━━━━━━━━━━━━━━━━━━━┳━━━━━━━━━━━━━━━━━━━━━━┓  │\n",
       "│ ┃\u001b[1m \u001b[0m\u001b[1mcolumn_name                    \u001b[0m\u001b[1m \u001b[0m┃\u001b[1m \u001b[0m\u001b[1mNA       \u001b[0m\u001b[1m \u001b[0m┃\u001b[1m \u001b[0m\u001b[1mNA %     \u001b[0m\u001b[1m \u001b[0m┃\u001b[1m \u001b[0m\u001b[1mwords per row            \u001b[0m\u001b[1m \u001b[0m┃\u001b[1m \u001b[0m\u001b[1mtotal words         \u001b[0m\u001b[1m \u001b[0m┃  │\n",
       "│ ┡━━━━━━━━━━━━━━━━━━━━━━━━━━━━━━━━━╇━━━━━━━━━━━╇━━━━━━━━━━━╇━━━━━━━━━━━━━━━━━━━━━━━━━━━╇━━━━━━━━━━━━━━━━━━━━━━┩  │\n",
       "│ │ \u001b[38;5;141mGender                         \u001b[0m │ \u001b[36m      750\u001b[0m │ \u001b[36m        5\u001b[0m │ \u001b[36m                     0.95\u001b[0m │ \u001b[36m               14250\u001b[0m │  │\n",
       "│ │ \u001b[38;5;141mCountry                        \u001b[0m │ \u001b[36m     1200\u001b[0m │ \u001b[36m        8\u001b[0m │ \u001b[36m                     0.92\u001b[0m │ \u001b[36m               13800\u001b[0m │  │\n",
       "│ │ \u001b[38;5;141mPurchase Date                  \u001b[0m │ \u001b[36m     1050\u001b[0m │ \u001b[36m        7\u001b[0m │ \u001b[36m                     0.93\u001b[0m │ \u001b[36m               13950\u001b[0m │  │\n",
       "│ │ \u001b[38;5;141mProduct Category               \u001b[0m │ \u001b[36m      900\u001b[0m │ \u001b[36m        6\u001b[0m │ \u001b[36m                      1.3\u001b[0m │ \u001b[36m               18818\u001b[0m │  │\n",
       "│ └─────────────────────────────────┴───────────┴───────────┴───────────────────────────┴──────────────────────┘  │\n",
       "╰────────────────────────────────────────────────────── End ──────────────────────────────────────────────────────╯\n"
      ]
     },
     "metadata": {},
     "output_type": "display_data"
    }
   ],
   "source": [
    "skim(df)"
   ]
  },
  {
   "cell_type": "code",
   "execution_count": 186,
   "id": "2e5efb26-fc09-4fc4-a899-4678d138ad0c",
   "metadata": {},
   "outputs": [
    {
     "data": {
      "image/png": "[encoded data removed]",
      "text/plain": [
       "<Figure size 2500x1000 with 2 Axes>"
      ]
     },
     "metadata": {},
     "output_type": "display_data"
    }
   ],
   "source": [
    "msno.matrix(df);"
   ]
  },
  {
   "cell_type": "code",
   "execution_count": 187,
   "id": "692185ad-78f4-4b1b-a326-11120a3fbde0",
   "metadata": {},
   "outputs": [
    {
     "data": {
      "text/plain": [
       "User ID             15000\n",
       "Age                    52\n",
       "Gender                  3\n",
       "Country                 6\n",
       "Purchase Amount     11608\n",
       "Purchase Date        1460\n",
       "Product Category        6\n",
       "dtype: int64"
      ]
     },
     "execution_count": 187,
     "metadata": {},
     "output_type": "execute_result"
    }
   ],
   "source": [
    "df.nunique()"
   ]
  },
  {
   "cell_type": "code",
   "execution_count": 8,
   "id": "6ef39172-19f9-4390-928b-c7d1799daeb1",
   "metadata": {},
   "outputs": [
    {
     "data": {
      "text/plain": [
       "0"
      ]
     },
     "execution_count": 8,
     "metadata": {},
     "output_type": "execute_result"
    }
   ],
   "source": [
    "df.duplicated().sum()"
   ]
  },
  {
   "cell_type": "markdown",
   "id": "b49a6e59-a6da-4889-a47a-f2e83d3b16e1",
   "metadata": {},
   "source": [
    "<a id='organizing-columns'></a>\n",
    "# <font color='firebrick'> <b>Organizing Columns</b><font color='black'> "
   ]
  },
  {
   "cell_type": "code",
   "execution_count": 189,
   "id": "fca7966e-3640-48a8-b3a3-ce1d0229db3d",
   "metadata": {},
   "outputs": [
    {
     "data": {
      "text/plain": [
       "Index(['User ID', 'Age', 'Gender', 'Country', 'Purchase Amount',\n",
       "       'Purchase Date', 'Product Category'],\n",
       "      dtype='object')"
      ]
     },
     "execution_count": 189,
     "metadata": {},
     "output_type": "execute_result"
    }
   ],
   "source": [
    "df.columns"
   ]
  },
  {
   "cell_type": "code",
   "execution_count": 15,
   "id": "1f8b0ed9-94c0-471e-b021-55a3c0694fe1",
   "metadata": {},
   "outputs": [],
   "source": [
    "df.columns = df.columns.str.lower()"
   ]
  },
  {
   "cell_type": "code",
   "execution_count": 17,
   "id": "781116d8-d252-4630-a6dc-fa6eb4907244",
   "metadata": {},
   "outputs": [],
   "source": [
    "df.columns = ['user_id', 'age', 'gender', 'country', 'purchase_amount',\n",
    "       'purchase_date', 'product_category']"
   ]
  },
  {
   "cell_type": "markdown",
   "id": "b2878fee-b147-4cd8-9043-28f2c8ebeef9",
   "metadata": {},
   "source": [
    "## <font color='indianred'> <b>\"age\" Column</b><font color='black'> "
   ]
  },
  {
   "cell_type": "code",
   "execution_count": 36,
   "id": "69bc0572-1199-43ef-952d-f79a4e1b9ad4",
   "metadata": {},
   "outputs": [
    {
     "data": {
      "text/plain": [
       "52"
      ]
     },
     "execution_count": 36,
     "metadata": {},
     "output_type": "execute_result"
    }
   ],
   "source": [
    "df.age.nunique()"
   ]
  },
  {
   "cell_type": "code",
   "execution_count": 19,
   "id": "b27ecc2b-7e8f-401d-bcca-76bf24c2afec",
   "metadata": {},
   "outputs": [
    {
     "data": {
      "text/plain": [
       "array([56., 69., 46., 32., 60., nan, 38., 36., 40., 28., 41., 53., 57.,\n",
       "       20., 19., 61., 55., 50., 29., 39., 42., 66., 44., 59., 33., 64.,\n",
       "       68., 54., 26., 35., 21., 31., 67., 43., 37., 24., 25., 34., 23.,\n",
       "       51., 27., 48., 65., 62., 58., 18., 52., 22., 45., 49., 47., 30.,\n",
       "       63.])"
      ]
     },
     "execution_count": 19,
     "metadata": {},
     "output_type": "execute_result"
    }
   ],
   "source": [
    "df.age.unique()"
   ]
  },
  {
   "cell_type": "code",
   "execution_count": 21,
   "id": "4ceac23e-d933-4741-b663-9552c9cf73e8",
   "metadata": {},
   "outputs": [
    {
     "data": {
      "text/plain": [
       "1500"
      ]
     },
     "execution_count": 21,
     "metadata": {},
     "output_type": "execute_result"
    }
   ],
   "source": [
    "df.age.isnull().sum()"
   ]
  },
  {
   "cell_type": "markdown",
   "id": "15f2b4f0-15ce-45d9-ac27-09923c190c5b",
   "metadata": {},
   "source": [
    "## <font color='indianred'> <b>\"gender\" Column</b><font color='black'> "
   ]
  },
  {
   "cell_type": "code",
   "execution_count": 34,
   "id": "1da089e3-80c1-4769-8745-48d26041772a",
   "metadata": {},
   "outputs": [
    {
     "data": {
      "text/plain": [
       "3"
      ]
     },
     "execution_count": 34,
     "metadata": {},
     "output_type": "execute_result"
    }
   ],
   "source": [
    "df.gender.nunique()"
   ]
  },
  {
   "cell_type": "code",
   "execution_count": 24,
   "id": "2882f315-7ab9-4e5e-9719-9f75ecf49b4f",
   "metadata": {},
   "outputs": [
    {
     "data": {
      "text/plain": [
       "array(['Female', 'Male', nan, 'Other'], dtype=object)"
      ]
     },
     "execution_count": 24,
     "metadata": {},
     "output_type": "execute_result"
    }
   ],
   "source": [
    "df.gender.unique()"
   ]
  },
  {
   "cell_type": "code",
   "execution_count": 26,
   "id": "97fbdc58-6220-443a-ab87-bf978e6cb09e",
   "metadata": {},
   "outputs": [
    {
     "data": {
      "text/plain": [
       "750"
      ]
     },
     "execution_count": 26,
     "metadata": {},
     "output_type": "execute_result"
    }
   ],
   "source": [
    "df.gender.isnull().sum()"
   ]
  },
  {
   "cell_type": "markdown",
   "id": "c68285ba-df82-4c97-b536-bcf1ad67c822",
   "metadata": {},
   "source": [
    "## <font color='indianred'> <b>\"country\" Column</b><font color='black'> "
   ]
  },
  {
   "cell_type": "code",
   "execution_count": 32,
   "id": "dab2196e-0475-494a-82d2-1516b24039c8",
   "metadata": {},
   "outputs": [
    {
     "data": {
      "text/plain": [
       "6"
      ]
     },
     "execution_count": 32,
     "metadata": {},
     "output_type": "execute_result"
    }
   ],
   "source": [
    "df.country.nunique()"
   ]
  },
  {
   "cell_type": "code",
   "execution_count": 30,
   "id": "41b24726-0a7a-4190-8681-11c8da7b87e9",
   "metadata": {},
   "outputs": [
    {
     "data": {
      "text/plain": [
       "array(['USA', 'Australia', 'Germany', 'UK', 'France', 'Canada', nan],\n",
       "      dtype=object)"
      ]
     },
     "execution_count": 30,
     "metadata": {},
     "output_type": "execute_result"
    }
   ],
   "source": [
    "df.country.unique()"
   ]
  },
  {
   "cell_type": "markdown",
   "id": "34254a58-f9fa-4c5f-aa1e-e7f909f525fc",
   "metadata": {},
   "source": [
    "## <font color='indianred'> <b>\"purchase_amount\" Column</b><font color='black'> "
   ]
  },
  {
   "cell_type": "code",
   "execution_count": 39,
   "id": "63b8c609-2674-4f22-8a01-22a95fdce02e",
   "metadata": {},
   "outputs": [
    {
     "data": {
      "text/plain": [
       "11608"
      ]
     },
     "execution_count": 39,
     "metadata": {},
     "output_type": "execute_result"
    }
   ],
   "source": [
    "df.purchase_amount.nunique()"
   ]
  },
  {
   "cell_type": "code",
   "execution_count": 41,
   "id": "03702671-41ab-44d8-bddb-a6a803001774",
   "metadata": {},
   "outputs": [
    {
     "data": {
      "text/plain": [
       "array([331.79, 335.72, 493.18, ...,  27.73, 108.57, 105.57])"
      ]
     },
     "execution_count": 41,
     "metadata": {},
     "output_type": "execute_result"
    }
   ],
   "source": [
    "df.purchase_amount.unique()"
   ]
  },
  {
   "cell_type": "code",
   "execution_count": 50,
   "id": "c07c76b2-972c-4b0d-9d6e-8341da688784",
   "metadata": {},
   "outputs": [
    {
     "data": {
      "text/plain": [
       "1800"
      ]
     },
     "execution_count": 50,
     "metadata": {},
     "output_type": "execute_result"
    }
   ],
   "source": [
    "df.purchase_amount.isnull().sum()"
   ]
  },
  {
   "cell_type": "markdown",
   "id": "65f4a853-0ea4-433c-bc89-eaccaccd4c61",
   "metadata": {},
   "source": [
    "## <font color='indianred'> <b>\"purchase_date\" Column</b><font color='black'> "
   ]
  },
  {
   "cell_type": "code",
   "execution_count": 44,
   "id": "38733efe-9fd8-4ef0-996d-313784a68217",
   "metadata": {},
   "outputs": [
    {
     "data": {
      "text/plain": [
       "1460"
      ]
     },
     "execution_count": 44,
     "metadata": {},
     "output_type": "execute_result"
    }
   ],
   "source": [
    "df.purchase_date.nunique()"
   ]
  },
  {
   "cell_type": "code",
   "execution_count": 46,
   "id": "8c381f3b-3878-4015-b8e3-e04f41ebf98e",
   "metadata": {},
   "outputs": [
    {
     "data": {
      "text/plain": [
       "array(['2021-11-21', '2022-03-05', nan, ..., '2023-09-03', '2023-10-27',\n",
       "       '2023-01-07'], dtype=object)"
      ]
     },
     "execution_count": 46,
     "metadata": {},
     "output_type": "execute_result"
    }
   ],
   "source": [
    "df.purchase_date.unique()"
   ]
  },
  {
   "cell_type": "code",
   "execution_count": 48,
   "id": "7aa6b4cf-1145-4d57-a6f5-abe29f1614fd",
   "metadata": {},
   "outputs": [
    {
     "data": {
      "text/plain": [
       "1050"
      ]
     },
     "execution_count": 48,
     "metadata": {},
     "output_type": "execute_result"
    }
   ],
   "source": [
    "df.purchase_date.isnull().sum()"
   ]
  },
  {
   "cell_type": "markdown",
   "id": "3dcb1c9b-a2c3-48a9-afff-c6ca0456d7ab",
   "metadata": {},
   "source": [
    "## <font color='indianred'> <b>\"product_category\" Column</b><font color='black'> "
   ]
  },
  {
   "cell_type": "code",
   "execution_count": 57,
   "id": "78755d75-da35-4602-a70c-3a8b38561303",
   "metadata": {},
   "outputs": [
    {
     "data": {
      "text/plain": [
       "array(['Sports', 'Home & Kitchen', 'Books', 'Beauty', 'Clothing', nan,\n",
       "       'Electronics'], dtype=object)"
      ]
     },
     "execution_count": 57,
     "metadata": {},
     "output_type": "execute_result"
    }
   ],
   "source": [
    "df.product_category.unique()"
   ]
  },
  {
   "cell_type": "code",
   "execution_count": 59,
   "id": "a9974e92-dd60-4142-bbd7-282cdd92066e",
   "metadata": {},
   "outputs": [
    {
     "data": {
      "text/plain": [
       "6"
      ]
     },
     "execution_count": 59,
     "metadata": {},
     "output_type": "execute_result"
    }
   ],
   "source": [
    "df.product_category.nunique()"
   ]
  },
  {
   "cell_type": "code",
   "execution_count": 61,
   "id": "8e513c35-d956-4bd3-90bf-b0d402842061",
   "metadata": {},
   "outputs": [
    {
     "data": {
      "text/plain": [
       "900"
      ]
     },
     "execution_count": 61,
     "metadata": {},
     "output_type": "execute_result"
    }
   ],
   "source": [
    "df.product_category.isnull().sum()"
   ]
  },
  {
   "cell_type": "code",
   "execution_count": null,
   "id": "c33b9d57-f573-45f1-b5f2-ee6ed2b7cdd3",
   "metadata": {},
   "outputs": [],
   "source": []
  },
  {
   "cell_type": "code",
   "execution_count": null,
   "id": "6d096e5d-3f46-4b12-8692-1b78736f6d01",
   "metadata": {},
   "outputs": [],
   "source": []
  },
  {
   "cell_type": "code",
   "execution_count": 194,
   "id": "c3222384-26fe-45af-903c-794cf5f1b6f8",
   "metadata": {},
   "outputs": [
    {
     "data": {
      "text/plain": [
       "0"
      ]
     },
     "execution_count": 194,
     "metadata": {},
     "output_type": "execute_result"
    }
   ],
   "source": [
    "df.user_id.duplicated().sum()"
   ]
  },
  {
   "cell_type": "code",
   "execution_count": 195,
   "id": "0226068d-6f90-4de5-b31c-db3f8c7f67ac",
   "metadata": {},
   "outputs": [],
   "source": [
    "df.country = df.country.str.strip()"
   ]
  },
  {
   "cell_type": "code",
   "execution_count": 196,
   "id": "506a93d2-bdf4-4486-993a-e5b1e63bb2a4",
   "metadata": {},
   "outputs": [
    {
     "data": {
      "text/plain": [
       "array(['USA', 'Australia', 'Germany', 'UK', 'France', 'Canada', nan],\n",
       "      dtype=object)"
      ]
     },
     "execution_count": 196,
     "metadata": {},
     "output_type": "execute_result"
    }
   ],
   "source": [
    "df.country.unique()"
   ]
  },
  {
   "cell_type": "code",
   "execution_count": null,
   "id": "7ffec598-8053-4a15-a708-b116c397456c",
   "metadata": {},
   "outputs": [],
   "source": []
  },
  {
   "cell_type": "markdown",
   "id": "dc23f935-72d9-4654-8a0b-0f2b15a5c643",
   "metadata": {},
   "source": [
    "<a id='nan-values'></a>\n",
    "# <font color='firebrick'> <b>NaN Values</b><font color='black'> "
   ]
  },
  {
   "cell_type": "code",
   "execution_count": 198,
   "id": "054b5bfd-d31c-4a4a-b7b8-24ca8ced7e22",
   "metadata": {},
   "outputs": [
    {
     "data": {
      "text/plain": [
       "43.396"
      ]
     },
     "execution_count": 198,
     "metadata": {},
     "output_type": "execute_result"
    }
   ],
   "source": [
    "df.age.mean()"
   ]
  },
  {
   "cell_type": "code",
   "execution_count": 199,
   "id": "9513ab3b-9d2e-4fc7-a3b2-92f73437cd9c",
   "metadata": {},
   "outputs": [
    {
     "data": {
      "text/plain": [
       "43.0"
      ]
     },
     "execution_count": 199,
     "metadata": {},
     "output_type": "execute_result"
    }
   ],
   "source": [
    "df.age.median()"
   ]
  },
  {
   "cell_type": "code",
   "execution_count": 200,
   "id": "79876c11-e3fe-484a-937c-fa4fb8cc8de1",
   "metadata": {},
   "outputs": [
    {
     "data": {
      "text/plain": [
       "'France'"
      ]
     },
     "execution_count": 200,
     "metadata": {},
     "output_type": "execute_result"
    }
   ],
   "source": [
    "df.country.value_counts().idxmax()"
   ]
  },
  {
   "cell_type": "code",
   "execution_count": 201,
   "id": "95f8b7f0-3057-4933-8a97-ec6eb5f54e0e",
   "metadata": {},
   "outputs": [
    {
     "data": {
      "text/plain": [
       "product_category\n",
       "Beauty            250.150567\n",
       "Books             252.247397\n",
       "Clothing          256.174708\n",
       "Electronics       254.586955\n",
       "Home & Kitchen    252.097199\n",
       "Sports            253.450363\n",
       "Name: purchase_amount, dtype: float64"
      ]
     },
     "execution_count": 201,
     "metadata": {},
     "output_type": "execute_result"
    }
   ],
   "source": [
    "df.groupby(\"product_category\")[\"purchase_amount\"].mean()"
   ]
  },
  {
   "cell_type": "code",
   "execution_count": 202,
   "id": "efc2abae-e0e6-42c9-97f8-7c995d19b618",
   "metadata": {},
   "outputs": [
    {
     "data": {
      "text/plain": [
       "['USA', 'Australia', 'Germany', 'UK', 'France', 'Canada']"
      ]
     },
     "execution_count": 202,
     "metadata": {},
     "output_type": "execute_result"
    }
   ],
   "source": [
    "countries  = ['USA', 'Australia', 'Germany', 'UK', 'France', 'Canada']\n",
    "countries"
   ]
  },
  {
   "cell_type": "code",
   "execution_count": 251,
   "id": "66a443e0-b18c-46db-9f91-634aa38c9d6e",
   "metadata": {},
   "outputs": [],
   "source": [
    "df['country'] = df['country'].apply(lambda x: np.random.choice(countries) if pd.isna(x) else x)"
   ]
  },
  {
   "cell_type": "code",
   "execution_count": null,
   "id": "c11cd5ce-50a2-4ccf-96bb-7beae87ea34c",
   "metadata": {},
   "outputs": [],
   "source": []
  },
  {
   "cell_type": "code",
   "execution_count": 253,
   "id": "914aa284-e398-4779-a419-729b3ad3ddc3",
   "metadata": {},
   "outputs": [
    {
     "data": {
      "text/plain": [
       "0"
      ]
     },
     "execution_count": 253,
     "metadata": {},
     "output_type": "execute_result"
    }
   ],
   "source": [
    "df.country.isnull().sum()"
   ]
  },
  {
   "cell_type": "code",
   "execution_count": 255,
   "id": "d03ced7a-f3f2-4890-a017-2f56461b19b6",
   "metadata": {},
   "outputs": [
    {
     "data": {
      "text/plain": [
       "country\n",
       "France       2675\n",
       "Germany      2519\n",
       "Canada       2468\n",
       "UK           2462\n",
       "Australia    2447\n",
       "USA          2429\n",
       "Name: count, dtype: int64"
      ]
     },
     "execution_count": 255,
     "metadata": {},
     "output_type": "execute_result"
    }
   ],
   "source": [
    "df.country.value_counts()"
   ]
  },
  {
   "cell_type": "code",
   "execution_count": 261,
   "id": "bd260f57-1071-4641-b694-7bf23401afa2",
   "metadata": {},
   "outputs": [],
   "source": [
    "df['product_category'] = df['product_category'].fillna(df.groupby('country')['product_category'].transform(lambda x: x.mode().iloc[0] if not x.mode().empty else None))"
   ]
  },
  {
   "cell_type": "code",
   "execution_count": 263,
   "id": "ac04af0e-5f62-4352-9ab2-d378668b6819",
   "metadata": {},
   "outputs": [
    {
     "data": {
      "text/plain": [
       "0"
      ]
     },
     "execution_count": 263,
     "metadata": {},
     "output_type": "execute_result"
    }
   ],
   "source": [
    "df.product_category.isnull().sum()"
   ]
  },
  {
   "cell_type": "code",
   "execution_count": 267,
   "id": "ce01eeb4-dca2-4861-92ed-43965c086d3b",
   "metadata": {},
   "outputs": [
    {
     "ename": "AttributeError",
     "evalue": "'SeriesGroupBy' object has no attribute 'mode'",
     "output_type": "error",
     "traceback": [
      "\u001b[1;31m---------------------------------------------------------------------------\u001b[0m",
      "\u001b[1;31mAttributeError\u001b[0m                            Traceback (most recent call last)",
      "Cell \u001b[1;32mIn[267], line 1\u001b[0m\n\u001b[1;32m----> 1\u001b[0m \u001b[43mdf\u001b[49m\u001b[38;5;241;43m.\u001b[39;49m\u001b[43mgroupby\u001b[49m\u001b[43m(\u001b[49m\u001b[38;5;124;43m\"\u001b[39;49m\u001b[38;5;124;43mproduct_category\u001b[39;49m\u001b[38;5;124;43m\"\u001b[39;49m\u001b[43m)\u001b[49m\u001b[43m[\u001b[49m\u001b[38;5;124;43m\"\u001b[39;49m\u001b[38;5;124;43mgender\u001b[39;49m\u001b[38;5;124;43m\"\u001b[39;49m\u001b[43m]\u001b[49m\u001b[38;5;241;43m.\u001b[39;49m\u001b[43mmode\u001b[49m()[\u001b[38;5;241m0\u001b[39m]\n",
      "File \u001b[1;32m~\\anaconda3\\Lib\\site-packages\\pandas\\core\\groupby\\groupby.py:1363\u001b[0m, in \u001b[0;36mGroupBy.__getattr__\u001b[1;34m(self, attr)\u001b[0m\n\u001b[0;32m   1360\u001b[0m \u001b[38;5;28;01mif\u001b[39;00m attr \u001b[38;5;129;01min\u001b[39;00m \u001b[38;5;28mself\u001b[39m\u001b[38;5;241m.\u001b[39mobj:\n\u001b[0;32m   1361\u001b[0m     \u001b[38;5;28;01mreturn\u001b[39;00m \u001b[38;5;28mself\u001b[39m[attr]\n\u001b[1;32m-> 1363\u001b[0m \u001b[38;5;28;01mraise\u001b[39;00m \u001b[38;5;167;01mAttributeError\u001b[39;00m(\n\u001b[0;32m   1364\u001b[0m     \u001b[38;5;124mf\u001b[39m\u001b[38;5;124m\"\u001b[39m\u001b[38;5;124m'\u001b[39m\u001b[38;5;132;01m{\u001b[39;00m\u001b[38;5;28mtype\u001b[39m(\u001b[38;5;28mself\u001b[39m)\u001b[38;5;241m.\u001b[39m\u001b[38;5;18m__name__\u001b[39m\u001b[38;5;132;01m}\u001b[39;00m\u001b[38;5;124m'\u001b[39m\u001b[38;5;124m object has no attribute \u001b[39m\u001b[38;5;124m'\u001b[39m\u001b[38;5;132;01m{\u001b[39;00mattr\u001b[38;5;132;01m}\u001b[39;00m\u001b[38;5;124m'\u001b[39m\u001b[38;5;124m\"\u001b[39m\n\u001b[0;32m   1365\u001b[0m )\n",
      "\u001b[1;31mAttributeError\u001b[0m: 'SeriesGroupBy' object has no attribute 'mode'"
     ]
    }
   ],
   "source": [
    "df.groupby(\"product_category\")[\"gender\"].mode()[0]"
   ]
  },
  {
   "cell_type": "code",
   "execution_count": 311,
   "id": "18ea4775-3679-4406-b743-e93e5ba63b68",
   "metadata": {},
   "outputs": [],
   "source": [
    "df.gender.fillna(df.groupby([\"product_category\",\"country\"])[\"gender\"].transform(lambda x: x.mode().iloc[0] if not x.mode().empty else None),inplace = True)"
   ]
  },
  {
   "cell_type": "code",
   "execution_count": 313,
   "id": "4673df12-0df0-485f-81fc-fd24ec4e220a",
   "metadata": {},
   "outputs": [
    {
     "data": {
      "text/plain": [
       "0"
      ]
     },
     "execution_count": 313,
     "metadata": {},
     "output_type": "execute_result"
    }
   ],
   "source": [
    "df.gender.isnull().sum()"
   ]
  },
  {
   "cell_type": "code",
   "execution_count": 301,
   "id": "676910a8-5a37-4140-a8aa-66b0bd93b16d",
   "metadata": {},
   "outputs": [
    {
     "data": {
      "text/plain": [
       "product_category  country  \n",
       "Beauty            Australia      Male\n",
       "                  Canada       Female\n",
       "                  France         Male\n",
       "                  Germany        Male\n",
       "                  UK           Female\n",
       "                  USA          Female\n",
       "Books             Australia      Male\n",
       "                  Canada       Female\n",
       "                  France         Male\n",
       "                  Germany       Other\n",
       "                  UK             Male\n",
       "                  USA          Female\n",
       "Clothing          Australia      Male\n",
       "                  Canada       Female\n",
       "                  France       Female\n",
       "                  Germany        Male\n",
       "                  UK             Male\n",
       "                  USA           Other\n",
       "Electronics       Australia     Other\n",
       "                  Canada       Female\n",
       "                  France       Female\n",
       "                  Germany       Other\n",
       "                  UK             Male\n",
       "                  USA          Female\n",
       "Home & Kitchen    Australia    Female\n",
       "                  Canada        Other\n",
       "                  France       Female\n",
       "                  Germany      Female\n",
       "                  UK             Male\n",
       "                  USA          Female\n",
       "Sports            Australia     Other\n",
       "                  Canada       Female\n",
       "                  France         Male\n",
       "                  Germany        Male\n",
       "                  UK           Female\n",
       "                  USA          Female\n",
       "Name: gender, dtype: object"
      ]
     },
     "execution_count": 301,
     "metadata": {},
     "output_type": "execute_result"
    }
   ],
   "source": [
    "df.groupby([\"product_category\", \"country\"])[\"gender\"].apply(lambda x: x.mode().iloc[0] if not x.mode().empty else None)"
   ]
  },
  {
   "cell_type": "code",
   "execution_count": 277,
   "id": "516117a7-c168-46c8-959a-f4301653831d",
   "metadata": {},
   "outputs": [
    {
     "data": {
      "text/plain": [
       "product_category  country  \n",
       "Beauty            Australia      Male\n",
       "                  Canada       Female\n",
       "                  France         Male\n",
       "                  Germany        Male\n",
       "                  UK           Female\n",
       "                  USA          Female\n",
       "Books             Australia      Male\n",
       "                  Canada       Female\n",
       "                  France         Male\n",
       "                  Germany       Other\n",
       "                  UK             Male\n",
       "                  USA          Female\n",
       "Clothing          Australia      Male\n",
       "                  Canada       Female\n",
       "                  France       Female\n",
       "                  Germany        Male\n",
       "                  UK             Male\n",
       "                  USA           Other\n",
       "Electronics       Australia     Other\n",
       "                  Canada       Female\n",
       "                  France       Female\n",
       "                  Germany       Other\n",
       "                  UK             Male\n",
       "                  USA          Female\n",
       "Home & Kitchen    Australia    Female\n",
       "                  Canada        Other\n",
       "                  France       Female\n",
       "                  Germany      Female\n",
       "                  UK             Male\n",
       "                  USA          Female\n",
       "Sports            Australia     Other\n",
       "                  Canada       Female\n",
       "                  France         Male\n",
       "                  Germany        Male\n",
       "                  UK           Female\n",
       "                  USA          Female\n",
       "Name: gender, dtype: object"
      ]
     },
     "execution_count": 277,
     "metadata": {},
     "output_type": "execute_result"
    }
   ],
   "source": [
    "mode_values"
   ]
  },
  {
   "cell_type": "code",
   "execution_count": 295,
   "id": "b7d002f3-95d5-42b4-b1b3-11670221ea33",
   "metadata": {},
   "outputs": [
    {
     "ename": "SyntaxError",
     "evalue": "unmatched ')' (3171877991.py, line 1)",
     "output_type": "error",
     "traceback": [
      "\u001b[1;36m  Cell \u001b[1;32mIn[295], line 1\u001b[1;36m\u001b[0m\n\u001b[1;33m    df.groupby(['country','product_category'])['purchase_amount'].mean)\u001b[0m\n\u001b[1;37m                                                                      ^\u001b[0m\n\u001b[1;31mSyntaxError\u001b[0m\u001b[1;31m:\u001b[0m unmatched ')'\n"
     ]
    }
   ],
   "source": [
    "df.groupby(['country','product_category'])['purchase_amount'].mean)"
   ]
  },
  {
   "cell_type": "code",
   "execution_count": 297,
   "id": "4da1c252-e445-4fb9-893a-758f2e49e3e6",
   "metadata": {},
   "outputs": [],
   "source": [
    "df['purchase_amount'] =df['purchase_amount'].fillna(df.groupby(['country','product_category'])['purchase_amount'].transform(lambda x: x.mean()))"
   ]
  },
  {
   "cell_type": "code",
   "execution_count": null,
   "id": "fd41bbda-dddf-4de8-8df2-d67e6b925d91",
   "metadata": {},
   "outputs": [],
   "source": [
    "df['purchase_amount'] ="
   ]
  },
  {
   "cell_type": "code",
   "execution_count": null,
   "id": "97761ce0-e3ab-40c9-9aee-19db95c6b785",
   "metadata": {},
   "outputs": [],
   "source": []
  },
  {
   "cell_type": "markdown",
   "id": "d8f88c54-cb50-411e-8acf-df21e1f0d960",
   "metadata": {},
   "source": [
    "<a id='data-visualization'></a>\n",
    "# <font color='firebrick'> <b>Data Visualization</b><font color='black'> "
   ]
  },
  {
   "cell_type": "code",
   "execution_count": 317,
   "id": "0ba0f02b-5c16-4f11-bd3d-77b5a493bc9d",
   "metadata": {},
   "outputs": [
    {
     "data": {
      "text/plain": [
       "user_id               int64\n",
       "age                 float64\n",
       "gender               object\n",
       "country              object\n",
       "purchase_amount     float64\n",
       "purchase_date        object\n",
       "product_category     object\n",
       "dtype: object"
      ]
     },
     "execution_count": 317,
     "metadata": {},
     "output_type": "execute_result"
    }
   ],
   "source": [
    "df.dtypes"
   ]
  },
  {
   "cell_type": "code",
   "execution_count": 319,
   "id": "74d0a7f4-aa10-4097-8b27-b4f6aa5a0a18",
   "metadata": {},
   "outputs": [
    {
     "data": {
      "image/png": "[encoded data removed]",
      "text/plain": [
       "<Figure size 800x600 with 1 Axes>"
      ]
     },
     "metadata": {},
     "output_type": "display_data"
    }
   ],
   "source": [
    "plt.figure(figsize=(8, 6))  \n",
    "sns.boxplot(x='product_category', y='purchase_amount', data=df, palette='tab10')  \n",
    "plt.title(\"Prices by Product Categories\") \n",
    "plt.xticks(rotation=90) \n",
    "plt.xlabel(\"Product Category\")  \n",
    "plt.ylabel(\" Price\")  \n",
    "plt.show()  "
   ]
  },
  {
   "cell_type": "code",
   "execution_count": null,
   "id": "7ca449b6-61b1-4577-9f93-c9a15f1a95bb",
   "metadata": {},
   "outputs": [],
   "source": [
    "sns.scatterplot(data=df, x='', y='count', marker='o',color = \"red\")\n",
    "plt.title('total order & rating')\n",
    "plt.show()"
   ]
  },
  {
   "cell_type": "code",
   "execution_count": null,
   "id": "048d85e7-5899-4f4c-ac10-a45af21966ed",
   "metadata": {},
   "outputs": [],
   "source": []
  },
  {
   "cell_type": "code",
   "execution_count": null,
   "id": "77aecabe-8e11-4d89-a4ca-9cb20e64eb87",
   "metadata": {},
   "outputs": [],
   "source": []
  },
  {
   "cell_type": "code",
   "execution_count": null,
   "id": "9b853e9d-598d-4ab6-b052-0f92a1da8105",
   "metadata": {},
   "outputs": [],
   "source": []
  },
  {
   "cell_type": "code",
   "execution_count": null,
   "id": "c78f99e4-4813-40b5-afc4-278311b8c2d5",
   "metadata": {},
   "outputs": [],
   "source": []
  },
  {
   "cell_type": "code",
   "execution_count": null,
   "id": "5801770f-9127-4467-afa6-c66215e31872",
   "metadata": {},
   "outputs": [],
   "source": []
  },
  {
   "cell_type": "code",
   "execution_count": null,
   "id": "163fb83b-ece9-42f5-b831-ab31ddc120f4",
   "metadata": {},
   "outputs": [],
   "source": []
  },
  {
   "cell_type": "markdown",
   "id": "4fefb04f-f51a-4124-b72d-146e19870ab4",
   "metadata": {},
   "source": [
    "<p style=\"background-color:firebrick;font-family:newtimeroman;font-size:200%;color:white;text-align:center;border-radius:20px 20px;\"><b>THANK YOU!</b></p>"
   ]
  }
 ],
 "metadata": {
  "kernelspec": {
   "display_name": "Python 3 (ipykernel)",
   "language": "python",
   "name": "python3"
  },
  "language_info": {
   "codemirror_mode": {
    "name": "ipython",
    "version": 3
   },
   "file_extension": ".py",
   "mimetype": "text/x-python",
   "name": "python",
   "nbconvert_exporter": "python",
   "pygments_lexer": "ipython3",
   "version": "3.12.3"
  }
 },
 "nbformat": 4,
 "nbformat_minor": 5
}
